{
 "cells": [
  {
   "cell_type": "code",
   "execution_count": 16,
   "id": "a454eb60",
   "metadata": {},
   "outputs": [
    {
     "name": "stdout",
     "output_type": "stream",
     "text": [
      "Requirement already satisfied: CFEDemands>=0.4.1 in /opt/conda/lib/python3.9/site-packages (from -r requirements.txt (line 5)) (0.4.1)\n",
      "Requirement already satisfied: gspread>=4.0.1 in /opt/conda/lib/python3.9/site-packages (from -r requirements.txt (line 8)) (4.0.1)\n",
      "Requirement already satisfied: matplotlib>=3.3.4 in /opt/conda/lib/python3.9/site-packages (from -r requirements.txt (line 11)) (3.4.3)\n",
      "Requirement already satisfied: numpy>=1.22.2 in /opt/conda/lib/python3.9/site-packages (from -r requirements.txt (line 15)) (1.22.3)\n",
      "Requirement already satisfied: oauth2client>=4.1.3 in /opt/conda/lib/python3.9/site-packages (from -r requirements.txt (line 18)) (4.1.3)\n",
      "Requirement already satisfied: pandas>=1.4.1 in /opt/conda/lib/python3.9/site-packages (from -r requirements.txt (line 23)) (1.4.2)\n",
      "Requirement already satisfied: plotly>=5.5.0 in /opt/conda/lib/python3.9/site-packages (from -r requirements.txt (line 26)) (5.7.0)\n",
      "Requirement already satisfied: eep153_tools>=0.11 in /opt/conda/lib/python3.9/site-packages (from -r requirements.txt (line 28)) (0.11)\n",
      "Requirement already satisfied: gnupg in /opt/conda/lib/python3.9/site-packages (from -r requirements.txt (line 29)) (2.3.1)\n",
      "Requirement already satisfied: ConsumerDemands in /opt/conda/lib/python3.9/site-packages (from -r requirements.txt (line 31)) (0.3.dev0)\n",
      "Requirement already satisfied: google-auth>=1.12.0 in /opt/conda/lib/python3.9/site-packages (from gspread>=4.0.1->-r requirements.txt (line 8)) (2.6.2)\n",
      "Requirement already satisfied: google-auth-oauthlib>=0.4.1 in /opt/conda/lib/python3.9/site-packages (from gspread>=4.0.1->-r requirements.txt (line 8)) (0.4.5)\n",
      "Requirement already satisfied: pyparsing>=2.2.1 in /opt/conda/lib/python3.9/site-packages (from matplotlib>=3.3.4->-r requirements.txt (line 11)) (3.0.7)\n",
      "Requirement already satisfied: kiwisolver>=1.0.1 in /opt/conda/lib/python3.9/site-packages (from matplotlib>=3.3.4->-r requirements.txt (line 11)) (1.4.2)\n",
      "Requirement already satisfied: python-dateutil>=2.7 in /opt/conda/lib/python3.9/site-packages (from matplotlib>=3.3.4->-r requirements.txt (line 11)) (2.8.0)\n",
      "Requirement already satisfied: cycler>=0.10 in /opt/conda/lib/python3.9/site-packages (from matplotlib>=3.3.4->-r requirements.txt (line 11)) (0.11.0)\n",
      "Requirement already satisfied: pillow>=6.2.0 in /opt/conda/lib/python3.9/site-packages (from matplotlib>=3.3.4->-r requirements.txt (line 11)) (8.3.2)\n",
      "Requirement already satisfied: six>=1.6.1 in /opt/conda/lib/python3.9/site-packages (from oauth2client>=4.1.3->-r requirements.txt (line 18)) (1.16.0)\n",
      "Requirement already satisfied: rsa>=3.1.4 in /opt/conda/lib/python3.9/site-packages (from oauth2client>=4.1.3->-r requirements.txt (line 18)) (4.8)\n",
      "Requirement already satisfied: pyasn1>=0.1.7 in /opt/conda/lib/python3.9/site-packages (from oauth2client>=4.1.3->-r requirements.txt (line 18)) (0.4.8)\n",
      "Requirement already satisfied: pyasn1-modules>=0.0.5 in /opt/conda/lib/python3.9/site-packages (from oauth2client>=4.1.3->-r requirements.txt (line 18)) (0.2.8)\n",
      "Requirement already satisfied: httplib2>=0.9.1 in /opt/conda/lib/python3.9/site-packages (from oauth2client>=4.1.3->-r requirements.txt (line 18)) (0.20.4)\n",
      "Requirement already satisfied: pytz>=2020.1 in /opt/conda/lib/python3.9/site-packages (from pandas>=1.4.1->-r requirements.txt (line 23)) (2021.1)\n",
      "Requirement already satisfied: tenacity>=6.2.0 in /opt/conda/lib/python3.9/site-packages (from plotly>=5.5.0->-r requirements.txt (line 26)) (8.0.1)\n",
      "Requirement already satisfied: psutil>=1.2.1 in /opt/conda/lib/python3.9/site-packages (from gnupg->-r requirements.txt (line 29)) (5.9.0)\n",
      "Requirement already satisfied: cachetools<6.0,>=2.0.0 in /opt/conda/lib/python3.9/site-packages (from google-auth>=1.12.0->gspread>=4.0.1->-r requirements.txt (line 8)) (5.0.0)\n",
      "Requirement already satisfied: requests-oauthlib>=0.7.0 in /opt/conda/lib/python3.9/site-packages (from google-auth-oauthlib>=0.4.1->gspread>=4.0.1->-r requirements.txt (line 8)) (1.3.1)\n",
      "Requirement already satisfied: requests>=2.0.0 in /opt/conda/lib/python3.9/site-packages (from requests-oauthlib>=0.7.0->google-auth-oauthlib>=0.4.1->gspread>=4.0.1->-r requirements.txt (line 8)) (2.26.0)\n",
      "Requirement already satisfied: oauthlib>=3.0.0 in /opt/conda/lib/python3.9/site-packages (from requests-oauthlib>=0.7.0->google-auth-oauthlib>=0.4.1->gspread>=4.0.1->-r requirements.txt (line 8)) (3.2.0)\n",
      "Requirement already satisfied: charset-normalizer~=2.0.0; python_version >= \"3\" in /opt/conda/lib/python3.9/site-packages (from requests>=2.0.0->requests-oauthlib>=0.7.0->google-auth-oauthlib>=0.4.1->gspread>=4.0.1->-r requirements.txt (line 8)) (2.0.0)\n",
      "Requirement already satisfied: certifi>=2017.4.17 in /opt/conda/lib/python3.9/site-packages (from requests>=2.0.0->requests-oauthlib>=0.7.0->google-auth-oauthlib>=0.4.1->gspread>=4.0.1->-r requirements.txt (line 8)) (2019.11.28)\n",
      "Requirement already satisfied: urllib3<1.27,>=1.21.1 in /opt/conda/lib/python3.9/site-packages (from requests>=2.0.0->requests-oauthlib>=0.7.0->google-auth-oauthlib>=0.4.1->gspread>=4.0.1->-r requirements.txt (line 8)) (1.25.7)\n",
      "Requirement already satisfied: idna<4,>=2.5; python_version >= \"3\" in /opt/conda/lib/python3.9/site-packages (from requests>=2.0.0->requests-oauthlib>=0.7.0->google-auth-oauthlib>=0.4.1->gspread>=4.0.1->-r requirements.txt (line 8)) (2.8)\n",
      "Requirement already satisfied: eep153_tools in /opt/conda/lib/python3.9/site-packages (0.11)\n"
     ]
    }
   ],
   "source": [
    "!pip install -r requirements.txt\n",
    "!pip install eep153_tools\n",
    "\n",
    "import cfe\n",
    "import pandas as pd\n",
    "import numpy as np\n",
    "import matplotlib.pyplot as plt\n",
    "import warnings \n",
    "from eep153_tools.sheets import read_sheets"
   ]
  },
  {
   "cell_type": "markdown",
   "id": "f36a752a",
   "metadata": {},
   "source": [
    "## Reading In Bukidnon Dataset"
   ]
  },
  {
   "cell_type": "code",
   "execution_count": 17,
   "id": "1d39ff51",
   "metadata": {},
   "outputs": [],
   "source": [
    "sheet = '1KjQu6ngxR_qxETh9Wx9f9ZmijMVkkevV'\n",
    "\n",
    "InputFiles = {'Expenditures':(sheet,'Expenditures'),\n",
    "               'Consumption':(sheet,'Quantities'),\n",
    "               'HH Characteristics':(sheet,'HH Characteristics'),\n",
    "               'FCT':(sheet,'FCT')}\n",
    "\n",
    "quant = pd.read_excel('Bukidnon 2003.xlsx',sheet_name='Quantities')\n",
    "hh = pd.read_excel('Bukidnon 2003.xlsx',sheet_name='HH Characteristics')\n",
    "expend = pd.read_excel('Bukidnon 2003.xlsx',sheet_name ='Expenditures')\n",
    "nut = pd.read_excel('Bukidnon 2003.xlsx',sheet_name='FCT')"
   ]
  },
  {
   "cell_type": "code",
   "execution_count": 18,
   "id": "0453e47b",
   "metadata": {},
   "outputs": [
    {
     "data": {
      "text/plain": [
       "i\n",
       "Bagoong                          0.037190\n",
       "Banana                           0.021401\n",
       "Beef                             0.135031\n",
       "Carrots                          0.027822\n",
       "Chicken                          0.097764\n",
       "Coffee                           0.732034\n",
       "Cooking oil                      0.038578\n",
       "Eggs                             0.092641\n",
       "Food made from flour             0.016472\n",
       "Fresh fish                       0.046502\n",
       "Mangoes                          0.045497\n",
       "Milk                             0.277523\n",
       "Milo                             0.217887\n",
       "Mongo and other products         0.038700\n",
       "Onions                           0.043971\n",
       "Peanut                           0.170558\n",
       "Pork                             0.102934\n",
       "Potato                           0.028599\n",
       "Processed meat like longanisa    0.144143\n",
       "Rice                             0.021202\n",
       "Salt                             0.015549\n",
       "Sardines                         0.078127\n",
       "Sea weed                         0.035359\n",
       "Soybean and other products       0.024932\n",
       "Squash                           0.010688\n",
       "Sugar                            0.023728\n",
       "Sweet potato                     0.009735\n",
       "Talong                           0.015475\n",
       "Tomatoes                         0.023721\n",
       "Name: i, dtype: float64"
      ]
     },
     "execution_count": 18,
     "metadata": {},
     "output_type": "execute_result"
    }
   ],
   "source": [
    "r = cfe.result.from_dataset('BUK.ds',engine='netcdf4')\n",
    "\n",
    "# Energy                            16833.092949\n",
    "# Protein                             377.781250\n",
    "# Fiber, total dietary                235.663301\n",
    "# Folate, DFE                        3269.930070\n",
    "# Calcium, Ca                       10256.366550\n",
    "# Carbohydrate, by difference        1179.924242\n",
    "# Iron, Fe                            127.491987\n",
    "# Magnesium, Mg                      2703.273237\n",
    "# Niacin                              119.561407\n",
    "# Phosphorus, P                      8294.908217\n",
    "# Potassium, K                      41382.808858\n",
    "# Riboflavin                            9.158257\n",
    "# Thiamin                               9.062063\n",
    "# Vitamin A, RAE                     6074.264277\n",
    "# Vitamin B-12                         19.619580\n",
    "# Vitamin B-6                          10.420531\n",
    "# Vitamin C, total ascorbic acid      569.168124\n",
    "# Vitamin E (alpha-tocopherol)        121.720862\n",
    "# Vitamin K (phylloquinone)           706.475816\n",
    "# Zinc, Zn\n",
    "\n",
    "# Reference period, market\n",
    "t,m = 2003, 'Bukidnon'\n",
    "\n",
    "# Reference budget (find mean in reference period & market):\n",
    "reference_x = r.get_predicted_expenditures().mean('j').sum('i').sel(m=m)\n",
    "\n",
    "p = r.prices.sel(m=m,drop=True)\n",
    "p = p.to_dataframe('i').squeeze().dropna()\n",
    "p = p.xs(2003.,level='variable')\n",
    "p\n",
    "\n",
    "#lwith this notebook we are looking at min of nutrients per household\n",
    "#allows getting rid of different units for measuring and think ab ratio instead"
   ]
  },
  {
   "cell_type": "markdown",
   "id": "fa957bb9",
   "metadata": {},
   "source": [
    "## Grouping By Age/Sex and Matching to Recommended Dietary Allowances"
   ]
  },
  {
   "cell_type": "code",
   "execution_count": 19,
   "id": "3f2b62a8",
   "metadata": {},
   "outputs": [],
   "source": [
    "zbar = r.z.sel(t=r.firstround,drop=True).mean(['j','m'])[:-1].squeeze() # Leave out log HSize\n",
    "\n",
    "zbar = zbar.to_dataframe().squeeze()"
   ]
  },
  {
   "cell_type": "code",
   "execution_count": 20,
   "id": "0096fa44",
   "metadata": {},
   "outputs": [
    {
     "data": {
      "text/plain": [
       "Nutrition\n",
       "Energy                            16833.092949\n",
       "Protein                             377.781250\n",
       "Fiber, total dietary                235.663301\n",
       "Folate, DFE                        3269.930070\n",
       "Calcium, Ca                       10256.366550\n",
       "Carbohydrate, by difference        1179.924242\n",
       "Iron, Fe                            127.491987\n",
       "Magnesium, Mg                      2703.273237\n",
       "Niacin                              119.561407\n",
       "Phosphorus, P                      8294.908217\n",
       "Potassium, K                      41382.808858\n",
       "Riboflavin                            9.158257\n",
       "Thiamin                               9.062063\n",
       "Vitamin A, RAE                     6074.264277\n",
       "Vitamin B-12                         19.619580\n",
       "Vitamin B-6                          10.420531\n",
       "Vitamin C, total ascorbic acid      569.168124\n",
       "Vitamin E (alpha-tocopherol)        121.720862\n",
       "Vitamin K (phylloquinone)           706.475816\n",
       "Zinc, Zn                             74.027244\n",
       "dtype: float64"
      ]
     },
     "execution_count": 20,
     "metadata": {},
     "output_type": "execute_result"
    }
   ],
   "source": [
    "rda = pd.read_csv('diet_minimums.csv').set_index('Nutrition').iloc[:,2:]\n",
    "\n",
    "zbar['Boys'] = zbar['Males 5-10']*5/15 + zbar['Males 10-15']*5/15 + zbar['Males 15-20'] * 5/15\n",
    "zbar['Girls'] = zbar['Females 5-10']*5/15 + zbar['Females 10-15']*5/15 + zbar ['Females 15-20'] * 5/15\n",
    "zbar['Mothers'] = zbar['Females 15-20']*5/15 + zbar['Females 20-30']*10/15\n",
    "\n",
    "rda['Boys'] = rda['M 4-8']*4/16 + rda['M 9-13']*5/16 + rda['M 14-18']*5/16 + rda['M 19-30']*2/16\n",
    "rda['Girls'] = rda['F 4-8']*4/16 + rda['F 9-13']*5/16 + rda['F 14-18']*5/16 + rda['F 19-30']*2/16\n",
    "rda['Mothers'] = rda['F 14-18']*4/16 + rda['F 19-30']*12/16\n",
    "\n",
    "zbar = zbar[['Boys', 'Girls', 'Mothers']]\n",
    "rda = rda[['Boys', 'Girls', 'Mothers']]\n",
    "# May need to tweak types or alignment to match RDA and zbar types:\n",
    "rda0,zbar0=rda.align(zbar,axis=1)\n",
    "# This matrix product gives minimum nutrient requirements for average\n",
    "# household in 1975\n",
    "hh_rda = rda0.replace('',0)@zbar0\n",
    "# RDA is /daily/, but  demands in BUK data are /weekly/:\n",
    "hh_rda = hh_rda*7\n",
    "hh_rda"
   ]
  },
  {
   "cell_type": "code",
   "execution_count": 21,
   "id": "57e81b06",
   "metadata": {},
   "outputs": [],
   "source": [
    "UseNutrients=['calorie','protein','calcium','carbo','iron']"
   ]
  },
  {
   "cell_type": "code",
   "execution_count": 22,
   "id": "218f8faa",
   "metadata": {},
   "outputs": [],
   "source": [
    "fct = nut.iloc[:,3:]\n",
    "fct['i'] = fct['name']\n",
    "fct = fct.set_index('i').iloc[:,1:]\n",
    "\n",
    "# Select only desired nutrients from the fct table\n",
    "fct = fct[UseNutrients]\n",
    "\n",
    "# Rename and select desired nutrients from the hh_rda series\n",
    "hh_rda = hh_rda[['Energy','Protein','Calcium, Ca','Carbohydrate, by difference','Iron, Fe']]\n",
    "hh_rda = hh_rda.rename({'Energy':'calorie','Protein':'protein','Calcium, Ca':'calcium',\n",
    "                        'Carbohydrate, by difference':'carbo','Iron, Fe':'iron'})"
   ]
  },
  {
   "cell_type": "code",
   "execution_count": 23,
   "id": "919173b5",
   "metadata": {},
   "outputs": [],
   "source": [
    "def my_prices(p0,p=p,i='Coconut'):\n",
    "    p = p.copy()\n",
    "    p.loc[i] = p0\n",
    "    return p"
   ]
  },
  {
   "cell_type": "markdown",
   "id": "89c374e6",
   "metadata": {},
   "source": [
    "## Nutrient Demand"
   ]
  },
  {
   "cell_type": "code",
   "execution_count": 24,
   "id": "061e3196",
   "metadata": {},
   "outputs": [],
   "source": [
    "def nutrient_demand(x,p):\n",
    "    with warnings.catch_warnings():\n",
    "        warnings.simplefilter(\"ignore\")\n",
    "    c = r.demands(x,p)    \n",
    "\n",
    "\n",
    "    fct0,c0 = fct.align(c,axis=0,join='inner')\n",
    "    \n",
    "    N = fct0.T@c0\n",
    "\n",
    "    N = N.loc[~N.index.duplicated()]\n",
    "    \n",
    "    return N"
   ]
  },
  {
   "cell_type": "code",
   "execution_count": 25,
   "id": "b6713457",
   "metadata": {},
   "outputs": [
    {
     "data": {
      "text/plain": [
       "Text(0, 0.5, 'log nutrient')"
      ]
     },
     "execution_count": 25,
     "metadata": {},
     "output_type": "execute_result"
    },
    {
     "data": {
      "image/png": "[encoded data removed]",
      "text/plain": [
       "<Figure size 432x288 with 1 Axes>"
      ]
     },
     "metadata": {
      "needs_background": "light"
     },
     "output_type": "display_data"
    }
   ],
   "source": [
    "%matplotlib inline\n",
    "import numpy as np\n",
    "import matplotlib.pyplot as plt\n",
    "\n",
    "X = np.linspace(reference_x/5,reference_x*5,50)\n",
    "\n",
    "df = pd.concat([np.log(nutrient_demand(myx,p))[UseNutrients] for myx in X],axis=1).T\n",
    "ax = df.plot()\n",
    "\n",
    "ax.set_xlabel('log budget')\n",
    "ax.set_ylabel('log nutrient')"
   ]
  },
  {
   "cell_type": "code",
   "execution_count": 26,
   "id": "ef15f436",
   "metadata": {},
   "outputs": [
    {
     "data": {
      "text/plain": [
       "Text(0.5, 1.0, 'Sardines')"
      ]
     },
     "execution_count": 26,
     "metadata": {},
     "output_type": "execute_result"
    },
    {
     "data": {
      "image/png": "[encoded data removed]",
      "text/plain": [
       "<Figure size 432x288 with 1 Axes>"
      ]
     },
     "metadata": {
      "needs_background": "light"
     },
     "output_type": "display_data"
    }
   ],
   "source": [
    "USE_GOOD = 'Sardines' # Also try Rice and Potato\n",
    "\n",
    "# ref_price = r.prices.sel(i=USE_GOOD,m=m,drop=True)\n",
    "\n",
    "P = np.linspace(1,5,20).tolist()\n",
    "\n",
    "ndf = pd.DataFrame({p0:np.log(nutrient_demand(reference_x,my_prices(p0,i=USE_GOOD)))[UseNutrients] for p0 in P}).T\n",
    "\n",
    "ax = ndf.plot()\n",
    "\n",
    "ax.set_xlabel('Price')\n",
    "ax.set_ylabel('log nutrient')\n",
    "ax.set_title(USE_GOOD)"
   ]
  },
  {
   "cell_type": "markdown",
   "id": "f4cc36c8",
   "metadata": {},
   "source": [
    "## Nutritional Adequacy"
   ]
  },
  {
   "cell_type": "code",
   "execution_count": 27,
   "id": "0fa7edcb",
   "metadata": {},
   "outputs": [],
   "source": [
    "def nutrient_adequacy_ratio(x,p):\n",
    "    return nutrient_demand(x,p)/hh_rda"
   ]
  },
  {
   "cell_type": "code",
   "execution_count": 28,
   "id": "9f6e20d4",
   "metadata": {},
   "outputs": [
    {
     "data": {
      "text/plain": [
       "<matplotlib.lines.Line2D at 0x7f74a88227c0>"
      ]
     },
     "execution_count": 28,
     "metadata": {},
     "output_type": "execute_result"
    },
    {
     "data": {
      "image/png": "[encoded data removed]",
      "text/plain": [
       "<Figure size 432x288 with 1 Axes>"
      ]
     },
     "metadata": {
      "needs_background": "light"
     },
     "output_type": "display_data"
    }
   ],
   "source": [
    "X = np.linspace(reference_x/5,reference_x*5,50)\n",
    "\n",
    "ndf = pd.concat([np.log(nutrient_adequacy_ratio(x,p))[UseNutrients] for x in X],axis=1).T\n",
    "\n",
    "ax = ndf.plot()\n",
    "\n",
    "ax.set_xlabel('log budget')\n",
    "ax.set_ylabel('log nutrient adequacy ratio')\n",
    "ax.axhline(0)"
   ]
  },
  {
   "cell_type": "code",
   "execution_count": 29,
   "id": "9e665ab3",
   "metadata": {},
   "outputs": [
    {
     "data": {
      "text/plain": [
       "Text(0.5, 1.0, 'Sardines')"
      ]
     },
     "execution_count": 29,
     "metadata": {},
     "output_type": "execute_result"
    },
    {
     "data": {
      "image/png": "[encoded data removed]",
      "text/plain": [
       "<Figure size 432x288 with 1 Axes>"
      ]
     },
     "metadata": {
      "needs_background": "light"
     },
     "output_type": "display_data"
    }
   ],
   "source": [
    "USE_GOOD = 'Sardines'\n",
    "\n",
    "poorer_x = reference_x/2\n",
    "\n",
    "Pscale = np.linspace(1,3,20).tolist()\n",
    "\n",
    "log_nar = [np.log(nutrient_adequacy_ratio(reference_x,my_prices(s0,p,i=USE_GOOD)))[UseNutrients] \n",
    "           for s0 in Pscale]\n",
    "\n",
    "log_nar = pd.DataFrame(log_nar) \n",
    "\n",
    "ax = log_nar.plot(ylabel='log NAR',xlabel='Price')\n",
    "\n",
    "\n",
    "ax.axhline(0)\n",
    "ax.axvline(p[USE_GOOD])\n",
    "ax.set_title(USE_GOOD)"
   ]
  },
  {
   "cell_type": "markdown",
   "id": "75072f2d",
   "metadata": {},
   "source": [
    "## Fixing Prices and Budgets"
   ]
  },
  {
   "cell_type": "code",
   "execution_count": 31,
   "id": "97922678",
   "metadata": {},
   "outputs": [
    {
     "data": {
      "text/plain": [
       "i\n",
       "Bagoong                          0.037190\n",
       "Banana                           0.021401\n",
       "Beef                             0.135031\n",
       "Carrots                          0.027822\n",
       "Chicken                          0.097764\n",
       "Coffee                           0.732034\n",
       "Cooking oil                      0.038578\n",
       "Eggs                             0.092641\n",
       "Food made from flour             0.016472\n",
       "Fresh fish                       0.046502\n",
       "Mangoes                          0.045497\n",
       "Milk                             0.277523\n",
       "Milo                             0.217887\n",
       "Mongo and other products         0.038700\n",
       "Onions                           0.043971\n",
       "Peanut                           0.170558\n",
       "Pork                             0.102934\n",
       "Potato                           0.028599\n",
       "Processed meat like longanisa    0.144143\n",
       "Rice                             0.021202\n",
       "Salt                             0.015549\n",
       "Sardines                         0.078127\n",
       "Sea weed                         0.035359\n",
       "Soybean and other products       0.024932\n",
       "Squash                           0.010688\n",
       "Sugar                            0.023728\n",
       "Sweet potato                     0.009735\n",
       "Talong                           0.015475\n",
       "Tomatoes                         0.023721\n",
       "Name: i, dtype: float64"
      ]
     },
     "execution_count": 31,
     "metadata": {},
     "output_type": "execute_result"
    }
   ],
   "source": [
    "my_t = r.coords['t'].data.flatten()[0] # Period\n",
    "my_m = r.coords['m'].data.flatten()[0] # Market\n",
    "my_i = 'Sardines' # r.coords['i'].data.flatten()[0] # Good\n",
    "#####################################################################\n",
    "\n",
    "# p = r.prices.sel(u='Kilogram (kg)',t=my_t,m=my_m,drop=True)\n",
    "p = r.prices.sel(m=my_m,drop=True)\n",
    "phat = p.to_dataframe('i').dropna().squeeze().loc[2003]\n",
    "\n",
    "# ref_price = r.prices.sel(u='Kilogram (kg)',i=my_i,t=my_t,m=my_m)\n",
    "ref_price = r.prices.sel(i=my_i,m=my_m)\n",
    "P = np.linspace(ref_price/10,ref_price*5,50)\n",
    "\n",
    "def my_prices(p0,p=phat,i=my_i):\n",
    "    \"\"\"\n",
    "    Set price of good i to p0, holding remaining prices fixed at values in p.\n",
    "    \"\"\"\n",
    "    p = p.copy()\n",
    "    p.loc[i] = p0\n",
    "    return p.squeeze()\n",
    "\n",
    "phat"
   ]
  },
  {
   "cell_type": "code",
   "execution_count": 34,
   "id": "42b3a7f3",
   "metadata": {},
   "outputs": [],
   "source": [
    "# A quantile of 0.5 is the median.  Play with quantile value, or just assign.\n",
    "xbar = r.get_predicted_expenditures().sel(t=my_t,m=my_m).sum('i')\n",
    "\n",
    "# Drop households with /no/ predicted expenditures\n",
    "xbar = xbar.where(xbar>0)\n",
    "\n",
    "x0 = xbar.quantile(0.5,'j') # Budget (median household)\n",
    "#x0 = 50\n",
    "\n",
    "# Range of budgets to explore\n",
    "X = np.linspace(x0/10,x0*5,50)"
   ]
  },
  {
   "cell_type": "markdown",
   "id": "5825b436",
   "metadata": {},
   "source": [
    "### Marshallian vs. Hicksian Demand Curves"
   ]
  },
  {
   "cell_type": "code",
   "execution_count": 35,
   "id": "06861f0c",
   "metadata": {},
   "outputs": [
    {
     "data": {
      "text/plain": [
       "<matplotlib.legend.Legend at 0x7f75752d5280>"
      ]
     },
     "execution_count": 35,
     "metadata": {},
     "output_type": "execute_result"
    },
    {
     "data": {
      "image/png": "[encoded data removed]",
      "text/plain": [
       "<Figure size 432x288 with 1 Axes>"
      ]
     },
     "metadata": {
      "needs_background": "light"
     },
     "output_type": "display_data"
    }
   ],
   "source": [
    "#my_i = 'bread'  # Interesting Ugandan staple\n",
    "\n",
    "U0 = r.indirect_utility(x0,p)\n",
    "\n",
    "#plt.plot([r.demands(x0,my_prices(p0,i=my_i))[my_i] for p0 in P],P)\n",
    "plt.plot([r.demands(U0,my_prices(p0,i=my_i),type=\"Marshallian\")[my_i] for p0 in P],P)\n",
    "plt.plot([r.demands(U0,my_prices(p0,i=my_i),type=\"Hicksian\")[my_i] for p0 in P],P)\n",
    "\n",
    "plt.ylabel('Price')\n",
    "plt.xlabel(my_i)\n",
    "#plt.axhline(p.sel(i=my_i).values)\n",
    "plt.legend((\"Marshallian\",\"Hicksian\"))"
   ]
  },
  {
   "cell_type": "markdown",
   "id": "f6abc21e",
   "metadata": {},
   "source": [
    "### Welfare"
   ]
  },
  {
   "cell_type": "code",
   "execution_count": 36,
   "id": "81033cc6",
   "metadata": {},
   "outputs": [],
   "source": [
    "def compensating_variation(U0,p0,p1):\n",
    "    x0 = r.expenditure(U0,p0)\n",
    "    x1 = r.expenditure(U0,p1)\n",
    "\n",
    "    return x1-x0\n",
    "\n",
    "def revenue(U0,p0,p1,type='Marshallian'):\n",
    "    \"\"\"(Un)Compensated revenue from taxes changing vector of prices from p0 to p1.\n",
    "\n",
    "    Note that this is only for *demand* side (i.e., if supply perfectly elastic).\n",
    "    \"\"\"\n",
    "    \n",
    "    dp = p1 - p0 # Change in prices\n",
    "\n",
    "    c = r.demands(U0,p1,type=type)\n",
    "\n",
    "    dp,c = dp.align(c,join='inner')\n",
    "\n",
    "    return dp.T@c\n",
    "\n",
    "\n",
    "def deadweight_loss(U0,p0,p1):\n",
    "    \"\"\"\n",
    "    Deadweight loss of tax/subsidy scheme creating wedge in prices from p0 to p1.\n",
    "\n",
    "    Note that this is only for *demand* side (i.e., if supply perfectly elastic).\n",
    "    \"\"\"\n",
    "    cv = compensating_variation(U0,p0,p1)\n",
    "\n",
    "    return cv - revenue(U0,p0,p1,type='Hicksian') \n",
    "    \n",
    "    \n",
    "def compensated_nutrient_demand(U,p,z=None):\n",
    "    c = r.demands(U,p,z=z,type='Hicksian')\n",
    "    fct0,c0 = fct.align(c,axis=0,join='inner')\n",
    "    N = fct0.T@c0\n",
    "\n",
    "    return N\n",
    "\n",
    "def compensated_nutrient_adequacy_ratio(U,p):\n",
    "    return (compensated_nutrient_demand(U,p)/hh_rdi.T).squeeze()"
   ]
  },
  {
   "cell_type": "markdown",
   "id": "ea82b4ab",
   "metadata": {},
   "source": [
    "### Price Changes, Revenue, and Compensating Variation"
   ]
  },
  {
   "cell_type": "code",
   "execution_count": 37,
   "id": "7a5d817a",
   "metadata": {},
   "outputs": [
    {
     "data": {
      "text/plain": [
       "<matplotlib.lines.Line2D at 0x7f7574854550>"
      ]
     },
     "execution_count": 37,
     "metadata": {},
     "output_type": "execute_result"
    },
    {
     "data": {
      "image/png": "[encoded data removed]",
      "text/plain": [
       "<Figure size 432x288 with 1 Axes>"
      ]
     },
     "metadata": {
      "needs_background": "light"
     },
     "output_type": "display_data"
    }
   ],
   "source": [
    "#effects of price changes on revenue (due to a tax or subsidy)\n",
    "fig, ax1 = plt.subplots()\n",
    "\n",
    "ax1.plot(P,[compensating_variation(U0,phat,my_prices(p0,i=my_i)) for p0 in P])\n",
    "ax1.set_xlabel(\"Price of %s\" % my_i)\n",
    "ax1.set_ylabel(\"Compensating Variation\")\n",
    "\n",
    "ax1.plot(P,[revenue(U0,phat,my_prices(p0,i=my_i),type='Hicksian') for p0 in P],'k')\n",
    "ax1.legend(('Compensating Variation','Revenue'))\n",
    "ax1.axhline(0)\n",
    "ax1.axvline(phat.loc[my_i])"
   ]
  },
  {
   "cell_type": "markdown",
   "id": "b6d9573d",
   "metadata": {},
   "source": [
    "### Deadweight Loss"
   ]
  },
  {
   "cell_type": "code",
   "execution_count": 38,
   "id": "935b877d",
   "metadata": {},
   "outputs": [
    {
     "data": {
      "text/plain": [
       "Text(0, 0.5, 'Deadweight Loss')"
      ]
     },
     "execution_count": 38,
     "metadata": {},
     "output_type": "execute_result"
    },
    {
     "data": {
      "image/png": "[encoded data removed]",
      "text/plain": [
       "<Figure size 432x288 with 1 Axes>"
      ]
     },
     "metadata": {
      "needs_background": "light"
     },
     "output_type": "display_data"
    }
   ],
   "source": [
    "fig, ax1 = plt.subplots()\n",
    "\n",
    "ax1.plot(P,[deadweight_loss(U0,phat,my_prices(p0,i=my_i)) for p0 in P])\n",
    "ax1.set_xlabel(\"Price of %s\" % my_i)\n",
    "ax1.set_ylabel(\"Deadweight Loss\")"
   ]
  },
  {
   "cell_type": "code",
   "execution_count": null,
   "id": "394cac65",
   "metadata": {},
   "outputs": [],
   "source": []
  }
 ],
 "metadata": {
  "kernelspec": {
   "display_name": "Python 3 (ipykernel)",
   "language": "python",
   "name": "python3"
  },
  "language_info": {
   "codemirror_mode": {
    "name": "ipython",
    "version": 3
   },
   "file_extension": ".py",
   "mimetype": "text/x-python",
   "name": "python",
   "nbconvert_exporter": "python",
   "pygments_lexer": "ipython3",
   "version": "3.9.12"
  }
 },
 "nbformat": 4,
 "nbformat_minor": 5
}
