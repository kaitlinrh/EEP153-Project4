{
 "cells": [
  {
   "cell_type": "markdown",
   "metadata": {},
   "source": [
    "## Costs\n",
    "\n"
   ]
  },
  {
   "cell_type": "markdown",
   "metadata": {},
   "source": [
    "### Preface\n",
    "\n"
   ]
  },
  {
   "cell_type": "markdown",
   "metadata": {},
   "source": [
    "There are a few modules you may need to install:\n",
    "\n"
   ]
  },
  {
   "cell_type": "code",
   "execution_count": 1,
   "metadata": {},
   "outputs": [
    {
     "name": "stdout",
     "output_type": "stream",
     "text": [
      "Collecting CFEDemands>=0.4.1\n",
      "  Using cached CFEDemands-0.4.1-py2.py3-none-any.whl (39 kB)\n",
      "Requirement already satisfied: gspread>=4.0.1 in /opt/conda/lib/python3.9/site-packages (from -r requirements.txt (line 8)) (4.0.1)\n",
      "Requirement already satisfied: matplotlib>=3.3.4 in /opt/conda/lib/python3.9/site-packages (from -r requirements.txt (line 11)) (3.4.3)\n",
      "Collecting numpy>=1.22.2\n",
      "  Using cached numpy-1.22.3-cp39-cp39-manylinux_2_17_x86_64.manylinux2014_x86_64.whl (16.8 MB)\n",
      "Collecting oauth2client>=4.1.3\n",
      "  Using cached oauth2client-4.1.3-py2.py3-none-any.whl (98 kB)\n",
      "Collecting pandas>=1.4.1\n",
      "  Using cached pandas-1.4.2-cp39-cp39-manylinux_2_17_x86_64.manylinux2014_x86_64.whl (11.7 MB)\n",
      "Collecting plotly>=5.5.0\n",
      "  Using cached plotly-5.7.0-py2.py3-none-any.whl (28.8 MB)\n",
      "Collecting eep153_tools>=0.11\n",
      "  Using cached eep153_tools-0.11-py2.py3-none-any.whl (4.4 kB)\n",
      "Processing /home/jovyan/.cache/pip/wheels/20/7e/30/7d702acd6a1e89911301cd9dbf9cb9870ca80c0e64bc2cde23/gnupg-2.3.1-py3-none-any.whl\n",
      "Collecting ConsumerDemands\n",
      "  Using cached ConsumerDemands-0.3.dev0-py2.py3-none-any.whl (12 kB)\n",
      "Requirement already satisfied: google-auth-oauthlib>=0.4.1 in /opt/conda/lib/python3.9/site-packages (from gspread>=4.0.1->-r requirements.txt (line 8)) (0.4.5)\n",
      "Requirement already satisfied: google-auth>=1.12.0 in /opt/conda/lib/python3.9/site-packages (from gspread>=4.0.1->-r requirements.txt (line 8)) (2.6.2)\n",
      "Requirement already satisfied: cycler>=0.10 in /opt/conda/lib/python3.9/site-packages (from matplotlib>=3.3.4->-r requirements.txt (line 11)) (0.11.0)\n",
      "Requirement already satisfied: pyparsing>=2.2.1 in /opt/conda/lib/python3.9/site-packages (from matplotlib>=3.3.4->-r requirements.txt (line 11)) (3.0.7)\n",
      "Requirement already satisfied: python-dateutil>=2.7 in /opt/conda/lib/python3.9/site-packages (from matplotlib>=3.3.4->-r requirements.txt (line 11)) (2.8.0)\n",
      "Requirement already satisfied: pillow>=6.2.0 in /opt/conda/lib/python3.9/site-packages (from matplotlib>=3.3.4->-r requirements.txt (line 11)) (8.3.2)\n",
      "Requirement already satisfied: kiwisolver>=1.0.1 in /opt/conda/lib/python3.9/site-packages (from matplotlib>=3.3.4->-r requirements.txt (line 11)) (1.4.2)\n",
      "Requirement already satisfied: six>=1.6.1 in /opt/conda/lib/python3.9/site-packages (from oauth2client>=4.1.3->-r requirements.txt (line 18)) (1.16.0)\n",
      "Requirement already satisfied: pyasn1>=0.1.7 in /opt/conda/lib/python3.9/site-packages (from oauth2client>=4.1.3->-r requirements.txt (line 18)) (0.4.8)\n",
      "Requirement already satisfied: httplib2>=0.9.1 in /opt/conda/lib/python3.9/site-packages (from oauth2client>=4.1.3->-r requirements.txt (line 18)) (0.20.4)\n",
      "Requirement already satisfied: rsa>=3.1.4 in /opt/conda/lib/python3.9/site-packages (from oauth2client>=4.1.3->-r requirements.txt (line 18)) (4.8)\n",
      "Requirement already satisfied: pyasn1-modules>=0.0.5 in /opt/conda/lib/python3.9/site-packages (from oauth2client>=4.1.3->-r requirements.txt (line 18)) (0.2.8)\n",
      "Requirement already satisfied: pytz>=2020.1 in /opt/conda/lib/python3.9/site-packages (from pandas>=1.4.1->-r requirements.txt (line 23)) (2021.1)\n",
      "Requirement already satisfied: tenacity>=6.2.0 in /opt/conda/lib/python3.9/site-packages (from plotly>=5.5.0->-r requirements.txt (line 26)) (8.0.1)\n",
      "Requirement already satisfied: psutil>=1.2.1 in /opt/conda/lib/python3.9/site-packages (from gnupg->-r requirements.txt (line 29)) (5.9.0)\n",
      "Requirement already satisfied: requests-oauthlib>=0.7.0 in /opt/conda/lib/python3.9/site-packages (from google-auth-oauthlib>=0.4.1->gspread>=4.0.1->-r requirements.txt (line 8)) (1.3.1)\n",
      "Requirement already satisfied: cachetools<6.0,>=2.0.0 in /opt/conda/lib/python3.9/site-packages (from google-auth>=1.12.0->gspread>=4.0.1->-r requirements.txt (line 8)) (5.0.0)\n",
      "Requirement already satisfied: oauthlib>=3.0.0 in /opt/conda/lib/python3.9/site-packages (from requests-oauthlib>=0.7.0->google-auth-oauthlib>=0.4.1->gspread>=4.0.1->-r requirements.txt (line 8)) (3.2.0)\n",
      "Requirement already satisfied: requests>=2.0.0 in /opt/conda/lib/python3.9/site-packages (from requests-oauthlib>=0.7.0->google-auth-oauthlib>=0.4.1->gspread>=4.0.1->-r requirements.txt (line 8)) (2.26.0)\n",
      "Requirement already satisfied: certifi>=2017.4.17 in /opt/conda/lib/python3.9/site-packages (from requests>=2.0.0->requests-oauthlib>=0.7.0->google-auth-oauthlib>=0.4.1->gspread>=4.0.1->-r requirements.txt (line 8)) (2019.11.28)\n",
      "Requirement already satisfied: idna<4,>=2.5; python_version >= \"3\" in /opt/conda/lib/python3.9/site-packages (from requests>=2.0.0->requests-oauthlib>=0.7.0->google-auth-oauthlib>=0.4.1->gspread>=4.0.1->-r requirements.txt (line 8)) (2.8)\n",
      "Requirement already satisfied: urllib3<1.27,>=1.21.1 in /opt/conda/lib/python3.9/site-packages (from requests>=2.0.0->requests-oauthlib>=0.7.0->google-auth-oauthlib>=0.4.1->gspread>=4.0.1->-r requirements.txt (line 8)) (1.25.7)\n",
      "Requirement already satisfied: charset-normalizer~=2.0.0; python_version >= \"3\" in /opt/conda/lib/python3.9/site-packages (from requests>=2.0.0->requests-oauthlib>=0.7.0->google-auth-oauthlib>=0.4.1->gspread>=4.0.1->-r requirements.txt (line 8)) (2.0.0)\n",
      "Installing collected packages: CFEDemands, numpy, oauth2client, pandas, plotly, eep153-tools, gnupg, ConsumerDemands\n",
      "  Attempting uninstall: numpy\n",
      "    Found existing installation: numpy 1.21.5\n",
      "    Uninstalling numpy-1.21.5:\n",
      "      Successfully uninstalled numpy-1.21.5\n",
      "  Attempting uninstall: pandas\n",
      "    Found existing installation: pandas 1.3.5\n",
      "    Uninstalling pandas-1.3.5:\n",
      "      Successfully uninstalled pandas-1.3.5\n",
      "  Attempting uninstall: plotly\n",
      "    Found existing installation: plotly 5.2.1\n",
      "    Uninstalling plotly-5.2.1:\n",
      "      Successfully uninstalled plotly-5.2.1\n",
      "\u001b[31mERROR: After October 2020 you may experience errors when installing or updating packages. This is because pip will change the way that it resolves dependency conflicts.\n",
      "\n",
      "We recommend you use --use-feature=2020-resolver to test your packages with the new resolver before it becomes the default.\n",
      "\n",
      "tensorflow 2.6.3 requires h5py~=3.1.0, but you'll have h5py 3.3.0 which is incompatible.\n",
      "tensorflow 2.6.3 requires numpy~=1.19.2, but you'll have numpy 1.22.3 which is incompatible.\n",
      "tensorflow 2.6.3 requires six~=1.15.0, but you'll have six 1.16.0 which is incompatible.\n",
      "tensorboard 2.6.0 requires google-auth<2,>=1.6.3, but you'll have google-auth 2.6.2 which is incompatible.\n",
      "pysal 2.5.0 requires urllib3>=1.26, but you'll have urllib3 1.25.7 which is incompatible.\n",
      "pynwb 1.5.1 requires h5py<3,>=2.9, but you'll have h5py 3.3.0 which is incompatible.\n",
      "pynwb 1.5.1 requires hdmf<3,>=2.5.6, but you'll have hdmf 2.4.0 which is incompatible.\n",
      "pynwb 1.5.1 requires numpy<1.21,>=1.16, but you'll have numpy 1.22.3 which is incompatible.\n",
      "pandas 1.4.2 requires python-dateutil>=2.8.1, but you'll have python-dateutil 2.8.0 which is incompatible.\n",
      "numba 0.55.1 requires numpy<1.22,>=1.18, but you'll have numpy 1.22.3 which is incompatible.\n",
      "hdmf 2.4.0 requires h5py<3,>=2.9, but you'll have h5py 3.3.0 which is incompatible.\n",
      "hdmf 2.4.0 requires jsonschema<4,>=2.6.0, but you'll have jsonschema 4.4.0 which is incompatible.\n",
      "hdmf 2.4.0 requires numpy<1.19.4,>=1.16, but you'll have numpy 1.22.3 which is incompatible.\n",
      "fenics-dolfin 2019.1.0 requires pybind11==2.2.4, but you'll have pybind11 2.8.1 which is incompatible.\n",
      "fancyimpute 0.6.0 requires keras==2.4.3, but you'll have keras 2.6.0 which is incompatible.\n",
      "fancyimpute 0.6.0 requires numpy==1.19.5, but you'll have numpy 1.22.3 which is incompatible.\n",
      "fancyimpute 0.6.0 requires scipy==1.6.3, but you'll have scipy 1.7.3 which is incompatible.\n",
      "fancyimpute 0.6.0 requires tensorflow==2.5, but you'll have tensorflow 2.6.3 which is incompatible.\n",
      "csaps 1.0.4 requires numpy<1.21.0,>=1.11.0, but you'll have numpy 1.22.3 which is incompatible.\n",
      "csaps 1.0.4 requires scipy<1.7.0,>=1.0.0, but you'll have scipy 1.7.3 which is incompatible.\n",
      "allensdk 2.12.2 requires aiohttp==3.7.4, but you'll have aiohttp 3.8.1 which is incompatible.\n",
      "allensdk 2.12.2 requires h5py<3.0.0,>=2.8, but you'll have h5py 3.3.0 which is incompatible.\n",
      "allensdk 2.12.2 requires jinja2<2.12.0,>=2.7.3, but you'll have jinja2 3.1.1 which is incompatible.\n",
      "allensdk 2.12.2 requires matplotlib<3.4.3,>=1.4.3, but you'll have matplotlib 3.4.3 which is incompatible.\n",
      "allensdk 2.12.2 requires nest-asyncio==1.2.0, but you'll have nest-asyncio 1.5.4 which is incompatible.\n",
      "allensdk 2.12.2 requires numpy<1.19.0,>=1.15.4, but you'll have numpy 1.22.3 which is incompatible.\n",
      "allensdk 2.12.2 requires pandas<=0.25.3,>=0.25.1, but you'll have pandas 1.4.2 which is incompatible.\n",
      "allensdk 2.12.2 requires scikit-image<0.17.0,>=0.14.0, but you'll have scikit-image 0.18.3 which is incompatible.\n",
      "allensdk 2.12.2 requires xarray<0.16.0, but you'll have xarray 0.19.0 which is incompatible.\u001b[0m\n",
      "Successfully installed CFEDemands-0.4.1 ConsumerDemands-0.3.dev0 eep153-tools-0.11 gnupg-2.3.1 numpy-1.22.3 oauth2client-4.1.3 pandas-1.4.2 plotly-5.7.0\n",
      "Note: you may need to restart the kernel to use updated packages.\n"
     ]
    }
   ],
   "source": [
    "pip install -r requirements.txt"
   ]
  },
  {
   "cell_type": "markdown",
   "metadata": {},
   "source": [
    "Some countries we have data for:\n",
    "\n"
   ]
  },
  {
   "cell_type": "code",
   "execution_count": 2,
   "metadata": {},
   "outputs": [],
   "source": [
    "# URL = {'Uganda':'https://docs.google.com/spreadsheets/d/1yVLriVpo7KGUXvR3hq_n53XpXlD5NmLaH1oOMZyV0gQ/',\n",
    "#        'Tanzania':'https://docs.google.com/spreadsheets/d/1Tknc2F8K6SaA7j0R7J_NE8yJBTsCPPw77_Bfc04MY40/',\n",
    "#        'Indian ICRISAT':'https://docs.google.com/spreadsheets/d/13Ig5hZif-NSHtgkKRp_cEgKXk0lOsdUB2BAD6O_FnRo'}\n",
    "\n",
    "# DAYS_PER_PERIOD = {'Uganda':7,'Tanzania':7,'Indian ICRISAT':365.25} # Number of days of expenditure recall"
   ]
  },
  {
   "cell_type": "markdown",
   "metadata": {},
   "source": [
    "Exploit fact that we&rsquo;ve already estimated demand systems for a bunch\n",
    "of different countries.  Choose one:\n",
    "\n"
   ]
  },
  {
   "cell_type": "code",
   "execution_count": 3,
   "metadata": {},
   "outputs": [],
   "source": [
    "# import cfe\n",
    "\n",
    "# COUNTRY = 'Uganda'\n",
    "\n",
    "# # May need to unzip?\n",
    "# #!gunzip Uganda_small.ds.gz\n",
    "\n",
    "# r = cfe.from_dataset(\"%s_small.ds\" % COUNTRY,engine='netcdf4')"
   ]
  },
  {
   "cell_type": "code",
   "execution_count": 4,
   "metadata": {},
   "outputs": [
    {
     "name": "stdout",
     "output_type": "stream",
     "text": [
      "Missing dependencies for OracleDemands.\n"
     ]
    }
   ],
   "source": [
    "import cfe\n",
    "import pandas as pd\n",
    "\n",
    "# Load data\n",
    "\n",
    "quant = pd.read_excel('Bukidnon 2003.xlsx',sheet_name='Quantities')\n",
    "hh = pd.read_excel('Bukidnon 2003.xlsx',sheet_name='HH Characteristics')\n",
    "expend = pd.read_excel('Bukidnon 2003.xlsx',sheet_name ='Expenditures')\n",
    "nut = pd.read_excel('Bukidnon 2003.xlsx',sheet_name='FCT')\n",
    "\n",
    "r = cfe.from_dataset(\"BUK.ds\",engine='netcdf4')"
   ]
  },
  {
   "cell_type": "markdown",
   "metadata": {},
   "source": [
    "### Ceteris Paribus\n",
    "\n"
   ]
  },
  {
   "cell_type": "markdown",
   "metadata": {},
   "source": [
    "We begin by setting up some benchmarks for prices and budgets, so\n",
    "    the things we don&rsquo;t want to change we can hold fixed.\n",
    "\n"
   ]
  },
  {
   "cell_type": "code",
   "execution_count": 6,
   "metadata": {},
   "outputs": [
    {
     "data": {
      "text/plain": [
       "i\n",
       "Bagoong                          0.037190\n",
       "Banana                           0.021401\n",
       "Beef                             0.135031\n",
       "Carrots                          0.027822\n",
       "Chicken                          0.097764\n",
       "Coffee                           0.732034\n",
       "Cooking oil                      0.038578\n",
       "Eggs                             0.092641\n",
       "Food made from flour             0.016472\n",
       "Fresh fish                       0.046502\n",
       "Mangoes                          0.045497\n",
       "Milk                             0.277523\n",
       "Milo                             0.217887\n",
       "Mongo and other products         0.038700\n",
       "Onions                           0.043971\n",
       "Peanut                           0.170558\n",
       "Pork                             0.102934\n",
       "Potato                           0.028599\n",
       "Processed meat like longanisa    0.144143\n",
       "Rice                             0.021202\n",
       "Salt                             0.015549\n",
       "Sardines                         0.078127\n",
       "Sea weed                         0.035359\n",
       "Soybean and other products       0.024932\n",
       "Squash                           0.010688\n",
       "Sugar                            0.023728\n",
       "Sweet potato                     0.009735\n",
       "Talong                           0.015475\n",
       "Tomatoes                         0.023721\n",
       "Name: i, dtype: float64"
      ]
     },
     "execution_count": 6,
     "metadata": {},
     "output_type": "execute_result"
    }
   ],
   "source": [
    "import numpy as np\n",
    "\n",
    "### First year, first market, and some good.  Change if you wish! ###\n",
    "my_t = r.coords['t'].data.flatten()[0] # Period\n",
    "my_m = r.coords['m'].data.flatten()[0] # Market\n",
    "my_i = 'Sardines' # r.coords['i'].data.flatten()[0] # Good\n",
    "#####################################################################\n",
    "\n",
    "# p = r.prices.sel(u='Kilogram (kg)',t=my_t,m=my_m,drop=True)\n",
    "p = r.prices.sel(m=my_m,drop=True)\n",
    "phat = p.to_dataframe('i').dropna().squeeze().loc[2003]\n",
    "\n",
    "# ref_price = r.prices.sel(u='Kilogram (kg)',i=my_i,t=my_t,m=my_m)\n",
    "ref_price = r.prices.sel(i=my_i,m=my_m)\n",
    "P = np.linspace(ref_price/10,ref_price*5,50)\n",
    "\n",
    "def my_prices(p0,p=phat,i=my_i):\n",
    "    \"\"\"\n",
    "    Set price of good i to p0, holding remaining prices fixed at values in p.\n",
    "    \"\"\"\n",
    "    p = p.copy()\n",
    "    p.loc[i] = p0\n",
    "    return p.squeeze()\n",
    "\n",
    "phat"
   ]
  },
  {
   "cell_type": "markdown",
   "metadata": {},
   "source": [
    "### Simple Policy Experiments: Changing Budget\n",
    "\n"
   ]
  },
  {
   "cell_type": "markdown",
   "metadata": {},
   "source": [
    "Consider two policies:  First, changing income so that some proportion\n",
    " of the population achieves nutritional adequacy.  Here choose quantile\n",
    " we&rsquo;re interested in (e.g., a quantile of 0.5 is the median; a quantile\n",
    " of 0.25 is the household at the 25th percentage point of the distribution).\n",
    "\n"
   ]
  },
  {
   "cell_type": "code",
   "execution_count": 7,
   "metadata": {},
   "outputs": [],
   "source": [
    "# A quantile of 0.5 is the median.  Play with quantile value, or just assign.\n",
    "xbar = r.get_predicted_expenditures().sel(t=my_t,m=my_m).sum('i')\n",
    "\n",
    "# Drop households with /no/ predicted expenditures\n",
    "xbar = xbar.where(xbar>0)\n",
    "\n",
    "x0 = xbar.quantile(0.5,'j') # Budget (median household)\n",
    "#x0 = 50\n",
    "\n",
    "# Range of budgets to explore\n",
    "X = np.linspace(x0/10,x0*5,50)"
   ]
  },
  {
   "cell_type": "markdown",
   "metadata": {},
   "source": [
    "### Simple Policy Experiments: Changing Prices\n",
    "\n"
   ]
  },
  {
   "cell_type": "markdown",
   "metadata": {},
   "source": [
    "If price of a good increases/decreases, what&rsquo;s the cost to the\n",
    "household?  Ask a related question: If a price $p_1$ increases, how\n",
    "much *income* do we need to give to the household to make it just as\n",
    "well off as it was at the old prices?\n",
    "\n",
    "Summarize this as the  *compensating variation* associated with the\n",
    "price change.\n",
    "\n",
    "![img](./compensating_variation.png)\n",
    "\n",
    "Compensating Variation can also be measured as the (change in the)\n",
    "area under the **Hicksian** (or **compensated**) demand curve:\n",
    "\n",
    "![img](./compensating_variation_newexpenditure.png).\n",
    "\n"
   ]
  },
  {
   "cell_type": "markdown",
   "metadata": {},
   "source": [
    "#### Marshallian vs. Hicksian Demand Curves\n",
    "\n"
   ]
  },
  {
   "cell_type": "markdown",
   "metadata": {},
   "source": [
    "Let&rsquo;s look at Marshallian & Hicksian demands&#x2014;one way of thinking\n",
    "about the Hicksian (compensated) curves is that they  eliminate the\n",
    "income effect associated with changing prices.\n",
    "\n"
   ]
  },
  {
   "cell_type": "code",
   "execution_count": 8,
   "metadata": {},
   "outputs": [
    {
     "data": {
      "text/plain": [
       "<matplotlib.legend.Legend at 0x7fed6fa15d30>"
      ]
     },
     "execution_count": 8,
     "metadata": {},
     "output_type": "execute_result"
    },
    {
     "data": {
      "image/png": "[encoded data removed]",
      "text/plain": [
       "<Figure size 432x288 with 1 Axes>"
      ]
     },
     "metadata": {
      "needs_background": "light"
     },
     "output_type": "display_data"
    }
   ],
   "source": [
    "import matplotlib.pyplot as plt\n",
    "\n",
    "#my_i = 'bread'  # Interesting Ugandan staple\n",
    "\n",
    "U0 = r.indirect_utility(x0,p)\n",
    "\n",
    "#plt.plot([r.demands(x0,my_prices(p0,i=my_i))[my_i] for p0 in P],P)\n",
    "plt.plot([r.demands(U0,my_prices(p0,i=my_i),type=\"Marshallian\")[my_i] for p0 in P],P)\n",
    "plt.plot([r.demands(U0,my_prices(p0,i=my_i),type=\"Hicksian\")[my_i] for p0 in P],P)\n",
    "\n",
    "plt.ylabel('Price')\n",
    "plt.xlabel(my_i)\n",
    "#plt.axhline(p.sel(i=my_i).values)\n",
    "plt.legend((\"Marshallian\",\"Hicksian\"))"
   ]
  },
  {
   "cell_type": "markdown",
   "metadata": {},
   "source": [
    "#### Welfare measures\n",
    "\n"
   ]
  },
  {
   "cell_type": "code",
   "execution_count": 9,
   "metadata": {},
   "outputs": [],
   "source": [
    "def compensating_variation(U0,p0,p1):\n",
    "    x0 = r.expenditure(U0,p0)\n",
    "    x1 = r.expenditure(U0,p1)\n",
    "\n",
    "    return x1-x0\n",
    "\n",
    "def revenue(U0,p0,p1,type='Marshallian'):\n",
    "    \"\"\"(Un)Compensated revenue from taxes changing vector of prices from p0 to p1.\n",
    "\n",
    "    Note that this is only for *demand* side (i.e., if supply perfectly elastic).\n",
    "    \"\"\"\n",
    "    \n",
    "    dp = p1 - p0 # Change in prices\n",
    "\n",
    "    c = r.demands(U0,p1,type=type)\n",
    "\n",
    "    dp,c = dp.align(c,join='inner')\n",
    "\n",
    "    return dp.T@c\n",
    "\n",
    "\n",
    "def deadweight_loss(U0,p0,p1):\n",
    "    \"\"\"\n",
    "    Deadweight loss of tax/subsidy scheme creating wedge in prices from p0 to p1.\n",
    "\n",
    "    Note that this is only for *demand* side (i.e., if supply perfectly elastic).\n",
    "    \"\"\"\n",
    "    cv = compensating_variation(U0,p0,p1)\n",
    "\n",
    "    return cv - revenue(U0,p0,p1,type='Hicksian') \n",
    "    \n",
    "    \n",
    "def compensated_nutrient_demand(U,p,z=None):\n",
    "    c = r.demands(U,p,z=z,type='Hicksian')\n",
    "    fct0,c0 = fct.align(c,axis=0,join='inner')\n",
    "    N = fct0.T@c0\n",
    "\n",
    "    return N\n",
    "\n",
    "def compensated_nutrient_adequacy_ratio(U,p):\n",
    "    return (compensated_nutrient_demand(U,p)/hh_rdi.T).squeeze()"
   ]
  },
  {
   "cell_type": "markdown",
   "metadata": {},
   "source": [
    "#### Price Changes, Revenue, and Compensating Variation\n",
    "\n"
   ]
  },
  {
   "cell_type": "markdown",
   "metadata": {},
   "source": [
    "Examine effects of price changes on revenue (if price change due to a\n",
    "tax or subsidy) and compensating variation.\n",
    "\n"
   ]
  },
  {
   "cell_type": "code",
   "execution_count": 10,
   "metadata": {},
   "outputs": [
    {
     "data": {
      "text/plain": [
       "<matplotlib.lines.Line2D at 0x7fed6d9675e0>"
      ]
     },
     "execution_count": 10,
     "metadata": {},
     "output_type": "execute_result"
    },
    {
     "data": {
      "image/png": "[encoded data removed]",
      "text/plain": [
       "<Figure size 432x288 with 1 Axes>"
      ]
     },
     "metadata": {
      "needs_background": "light"
     },
     "output_type": "display_data"
    }
   ],
   "source": [
    "fig, ax1 = plt.subplots()\n",
    "\n",
    "ax1.plot(P,[compensating_variation(U0,phat,my_prices(p0,i=my_i)) for p0 in P])\n",
    "ax1.set_xlabel(\"Price of %s\" % my_i)\n",
    "ax1.set_ylabel(\"Compensating Variation\")\n",
    "\n",
    "ax1.plot(P,[revenue(U0,phat,my_prices(p0,i=my_i),type='Hicksian') for p0 in P],'k')\n",
    "ax1.legend(('Compensating Variation','Revenue'))\n",
    "ax1.axhline(0)\n",
    "ax1.axvline(phat.loc[my_i])"
   ]
  },
  {
   "cell_type": "markdown",
   "metadata": {},
   "source": [
    "#### Deadweight Loss\n",
    "\n"
   ]
  },
  {
   "cell_type": "markdown",
   "metadata": {},
   "source": [
    "Differences between revenue and compensating variation is deadweight-loss:\n",
    "\n"
   ]
  },
  {
   "cell_type": "code",
   "execution_count": 11,
   "metadata": {},
   "outputs": [
    {
     "data": {
      "text/plain": [
       "Text(0, 0.5, 'Deadweight Loss')"
      ]
     },
     "execution_count": 11,
     "metadata": {},
     "output_type": "execute_result"
    },
    {
     "data": {
      "image/png": "[encoded data removed]",
      "text/plain": [
       "<Figure size 432x288 with 1 Axes>"
      ]
     },
     "metadata": {
      "needs_background": "light"
     },
     "output_type": "display_data"
    }
   ],
   "source": [
    "fig, ax1 = plt.subplots()\n",
    "\n",
    "ax1.plot(P,[deadweight_loss(U0,phat,my_prices(p0,i=my_i)) for p0 in P])\n",
    "ax1.set_xlabel(\"Price of %s\" % my_i)\n",
    "ax1.set_ylabel(\"Deadweight Loss\")"
   ]
  },
  {
   "cell_type": "code",
   "execution_count": null,
   "metadata": {},
   "outputs": [],
   "source": []
  },
  {
   "cell_type": "code",
   "execution_count": null,
   "metadata": {},
   "outputs": [],
   "source": []
  }
 ],
 "metadata": {
  "kernelspec": {
   "display_name": "Python 3 (ipykernel)",
   "language": "python",
   "name": "python3"
  },
  "language_info": {
   "codemirror_mode": {
    "name": "ipython",
    "version": 3
   },
   "file_extension": ".py",
   "mimetype": "text/x-python",
   "name": "python",
   "nbconvert_exporter": "python",
   "pygments_lexer": "ipython3",
   "version": "3.9.12"
  },
  "org": null
 },
 "nbformat": 4,
 "nbformat_minor": 1
}
