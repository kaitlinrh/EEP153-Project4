{
 "cells": [
  {
   "cell_type": "markdown",
   "metadata": {},
   "source": [
    "## Preface\n",
    "\n"
   ]
  },
  {
   "cell_type": "code",
   "execution_count": 22,
   "metadata": {},
   "outputs": [
    {
     "name": "stdout",
     "output_type": "stream",
     "text": [
      "Requirement already satisfied: CFEDemands>=0.4.1 in /opt/conda/lib/python3.9/site-packages (from -r requirements.txt (line 5)) (0.4.1)\n",
      "Requirement already satisfied: gspread>=4.0.1 in /opt/conda/lib/python3.9/site-packages (from -r requirements.txt (line 8)) (4.0.1)\n",
      "Requirement already satisfied: matplotlib>=3.3.4 in /opt/conda/lib/python3.9/site-packages (from -r requirements.txt (line 11)) (3.4.3)\n",
      "Requirement already satisfied: numpy>=1.22.2 in /opt/conda/lib/python3.9/site-packages (from -r requirements.txt (line 15)) (1.22.3)\n",
      "Requirement already satisfied: oauth2client>=4.1.3 in /opt/conda/lib/python3.9/site-packages (from -r requirements.txt (line 18)) (4.1.3)\n",
      "Requirement already satisfied: pandas>=1.4.1 in /opt/conda/lib/python3.9/site-packages (from -r requirements.txt (line 23)) (1.4.2)\n",
      "Requirement already satisfied: plotly>=5.5.0 in /opt/conda/lib/python3.9/site-packages (from -r requirements.txt (line 26)) (5.7.0)\n",
      "Requirement already satisfied: eep153_tools>=0.11 in /opt/conda/lib/python3.9/site-packages (from -r requirements.txt (line 28)) (0.11)\n",
      "Requirement already satisfied: gnupg in /opt/conda/lib/python3.9/site-packages (from -r requirements.txt (line 29)) (2.3.1)\n",
      "Requirement already satisfied: ConsumerDemands in /opt/conda/lib/python3.9/site-packages (from -r requirements.txt (line 31)) (0.3.dev0)\n",
      "Requirement already satisfied: google-auth>=1.12.0 in /opt/conda/lib/python3.9/site-packages (from gspread>=4.0.1->-r requirements.txt (line 8)) (2.6.2)\n",
      "Requirement already satisfied: google-auth-oauthlib>=0.4.1 in /opt/conda/lib/python3.9/site-packages (from gspread>=4.0.1->-r requirements.txt (line 8)) (0.4.5)\n",
      "Requirement already satisfied: cycler>=0.10 in /opt/conda/lib/python3.9/site-packages (from matplotlib>=3.3.4->-r requirements.txt (line 11)) (0.11.0)\n",
      "Requirement already satisfied: kiwisolver>=1.0.1 in /opt/conda/lib/python3.9/site-packages (from matplotlib>=3.3.4->-r requirements.txt (line 11)) (1.4.2)\n",
      "Requirement already satisfied: pyparsing>=2.2.1 in /opt/conda/lib/python3.9/site-packages (from matplotlib>=3.3.4->-r requirements.txt (line 11)) (3.0.7)\n",
      "Requirement already satisfied: python-dateutil>=2.7 in /opt/conda/lib/python3.9/site-packages (from matplotlib>=3.3.4->-r requirements.txt (line 11)) (2.8.0)\n",
      "Requirement already satisfied: pillow>=6.2.0 in /opt/conda/lib/python3.9/site-packages (from matplotlib>=3.3.4->-r requirements.txt (line 11)) (8.3.2)\n",
      "Requirement already satisfied: rsa>=3.1.4 in /opt/conda/lib/python3.9/site-packages (from oauth2client>=4.1.3->-r requirements.txt (line 18)) (4.8)\n",
      "Requirement already satisfied: pyasn1-modules>=0.0.5 in /opt/conda/lib/python3.9/site-packages (from oauth2client>=4.1.3->-r requirements.txt (line 18)) (0.2.8)\n",
      "Requirement already satisfied: httplib2>=0.9.1 in /opt/conda/lib/python3.9/site-packages (from oauth2client>=4.1.3->-r requirements.txt (line 18)) (0.20.4)\n",
      "Requirement already satisfied: pyasn1>=0.1.7 in /opt/conda/lib/python3.9/site-packages (from oauth2client>=4.1.3->-r requirements.txt (line 18)) (0.4.8)\n",
      "Requirement already satisfied: six>=1.6.1 in /opt/conda/lib/python3.9/site-packages (from oauth2client>=4.1.3->-r requirements.txt (line 18)) (1.16.0)\n",
      "Requirement already satisfied: pytz>=2020.1 in /opt/conda/lib/python3.9/site-packages (from pandas>=1.4.1->-r requirements.txt (line 23)) (2021.1)\n",
      "Requirement already satisfied: tenacity>=6.2.0 in /opt/conda/lib/python3.9/site-packages (from plotly>=5.5.0->-r requirements.txt (line 26)) (8.0.1)\n",
      "Requirement already satisfied: psutil>=1.2.1 in /opt/conda/lib/python3.9/site-packages (from gnupg->-r requirements.txt (line 29)) (5.9.0)\n",
      "Requirement already satisfied: cachetools<6.0,>=2.0.0 in /opt/conda/lib/python3.9/site-packages (from google-auth>=1.12.0->gspread>=4.0.1->-r requirements.txt (line 8)) (5.0.0)\n",
      "Requirement already satisfied: requests-oauthlib>=0.7.0 in /opt/conda/lib/python3.9/site-packages (from google-auth-oauthlib>=0.4.1->gspread>=4.0.1->-r requirements.txt (line 8)) (1.3.1)\n",
      "Requirement already satisfied: requests>=2.0.0 in /opt/conda/lib/python3.9/site-packages (from requests-oauthlib>=0.7.0->google-auth-oauthlib>=0.4.1->gspread>=4.0.1->-r requirements.txt (line 8)) (2.26.0)\n",
      "Requirement already satisfied: oauthlib>=3.0.0 in /opt/conda/lib/python3.9/site-packages (from requests-oauthlib>=0.7.0->google-auth-oauthlib>=0.4.1->gspread>=4.0.1->-r requirements.txt (line 8)) (3.2.0)\n",
      "Requirement already satisfied: idna<4,>=2.5; python_version >= \"3\" in /opt/conda/lib/python3.9/site-packages (from requests>=2.0.0->requests-oauthlib>=0.7.0->google-auth-oauthlib>=0.4.1->gspread>=4.0.1->-r requirements.txt (line 8)) (2.8)\n",
      "Requirement already satisfied: urllib3<1.27,>=1.21.1 in /opt/conda/lib/python3.9/site-packages (from requests>=2.0.0->requests-oauthlib>=0.7.0->google-auth-oauthlib>=0.4.1->gspread>=4.0.1->-r requirements.txt (line 8)) (1.25.7)\n",
      "Requirement already satisfied: charset-normalizer~=2.0.0; python_version >= \"3\" in /opt/conda/lib/python3.9/site-packages (from requests>=2.0.0->requests-oauthlib>=0.7.0->google-auth-oauthlib>=0.4.1->gspread>=4.0.1->-r requirements.txt (line 8)) (2.0.0)\n",
      "Requirement already satisfied: certifi>=2017.4.17 in /opt/conda/lib/python3.9/site-packages (from requests>=2.0.0->requests-oauthlib>=0.7.0->google-auth-oauthlib>=0.4.1->gspread>=4.0.1->-r requirements.txt (line 8)) (2019.11.28)\n",
      "Requirement already satisfied: eep153_tools in /opt/conda/lib/python3.9/site-packages (0.11)\n"
     ]
    }
   ],
   "source": [
    "!pip install -r requirements.txt\n",
    "!pip install eep153_tools\n",
    "\n",
    "import cfe\n",
    "import pandas as pd\n",
    "import numpy as np\n",
    "import matplotlib.pyplot as plt"
   ]
  },
  {
   "cell_type": "code",
   "execution_count": 23,
   "metadata": {},
   "outputs": [],
   "source": [
    "sheet = '1KjQu6ngxR_qxETh9Wx9f9ZmijMVkkevV'\n",
    "\n",
    "InputFiles = {'Expenditures':(sheet,'Expenditures'),\n",
    "               'Consumption':(sheet,'Quantities'),\n",
    "               'HH Characteristics':(sheet,'HH Characteristics'),\n",
    "               'FCT':(sheet,'FCT')}\n",
    "\n",
    "quant = pd.read_excel('Bukidnon 2003.xlsx',sheet_name='Quantities')\n",
    "hh = pd.read_excel('Bukidnon 2003.xlsx',sheet_name='HH Characteristics')\n",
    "expend = pd.read_excel('Bukidnon 2003.xlsx',sheet_name ='Expenditures')\n",
    "nut = pd.read_excel('Bukidnon 2003.xlsx',sheet_name='FCT')"
   ]
  },
  {
   "cell_type": "code",
   "execution_count": 24,
   "metadata": {},
   "outputs": [
    {
     "data": {
      "text/plain": [
       "i\n",
       "Bagoong                          0.037190\n",
       "Banana                           0.021401\n",
       "Beef                             0.135031\n",
       "Carrots                          0.027822\n",
       "Chicken                          0.097764\n",
       "Coffee                           0.732034\n",
       "Cooking oil                      0.038578\n",
       "Eggs                             0.092641\n",
       "Food made from flour             0.016472\n",
       "Fresh fish                       0.046502\n",
       "Mangoes                          0.045497\n",
       "Milk                             0.277523\n",
       "Milo                             0.217887\n",
       "Mongo and other products         0.038700\n",
       "Onions                           0.043971\n",
       "Peanut                           0.170558\n",
       "Pork                             0.102934\n",
       "Potato                           0.028599\n",
       "Processed meat like longanisa    0.144143\n",
       "Rice                             0.021202\n",
       "Salt                             0.015549\n",
       "Sardines                         0.078127\n",
       "Sea weed                         0.035359\n",
       "Soybean and other products       0.024932\n",
       "Squash                           0.010688\n",
       "Sugar                            0.023728\n",
       "Sweet potato                     0.009735\n",
       "Talong                           0.015475\n",
       "Tomatoes                         0.023721\n",
       "Name: i, dtype: float64"
      ]
     },
     "execution_count": 24,
     "metadata": {},
     "output_type": "execute_result"
    }
   ],
   "source": [
    "r = cfe.result.from_dataset('BUK.ds',engine='netcdf4')\n",
    "\n",
    "# Energy                            16833.092949\n",
    "# Protein                             377.781250\n",
    "# Fiber, total dietary                235.663301\n",
    "# Folate, DFE                        3269.930070\n",
    "# Calcium, Ca                       10256.366550\n",
    "# Carbohydrate, by difference        1179.924242\n",
    "# Iron, Fe                            127.491987\n",
    "# Magnesium, Mg                      2703.273237\n",
    "# Niacin                              119.561407\n",
    "# Phosphorus, P                      8294.908217\n",
    "# Potassium, K                      41382.808858\n",
    "# Riboflavin                            9.158257\n",
    "# Thiamin                               9.062063\n",
    "# Vitamin A, RAE                     6074.264277\n",
    "# Vitamin B-12                         19.619580\n",
    "# Vitamin B-6                          10.420531\n",
    "# Vitamin C, total ascorbic acid      569.168124\n",
    "# Vitamin E (alpha-tocopherol)        121.720862\n",
    "# Vitamin K (phylloquinone)           706.475816\n",
    "# Zinc, Zn\n",
    "\n",
    "# Reference period, market\n",
    "t,m = 2003, 'Bukidnon'\n",
    "\n",
    "# Reference budget (find mean in reference period & market):\n",
    "reference_x = r.get_predicted_expenditures().mean('j').sum('i').sel(m=m)\n",
    "\n",
    "p = r.prices.sel(m=m,drop=True)\n",
    "p = p.to_dataframe('i').squeeze().dropna()\n",
    "p = p.xs(2003.,level='variable')\n",
    "p\n",
    "\n",
    "#lwith this notebook we are looking at min of nutrients per household\n",
    "#allows getting rid of different units for measuring and think ab ratio instead"
   ]
  },
  {
   "cell_type": "markdown",
   "metadata": {},
   "source": [
    "## Nutritional requirements\n",
    "\n"
   ]
  },
  {
   "cell_type": "markdown",
   "metadata": {},
   "source": [
    "Individuals have nutritional requirements established by nutrition\n",
    "scientists.  Here are some standards established by the Indian\n",
    "National Institute of Nutrition:\n",
    "\n"
   ]
  },
  {
   "cell_type": "markdown",
   "metadata": {},
   "source": [
    "### Nutritional Needs of individuals\n",
    "\n"
   ]
  },
  {
   "cell_type": "markdown",
   "metadata": {},
   "source": [
    "#### Recommended Daily Allowances: India\n",
    "\n"
   ]
  },
  {
   "cell_type": "markdown",
   "metadata": {},
   "source": [
    "| Sex-Age|Calories|Protein|Fat|Calcium|Iron|Betacarotene|Thiamine|Riboflavin|Niacin|Ascorbic Acid|\n",
    "|---|---|---|---|---|---|---|---|---|---|---|\n",
    "| C 0-0.5||||500|||.2|.3||25|\n",
    "| C 0.5-1|||19|500|5|2800|.3|.4||25|\n",
    "| C 1-3|1060|16.7|27|600|9|3200|.5|.6|8|40|\n",
    "| C 4-6|1350|20.1|25|600|13|3200|.7|.8|11|40|\n",
    "| C 7-9|1690|29.5|30|600|16|4800|.8|1.|13|40|\n",
    "| B 10-12|2190|39.9|35|800|21|4800|1.1|1.3|15|40|\n",
    "| G 10-12|2010|40.4|35|800|27|4800|1.|1.2|13|40|\n",
    "| B 13-15|2750|54.3|45|800|32|4800|1.4|1.6|16|40|\n",
    "| G 13-15|2330|51.9|40|800|27|4800|1.2|1.4|14|40|\n",
    "| B 16-17|3020|61.5|50|800|28|4800|1.5|1.8|17|40|\n",
    "| G 16-17|2440|55.5|35|800|26|4800|1.|1.2|14|40|\n",
    "| M|2730|60|30|600|17|4800|1.4|1.4|18|40|\n",
    "| W|2230|55|25|1200|21|4800|1.1|1.3|14|40|\n",
    "\n"
   ]
  },
  {
   "cell_type": "markdown",
   "metadata": {},
   "source": [
    "### Nutritional Needs of Households\n",
    "\n"
   ]
  },
  {
   "cell_type": "markdown",
   "metadata": {},
   "source": [
    "Our data on demand and nutrients is at the *household* level; we\n",
    "   can&rsquo;t directly compare household level nutrition with individual\n",
    "   level requirements.  What we **can** do is add up minimum individual\n",
    "   requirements, and see whether household total exceed these.  This\n",
    "   isn&rsquo;t a guarantee that all individuals have adequate nutrition\n",
    "   (since the way food is allocated in the household might be quite\n",
    "   unequal, or unrelated to individual requirements), but it is\n",
    "   *necessary* if all individuals are to have adequate nutrition.\n",
    "\n",
    "For the average household in the ICRISAT villages, the number of\n",
    "different kinds of people can be computed by averaging over households:\n",
    "\n"
   ]
  },
  {
   "cell_type": "code",
   "execution_count": 25,
   "metadata": {},
   "outputs": [
    {
     "data": {
      "text/plain": [
       "k\n",
       "Males 0-1         0.094406\n",
       "Males 1-5         0.276224\n",
       "Males 5-10        0.255245\n",
       "Males 10-15       0.323427\n",
       "Males 15-20       0.363636\n",
       "Males 20-30       0.973776\n",
       "Males 30-50       0.858392\n",
       "Males 50-60       0.208042\n",
       "Males 60-100      0.162587\n",
       "Females 0-1       0.073427\n",
       "Females 1-5       0.232517\n",
       "Females 5-10      0.284965\n",
       "Females 10-15     0.305944\n",
       "Females 15-20     0.368881\n",
       "Females 20-30     0.809441\n",
       "Females 30-50     0.802448\n",
       "Females 50-60     0.222028\n",
       "Females 60-100    0.134615\n",
       "Name: z, dtype: float64"
      ]
     },
     "execution_count": 25,
     "metadata": {},
     "output_type": "execute_result"
    }
   ],
   "source": [
    "# In first round, averaged over households and villages\n",
    "\n",
    "zbar = r.z.sel(t=r.firstround,drop=True).mean(['j','m'])[:-1].squeeze() # Leave out log HSize\n",
    "\n",
    "zbar = zbar.to_dataframe().squeeze()\n",
    "zbar"
   ]
  },
  {
   "cell_type": "markdown",
   "metadata": {},
   "source": [
    "Now, the inner/dot/matrix product between `zbar` and the `rda`\n",
    "DataFrame of requirements will give us minimum requirements for the\n",
    "average household:\n",
    "\n"
   ]
  },
  {
   "cell_type": "code",
   "execution_count": 26,
   "metadata": {},
   "outputs": [
    {
     "data": {
      "text/plain": [
       "Nutrition\n",
       "Energy                            16833.092949\n",
       "Protein                             377.781250\n",
       "Fiber, total dietary                235.663301\n",
       "Folate, DFE                        3269.930070\n",
       "Calcium, Ca                       10256.366550\n",
       "Carbohydrate, by difference        1179.924242\n",
       "Iron, Fe                            127.491987\n",
       "Magnesium, Mg                      2703.273237\n",
       "Niacin                              119.561407\n",
       "Phosphorus, P                      8294.908217\n",
       "Potassium, K                      41382.808858\n",
       "Riboflavin                            9.158257\n",
       "Thiamin                               9.062063\n",
       "Vitamin A, RAE                     6074.264277\n",
       "Vitamin B-12                         19.619580\n",
       "Vitamin B-6                          10.420531\n",
       "Vitamin C, total ascorbic acid      569.168124\n",
       "Vitamin E (alpha-tocopherol)        121.720862\n",
       "Vitamin K (phylloquinone)           706.475816\n",
       "Zinc, Zn                             74.027244\n",
       "dtype: float64"
      ]
     },
     "execution_count": 26,
     "metadata": {},
     "output_type": "execute_result"
    }
   ],
   "source": [
    "rda = pd.read_csv('diet_minimums.csv').set_index('Nutrition').iloc[:,2:]\n",
    "\n",
    "zbar['Boys'] = zbar['Males 5-10']*5/15 + zbar['Males 10-15']*5/15 + zbar['Males 15-20'] * 5/15\n",
    "zbar['Girls'] = zbar['Females 5-10']*5/15 + zbar['Females 10-15']*5/15 + zbar ['Females 15-20'] * 5/15\n",
    "zbar['Mothers'] = zbar['Females 15-20']*5/15 + zbar['Females 20-30']*10/15\n",
    "\n",
    "rda['Boys'] = rda['M 4-8']*4/16 + rda['M 9-13']*5/16 + rda['M 14-18']*5/16 + rda['M 19-30']*2/16\n",
    "rda['Girls'] = rda['F 4-8']*4/16 + rda['F 9-13']*5/16 + rda['F 14-18']*5/16 + rda['F 19-30']*2/16\n",
    "rda['Mothers'] = rda['F 14-18']*4/16 + rda['F 19-30']*12/16\n",
    "\n",
    "zbar = zbar[['Boys', 'Girls', 'Mothers']]\n",
    "rda = rda[['Boys', 'Girls', 'Mothers']]\n",
    "# May need to tweak types or alignment to match RDA and zbar types:\n",
    "rda0,zbar0=rda.align(zbar,axis=1)\n",
    "# This matrix product gives minimum nutrient requirements for average\n",
    "# household in 1975\n",
    "hh_rda = rda0.replace('',0)@zbar0\n",
    "# RDA is /daily/, but  demands in BUK data are /weekly/:\n",
    "hh_rda = hh_rda*7\n",
    "hh_rda"
   ]
  },
  {
   "cell_type": "markdown",
   "metadata": {},
   "source": [
    "## Nutritional Adequacy of Food Demands\n",
    "\n"
   ]
  },
  {
   "cell_type": "markdown",
   "metadata": {},
   "source": [
    "### Food Conversion Table\n",
    "\n"
   ]
  },
  {
   "cell_type": "markdown",
   "metadata": {},
   "source": [
    "As usual, we need data to convert foods to nutrients:\n",
    "\n"
   ]
  },
  {
   "cell_type": "code",
   "execution_count": 27,
   "metadata": {},
   "outputs": [],
   "source": [
    "UseNutrients=['calorie','protein','calcium','carbo','iron']"
   ]
  },
  {
   "cell_type": "code",
   "execution_count": 28,
   "metadata": {},
   "outputs": [],
   "source": [
    "from eep153_tools.sheets import read_sheets\n",
    "\n",
    "# DataURL = 'https://docs.google.com/spreadsheets/d/13Ig5hZif-NSHtgkKRp_cEgKXk0lOsdUB2BAD6O_FnRo'\n",
    "# key = DataURL.split('/')[-1]\n",
    "\n",
    "# fct = read_sheets(key,sheet='FCT').set_index('i')\n",
    "\n",
    "fct = nut.iloc[:,3:]\n",
    "fct['i'] = fct['name']\n",
    "fct = fct.set_index('i').iloc[:,1:]\n",
    "\n",
    "# Select only desired nutrients from the fct table\n",
    "fct = fct[UseNutrients]\n",
    "\n",
    "# Rename and select desired nutrients from the hh_rda series\n",
    "hh_rda = hh_rda[['Energy','Protein','Calcium, Ca','Carbohydrate, by difference','Iron, Fe']]\n",
    "hh_rda = hh_rda.rename({'Energy':'calorie','Protein':'protein','Calcium, Ca':'calcium',\n",
    "                        'Carbohydrate, by difference':'carbo','Iron, Fe':'iron'})"
   ]
  },
  {
   "cell_type": "code",
   "execution_count": 29,
   "metadata": {},
   "outputs": [
    {
     "data": {
      "text/plain": [
       "Nutrition\n",
       "calorie    16833.092949\n",
       "protein      377.781250\n",
       "calcium    10256.366550\n",
       "carbo       1179.924242\n",
       "iron         127.491987\n",
       "dtype: float64"
      ]
     },
     "execution_count": 29,
     "metadata": {},
     "output_type": "execute_result"
    }
   ],
   "source": [
    "hh_rda"
   ]
  },
  {
   "cell_type": "code",
   "execution_count": 52,
   "metadata": {},
   "outputs": [],
   "source": [
    "# fct['calcium'].sort_values(ascending=False)"
   ]
  },
  {
   "cell_type": "code",
   "execution_count": 53,
   "metadata": {},
   "outputs": [],
   "source": [
    "# fct['iron'].sort_values(ascending=False)"
   ]
  },
  {
   "cell_type": "code",
   "execution_count": 54,
   "metadata": {},
   "outputs": [],
   "source": [
    "# fct['protein'].sort_values(ascending=False)"
   ]
  },
  {
   "cell_type": "code",
   "execution_count": 55,
   "metadata": {},
   "outputs": [],
   "source": [
    "# fct['carbo'].sort_values(ascending=False)"
   ]
  },
  {
   "cell_type": "code",
   "execution_count": 56,
   "metadata": {},
   "outputs": [],
   "source": [
    "# fct['calorie'].sort_values(ascending=False)"
   ]
  },
  {
   "cell_type": "markdown",
   "metadata": {},
   "source": [
    "### Prices\n",
    "\n"
   ]
  },
  {
   "cell_type": "code",
   "execution_count": 35,
   "metadata": {},
   "outputs": [],
   "source": [
    "def my_prices(p0,p=p,i='Coconut'):\n",
    "    p = p.copy()\n",
    "    p.loc[i] = p0\n",
    "    return p"
   ]
  },
  {
   "cell_type": "code",
   "execution_count": 36,
   "metadata": {},
   "outputs": [],
   "source": [
    "# myp = p.xs(2003.,level='variable')\n",
    "# myp"
   ]
  },
  {
   "cell_type": "markdown",
   "metadata": {},
   "source": [
    "### Nutrient Demand\n",
    "\n"
   ]
  },
  {
   "cell_type": "markdown",
   "metadata": {},
   "source": [
    "We can also use our demand functions to\n",
    " compute nutrition as a *function* of prices and budget.\n",
    "\n"
   ]
  },
  {
   "cell_type": "code",
   "execution_count": 44,
   "metadata": {},
   "outputs": [],
   "source": [
    "import warnings \n",
    "\n",
    "def nutrient_demand(x,p):\n",
    "    with warnings.catch_warnings():\n",
    "        warnings.simplefilter(\"ignore\")\n",
    "    c = r.demands(x,p)    \n",
    "    \n",
    "#     print(c.index.intersection(fct.index))\n",
    "\n",
    "    fct0,c0 = fct.align(c,axis=0,join='inner')\n",
    "    \n",
    "    N = fct0.T@c0\n",
    "\n",
    "    N = N.loc[~N.index.duplicated()]\n",
    "    \n",
    "    return N"
   ]
  },
  {
   "cell_type": "markdown",
   "metadata": {},
   "source": [
    "With this `nutrient_demand` function in hand, we can see how nutrient\n",
    " outcomes vary with budget, given prices:\n",
    "\n"
   ]
  },
  {
   "cell_type": "code",
   "execution_count": 61,
   "metadata": {},
   "outputs": [],
   "source": [
    "# my_prices(3,p,i='Rice')"
   ]
  },
  {
   "cell_type": "code",
   "execution_count": 72,
   "metadata": {},
   "outputs": [],
   "source": [
    "# #just checking things\n",
    "# np.log(nutrient_demand(X[0],my_prices(3,p,i='Potato')))[UseNutrients]\n",
    "#pd.concat([np.log(nutrient_demand(myx,p))[UseNutrients] for myx in X],axis=1)"
   ]
  },
  {
   "cell_type": "code",
   "execution_count": 40,
   "metadata": {},
   "outputs": [],
   "source": [
    "# %debug"
   ]
  },
  {
   "cell_type": "code",
   "execution_count": 45,
   "metadata": {},
   "outputs": [
    {
     "data": {
      "text/plain": [
       "Text(0, 0.5, 'log nutrient')"
      ]
     },
     "execution_count": 45,
     "metadata": {},
     "output_type": "execute_result"
    },
    {
     "data": {
      "image/png": "[encoded data removed]",
      "text/plain": [
       "<Figure size 432x288 with 1 Axes>"
      ]
     },
     "metadata": {
      "needs_background": "light"
     },
     "output_type": "display_data"
    }
   ],
   "source": [
    "%matplotlib inline\n",
    "import numpy as np\n",
    "import matplotlib.pyplot as plt\n",
    "\n",
    "X = np.linspace(reference_x/5,reference_x*5,50)\n",
    "\n",
    "# UseNutrients=['Energy','Protein','Carbohydrate, by difference','Iron, Fe','Vitamin A, RAE','Vitamin B-12']\n",
    "# calorie\tprotein\tfat\tcarbo\tfiber\tash\tcalcium\tphos\tiron\n",
    "# UseNutrients=['calorie','protein','carbo','calcium','iron']\n",
    "\n",
    "# wanted Vitamin A/B-12 and carbs but not there\n",
    "\n",
    "# df = pd.concat({myx:np.log(nutrient_demand(myx,p))[UseNutrients] for myx in X},axis=1).T\n",
    "df = pd.concat([np.log(nutrient_demand(myx,p))[UseNutrients] for myx in X],axis=1).T\n",
    "ax = df.plot()\n",
    "\n",
    "ax.set_xlabel('log budget')\n",
    "ax.set_ylabel('log nutrient')"
   ]
  },
  {
   "cell_type": "markdown",
   "metadata": {},
   "source": [
    "Now how does nutrition vary with prices?\n",
    "\n"
   ]
  },
  {
   "cell_type": "code",
   "execution_count": 88,
   "metadata": {},
   "outputs": [
    {
     "data": {
      "text/plain": [
       "Text(0.5, 1.0, 'Sardines')"
      ]
     },
     "execution_count": 88,
     "metadata": {},
     "output_type": "execute_result"
    },
    {
     "data": {
      "image/png": "[encoded data removed]",
      "text/plain": [
       "<Figure size 432x288 with 1 Axes>"
      ]
     },
     "metadata": {
      "needs_background": "light"
     },
     "output_type": "display_data"
    }
   ],
   "source": [
    "USE_GOOD = 'Sardines' # Also try Rice and Potato\n",
    "\n",
    "# ref_price = r.prices.sel(i=USE_GOOD,m=m,drop=True)\n",
    "\n",
    "P = np.linspace(1,5,20).tolist()\n",
    "\n",
    "ndf = pd.DataFrame({p0:np.log(nutrient_demand(reference_x,my_prices(p0,i=USE_GOOD)))[UseNutrients] for p0 in P}).T\n",
    "# rice = pd.DataFrame({p0:np.log(r.demands(reference_x,my_prices(p0,p=myp,i=USE_GOOD)))['Rice'] for p0 in P}).T\n",
    "ax = ndf.plot()\n",
    "\n",
    "ax.set_xlabel('Price')\n",
    "ax.set_ylabel('log nutrient')\n",
    "ax.set_title(USE_GOOD)"
   ]
  },
  {
   "cell_type": "code",
   "execution_count": null,
   "metadata": {},
   "outputs": [],
   "source": [
    "# np.log(r.demands(reference_x,my_prices(34,p=myp,i=USE_GOOD)))['Rice']"
   ]
  },
  {
   "cell_type": "markdown",
   "metadata": {},
   "source": [
    "### Nutritional Adequacy\n",
    "\n"
   ]
  },
  {
   "cell_type": "markdown",
   "metadata": {},
   "source": [
    "Since we can trace out demands for nutrients as a function of $(x,p)$,\n",
    "and we&rsquo;ve computed minimum nutritional requirements for the average\n",
    "household, we can *normalize* nutritional intake to check the adequacy\n",
    "of diet.\n",
    "\n"
   ]
  },
  {
   "cell_type": "code",
   "execution_count": 76,
   "metadata": {},
   "outputs": [],
   "source": [
    "def nutrient_adequacy_ratio(x,p):\n",
    "    return nutrient_demand(x,p)/hh_rda"
   ]
  },
  {
   "cell_type": "markdown",
   "metadata": {},
   "source": [
    "In terms of normalized nutrients, any household with more than one\n",
    "unit of any given nutrient (or zero in logs) will be consuming a\n",
    "minimally adequate level of the nutrient; below this level there&rsquo;s\n",
    "clearly nutritional inadequacy.  For this reason the ratio of\n",
    "actual nutrients to required nutrients is termed the &ldquo;nutrient\n",
    "adequacy ratio,&rdquo; or NAR.\n",
    "\n"
   ]
  },
  {
   "cell_type": "code",
   "execution_count": 77,
   "metadata": {},
   "outputs": [
    {
     "data": {
      "text/plain": [
       "<matplotlib.lines.Line2D at 0x7f9f2841e130>"
      ]
     },
     "execution_count": 77,
     "metadata": {},
     "output_type": "execute_result"
    },
    {
     "data": {
      "image/png": "[encoded data removed]",
      "text/plain": [
       "<Figure size 432x288 with 1 Axes>"
      ]
     },
     "metadata": {
      "needs_background": "light"
     },
     "output_type": "display_data"
    }
   ],
   "source": [
    "X = np.linspace(reference_x/5,reference_x*5,50)\n",
    "\n",
    "# ndf = pd.concat({x:np.log(nutrient_adequacy_ratio(x,p))[UseNutrients] for x in X},axis=1).T\n",
    "ndf = pd.concat([np.log(nutrient_adequacy_ratio(x,p))[UseNutrients] for x in X],axis=1).T\n",
    "\n",
    "ax = ndf.plot()\n",
    "\n",
    "ax.set_xlabel('log budget')\n",
    "ax.set_ylabel('log nutrient adequacy ratio')\n",
    "ax.axhline(0)"
   ]
  },
  {
   "cell_type": "markdown",
   "metadata": {},
   "source": [
    "As before, we can also vary relative prices.  Here we trace out\n",
    "nutritional adequacy varying the price of a single good:\n",
    "\n"
   ]
  },
  {
   "cell_type": "code",
   "execution_count": 90,
   "metadata": {},
   "outputs": [
    {
     "data": {
      "text/plain": [
       "Text(0.5, 1.0, 'Sardines')"
      ]
     },
     "execution_count": 90,
     "metadata": {},
     "output_type": "execute_result"
    },
    {
     "data": {
      "image/png": "[encoded data removed]",
      "text/plain": [
       "<Figure size 432x288 with 1 Axes>"
      ]
     },
     "metadata": {
      "needs_background": "light"
     },
     "output_type": "display_data"
    }
   ],
   "source": [
    "USE_GOOD = 'Sardines'\n",
    "\n",
    "poorer_x = reference_x/2\n",
    "\n",
    "Pscale = np.linspace(1,3,20).tolist()\n",
    "\n",
    "# log_nar = {s0:np.log(nutrient_adequacy_ratio(reference_x,my_prices(s0,p,i=USE_GOOD)))[UseNutrients] for s0 in Pscale}\n",
    "log_nar = [np.log(nutrient_adequacy_ratio(reference_x,my_prices(s0,p,i=USE_GOOD)))[UseNutrients] \n",
    "           for s0 in Pscale]\n",
    "\n",
    "log_nar = pd.DataFrame(log_nar) \n",
    "\n",
    "ax = log_nar.plot(ylabel='log NAR',xlabel='Price')\n",
    "\n",
    "\n",
    "ax.axhline(0)\n",
    "ax.axvline(p[USE_GOOD])\n",
    "ax.set_title(USE_GOOD)"
   ]
  },
  {
   "cell_type": "code",
   "execution_count": null,
   "metadata": {},
   "outputs": [],
   "source": []
  },
  {
   "cell_type": "code",
   "execution_count": null,
   "metadata": {},
   "outputs": [],
   "source": []
  },
  {
   "cell_type": "code",
   "execution_count": null,
   "metadata": {},
   "outputs": [],
   "source": []
  }
 ],
 "metadata": {
  "kernelspec": {
   "display_name": "Python 3 (ipykernel)",
   "language": "python",
   "name": "python3"
  },
  "language_info": {
   "codemirror_mode": {
    "name": "ipython",
    "version": 3
   },
   "file_extension": ".py",
   "mimetype": "text/x-python",
   "name": "python",
   "nbconvert_exporter": "python",
   "pygments_lexer": "ipython3",
   "version": "3.9.12"
  },
  "org": null
 },
 "nbformat": 4,
 "nbformat_minor": 1
}
