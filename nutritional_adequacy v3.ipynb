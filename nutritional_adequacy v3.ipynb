{
 "cells": [
  {
   "cell_type": "markdown",
   "metadata": {},
   "source": [
    "## Preface\n",
    "\n"
   ]
  },
  {
   "cell_type": "code",
   "execution_count": 1,
   "metadata": {},
   "outputs": [
    {
     "name": "stdout",
     "output_type": "stream",
     "text": [
      "Collecting CFEDemands>=0.4.1\n",
      "  Using cached CFEDemands-0.4.1-py2.py3-none-any.whl (39 kB)\n",
      "Requirement already satisfied: gspread>=4.0.1 in /opt/conda/lib/python3.9/site-packages (from -r requirements.txt (line 8)) (4.0.1)\n",
      "Requirement already satisfied: matplotlib>=3.3.4 in /opt/conda/lib/python3.9/site-packages (from -r requirements.txt (line 11)) (3.4.3)\n",
      "Collecting numpy>=1.22.2\n",
      "  Using cached numpy-1.22.3-cp39-cp39-manylinux_2_17_x86_64.manylinux2014_x86_64.whl (16.8 MB)\n",
      "Collecting oauth2client>=4.1.3\n",
      "  Using cached oauth2client-4.1.3-py2.py3-none-any.whl (98 kB)\n",
      "Collecting pandas>=1.4.1\n",
      "  Using cached pandas-1.4.2-cp39-cp39-manylinux_2_17_x86_64.manylinux2014_x86_64.whl (11.7 MB)\n",
      "Collecting plotly>=5.5.0\n",
      "  Using cached plotly-5.7.0-py2.py3-none-any.whl (28.8 MB)\n",
      "Collecting eep153_tools>=0.11\n",
      "  Using cached eep153_tools-0.11-py2.py3-none-any.whl (4.4 kB)\n",
      "Processing /home/jovyan/.cache/pip/wheels/20/7e/30/7d702acd6a1e89911301cd9dbf9cb9870ca80c0e64bc2cde23/gnupg-2.3.1-py3-none-any.whl\n",
      "Collecting ConsumerDemands\n",
      "  Using cached ConsumerDemands-0.3.dev0-py2.py3-none-any.whl (12 kB)\n",
      "Requirement already satisfied: google-auth-oauthlib>=0.4.1 in /opt/conda/lib/python3.9/site-packages (from gspread>=4.0.1->-r requirements.txt (line 8)) (0.4.5)\n",
      "Requirement already satisfied: google-auth>=1.12.0 in /opt/conda/lib/python3.9/site-packages (from gspread>=4.0.1->-r requirements.txt (line 8)) (2.6.2)\n",
      "Requirement already satisfied: python-dateutil>=2.7 in /opt/conda/lib/python3.9/site-packages (from matplotlib>=3.3.4->-r requirements.txt (line 11)) (2.8.0)\n",
      "Requirement already satisfied: pillow>=6.2.0 in /opt/conda/lib/python3.9/site-packages (from matplotlib>=3.3.4->-r requirements.txt (line 11)) (8.3.2)\n",
      "Requirement already satisfied: kiwisolver>=1.0.1 in /opt/conda/lib/python3.9/site-packages (from matplotlib>=3.3.4->-r requirements.txt (line 11)) (1.4.2)\n",
      "Requirement already satisfied: pyparsing>=2.2.1 in /opt/conda/lib/python3.9/site-packages (from matplotlib>=3.3.4->-r requirements.txt (line 11)) (3.0.7)\n",
      "Requirement already satisfied: cycler>=0.10 in /opt/conda/lib/python3.9/site-packages (from matplotlib>=3.3.4->-r requirements.txt (line 11)) (0.11.0)\n",
      "Requirement already satisfied: six>=1.6.1 in /opt/conda/lib/python3.9/site-packages (from oauth2client>=4.1.3->-r requirements.txt (line 18)) (1.16.0)\n",
      "Requirement already satisfied: pyasn1-modules>=0.0.5 in /opt/conda/lib/python3.9/site-packages (from oauth2client>=4.1.3->-r requirements.txt (line 18)) (0.2.8)\n",
      "Requirement already satisfied: pyasn1>=0.1.7 in /opt/conda/lib/python3.9/site-packages (from oauth2client>=4.1.3->-r requirements.txt (line 18)) (0.4.8)\n",
      "Requirement already satisfied: httplib2>=0.9.1 in /opt/conda/lib/python3.9/site-packages (from oauth2client>=4.1.3->-r requirements.txt (line 18)) (0.20.4)\n",
      "Requirement already satisfied: rsa>=3.1.4 in /opt/conda/lib/python3.9/site-packages (from oauth2client>=4.1.3->-r requirements.txt (line 18)) (4.8)\n",
      "Requirement already satisfied: pytz>=2020.1 in /opt/conda/lib/python3.9/site-packages (from pandas>=1.4.1->-r requirements.txt (line 23)) (2021.1)\n",
      "Requirement already satisfied: tenacity>=6.2.0 in /opt/conda/lib/python3.9/site-packages (from plotly>=5.5.0->-r requirements.txt (line 26)) (8.0.1)\n",
      "Requirement already satisfied: psutil>=1.2.1 in /opt/conda/lib/python3.9/site-packages (from gnupg->-r requirements.txt (line 29)) (5.9.0)\n",
      "Requirement already satisfied: requests-oauthlib>=0.7.0 in /opt/conda/lib/python3.9/site-packages (from google-auth-oauthlib>=0.4.1->gspread>=4.0.1->-r requirements.txt (line 8)) (1.3.1)\n",
      "Requirement already satisfied: cachetools<6.0,>=2.0.0 in /opt/conda/lib/python3.9/site-packages (from google-auth>=1.12.0->gspread>=4.0.1->-r requirements.txt (line 8)) (5.0.0)\n",
      "Requirement already satisfied: oauthlib>=3.0.0 in /opt/conda/lib/python3.9/site-packages (from requests-oauthlib>=0.7.0->google-auth-oauthlib>=0.4.1->gspread>=4.0.1->-r requirements.txt (line 8)) (3.2.0)\n",
      "Requirement already satisfied: requests>=2.0.0 in /opt/conda/lib/python3.9/site-packages (from requests-oauthlib>=0.7.0->google-auth-oauthlib>=0.4.1->gspread>=4.0.1->-r requirements.txt (line 8)) (2.26.0)\n",
      "Requirement already satisfied: charset-normalizer~=2.0.0; python_version >= \"3\" in /opt/conda/lib/python3.9/site-packages (from requests>=2.0.0->requests-oauthlib>=0.7.0->google-auth-oauthlib>=0.4.1->gspread>=4.0.1->-r requirements.txt (line 8)) (2.0.0)\n",
      "Requirement already satisfied: certifi>=2017.4.17 in /opt/conda/lib/python3.9/site-packages (from requests>=2.0.0->requests-oauthlib>=0.7.0->google-auth-oauthlib>=0.4.1->gspread>=4.0.1->-r requirements.txt (line 8)) (2019.11.28)\n",
      "Requirement already satisfied: idna<4,>=2.5; python_version >= \"3\" in /opt/conda/lib/python3.9/site-packages (from requests>=2.0.0->requests-oauthlib>=0.7.0->google-auth-oauthlib>=0.4.1->gspread>=4.0.1->-r requirements.txt (line 8)) (2.8)\n",
      "Requirement already satisfied: urllib3<1.27,>=1.21.1 in /opt/conda/lib/python3.9/site-packages (from requests>=2.0.0->requests-oauthlib>=0.7.0->google-auth-oauthlib>=0.4.1->gspread>=4.0.1->-r requirements.txt (line 8)) (1.25.7)\n",
      "Installing collected packages: CFEDemands, numpy, oauth2client, pandas, plotly, eep153-tools, gnupg, ConsumerDemands\n",
      "  Attempting uninstall: numpy\n",
      "    Found existing installation: numpy 1.21.5\n",
      "    Uninstalling numpy-1.21.5:\n",
      "      Successfully uninstalled numpy-1.21.5\n",
      "  Attempting uninstall: pandas\n",
      "    Found existing installation: pandas 1.3.5\n",
      "    Uninstalling pandas-1.3.5:\n",
      "      Successfully uninstalled pandas-1.3.5\n",
      "  Attempting uninstall: plotly\n",
      "    Found existing installation: plotly 5.2.1\n",
      "    Uninstalling plotly-5.2.1:\n",
      "      Successfully uninstalled plotly-5.2.1\n",
      "\u001b[31mERROR: After October 2020 you may experience errors when installing or updating packages. This is because pip will change the way that it resolves dependency conflicts.\n",
      "\n",
      "We recommend you use --use-feature=2020-resolver to test your packages with the new resolver before it becomes the default.\n",
      "\n",
      "tensorflow 2.6.3 requires h5py~=3.1.0, but you'll have h5py 3.3.0 which is incompatible.\n",
      "tensorflow 2.6.3 requires numpy~=1.19.2, but you'll have numpy 1.22.3 which is incompatible.\n",
      "tensorflow 2.6.3 requires six~=1.15.0, but you'll have six 1.16.0 which is incompatible.\n",
      "tensorboard 2.6.0 requires google-auth<2,>=1.6.3, but you'll have google-auth 2.6.2 which is incompatible.\n",
      "pysal 2.5.0 requires urllib3>=1.26, but you'll have urllib3 1.25.7 which is incompatible.\n",
      "pynwb 1.5.1 requires h5py<3,>=2.9, but you'll have h5py 3.3.0 which is incompatible.\n",
      "pynwb 1.5.1 requires hdmf<3,>=2.5.6, but you'll have hdmf 2.4.0 which is incompatible.\n",
      "pynwb 1.5.1 requires numpy<1.21,>=1.16, but you'll have numpy 1.22.3 which is incompatible.\n",
      "pandas 1.4.2 requires python-dateutil>=2.8.1, but you'll have python-dateutil 2.8.0 which is incompatible.\n",
      "numba 0.55.1 requires numpy<1.22,>=1.18, but you'll have numpy 1.22.3 which is incompatible.\n",
      "hdmf 2.4.0 requires h5py<3,>=2.9, but you'll have h5py 3.3.0 which is incompatible.\n",
      "hdmf 2.4.0 requires jsonschema<4,>=2.6.0, but you'll have jsonschema 4.4.0 which is incompatible.\n",
      "hdmf 2.4.0 requires numpy<1.19.4,>=1.16, but you'll have numpy 1.22.3 which is incompatible.\n",
      "fenics-dolfin 2019.1.0 requires pybind11==2.2.4, but you'll have pybind11 2.8.1 which is incompatible.\n",
      "fancyimpute 0.6.0 requires keras==2.4.3, but you'll have keras 2.6.0 which is incompatible.\n",
      "fancyimpute 0.6.0 requires numpy==1.19.5, but you'll have numpy 1.22.3 which is incompatible.\n",
      "fancyimpute 0.6.0 requires scipy==1.6.3, but you'll have scipy 1.7.3 which is incompatible.\n",
      "fancyimpute 0.6.0 requires tensorflow==2.5, but you'll have tensorflow 2.6.3 which is incompatible.\n",
      "csaps 1.0.4 requires numpy<1.21.0,>=1.11.0, but you'll have numpy 1.22.3 which is incompatible.\n",
      "csaps 1.0.4 requires scipy<1.7.0,>=1.0.0, but you'll have scipy 1.7.3 which is incompatible.\n",
      "allensdk 2.12.2 requires aiohttp==3.7.4, but you'll have aiohttp 3.8.1 which is incompatible.\n",
      "allensdk 2.12.2 requires h5py<3.0.0,>=2.8, but you'll have h5py 3.3.0 which is incompatible.\n",
      "allensdk 2.12.2 requires jinja2<2.12.0,>=2.7.3, but you'll have jinja2 3.1.1 which is incompatible.\n",
      "allensdk 2.12.2 requires matplotlib<3.4.3,>=1.4.3, but you'll have matplotlib 3.4.3 which is incompatible.\n",
      "allensdk 2.12.2 requires nest-asyncio==1.2.0, but you'll have nest-asyncio 1.5.4 which is incompatible.\n",
      "allensdk 2.12.2 requires numpy<1.19.0,>=1.15.4, but you'll have numpy 1.22.3 which is incompatible.\n",
      "allensdk 2.12.2 requires pandas<=0.25.3,>=0.25.1, but you'll have pandas 1.4.2 which is incompatible.\n",
      "allensdk 2.12.2 requires scikit-image<0.17.0,>=0.14.0, but you'll have scikit-image 0.18.3 which is incompatible.\n",
      "allensdk 2.12.2 requires xarray<0.16.0, but you'll have xarray 0.19.0 which is incompatible.\u001b[0m\n",
      "Successfully installed CFEDemands-0.4.1 ConsumerDemands-0.3.dev0 eep153-tools-0.11 gnupg-2.3.1 numpy-1.22.3 oauth2client-4.1.3 pandas-1.4.2 plotly-5.7.0\n",
      "Requirement already satisfied: eep153_tools in /opt/conda/lib/python3.9/site-packages (0.11)\n",
      "Missing dependencies for OracleDemands.\n"
     ]
    }
   ],
   "source": [
    "!pip install -r requirements.txt\n",
    "!pip install eep153_tools\n",
    "\n",
    "import cfe\n",
    "import pandas as pd\n",
    "import numpy as np\n",
    "import matplotlib.pyplot as plt"
   ]
  },
  {
   "cell_type": "code",
   "execution_count": 27,
   "metadata": {},
   "outputs": [],
   "source": [
    "sheet = '1KjQu6ngxR_qxETh9Wx9f9ZmijMVkkevV'\n",
    "\n",
    "InputFiles = {'Expenditures':(sheet,'Expenditures'),\n",
    "               'Consumption':(sheet,'Quantities'),\n",
    "               'HH Characteristics':(sheet,'HH Characteristics'),\n",
    "               'FCT':(sheet,'FCT')}\n",
    "\n",
    "quant = pd.read_excel('Bukidnon 2003.xlsx',sheet_name='Quantities')\n",
    "hh = pd.read_excel('Bukidnon 2003.xlsx',sheet_name='HH Characteristics')\n",
    "expend = pd.read_excel('Bukidnon 2003.xlsx',sheet_name ='Expenditures')\n",
    "nut = pd.read_excel('Bukidnon 2003.xlsx',sheet_name='FCT')"
   ]
  },
  {
   "cell_type": "code",
   "execution_count": 72,
   "metadata": {},
   "outputs": [
    {
     "data": {
      "text/plain": [
       "variable  i                            \n",
       "2003.0    Bagoong                          0.037190\n",
       "          Banana                           0.021401\n",
       "          Beef                             0.135031\n",
       "          Carrots                          0.027822\n",
       "          Chicken                          0.097764\n",
       "          Coffee                           0.732034\n",
       "          Cooking oil                      0.038578\n",
       "          Eggs                             0.092641\n",
       "          Food made from flour             0.016472\n",
       "          Fresh fish                       0.046502\n",
       "          Mangoes                          0.045497\n",
       "          Milk                             0.277523\n",
       "          Milo                             0.217887\n",
       "          Mongo and other products         0.038700\n",
       "          Onions                           0.043971\n",
       "          Peanut                           0.170558\n",
       "          Pork                             0.102934\n",
       "          Potato                           0.028599\n",
       "          Processed meat like longanisa    0.144143\n",
       "          Rice                             0.021202\n",
       "          Salt                             0.015549\n",
       "          Sardines                         0.078127\n",
       "          Sea weed                         0.035359\n",
       "          Soybean and other products       0.024932\n",
       "          Squash                           0.010688\n",
       "          Sugar                            0.023728\n",
       "          Sweet potato                     0.009735\n",
       "          Talong                           0.015475\n",
       "          Tomatoes                         0.023721\n",
       "Name: i, dtype: float64"
      ]
     },
     "execution_count": 72,
     "metadata": {},
     "output_type": "execute_result"
    }
   ],
   "source": [
    "r = cfe.result.from_dataset('BUK.ds',engine='netcdf4')\n",
    "\n",
    "# Energy                            16833.092949\n",
    "# Protein                             377.781250\n",
    "# Fiber, total dietary                235.663301\n",
    "# Folate, DFE                        3269.930070\n",
    "# Calcium, Ca                       10256.366550\n",
    "# Carbohydrate, by difference        1179.924242\n",
    "# Iron, Fe                            127.491987\n",
    "# Magnesium, Mg                      2703.273237\n",
    "# Niacin                              119.561407\n",
    "# Phosphorus, P                      8294.908217\n",
    "# Potassium, K                      41382.808858\n",
    "# Riboflavin                            9.158257\n",
    "# Thiamin                               9.062063\n",
    "# Vitamin A, RAE                     6074.264277\n",
    "# Vitamin B-12                         19.619580\n",
    "# Vitamin B-6                          10.420531\n",
    "# Vitamin C, total ascorbic acid      569.168124\n",
    "# Vitamin E (alpha-tocopherol)        121.720862\n",
    "# Vitamin K (phylloquinone)           706.475816\n",
    "# Zinc, Zn\n",
    "\n",
    "# Reference period, market\n",
    "t,m = 2003, 'Bukidnon'\n",
    "\n",
    "# Reference budget (find mean in reference period & market):\n",
    "reference_x = r.get_predicted_expenditures().mean('j').sum('i').sel(m=m)\n",
    "\n",
    "p = r.prices.sel(m=m,drop=True)\n",
    "p = p.to_dataframe('i').squeeze().dropna()\n",
    "p\n",
    "\n",
    "#lwith this notebook we are looking at min of nutrients per household\n",
    "#allows getting rid of different units for measuring and think ab ratio instead"
   ]
  },
  {
   "cell_type": "markdown",
   "metadata": {},
   "source": [
    "## Nutritional requirements\n",
    "\n"
   ]
  },
  {
   "cell_type": "markdown",
   "metadata": {},
   "source": [
    "Individuals have nutritional requirements established by nutrition\n",
    "scientists.  Here are some standards established by the Indian\n",
    "National Institute of Nutrition:\n",
    "\n"
   ]
  },
  {
   "cell_type": "markdown",
   "metadata": {},
   "source": [
    "### Nutritional Needs of individuals\n",
    "\n"
   ]
  },
  {
   "cell_type": "markdown",
   "metadata": {},
   "source": [
    "#### Recommended Daily Allowances: India\n",
    "\n"
   ]
  },
  {
   "cell_type": "markdown",
   "metadata": {},
   "source": [
    "| Sex-Age|Calories|Protein|Fat|Calcium|Iron|Betacarotene|Thiamine|Riboflavin|Niacin|Ascorbic Acid|\n",
    "|---|---|---|---|---|---|---|---|---|---|---|\n",
    "| C 0-0.5||||500|||.2|.3||25|\n",
    "| C 0.5-1|||19|500|5|2800|.3|.4||25|\n",
    "| C 1-3|1060|16.7|27|600|9|3200|.5|.6|8|40|\n",
    "| C 4-6|1350|20.1|25|600|13|3200|.7|.8|11|40|\n",
    "| C 7-9|1690|29.5|30|600|16|4800|.8|1.|13|40|\n",
    "| B 10-12|2190|39.9|35|800|21|4800|1.1|1.3|15|40|\n",
    "| G 10-12|2010|40.4|35|800|27|4800|1.|1.2|13|40|\n",
    "| B 13-15|2750|54.3|45|800|32|4800|1.4|1.6|16|40|\n",
    "| G 13-15|2330|51.9|40|800|27|4800|1.2|1.4|14|40|\n",
    "| B 16-17|3020|61.5|50|800|28|4800|1.5|1.8|17|40|\n",
    "| G 16-17|2440|55.5|35|800|26|4800|1.|1.2|14|40|\n",
    "| M|2730|60|30|600|17|4800|1.4|1.4|18|40|\n",
    "| W|2230|55|25|1200|21|4800|1.1|1.3|14|40|\n",
    "\n"
   ]
  },
  {
   "cell_type": "markdown",
   "metadata": {},
   "source": [
    "### Nutritional Needs of Households\n",
    "\n"
   ]
  },
  {
   "cell_type": "markdown",
   "metadata": {},
   "source": [
    "Our data on demand and nutrients is at the *household* level; we\n",
    "   can&rsquo;t directly compare household level nutrition with individual\n",
    "   level requirements.  What we **can** do is add up minimum individual\n",
    "   requirements, and see whether household total exceed these.  This\n",
    "   isn&rsquo;t a guarantee that all individuals have adequate nutrition\n",
    "   (since the way food is allocated in the household might be quite\n",
    "   unequal, or unrelated to individual requirements), but it is\n",
    "   *necessary* if all individuals are to have adequate nutrition.\n",
    "\n",
    "For the average household in the ICRISAT villages, the number of\n",
    "different kinds of people can be computed by averaging over households:\n",
    "\n"
   ]
  },
  {
   "cell_type": "code",
   "execution_count": 73,
   "metadata": {},
   "outputs": [
    {
     "data": {
      "text/plain": [
       "k\n",
       "Males 0-1         0.094406\n",
       "Males 1-5         0.276224\n",
       "Males 5-10        0.255245\n",
       "Males 10-15       0.323427\n",
       "Males 15-20       0.363636\n",
       "Males 20-30       0.973776\n",
       "Males 30-50       0.858392\n",
       "Males 50-60       0.208042\n",
       "Males 60-100      0.162587\n",
       "Females 0-1       0.073427\n",
       "Females 1-5       0.232517\n",
       "Females 5-10      0.284965\n",
       "Females 10-15     0.305944\n",
       "Females 15-20     0.368881\n",
       "Females 20-30     0.809441\n",
       "Females 30-50     0.802448\n",
       "Females 50-60     0.222028\n",
       "Females 60-100    0.134615\n",
       "Name: z, dtype: float64"
      ]
     },
     "execution_count": 73,
     "metadata": {},
     "output_type": "execute_result"
    }
   ],
   "source": [
    "# In first round, averaged over households and villages\n",
    "\n",
    "zbar = r.z.sel(t=r.firstround,drop=True).mean(['j','m'])[:-1].squeeze() # Leave out log HSize\n",
    "\n",
    "zbar = zbar.to_dataframe().squeeze()\n",
    "zbar"
   ]
  },
  {
   "cell_type": "markdown",
   "metadata": {},
   "source": [
    "Now, the inner/dot/matrix product between `zbar` and the `rda`\n",
    "DataFrame of requirements will give us minimum requirements for the\n",
    "average household:\n",
    "\n"
   ]
  },
  {
   "cell_type": "code",
   "execution_count": 74,
   "metadata": {},
   "outputs": [
    {
     "data": {
      "text/plain": [
       "Nutrition\n",
       "Energy                            16833.092949\n",
       "Protein                             377.781250\n",
       "Fiber, total dietary                235.663301\n",
       "Folate, DFE                        3269.930070\n",
       "Calcium, Ca                       10256.366550\n",
       "Carbohydrate, by difference        1179.924242\n",
       "Iron, Fe                            127.491987\n",
       "Magnesium, Mg                      2703.273237\n",
       "Niacin                              119.561407\n",
       "Phosphorus, P                      8294.908217\n",
       "Potassium, K                      41382.808858\n",
       "Riboflavin                            9.158257\n",
       "Thiamin                               9.062063\n",
       "Vitamin A, RAE                     6074.264277\n",
       "Vitamin B-12                         19.619580\n",
       "Vitamin B-6                          10.420531\n",
       "Vitamin C, total ascorbic acid      569.168124\n",
       "Vitamin E (alpha-tocopherol)        121.720862\n",
       "Vitamin K (phylloquinone)           706.475816\n",
       "Zinc, Zn                             74.027244\n",
       "dtype: float64"
      ]
     },
     "execution_count": 74,
     "metadata": {},
     "output_type": "execute_result"
    }
   ],
   "source": [
    "rda = pd.read_csv('diet_minimums.csv').set_index('Nutrition').iloc[:,2:]\n",
    "\n",
    "zbar['Boys'] = zbar['Males 5-10']*5/15 + zbar['Males 10-15']*5/15 + zbar['Males 15-20'] * 5/15\n",
    "zbar['Girls'] = zbar['Females 5-10']*5/15 + zbar['Females 10-15']*5/15 + zbar ['Females 15-20'] * 5/15\n",
    "zbar['Mothers'] = zbar['Females 15-20']*5/15 + zbar['Females 20-30']*10/15\n",
    "\n",
    "rda['Boys'] = rda['M 4-8']*4/16 + rda['M 9-13']*5/16 + rda['M 14-18']*5/16 + rda['M 19-30']*2/16\n",
    "rda['Girls'] = rda['F 4-8']*4/16 + rda['F 9-13']*5/16 + rda['F 14-18']*5/16 + rda['F 19-30']*2/16\n",
    "rda['Mothers'] = rda['F 14-18']*4/16 + rda['F 19-30']*12/16\n",
    "\n",
    "zbar = zbar[['Boys', 'Girls', 'Mothers']]\n",
    "rda = rda[['Boys', 'Girls', 'Mothers']]\n",
    "# May need to tweak types or alignment to match RDA and zbar types:\n",
    "rda0,zbar0=rda.align(zbar,axis=1)\n",
    "# This matrix product gives minimum nutrient requirements for average\n",
    "# household in 1975\n",
    "hh_rda = rda0.replace('',0)@zbar0\n",
    "# RDA is /daily/, but  demands in BUK data are /weekly/:\n",
    "hh_rda = hh_rda*7\n",
    "hh_rda"
   ]
  },
  {
   "cell_type": "markdown",
   "metadata": {},
   "source": [
    "## Nutritional Adequacy of Food Demands\n",
    "\n"
   ]
  },
  {
   "cell_type": "markdown",
   "metadata": {},
   "source": [
    "### Food Conversion Table\n",
    "\n"
   ]
  },
  {
   "cell_type": "markdown",
   "metadata": {},
   "source": [
    "As usual, we need data to convert foods to nutrients:\n",
    "\n"
   ]
  },
  {
   "cell_type": "code",
   "execution_count": 75,
   "metadata": {},
   "outputs": [],
   "source": [
    "UseNutrients=['calorie','protein','calcium','carbo','iron']"
   ]
  },
  {
   "cell_type": "code",
   "execution_count": 76,
   "metadata": {},
   "outputs": [],
   "source": [
    "from eep153_tools.sheets import read_sheets\n",
    "\n",
    "# DataURL = 'https://docs.google.com/spreadsheets/d/13Ig5hZif-NSHtgkKRp_cEgKXk0lOsdUB2BAD6O_FnRo'\n",
    "# key = DataURL.split('/')[-1]\n",
    "\n",
    "# fct = read_sheets(key,sheet='FCT').set_index('i')\n",
    "\n",
    "fct = nut.iloc[:,3:]\n",
    "fct['i'] = fct['name']\n",
    "fct = fct.set_index('i').iloc[:,1:]\n",
    "\n",
    "# Select only desired nutrients from the fct table\n",
    "fct = fct[UseNutrients]\n",
    "\n",
    "# Rename and select desired nutrients from the hh_rda series\n",
    "hh_rda = hh_rda[['Energy','Protein','Calcium, Ca','Carbohydrate, by difference','Iron, Fe']]\n",
    "hh_rda = hh_rda.rename({'Energy':'calorie','Protein':'protein','Calcium, Ca':'calcium',\n",
    "                        'Carbohydrate, by difference':'carbo','Iron, Fe':'iron'})"
   ]
  },
  {
   "cell_type": "code",
   "execution_count": 77,
   "metadata": {},
   "outputs": [
    {
     "data": {
      "text/plain": [
       "Nutrition\n",
       "calorie    16833.092949\n",
       "protein      377.781250\n",
       "calcium    10256.366550\n",
       "carbo       1179.924242\n",
       "iron         127.491987\n",
       "dtype: float64"
      ]
     },
     "execution_count": 77,
     "metadata": {},
     "output_type": "execute_result"
    }
   ],
   "source": [
    "hh_rda"
   ]
  },
  {
   "cell_type": "code",
   "execution_count": 78,
   "metadata": {},
   "outputs": [
    {
     "data": {
      "text/html": [
       "<div>\n",
       "<style scoped>\n",
       "    .dataframe tbody tr th:only-of-type {\n",
       "        vertical-align: middle;\n",
       "    }\n",
       "\n",
       "    .dataframe tbody tr th {\n",
       "        vertical-align: top;\n",
       "    }\n",
       "\n",
       "    .dataframe thead th {\n",
       "        text-align: right;\n",
       "    }\n",
       "</style>\n",
       "<table border=\"1\" class=\"dataframe\">\n",
       "  <thead>\n",
       "    <tr style=\"text-align: right;\">\n",
       "      <th></th>\n",
       "      <th>calorie</th>\n",
       "      <th>protein</th>\n",
       "      <th>calcium</th>\n",
       "      <th>carbo</th>\n",
       "      <th>iron</th>\n",
       "    </tr>\n",
       "    <tr>\n",
       "      <th>i</th>\n",
       "      <th></th>\n",
       "      <th></th>\n",
       "      <th></th>\n",
       "      <th></th>\n",
       "      <th></th>\n",
       "    </tr>\n",
       "  </thead>\n",
       "  <tbody>\n",
       "    <tr>\n",
       "      <th>Atis</th>\n",
       "      <td>56.0</td>\n",
       "      <td>0.50</td>\n",
       "      <td>10.0</td>\n",
       "      <td>14.9</td>\n",
       "      <td>0.10</td>\n",
       "    </tr>\n",
       "    <tr>\n",
       "      <th>Bagoong</th>\n",
       "      <td>188.5</td>\n",
       "      <td>36.37</td>\n",
       "      <td>290.2</td>\n",
       "      <td>0.0</td>\n",
       "      <td>2.67</td>\n",
       "    </tr>\n",
       "    <tr>\n",
       "      <th>Bamboo shoots</th>\n",
       "      <td>27.0</td>\n",
       "      <td>2.00</td>\n",
       "      <td>28.0</td>\n",
       "      <td>4.7</td>\n",
       "      <td>0.30</td>\n",
       "    </tr>\n",
       "    <tr>\n",
       "      <th>Banana</th>\n",
       "      <td>95.0</td>\n",
       "      <td>1.00</td>\n",
       "      <td>16.0</td>\n",
       "      <td>24.5</td>\n",
       "      <td>0.50</td>\n",
       "    </tr>\n",
       "    <tr>\n",
       "      <th>Beef</th>\n",
       "      <td>157.0</td>\n",
       "      <td>30.40</td>\n",
       "      <td>50.0</td>\n",
       "      <td>0.0</td>\n",
       "      <td>3.60</td>\n",
       "    </tr>\n",
       "    <tr>\n",
       "      <th>Buro</th>\n",
       "      <td>30.0</td>\n",
       "      <td>0.60</td>\n",
       "      <td>13.0</td>\n",
       "      <td>6.8</td>\n",
       "      <td>0.20</td>\n",
       "    </tr>\n",
       "    <tr>\n",
       "      <th>Camote tops</th>\n",
       "      <td>171.0</td>\n",
       "      <td>3.10</td>\n",
       "      <td>15.0</td>\n",
       "      <td>38.0</td>\n",
       "      <td>1.20</td>\n",
       "    </tr>\n",
       "    <tr>\n",
       "      <th>Canned fruits</th>\n",
       "      <td>46.0</td>\n",
       "      <td>2.50</td>\n",
       "      <td>56.0</td>\n",
       "      <td>8.7</td>\n",
       "      <td>0.40</td>\n",
       "    </tr>\n",
       "    <tr>\n",
       "      <th>Carabeef</th>\n",
       "      <td>177.0</td>\n",
       "      <td>28.20</td>\n",
       "      <td>101.0</td>\n",
       "      <td>0.0</td>\n",
       "      <td>2.70</td>\n",
       "    </tr>\n",
       "    <tr>\n",
       "      <th>Carrots</th>\n",
       "      <td>48.0</td>\n",
       "      <td>1.50</td>\n",
       "      <td>69.0</td>\n",
       "      <td>10.5</td>\n",
       "      <td>2.10</td>\n",
       "    </tr>\n",
       "    <tr>\n",
       "      <th>Chicken</th>\n",
       "      <td>176.5</td>\n",
       "      <td>30.45</td>\n",
       "      <td>86.0</td>\n",
       "      <td>0.0</td>\n",
       "      <td>2.20</td>\n",
       "    </tr>\n",
       "    <tr>\n",
       "      <th>Coconut</th>\n",
       "      <td>302.0</td>\n",
       "      <td>3.90</td>\n",
       "      <td>32.0</td>\n",
       "      <td>17.2</td>\n",
       "      <td>1.50</td>\n",
       "    </tr>\n",
       "    <tr>\n",
       "      <th>Coffee</th>\n",
       "      <td>357.0</td>\n",
       "      <td>17.80</td>\n",
       "      <td>296.0</td>\n",
       "      <td>68.6</td>\n",
       "      <td>6.00</td>\n",
       "    </tr>\n",
       "    <tr>\n",
       "      <th>Cooked meat</th>\n",
       "      <td>276.0</td>\n",
       "      <td>10.30</td>\n",
       "      <td>45.0</td>\n",
       "      <td>3.1</td>\n",
       "      <td>1.50</td>\n",
       "    </tr>\n",
       "    <tr>\n",
       "      <th>Cooking oil</th>\n",
       "      <td>883.0</td>\n",
       "      <td>0.00</td>\n",
       "      <td>2.0</td>\n",
       "      <td>0.0</td>\n",
       "      <td>0.00</td>\n",
       "    </tr>\n",
       "    <tr>\n",
       "      <th>Corn grits</th>\n",
       "      <td>368.0</td>\n",
       "      <td>8.70</td>\n",
       "      <td>16.0</td>\n",
       "      <td>76.7</td>\n",
       "      <td>0.80</td>\n",
       "    </tr>\n",
       "    <tr>\n",
       "      <th>Ducks</th>\n",
       "      <td>163.0</td>\n",
       "      <td>22.80</td>\n",
       "      <td>94.0</td>\n",
       "      <td>0.0</td>\n",
       "      <td>2.50</td>\n",
       "    </tr>\n",
       "    <tr>\n",
       "      <th>Eggs</th>\n",
       "      <td>175.0</td>\n",
       "      <td>13.90</td>\n",
       "      <td>73.0</td>\n",
       "      <td>0.7</td>\n",
       "      <td>3.50</td>\n",
       "    </tr>\n",
       "    <tr>\n",
       "      <th>Food made from flour</th>\n",
       "      <td>412.0</td>\n",
       "      <td>9.30</td>\n",
       "      <td>44.0</td>\n",
       "      <td>77.1</td>\n",
       "      <td>3.10</td>\n",
       "    </tr>\n",
       "    <tr>\n",
       "      <th>Fresh fish</th>\n",
       "      <td>112.0</td>\n",
       "      <td>17.50</td>\n",
       "      <td>77.0</td>\n",
       "      <td>0.0</td>\n",
       "      <td>0.10</td>\n",
       "    </tr>\n",
       "    <tr>\n",
       "      <th>Goat</th>\n",
       "      <td>101.0</td>\n",
       "      <td>22.30</td>\n",
       "      <td>6.0</td>\n",
       "      <td>0.0</td>\n",
       "      <td>0.40</td>\n",
       "    </tr>\n",
       "    <tr>\n",
       "      <th>Guava</th>\n",
       "      <td>92.0</td>\n",
       "      <td>0.90</td>\n",
       "      <td>34.0</td>\n",
       "      <td>23.8</td>\n",
       "      <td>0.60</td>\n",
       "    </tr>\n",
       "    <tr>\n",
       "      <th>Innards</th>\n",
       "      <td>82.0</td>\n",
       "      <td>9.60</td>\n",
       "      <td>12.0</td>\n",
       "      <td>5.6</td>\n",
       "      <td>1.10</td>\n",
       "    </tr>\n",
       "    <tr>\n",
       "      <th>Kadios and copeas</th>\n",
       "      <td>140.0</td>\n",
       "      <td>8.20</td>\n",
       "      <td>77.0</td>\n",
       "      <td>26.0</td>\n",
       "      <td>1.70</td>\n",
       "    </tr>\n",
       "    <tr>\n",
       "      <th>Kalamungay</th>\n",
       "      <td>47.0</td>\n",
       "      <td>6.20</td>\n",
       "      <td>262.0</td>\n",
       "      <td>5.2</td>\n",
       "      <td>6.00</td>\n",
       "    </tr>\n",
       "    <tr>\n",
       "      <th>Kangkong</th>\n",
       "      <td>22.0</td>\n",
       "      <td>2.70</td>\n",
       "      <td>94.0</td>\n",
       "      <td>2.7</td>\n",
       "      <td>2.40</td>\n",
       "    </tr>\n",
       "    <tr>\n",
       "      <th>Mangoes</th>\n",
       "      <td>66.0</td>\n",
       "      <td>0.70</td>\n",
       "      <td>95.0</td>\n",
       "      <td>16.4</td>\n",
       "      <td>1.20</td>\n",
       "    </tr>\n",
       "    <tr>\n",
       "      <th>Milk</th>\n",
       "      <td>64.0</td>\n",
       "      <td>3.30</td>\n",
       "      <td>139.0</td>\n",
       "      <td>4.8</td>\n",
       "      <td>0.40</td>\n",
       "    </tr>\n",
       "    <tr>\n",
       "      <th>Milo</th>\n",
       "      <td>396.0</td>\n",
       "      <td>6.50</td>\n",
       "      <td>61.0</td>\n",
       "      <td>84.9</td>\n",
       "      <td>1.80</td>\n",
       "    </tr>\n",
       "    <tr>\n",
       "      <th>Mongo and other products</th>\n",
       "      <td>66.0</td>\n",
       "      <td>0.70</td>\n",
       "      <td>95.0</td>\n",
       "      <td>16.4</td>\n",
       "      <td>1.20</td>\n",
       "    </tr>\n",
       "    <tr>\n",
       "      <th>Okra</th>\n",
       "      <td>32.0</td>\n",
       "      <td>1.70</td>\n",
       "      <td>110.0</td>\n",
       "      <td>7.4</td>\n",
       "      <td>0.80</td>\n",
       "    </tr>\n",
       "    <tr>\n",
       "      <th>Onions</th>\n",
       "      <td>48.0</td>\n",
       "      <td>1.70</td>\n",
       "      <td>40.0</td>\n",
       "      <td>10.5</td>\n",
       "      <td>0.60</td>\n",
       "    </tr>\n",
       "    <tr>\n",
       "      <th>Other products Taro and ubi</th>\n",
       "      <td>112.0</td>\n",
       "      <td>2.30</td>\n",
       "      <td>39.0</td>\n",
       "      <td>25.7</td>\n",
       "      <td>0.90</td>\n",
       "    </tr>\n",
       "    <tr>\n",
       "      <th>Papaya</th>\n",
       "      <td>47.0</td>\n",
       "      <td>0.70</td>\n",
       "      <td>59.0</td>\n",
       "      <td>12.0</td>\n",
       "      <td>0.50</td>\n",
       "    </tr>\n",
       "    <tr>\n",
       "      <th>Patani</th>\n",
       "      <td>123.0</td>\n",
       "      <td>8.30</td>\n",
       "      <td>27.0</td>\n",
       "      <td>21.7</td>\n",
       "      <td>2.20</td>\n",
       "    </tr>\n",
       "    <tr>\n",
       "      <th>Patis</th>\n",
       "      <td>49.0</td>\n",
       "      <td>10.60</td>\n",
       "      <td>42.0</td>\n",
       "      <td>0.9</td>\n",
       "      <td>9.30</td>\n",
       "    </tr>\n",
       "    <tr>\n",
       "      <th>Peanut</th>\n",
       "      <td>376.0</td>\n",
       "      <td>17.40</td>\n",
       "      <td>61.0</td>\n",
       "      <td>22.9</td>\n",
       "      <td>2.50</td>\n",
       "    </tr>\n",
       "    <tr>\n",
       "      <th>Pork</th>\n",
       "      <td>500.0</td>\n",
       "      <td>10.00</td>\n",
       "      <td>25.0</td>\n",
       "      <td>0.0</td>\n",
       "      <td>0.90</td>\n",
       "    </tr>\n",
       "    <tr>\n",
       "      <th>Potato</th>\n",
       "      <td>75.0</td>\n",
       "      <td>2.40</td>\n",
       "      <td>36.0</td>\n",
       "      <td>16.8</td>\n",
       "      <td>1.10</td>\n",
       "    </tr>\n",
       "    <tr>\n",
       "      <th>Processed meat like longanisa</th>\n",
       "      <td>426.0</td>\n",
       "      <td>16.40</td>\n",
       "      <td>25.0</td>\n",
       "      <td>0.0</td>\n",
       "      <td>1.40</td>\n",
       "    </tr>\n",
       "    <tr>\n",
       "      <th>Rice</th>\n",
       "      <td>367.0</td>\n",
       "      <td>7.40</td>\n",
       "      <td>27.0</td>\n",
       "      <td>80.4</td>\n",
       "      <td>1.00</td>\n",
       "    </tr>\n",
       "    <tr>\n",
       "      <th>Salt</th>\n",
       "      <td>0.0</td>\n",
       "      <td>0.00</td>\n",
       "      <td>267.0</td>\n",
       "      <td>0.0</td>\n",
       "      <td>5.50</td>\n",
       "    </tr>\n",
       "    <tr>\n",
       "      <th>Saluyot</th>\n",
       "      <td>51.0</td>\n",
       "      <td>6.50</td>\n",
       "      <td>488.0</td>\n",
       "      <td>7.5</td>\n",
       "      <td>11.60</td>\n",
       "    </tr>\n",
       "    <tr>\n",
       "      <th>Sardines</th>\n",
       "      <td>170.0</td>\n",
       "      <td>37.40</td>\n",
       "      <td>283.0</td>\n",
       "      <td>0.0</td>\n",
       "      <td>3.70</td>\n",
       "    </tr>\n",
       "    <tr>\n",
       "      <th>Sea weed</th>\n",
       "      <td>199.0</td>\n",
       "      <td>23.70</td>\n",
       "      <td>472.0</td>\n",
       "      <td>36.7</td>\n",
       "      <td>31.60</td>\n",
       "    </tr>\n",
       "    <tr>\n",
       "      <th>Shrimps and shellfish</th>\n",
       "      <td>103.0</td>\n",
       "      <td>20.20</td>\n",
       "      <td>2351.0</td>\n",
       "      <td>0.0</td>\n",
       "      <td>15.20</td>\n",
       "    </tr>\n",
       "    <tr>\n",
       "      <th>Soybean and other products</th>\n",
       "      <td>42.0</td>\n",
       "      <td>3.90</td>\n",
       "      <td>72.0</td>\n",
       "      <td>8.0</td>\n",
       "      <td>0.80</td>\n",
       "    </tr>\n",
       "    <tr>\n",
       "      <th>Squash</th>\n",
       "      <td>38.0</td>\n",
       "      <td>1.40</td>\n",
       "      <td>61.0</td>\n",
       "      <td>8.6</td>\n",
       "      <td>0.70</td>\n",
       "    </tr>\n",
       "    <tr>\n",
       "      <th>Sugar</th>\n",
       "      <td>398.0</td>\n",
       "      <td>0.10</td>\n",
       "      <td>148.0</td>\n",
       "      <td>98.7</td>\n",
       "      <td>0.40</td>\n",
       "    </tr>\n",
       "    <tr>\n",
       "      <th>Sweet potato</th>\n",
       "      <td>170.0</td>\n",
       "      <td>0.60</td>\n",
       "      <td>21.0</td>\n",
       "      <td>29.8</td>\n",
       "      <td>0.40</td>\n",
       "    </tr>\n",
       "    <tr>\n",
       "      <th>Talong</th>\n",
       "      <td>25.0</td>\n",
       "      <td>1.00</td>\n",
       "      <td>35.0</td>\n",
       "      <td>5.8</td>\n",
       "      <td>0.60</td>\n",
       "    </tr>\n",
       "    <tr>\n",
       "      <th>Tomatoes</th>\n",
       "      <td>23.0</td>\n",
       "      <td>0.90</td>\n",
       "      <td>31.0</td>\n",
       "      <td>5.2</td>\n",
       "      <td>1.00</td>\n",
       "    </tr>\n",
       "  </tbody>\n",
       "</table>\n",
       "</div>"
      ],
      "text/plain": [
       "                               calorie  protein  calcium  carbo   iron\n",
       "i                                                                     \n",
       "Atis                              56.0     0.50     10.0   14.9   0.10\n",
       "Bagoong                          188.5    36.37    290.2    0.0   2.67\n",
       "Bamboo shoots                     27.0     2.00     28.0    4.7   0.30\n",
       "Banana                            95.0     1.00     16.0   24.5   0.50\n",
       "Beef                             157.0    30.40     50.0    0.0   3.60\n",
       "Buro                              30.0     0.60     13.0    6.8   0.20\n",
       "Camote tops                      171.0     3.10     15.0   38.0   1.20\n",
       "Canned fruits                     46.0     2.50     56.0    8.7   0.40\n",
       "Carabeef                         177.0    28.20    101.0    0.0   2.70\n",
       "Carrots                           48.0     1.50     69.0   10.5   2.10\n",
       "Chicken                          176.5    30.45     86.0    0.0   2.20\n",
       "Coconut                          302.0     3.90     32.0   17.2   1.50\n",
       "Coffee                           357.0    17.80    296.0   68.6   6.00\n",
       "Cooked meat                      276.0    10.30     45.0    3.1   1.50\n",
       "Cooking oil                      883.0     0.00      2.0    0.0   0.00\n",
       "Corn grits                       368.0     8.70     16.0   76.7   0.80\n",
       "Ducks                            163.0    22.80     94.0    0.0   2.50\n",
       "Eggs                             175.0    13.90     73.0    0.7   3.50\n",
       "Food made from flour             412.0     9.30     44.0   77.1   3.10\n",
       "Fresh fish                       112.0    17.50     77.0    0.0   0.10\n",
       "Goat                             101.0    22.30      6.0    0.0   0.40\n",
       "Guava                             92.0     0.90     34.0   23.8   0.60\n",
       "Innards                           82.0     9.60     12.0    5.6   1.10\n",
       "Kadios and copeas                140.0     8.20     77.0   26.0   1.70\n",
       "Kalamungay                        47.0     6.20    262.0    5.2   6.00\n",
       "Kangkong                          22.0     2.70     94.0    2.7   2.40\n",
       "Mangoes                           66.0     0.70     95.0   16.4   1.20\n",
       "Milk                              64.0     3.30    139.0    4.8   0.40\n",
       "Milo                             396.0     6.50     61.0   84.9   1.80\n",
       "Mongo and other products          66.0     0.70     95.0   16.4   1.20\n",
       "Okra                              32.0     1.70    110.0    7.4   0.80\n",
       "Onions                            48.0     1.70     40.0   10.5   0.60\n",
       "Other products Taro and ubi      112.0     2.30     39.0   25.7   0.90\n",
       "Papaya                            47.0     0.70     59.0   12.0   0.50\n",
       "Patani                           123.0     8.30     27.0   21.7   2.20\n",
       "Patis                             49.0    10.60     42.0    0.9   9.30\n",
       "Peanut                           376.0    17.40     61.0   22.9   2.50\n",
       "Pork                             500.0    10.00     25.0    0.0   0.90\n",
       "Potato                            75.0     2.40     36.0   16.8   1.10\n",
       "Processed meat like longanisa    426.0    16.40     25.0    0.0   1.40\n",
       "Rice                             367.0     7.40     27.0   80.4   1.00\n",
       "Salt                               0.0     0.00    267.0    0.0   5.50\n",
       "Saluyot                           51.0     6.50    488.0    7.5  11.60\n",
       "Sardines                         170.0    37.40    283.0    0.0   3.70\n",
       "Sea weed                         199.0    23.70    472.0   36.7  31.60\n",
       "Shrimps and shellfish            103.0    20.20   2351.0    0.0  15.20\n",
       "Soybean and other products        42.0     3.90     72.0    8.0   0.80\n",
       "Squash                            38.0     1.40     61.0    8.6   0.70\n",
       "Sugar                            398.0     0.10    148.0   98.7   0.40\n",
       "Sweet potato                     170.0     0.60     21.0   29.8   0.40\n",
       "Talong                            25.0     1.00     35.0    5.8   0.60\n",
       "Tomatoes                          23.0     0.90     31.0    5.2   1.00"
      ]
     },
     "execution_count": 78,
     "metadata": {},
     "output_type": "execute_result"
    }
   ],
   "source": [
    "fct"
   ]
  },
  {
   "cell_type": "markdown",
   "metadata": {},
   "source": [
    "### Prices\n",
    "\n"
   ]
  },
  {
   "cell_type": "code",
   "execution_count": 79,
   "metadata": {},
   "outputs": [],
   "source": [
    "def my_prices(p0,p=p,i='Coconut'):\n",
    "    p = p.copy()\n",
    "    p.loc[i] = p0\n",
    "    return p"
   ]
  },
  {
   "cell_type": "markdown",
   "metadata": {},
   "source": [
    "### Nutrient Demand\n",
    "\n"
   ]
  },
  {
   "cell_type": "markdown",
   "metadata": {},
   "source": [
    "We can also use our demand functions to\n",
    " compute nutrition as a *function* of prices and budget.\n",
    "\n"
   ]
  },
  {
   "cell_type": "code",
   "execution_count": 80,
   "metadata": {},
   "outputs": [],
   "source": [
    "import warnings \n",
    "\n",
    "def nutrient_demand(x,p):\n",
    "    with warnings.catch_warnings():\n",
    "        warnings.simplefilter(\"ignore\")\n",
    "        c = r.demands(x,p.loc[2003])\n",
    "\n",
    "    fct0,c0 = fct.align(c,axis=0,join='inner')\n",
    "    N = fct0.T@c0\n",
    "\n",
    "    N = N.loc[~N.index.duplicated()]\n",
    "    \n",
    "    return N"
   ]
  },
  {
   "cell_type": "markdown",
   "metadata": {},
   "source": [
    "With this `nutrient_demand` function in hand, we can see how nutrient\n",
    " outcomes vary with budget, given prices:\n",
    "\n"
   ]
  },
  {
   "cell_type": "code",
   "execution_count": 81,
   "metadata": {},
   "outputs": [],
   "source": [
    "# #just checking things\n",
    "# np.log(nutrient_demand(X[0],p))[UseNutrients]\n",
    "# pd.concat([np.log(nutrient_demand(myx,p))[UseNutrients] for myx in X],axis=1)"
   ]
  },
  {
   "cell_type": "code",
   "execution_count": 82,
   "metadata": {},
   "outputs": [
    {
     "data": {
      "text/plain": [
       "Text(0, 0.5, 'log nutrient')"
      ]
     },
     "execution_count": 82,
     "metadata": {},
     "output_type": "execute_result"
    },
    {
     "data": {
      "image/png": "[encoded data removed]",
      "text/plain": [
       "<Figure size 432x288 with 1 Axes>"
      ]
     },
     "metadata": {
      "needs_background": "light"
     },
     "output_type": "display_data"
    }
   ],
   "source": [
    "%matplotlib inline\n",
    "import numpy as np\n",
    "import matplotlib.pyplot as plt\n",
    "\n",
    "X = np.linspace(reference_x/5,reference_x*5,50)\n",
    "\n",
    "# UseNutrients=['Energy','Protein','Carbohydrate, by difference','Iron, Fe','Vitamin A, RAE','Vitamin B-12']\n",
    "# calorie\tprotein\tfat\tcarbo\tfiber\tash\tcalcium\tphos\tiron\n",
    "# UseNutrients=['calorie','protein','carbo','calcium','iron']\n",
    "\n",
    "# wanted Vitamin A/B-12 and carbs but not there\n",
    "\n",
    "# df = pd.concat({myx:np.log(nutrient_demand(myx,p))[UseNutrients] for myx in X},axis=1).T\n",
    "df = pd.concat([np.log(nutrient_demand(myx,p))[UseNutrients] for myx in X],axis=1).T\n",
    "ax = df.plot()\n",
    "\n",
    "ax.set_xlabel('log budget')\n",
    "ax.set_ylabel('log nutrient')"
   ]
  },
  {
   "cell_type": "markdown",
   "metadata": {},
   "source": [
    "Now how does nutrition vary with prices?\n",
    "\n"
   ]
  },
  {
   "cell_type": "code",
   "execution_count": 89,
   "metadata": {},
   "outputs": [
    {
     "data": {
      "text/plain": [
       "Text(0, 0.5, 'log nutrient')"
      ]
     },
     "execution_count": 89,
     "metadata": {},
     "output_type": "execute_result"
    },
    {
     "data": {
      "image/png": "[encoded data removed]",
      "text/plain": [
       "<Figure size 432x288 with 1 Axes>"
      ]
     },
     "metadata": {
      "needs_background": "light"
     },
     "output_type": "display_data"
    }
   ],
   "source": [
    "USE_GOOD = 'Rice' # Also try Rice and Potato\n",
    "\n",
    "ref_price = r.prices.sel(i=USE_GOOD,m=m,drop=True)\n",
    "\n",
    "P = np.linspace(1,5,20).tolist()\n",
    "\n",
    "ndf = pd.DataFrame({p0:np.log(nutrient_demand(reference_x,my_prices(p0,i=USE_GOOD)))[UseNutrients] for p0 in P}).T\n",
    "\n",
    "ax = ndf.plot()\n",
    "\n",
    "ax.set_xlabel('log price')\n",
    "ax.set_ylabel('log nutrient')"
   ]
  },
  {
   "cell_type": "markdown",
   "metadata": {},
   "source": [
    "### Nutritional Adequacy\n",
    "\n"
   ]
  },
  {
   "cell_type": "markdown",
   "metadata": {},
   "source": [
    "Since we can trace out demands for nutrients as a function of $(x,p)$,\n",
    "and we&rsquo;ve computed minimum nutritional requirements for the average\n",
    "household, we can *normalize* nutritional intake to check the adequacy\n",
    "of diet.\n",
    "\n"
   ]
  },
  {
   "cell_type": "code",
   "execution_count": 85,
   "metadata": {},
   "outputs": [],
   "source": [
    "def nutrient_adequacy_ratio(x,p):\n",
    "    return nutrient_demand(x,p)/hh_rda"
   ]
  },
  {
   "cell_type": "markdown",
   "metadata": {},
   "source": [
    "In terms of normalized nutrients, any household with more than one\n",
    "unit of any given nutrient (or zero in logs) will be consuming a\n",
    "minimally adequate level of the nutrient; below this level there&rsquo;s\n",
    "clearly nutritional inadequacy.  For this reason the ratio of\n",
    "actual nutrients to required nutrients is termed the &ldquo;nutrient\n",
    "adequacy ratio,&rdquo; or NAR.\n",
    "\n"
   ]
  },
  {
   "cell_type": "code",
   "execution_count": 86,
   "metadata": {},
   "outputs": [
    {
     "data": {
      "text/plain": [
       "<matplotlib.lines.Line2D at 0x7f3f79706e50>"
      ]
     },
     "execution_count": 86,
     "metadata": {},
     "output_type": "execute_result"
    },
    {
     "data": {
      "image/png": "[encoded data removed]",
      "text/plain": [
       "<Figure size 432x288 with 1 Axes>"
      ]
     },
     "metadata": {
      "needs_background": "light"
     },
     "output_type": "display_data"
    }
   ],
   "source": [
    "X = np.linspace(reference_x/5,reference_x*5,50)\n",
    "\n",
    "# ndf = pd.concat({x:np.log(nutrient_adequacy_ratio(x,p))[UseNutrients] for x in X},axis=1).T\n",
    "ndf = pd.concat([np.log(nutrient_adequacy_ratio(x,p))[UseNutrients] for x in X],axis=1).T\n",
    "\n",
    "ax = ndf.plot()\n",
    "\n",
    "ax.set_xlabel('log budget')\n",
    "ax.set_ylabel('log nutrient adequacy ratio')\n",
    "ax.axhline(0)"
   ]
  },
  {
   "cell_type": "markdown",
   "metadata": {},
   "source": [
    "As before, we can also vary relative prices.  Here we trace out\n",
    "nutritional adequacy varying the price of a single good:\n",
    "\n"
   ]
  },
  {
   "cell_type": "code",
   "execution_count": 97,
   "metadata": {},
   "outputs": [
    {
     "data": {
      "text/plain": [
       "<matplotlib.lines.Line2D at 0x7f3f7993e4f0>"
      ]
     },
     "execution_count": 97,
     "metadata": {},
     "output_type": "execute_result"
    },
    {
     "data": {
      "image/png": "[encoded data removed]",
      "text/plain": [
       "<Figure size 432x288 with 1 Axes>"
      ]
     },
     "metadata": {
      "needs_background": "light"
     },
     "output_type": "display_data"
    }
   ],
   "source": [
    "USE_GOOD = 'Rice'\n",
    "\n",
    "poorer_x = reference_x/2\n",
    "\n",
    "Pscale = np.linspace(1,3,20).tolist()\n",
    "\n",
    "# log_nar = {s0:np.log(nutrient_adequacy_ratio(reference_x,my_prices(s0,p,i=USE_GOOD)))[UseNutrients] for s0 in Pscale}\n",
    "log_nar = [np.log(nutrient_adequacy_ratio(reference_x,my_prices(s0,p,i=USE_GOOD)))[UseNutrients] \n",
    "           for s0 in Pscale]\n",
    "\n",
    "log_nar = pd.DataFrame(log_nar)\n",
    "\n",
    "ax = log_nar.plot(ylabel='log NAR',xlabel='Price')\n",
    "\n",
    "\n",
    "ax.axhline(0)\n",
    "ax.axvline(p.loc[2003][USE_GOOD])"
   ]
  },
  {
   "cell_type": "code",
   "execution_count": null,
   "metadata": {},
   "outputs": [],
   "source": []
  }
 ],
 "metadata": {
  "kernelspec": {
   "display_name": "Python 3 (ipykernel)",
   "language": "python",
   "name": "python3"
  },
  "language_info": {
   "codemirror_mode": {
    "name": "ipython",
    "version": 3
   },
   "file_extension": ".py",
   "mimetype": "text/x-python",
   "name": "python",
   "nbconvert_exporter": "python",
   "pygments_lexer": "ipython3",
   "version": "3.9.12"
  },
  "org": null
 },
 "nbformat": 4,
 "nbformat_minor": 1
}
