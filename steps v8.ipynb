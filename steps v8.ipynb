{
 "cells": [
  {
   "cell_type": "markdown",
   "metadata": {},
   "source": [
    "## Installments and Imports"
   ]
  },
  {
   "cell_type": "code",
   "execution_count": 22,
   "metadata": {},
   "outputs": [
    {
     "name": "stdout",
     "output_type": "stream",
     "text": [
      "Requirement already satisfied: CFEDemands>=0.4.1 in /opt/conda/lib/python3.9/site-packages (from -r requirements.txt (line 5)) (0.4.1)\n",
      "Requirement already satisfied: gspread>=4.0.1 in /opt/conda/lib/python3.9/site-packages (from -r requirements.txt (line 8)) (4.0.1)\n",
      "Requirement already satisfied: matplotlib>=3.3.4 in /opt/conda/lib/python3.9/site-packages (from -r requirements.txt (line 11)) (3.4.3)\n",
      "Requirement already satisfied: numpy>=1.22.2 in /opt/conda/lib/python3.9/site-packages (from -r requirements.txt (line 15)) (1.22.3)\n",
      "Requirement already satisfied: oauth2client>=4.1.3 in /opt/conda/lib/python3.9/site-packages (from -r requirements.txt (line 18)) (4.1.3)\n",
      "Requirement already satisfied: pandas>=1.4.1 in /opt/conda/lib/python3.9/site-packages (from -r requirements.txt (line 23)) (1.4.2)\n",
      "Requirement already satisfied: plotly>=5.5.0 in /opt/conda/lib/python3.9/site-packages (from -r requirements.txt (line 26)) (5.7.0)\n",
      "Requirement already satisfied: eep153_tools>=0.11 in /opt/conda/lib/python3.9/site-packages (from -r requirements.txt (line 28)) (0.11)\n",
      "Requirement already satisfied: gnupg in /opt/conda/lib/python3.9/site-packages (from -r requirements.txt (line 29)) (2.3.1)\n",
      "Requirement already satisfied: ConsumerDemands in /opt/conda/lib/python3.9/site-packages (from -r requirements.txt (line 31)) (0.3.dev0)\n",
      "Requirement already satisfied: google-auth-oauthlib>=0.4.1 in /opt/conda/lib/python3.9/site-packages (from gspread>=4.0.1->-r requirements.txt (line 8)) (0.4.5)\n",
      "Requirement already satisfied: google-auth>=1.12.0 in /opt/conda/lib/python3.9/site-packages (from gspread>=4.0.1->-r requirements.txt (line 8)) (2.6.2)\n",
      "Requirement already satisfied: cycler>=0.10 in /opt/conda/lib/python3.9/site-packages (from matplotlib>=3.3.4->-r requirements.txt (line 11)) (0.11.0)\n",
      "Requirement already satisfied: python-dateutil>=2.7 in /opt/conda/lib/python3.9/site-packages (from matplotlib>=3.3.4->-r requirements.txt (line 11)) (2.8.0)\n",
      "Requirement already satisfied: kiwisolver>=1.0.1 in /opt/conda/lib/python3.9/site-packages (from matplotlib>=3.3.4->-r requirements.txt (line 11)) (1.4.2)\n",
      "Requirement already satisfied: pillow>=6.2.0 in /opt/conda/lib/python3.9/site-packages (from matplotlib>=3.3.4->-r requirements.txt (line 11)) (8.3.2)\n",
      "Requirement already satisfied: pyparsing>=2.2.1 in /opt/conda/lib/python3.9/site-packages (from matplotlib>=3.3.4->-r requirements.txt (line 11)) (3.0.7)\n",
      "Requirement already satisfied: pyasn1-modules>=0.0.5 in /opt/conda/lib/python3.9/site-packages (from oauth2client>=4.1.3->-r requirements.txt (line 18)) (0.2.8)\n",
      "Requirement already satisfied: six>=1.6.1 in /opt/conda/lib/python3.9/site-packages (from oauth2client>=4.1.3->-r requirements.txt (line 18)) (1.16.0)\n",
      "Requirement already satisfied: rsa>=3.1.4 in /opt/conda/lib/python3.9/site-packages (from oauth2client>=4.1.3->-r requirements.txt (line 18)) (4.8)\n",
      "Requirement already satisfied: pyasn1>=0.1.7 in /opt/conda/lib/python3.9/site-packages (from oauth2client>=4.1.3->-r requirements.txt (line 18)) (0.4.8)\n",
      "Requirement already satisfied: httplib2>=0.9.1 in /opt/conda/lib/python3.9/site-packages (from oauth2client>=4.1.3->-r requirements.txt (line 18)) (0.20.4)\n",
      "Requirement already satisfied: pytz>=2020.1 in /opt/conda/lib/python3.9/site-packages (from pandas>=1.4.1->-r requirements.txt (line 23)) (2021.1)\n",
      "Requirement already satisfied: tenacity>=6.2.0 in /opt/conda/lib/python3.9/site-packages (from plotly>=5.5.0->-r requirements.txt (line 26)) (8.0.1)\n",
      "Requirement already satisfied: psutil>=1.2.1 in /opt/conda/lib/python3.9/site-packages (from gnupg->-r requirements.txt (line 29)) (5.9.0)\n",
      "Requirement already satisfied: requests-oauthlib>=0.7.0 in /opt/conda/lib/python3.9/site-packages (from google-auth-oauthlib>=0.4.1->gspread>=4.0.1->-r requirements.txt (line 8)) (1.3.1)\n",
      "Requirement already satisfied: cachetools<6.0,>=2.0.0 in /opt/conda/lib/python3.9/site-packages (from google-auth>=1.12.0->gspread>=4.0.1->-r requirements.txt (line 8)) (5.0.0)\n",
      "Requirement already satisfied: requests>=2.0.0 in /opt/conda/lib/python3.9/site-packages (from requests-oauthlib>=0.7.0->google-auth-oauthlib>=0.4.1->gspread>=4.0.1->-r requirements.txt (line 8)) (2.26.0)\n",
      "Requirement already satisfied: oauthlib>=3.0.0 in /opt/conda/lib/python3.9/site-packages (from requests-oauthlib>=0.7.0->google-auth-oauthlib>=0.4.1->gspread>=4.0.1->-r requirements.txt (line 8)) (3.2.0)\n",
      "Requirement already satisfied: certifi>=2017.4.17 in /opt/conda/lib/python3.9/site-packages (from requests>=2.0.0->requests-oauthlib>=0.7.0->google-auth-oauthlib>=0.4.1->gspread>=4.0.1->-r requirements.txt (line 8)) (2019.11.28)\n",
      "Requirement already satisfied: urllib3<1.27,>=1.21.1 in /opt/conda/lib/python3.9/site-packages (from requests>=2.0.0->requests-oauthlib>=0.7.0->google-auth-oauthlib>=0.4.1->gspread>=4.0.1->-r requirements.txt (line 8)) (1.25.7)\n",
      "Requirement already satisfied: charset-normalizer~=2.0.0; python_version >= \"3\" in /opt/conda/lib/python3.9/site-packages (from requests>=2.0.0->requests-oauthlib>=0.7.0->google-auth-oauthlib>=0.4.1->gspread>=4.0.1->-r requirements.txt (line 8)) (2.0.0)\n",
      "Requirement already satisfied: idna<4,>=2.5; python_version >= \"3\" in /opt/conda/lib/python3.9/site-packages (from requests>=2.0.0->requests-oauthlib>=0.7.0->google-auth-oauthlib>=0.4.1->gspread>=4.0.1->-r requirements.txt (line 8)) (2.8)\n",
      "Requirement already satisfied: eep153_tools in /opt/conda/lib/python3.9/site-packages (0.11)\n"
     ]
    }
   ],
   "source": [
    "# Uncomment if necessary!\n",
    "!pip install -r requirements.txt\n",
    "!pip install eep153_tools"
   ]
  },
  {
   "cell_type": "code",
   "execution_count": 23,
   "metadata": {},
   "outputs": [],
   "source": [
    "from eep153_tools.sheets import read_sheets\n",
    "import numpy as np\n",
    "import pandas as pd\n",
    "import plotly.express as px\n",
    "import matplotlib.pyplot as plt\n",
    "import matplotlib.cm as cm\n",
    "import cfe"
   ]
  },
  {
   "cell_type": "markdown",
   "metadata": {},
   "source": [
    "## Acquire DataFrames\n",
    "\n"
   ]
  },
  {
   "cell_type": "code",
   "execution_count": 24,
   "metadata": {},
   "outputs": [],
   "source": [
    "# Taken from the Steps notebook\n",
    "# Load Philippines data (Bukidnon 2003)\n",
    "sheet = '1KjQu6ngxR_qxETh9Wx9f9ZmijMVkkevV'\n",
    "\n",
    "# InputFiles = {'Expenditures':(sheet,'Expenditures'),\n",
    "#               'Consumption':(sheet,'Quantities'),\n",
    "#               'HH Characteristics':(sheet,'HH Characteristics'),\n",
    "#               'FCT':(sheet,'FCT')}\n",
    "\n",
    "quant = pd.read_excel('Bukidnon 2003.xlsx',sheet_name='Quantities')\n",
    "hh = pd.read_excel('Bukidnon 2003.xlsx',sheet_name='HH Characteristics')\n",
    "expend = pd.read_excel('Bukidnon 2003.xlsx',sheet_name ='Expenditures')\n",
    "nut = pd.read_excel('Bukidnon 2003.xlsx',sheet_name='FCT')"
   ]
  },
  {
   "cell_type": "code",
   "execution_count": 25,
   "metadata": {},
   "outputs": [],
   "source": [
    "# Clean data\n",
    "def get_clean_sheet(df):\n",
    "\n",
    "    df.columns = [c.strip() for c in df.columns.tolist()]\n",
    "\n",
    "    df = df.loc[:,~df.columns.duplicated(keep='first')]   \n",
    "\n",
    "    df = df.drop([col for col in df.columns if col.startswith('Unnamed')], axis=1)\n",
    "\n",
    "    df = df.loc[~df.index.duplicated(), :]\n",
    "\n",
    "    return df\n",
    "\n",
    "# Get expenditures...\n",
    "x = get_clean_sheet(expend)\n",
    "\n",
    "if 'm' not in x.columns:\n",
    "    x['m'] = 1\n",
    "\n",
    "x = x.set_index(['j','t','m'])\n",
    "x.columns.name = 'i'\n",
    "\n",
    "x = x.apply(lambda x: pd.to_numeric(x,errors='coerce'))\n",
    "x = x.replace(0,np.nan)\n",
    "\n",
    "# Get HH characteristics...\n",
    "z = get_clean_sheet(hh)\n",
    "\n",
    "if 'm' not in z.columns:\n",
    "    z['m'] = 1\n",
    "\n",
    "z = z.set_index(['j','t','m'])\n",
    "z.columns.name = 'k'\n",
    "\n",
    "z = z.apply(lambda x: pd.to_numeric(x,errors='coerce'))\n",
    "\n",
    "# Get purchased consumption quantities\n",
    "q = get_clean_sheet(quant)\n",
    "\n",
    "if 'm' not in q.columns:\n",
    "    q['m'] = 1\n",
    "\n",
    "q = q.set_index(['j','t','m','u'])\n",
    "q.columns.name = 'i'\n",
    "\n",
    "q = q.apply(lambda x: pd.to_numeric(x,errors='coerce'))\n",
    "q = q.replace(0,np.nan)\n",
    "\n",
    "fct = get_clean_sheet(nut)\n",
    "\n",
    "fct.index.name = 'i'\n",
    "\n",
    "fct = fct.apply(lambda x: pd.to_numeric(x,errors='coerce'))"
   ]
  },
  {
   "cell_type": "markdown",
   "metadata": {},
   "source": [
    "## Estimate Demand System\n",
    "\n"
   ]
  },
  {
   "cell_type": "code",
   "execution_count": 26,
   "metadata": {},
   "outputs": [
    {
     "name": "stderr",
     "output_type": "stream",
     "text": [
      "/opt/conda/lib/python3.9/site-packages/cfe/estimation.py:425: UserWarning:\n",
      "\n",
      "No variation in: (2003.0, 'Bukidnon')\n",
      "\n",
      "/opt/conda/lib/python3.9/site-packages/cfe/estimation.py:447: FutureWarning:\n",
      "\n",
      "The frame.append method is deprecated and will be removed from pandas in a future version. Use pandas.concat instead.\n",
      "\n",
      "/opt/conda/lib/python3.9/site-packages/cfe/estimation.py:451: FutureWarning:\n",
      "\n",
      "The frame.append method is deprecated and will be removed from pandas in a future version. Use pandas.concat instead.\n",
      "\n",
      "/opt/conda/lib/python3.9/site-packages/cfe/estimation.py:425: UserWarning:\n",
      "\n",
      "No variation in: (2003.0, 'Bukidnon')\n",
      "\n",
      "/opt/conda/lib/python3.9/site-packages/cfe/estimation.py:447: FutureWarning:\n",
      "\n",
      "The frame.append method is deprecated and will be removed from pandas in a future version. Use pandas.concat instead.\n",
      "\n",
      "/opt/conda/lib/python3.9/site-packages/cfe/estimation.py:451: FutureWarning:\n",
      "\n",
      "The frame.append method is deprecated and will be removed from pandas in a future version. Use pandas.concat instead.\n",
      "\n",
      "/opt/conda/lib/python3.9/site-packages/cfe/estimation.py:425: UserWarning:\n",
      "\n",
      "No variation in: (2003.0, 'Bukidnon')\n",
      "\n",
      "/opt/conda/lib/python3.9/site-packages/cfe/estimation.py:447: FutureWarning:\n",
      "\n",
      "The frame.append method is deprecated and will be removed from pandas in a future version. Use pandas.concat instead.\n",
      "\n",
      "/opt/conda/lib/python3.9/site-packages/cfe/estimation.py:451: FutureWarning:\n",
      "\n",
      "The frame.append method is deprecated and will be removed from pandas in a future version. Use pandas.concat instead.\n",
      "\n",
      "/opt/conda/lib/python3.9/site-packages/cfe/estimation.py:425: UserWarning:\n",
      "\n",
      "No variation in: (2003.0, 'Bukidnon')\n",
      "\n",
      "/opt/conda/lib/python3.9/site-packages/cfe/estimation.py:447: FutureWarning:\n",
      "\n",
      "The frame.append method is deprecated and will be removed from pandas in a future version. Use pandas.concat instead.\n",
      "\n",
      "/opt/conda/lib/python3.9/site-packages/cfe/estimation.py:451: FutureWarning:\n",
      "\n",
      "The frame.append method is deprecated and will be removed from pandas in a future version. Use pandas.concat instead.\n",
      "\n",
      "/opt/conda/lib/python3.9/site-packages/cfe/estimation.py:425: UserWarning:\n",
      "\n",
      "No variation in: (2003.0, 'Bukidnon')\n",
      "\n",
      "/opt/conda/lib/python3.9/site-packages/cfe/estimation.py:447: FutureWarning:\n",
      "\n",
      "The frame.append method is deprecated and will be removed from pandas in a future version. Use pandas.concat instead.\n",
      "\n",
      "/opt/conda/lib/python3.9/site-packages/cfe/estimation.py:451: FutureWarning:\n",
      "\n",
      "The frame.append method is deprecated and will be removed from pandas in a future version. Use pandas.concat instead.\n",
      "\n",
      "/opt/conda/lib/python3.9/site-packages/cfe/estimation.py:425: UserWarning:\n",
      "\n",
      "No variation in: (2003.0, 'Bukidnon')\n",
      "\n",
      "/opt/conda/lib/python3.9/site-packages/cfe/estimation.py:447: FutureWarning:\n",
      "\n",
      "The frame.append method is deprecated and will be removed from pandas in a future version. Use pandas.concat instead.\n",
      "\n",
      "/opt/conda/lib/python3.9/site-packages/cfe/estimation.py:451: FutureWarning:\n",
      "\n",
      "The frame.append method is deprecated and will be removed from pandas in a future version. Use pandas.concat instead.\n",
      "\n",
      "/opt/conda/lib/python3.9/site-packages/cfe/estimation.py:425: UserWarning:\n",
      "\n",
      "No variation in: (2003.0, 'Bukidnon')\n",
      "\n",
      "/opt/conda/lib/python3.9/site-packages/cfe/estimation.py:447: FutureWarning:\n",
      "\n",
      "The frame.append method is deprecated and will be removed from pandas in a future version. Use pandas.concat instead.\n",
      "\n",
      "/opt/conda/lib/python3.9/site-packages/cfe/estimation.py:451: FutureWarning:\n",
      "\n",
      "The frame.append method is deprecated and will be removed from pandas in a future version. Use pandas.concat instead.\n",
      "\n",
      "/opt/conda/lib/python3.9/site-packages/cfe/estimation.py:425: UserWarning:\n",
      "\n",
      "No variation in: (2003.0, 'Bukidnon')\n",
      "\n",
      "/opt/conda/lib/python3.9/site-packages/cfe/estimation.py:447: FutureWarning:\n",
      "\n",
      "The frame.append method is deprecated and will be removed from pandas in a future version. Use pandas.concat instead.\n",
      "\n",
      "/opt/conda/lib/python3.9/site-packages/cfe/estimation.py:451: FutureWarning:\n",
      "\n",
      "The frame.append method is deprecated and will be removed from pandas in a future version. Use pandas.concat instead.\n",
      "\n",
      "/opt/conda/lib/python3.9/site-packages/cfe/estimation.py:425: UserWarning:\n",
      "\n",
      "No variation in: (2003.0, 'Bukidnon')\n",
      "\n",
      "/opt/conda/lib/python3.9/site-packages/cfe/estimation.py:447: FutureWarning:\n",
      "\n",
      "The frame.append method is deprecated and will be removed from pandas in a future version. Use pandas.concat instead.\n",
      "\n",
      "/opt/conda/lib/python3.9/site-packages/cfe/estimation.py:451: FutureWarning:\n",
      "\n",
      "The frame.append method is deprecated and will be removed from pandas in a future version. Use pandas.concat instead.\n",
      "\n",
      "/opt/conda/lib/python3.9/site-packages/cfe/estimation.py:425: UserWarning:\n",
      "\n",
      "No variation in: (2003.0, 'Bukidnon')\n",
      "\n",
      "/opt/conda/lib/python3.9/site-packages/cfe/estimation.py:447: FutureWarning:\n",
      "\n",
      "The frame.append method is deprecated and will be removed from pandas in a future version. Use pandas.concat instead.\n",
      "\n",
      "/opt/conda/lib/python3.9/site-packages/cfe/estimation.py:451: FutureWarning:\n",
      "\n",
      "The frame.append method is deprecated and will be removed from pandas in a future version. Use pandas.concat instead.\n",
      "\n",
      "/opt/conda/lib/python3.9/site-packages/cfe/estimation.py:425: UserWarning:\n",
      "\n",
      "No variation in: (2003.0, 'Bukidnon')\n",
      "\n",
      "/opt/conda/lib/python3.9/site-packages/cfe/estimation.py:447: FutureWarning:\n",
      "\n",
      "The frame.append method is deprecated and will be removed from pandas in a future version. Use pandas.concat instead.\n",
      "\n",
      "/opt/conda/lib/python3.9/site-packages/cfe/estimation.py:451: FutureWarning:\n",
      "\n",
      "The frame.append method is deprecated and will be removed from pandas in a future version. Use pandas.concat instead.\n",
      "\n",
      "/opt/conda/lib/python3.9/site-packages/cfe/estimation.py:425: UserWarning:\n",
      "\n",
      "No variation in: (2003.0, 'Bukidnon')\n",
      "\n",
      "/opt/conda/lib/python3.9/site-packages/cfe/estimation.py:447: FutureWarning:\n",
      "\n",
      "The frame.append method is deprecated and will be removed from pandas in a future version. Use pandas.concat instead.\n",
      "\n",
      "/opt/conda/lib/python3.9/site-packages/cfe/estimation.py:451: FutureWarning:\n",
      "\n",
      "The frame.append method is deprecated and will be removed from pandas in a future version. Use pandas.concat instead.\n",
      "\n",
      "/opt/conda/lib/python3.9/site-packages/cfe/estimation.py:425: UserWarning:\n",
      "\n",
      "No variation in: (2003.0, 'Bukidnon')\n",
      "\n",
      "/opt/conda/lib/python3.9/site-packages/cfe/estimation.py:447: FutureWarning:\n",
      "\n",
      "The frame.append method is deprecated and will be removed from pandas in a future version. Use pandas.concat instead.\n",
      "\n",
      "/opt/conda/lib/python3.9/site-packages/cfe/estimation.py:451: FutureWarning:\n",
      "\n",
      "The frame.append method is deprecated and will be removed from pandas in a future version. Use pandas.concat instead.\n",
      "\n",
      "/opt/conda/lib/python3.9/site-packages/cfe/estimation.py:425: UserWarning:\n",
      "\n",
      "No variation in: (2003.0, 'Bukidnon')\n",
      "\n",
      "/opt/conda/lib/python3.9/site-packages/cfe/estimation.py:447: FutureWarning:\n",
      "\n",
      "The frame.append method is deprecated and will be removed from pandas in a future version. Use pandas.concat instead.\n",
      "\n",
      "/opt/conda/lib/python3.9/site-packages/cfe/estimation.py:451: FutureWarning:\n",
      "\n",
      "The frame.append method is deprecated and will be removed from pandas in a future version. Use pandas.concat instead.\n",
      "\n",
      "/opt/conda/lib/python3.9/site-packages/cfe/estimation.py:425: UserWarning:\n",
      "\n",
      "No variation in: (2003.0, 'Bukidnon')\n",
      "\n",
      "/opt/conda/lib/python3.9/site-packages/cfe/estimation.py:447: FutureWarning:\n",
      "\n",
      "The frame.append method is deprecated and will be removed from pandas in a future version. Use pandas.concat instead.\n",
      "\n",
      "/opt/conda/lib/python3.9/site-packages/cfe/estimation.py:451: FutureWarning:\n",
      "\n",
      "The frame.append method is deprecated and will be removed from pandas in a future version. Use pandas.concat instead.\n",
      "\n",
      "/opt/conda/lib/python3.9/site-packages/cfe/estimation.py:425: UserWarning:\n",
      "\n",
      "No variation in: (2003.0, 'Bukidnon')\n",
      "\n",
      "/opt/conda/lib/python3.9/site-packages/cfe/estimation.py:447: FutureWarning:\n",
      "\n",
      "The frame.append method is deprecated and will be removed from pandas in a future version. Use pandas.concat instead.\n",
      "\n",
      "/opt/conda/lib/python3.9/site-packages/cfe/estimation.py:451: FutureWarning:\n",
      "\n",
      "The frame.append method is deprecated and will be removed from pandas in a future version. Use pandas.concat instead.\n",
      "\n",
      "/opt/conda/lib/python3.9/site-packages/cfe/estimation.py:425: UserWarning:\n",
      "\n",
      "No variation in: (2003.0, 'Bukidnon')\n",
      "\n",
      "/opt/conda/lib/python3.9/site-packages/cfe/estimation.py:447: FutureWarning:\n",
      "\n",
      "The frame.append method is deprecated and will be removed from pandas in a future version. Use pandas.concat instead.\n",
      "\n",
      "/opt/conda/lib/python3.9/site-packages/cfe/estimation.py:451: FutureWarning:\n",
      "\n",
      "The frame.append method is deprecated and will be removed from pandas in a future version. Use pandas.concat instead.\n",
      "\n",
      "/opt/conda/lib/python3.9/site-packages/cfe/estimation.py:425: UserWarning:\n",
      "\n",
      "No variation in: (2003.0, 'Bukidnon')\n",
      "\n",
      "/opt/conda/lib/python3.9/site-packages/cfe/estimation.py:447: FutureWarning:\n",
      "\n",
      "The frame.append method is deprecated and will be removed from pandas in a future version. Use pandas.concat instead.\n",
      "\n",
      "/opt/conda/lib/python3.9/site-packages/cfe/estimation.py:451: FutureWarning:\n",
      "\n",
      "The frame.append method is deprecated and will be removed from pandas in a future version. Use pandas.concat instead.\n",
      "\n",
      "/opt/conda/lib/python3.9/site-packages/cfe/estimation.py:425: UserWarning:\n",
      "\n",
      "No variation in: (2003.0, 'Bukidnon')\n",
      "\n",
      "/opt/conda/lib/python3.9/site-packages/cfe/estimation.py:447: FutureWarning:\n",
      "\n",
      "The frame.append method is deprecated and will be removed from pandas in a future version. Use pandas.concat instead.\n",
      "\n",
      "/opt/conda/lib/python3.9/site-packages/cfe/estimation.py:451: FutureWarning:\n",
      "\n",
      "The frame.append method is deprecated and will be removed from pandas in a future version. Use pandas.concat instead.\n",
      "\n",
      "/opt/conda/lib/python3.9/site-packages/cfe/estimation.py:425: UserWarning:\n",
      "\n",
      "No variation in: (2003.0, 'Bukidnon')\n",
      "\n",
      "/opt/conda/lib/python3.9/site-packages/cfe/estimation.py:447: FutureWarning:\n",
      "\n",
      "The frame.append method is deprecated and will be removed from pandas in a future version. Use pandas.concat instead.\n",
      "\n",
      "/opt/conda/lib/python3.9/site-packages/cfe/estimation.py:451: FutureWarning:\n",
      "\n",
      "The frame.append method is deprecated and will be removed from pandas in a future version. Use pandas.concat instead.\n",
      "\n",
      "/opt/conda/lib/python3.9/site-packages/cfe/estimation.py:425: UserWarning:\n",
      "\n",
      "No variation in: (2003.0, 'Bukidnon')\n",
      "\n",
      "/opt/conda/lib/python3.9/site-packages/cfe/estimation.py:447: FutureWarning:\n",
      "\n",
      "The frame.append method is deprecated and will be removed from pandas in a future version. Use pandas.concat instead.\n",
      "\n",
      "/opt/conda/lib/python3.9/site-packages/cfe/estimation.py:451: FutureWarning:\n",
      "\n",
      "The frame.append method is deprecated and will be removed from pandas in a future version. Use pandas.concat instead.\n",
      "\n",
      "/opt/conda/lib/python3.9/site-packages/cfe/estimation.py:425: UserWarning:\n",
      "\n",
      "No variation in: (2003.0, 'Bukidnon')\n",
      "\n",
      "/opt/conda/lib/python3.9/site-packages/cfe/estimation.py:447: FutureWarning:\n",
      "\n",
      "The frame.append method is deprecated and will be removed from pandas in a future version. Use pandas.concat instead.\n",
      "\n",
      "/opt/conda/lib/python3.9/site-packages/cfe/estimation.py:451: FutureWarning:\n",
      "\n",
      "The frame.append method is deprecated and will be removed from pandas in a future version. Use pandas.concat instead.\n",
      "\n",
      "/opt/conda/lib/python3.9/site-packages/cfe/estimation.py:425: UserWarning:\n",
      "\n",
      "No variation in: (2003.0, 'Bukidnon')\n",
      "\n",
      "/opt/conda/lib/python3.9/site-packages/cfe/estimation.py:447: FutureWarning:\n",
      "\n",
      "The frame.append method is deprecated and will be removed from pandas in a future version. Use pandas.concat instead.\n",
      "\n",
      "/opt/conda/lib/python3.9/site-packages/cfe/estimation.py:451: FutureWarning:\n",
      "\n",
      "The frame.append method is deprecated and will be removed from pandas in a future version. Use pandas.concat instead.\n",
      "\n",
      "/opt/conda/lib/python3.9/site-packages/cfe/estimation.py:425: UserWarning:\n",
      "\n",
      "No variation in: (2003.0, 'Bukidnon')\n",
      "\n",
      "/opt/conda/lib/python3.9/site-packages/cfe/estimation.py:447: FutureWarning:\n",
      "\n",
      "The frame.append method is deprecated and will be removed from pandas in a future version. Use pandas.concat instead.\n",
      "\n",
      "/opt/conda/lib/python3.9/site-packages/cfe/estimation.py:451: FutureWarning:\n",
      "\n",
      "The frame.append method is deprecated and will be removed from pandas in a future version. Use pandas.concat instead.\n",
      "\n",
      "/opt/conda/lib/python3.9/site-packages/cfe/estimation.py:425: UserWarning:\n",
      "\n",
      "No variation in: (2003.0, 'Bukidnon')\n",
      "\n",
      "/opt/conda/lib/python3.9/site-packages/cfe/estimation.py:447: FutureWarning:\n",
      "\n",
      "The frame.append method is deprecated and will be removed from pandas in a future version. Use pandas.concat instead.\n",
      "\n",
      "/opt/conda/lib/python3.9/site-packages/cfe/estimation.py:451: FutureWarning:\n",
      "\n",
      "The frame.append method is deprecated and will be removed from pandas in a future version. Use pandas.concat instead.\n",
      "\n",
      "/opt/conda/lib/python3.9/site-packages/cfe/estimation.py:425: UserWarning:\n",
      "\n",
      "No variation in: (2003.0, 'Bukidnon')\n",
      "\n",
      "/opt/conda/lib/python3.9/site-packages/cfe/estimation.py:447: FutureWarning:\n",
      "\n",
      "The frame.append method is deprecated and will be removed from pandas in a future version. Use pandas.concat instead.\n",
      "\n",
      "/opt/conda/lib/python3.9/site-packages/cfe/estimation.py:451: FutureWarning:\n",
      "\n",
      "The frame.append method is deprecated and will be removed from pandas in a future version. Use pandas.concat instead.\n",
      "\n",
      "/opt/conda/lib/python3.9/site-packages/cfe/estimation.py:425: UserWarning:\n",
      "\n",
      "No variation in: (2003.0, 'Bukidnon')\n",
      "\n",
      "/opt/conda/lib/python3.9/site-packages/cfe/estimation.py:447: FutureWarning:\n",
      "\n",
      "The frame.append method is deprecated and will be removed from pandas in a future version. Use pandas.concat instead.\n",
      "\n",
      "/opt/conda/lib/python3.9/site-packages/cfe/estimation.py:451: FutureWarning:\n",
      "\n",
      "The frame.append method is deprecated and will be removed from pandas in a future version. Use pandas.concat instead.\n",
      "\n",
      "/opt/conda/lib/python3.9/site-packages/cfe/estimation.py:425: UserWarning:\n",
      "\n",
      "No variation in: (2003.0, 'Bukidnon')\n",
      "\n",
      "/opt/conda/lib/python3.9/site-packages/cfe/estimation.py:447: FutureWarning:\n",
      "\n",
      "The frame.append method is deprecated and will be removed from pandas in a future version. Use pandas.concat instead.\n",
      "\n",
      "/opt/conda/lib/python3.9/site-packages/cfe/estimation.py:451: FutureWarning:\n",
      "\n",
      "The frame.append method is deprecated and will be removed from pandas in a future version. Use pandas.concat instead.\n",
      "\n",
      "/opt/conda/lib/python3.9/site-packages/cfe/estimation.py:425: UserWarning:\n",
      "\n",
      "No variation in: (2003.0, 'Bukidnon')\n",
      "\n",
      "/opt/conda/lib/python3.9/site-packages/cfe/estimation.py:447: FutureWarning:\n",
      "\n",
      "The frame.append method is deprecated and will be removed from pandas in a future version. Use pandas.concat instead.\n",
      "\n",
      "/opt/conda/lib/python3.9/site-packages/cfe/estimation.py:451: FutureWarning:\n",
      "\n",
      "The frame.append method is deprecated and will be removed from pandas in a future version. Use pandas.concat instead.\n",
      "\n"
     ]
    },
    {
     "data": {
      "text/html": [
       "<div>\n",
       "<style scoped>\n",
       "    .dataframe tbody tr th:only-of-type {\n",
       "        vertical-align: middle;\n",
       "    }\n",
       "\n",
       "    .dataframe tbody tr th {\n",
       "        vertical-align: top;\n",
       "    }\n",
       "\n",
       "    .dataframe thead tr th {\n",
       "        text-align: left;\n",
       "    }\n",
       "\n",
       "    .dataframe thead tr:last-of-type th {\n",
       "        text-align: right;\n",
       "    }\n",
       "</style>\n",
       "<table border=\"1\" class=\"dataframe\">\n",
       "  <thead>\n",
       "    <tr>\n",
       "      <th></th>\n",
       "      <th colspan=\"19\" halign=\"left\">delta</th>\n",
       "    </tr>\n",
       "    <tr>\n",
       "      <th>k</th>\n",
       "      <th>Males 0-1</th>\n",
       "      <th>Males 1-5</th>\n",
       "      <th>Males 5-10</th>\n",
       "      <th>Males 10-15</th>\n",
       "      <th>Males 15-20</th>\n",
       "      <th>Males 20-30</th>\n",
       "      <th>Males 30-50</th>\n",
       "      <th>Males 50-60</th>\n",
       "      <th>Males 60-100</th>\n",
       "      <th>Females 0-1</th>\n",
       "      <th>Females 1-5</th>\n",
       "      <th>Females 5-10</th>\n",
       "      <th>Females 10-15</th>\n",
       "      <th>Females 15-20</th>\n",
       "      <th>Females 20-30</th>\n",
       "      <th>Females 30-50</th>\n",
       "      <th>Females 50-60</th>\n",
       "      <th>Females 60-100</th>\n",
       "      <th>log HSize</th>\n",
       "    </tr>\n",
       "    <tr>\n",
       "      <th>i</th>\n",
       "      <th></th>\n",
       "      <th></th>\n",
       "      <th></th>\n",
       "      <th></th>\n",
       "      <th></th>\n",
       "      <th></th>\n",
       "      <th></th>\n",
       "      <th></th>\n",
       "      <th></th>\n",
       "      <th></th>\n",
       "      <th></th>\n",
       "      <th></th>\n",
       "      <th></th>\n",
       "      <th></th>\n",
       "      <th></th>\n",
       "      <th></th>\n",
       "      <th></th>\n",
       "      <th></th>\n",
       "      <th></th>\n",
       "    </tr>\n",
       "  </thead>\n",
       "  <tbody>\n",
       "    <tr>\n",
       "      <th>Bagoong</th>\n",
       "      <td>-0.052586</td>\n",
       "      <td>0.089283</td>\n",
       "      <td>0.065798</td>\n",
       "      <td>0.011462</td>\n",
       "      <td>0.056962</td>\n",
       "      <td>0.055763</td>\n",
       "      <td>0.052315</td>\n",
       "      <td>0.150561</td>\n",
       "      <td>0.145713</td>\n",
       "      <td>-0.304610</td>\n",
       "      <td>-0.020627</td>\n",
       "      <td>0.156208</td>\n",
       "      <td>0.046418</td>\n",
       "      <td>0.083532</td>\n",
       "      <td>-0.115860</td>\n",
       "      <td>0.023069</td>\n",
       "      <td>0.009395</td>\n",
       "      <td>-0.186994</td>\n",
       "      <td>0.258258</td>\n",
       "    </tr>\n",
       "    <tr>\n",
       "      <th>Banana</th>\n",
       "      <td>0.278559</td>\n",
       "      <td>0.272695</td>\n",
       "      <td>0.196990</td>\n",
       "      <td>0.316267</td>\n",
       "      <td>-0.076913</td>\n",
       "      <td>0.146409</td>\n",
       "      <td>-0.026650</td>\n",
       "      <td>0.064513</td>\n",
       "      <td>0.339652</td>\n",
       "      <td>0.118409</td>\n",
       "      <td>0.072187</td>\n",
       "      <td>0.272715</td>\n",
       "      <td>0.071651</td>\n",
       "      <td>0.102375</td>\n",
       "      <td>0.102706</td>\n",
       "      <td>0.283883</td>\n",
       "      <td>0.281669</td>\n",
       "      <td>0.253598</td>\n",
       "      <td>-0.825994</td>\n",
       "    </tr>\n",
       "    <tr>\n",
       "      <th>Beef</th>\n",
       "      <td>0.244980</td>\n",
       "      <td>0.050033</td>\n",
       "      <td>-0.042359</td>\n",
       "      <td>0.088629</td>\n",
       "      <td>-0.030781</td>\n",
       "      <td>0.093310</td>\n",
       "      <td>0.192749</td>\n",
       "      <td>0.410474</td>\n",
       "      <td>0.095913</td>\n",
       "      <td>0.066491</td>\n",
       "      <td>-0.009593</td>\n",
       "      <td>0.013613</td>\n",
       "      <td>-0.032711</td>\n",
       "      <td>0.098828</td>\n",
       "      <td>0.000930</td>\n",
       "      <td>0.039877</td>\n",
       "      <td>-0.243199</td>\n",
       "      <td>-0.138555</td>\n",
       "      <td>-0.144313</td>\n",
       "    </tr>\n",
       "    <tr>\n",
       "      <th>Carrots</th>\n",
       "      <td>0.183419</td>\n",
       "      <td>0.165941</td>\n",
       "      <td>-0.061971</td>\n",
       "      <td>-0.163690</td>\n",
       "      <td>-0.001757</td>\n",
       "      <td>-0.186753</td>\n",
       "      <td>-0.081557</td>\n",
       "      <td>-0.288267</td>\n",
       "      <td>0.172051</td>\n",
       "      <td>0.037546</td>\n",
       "      <td>0.013946</td>\n",
       "      <td>-0.150419</td>\n",
       "      <td>-0.036879</td>\n",
       "      <td>0.154457</td>\n",
       "      <td>0.065406</td>\n",
       "      <td>0.358634</td>\n",
       "      <td>0.372103</td>\n",
       "      <td>0.032209</td>\n",
       "      <td>0.031074</td>\n",
       "    </tr>\n",
       "    <tr>\n",
       "      <th>Chicken</th>\n",
       "      <td>0.018365</td>\n",
       "      <td>0.035918</td>\n",
       "      <td>0.147542</td>\n",
       "      <td>-0.143412</td>\n",
       "      <td>-0.048649</td>\n",
       "      <td>-0.009357</td>\n",
       "      <td>-0.019813</td>\n",
       "      <td>-0.051411</td>\n",
       "      <td>-0.271361</td>\n",
       "      <td>-0.302186</td>\n",
       "      <td>-0.352860</td>\n",
       "      <td>0.132334</td>\n",
       "      <td>-0.043431</td>\n",
       "      <td>-0.034519</td>\n",
       "      <td>0.102761</td>\n",
       "      <td>0.047744</td>\n",
       "      <td>0.168608</td>\n",
       "      <td>0.347631</td>\n",
       "      <td>0.617060</td>\n",
       "    </tr>\n",
       "    <tr>\n",
       "      <th>Coffee</th>\n",
       "      <td>-0.058852</td>\n",
       "      <td>0.038269</td>\n",
       "      <td>0.231706</td>\n",
       "      <td>0.160834</td>\n",
       "      <td>0.064147</td>\n",
       "      <td>0.123887</td>\n",
       "      <td>0.113672</td>\n",
       "      <td>0.192744</td>\n",
       "      <td>0.145081</td>\n",
       "      <td>-0.018361</td>\n",
       "      <td>0.012409</td>\n",
       "      <td>0.231020</td>\n",
       "      <td>-0.103322</td>\n",
       "      <td>0.240229</td>\n",
       "      <td>0.091206</td>\n",
       "      <td>0.110488</td>\n",
       "      <td>0.282832</td>\n",
       "      <td>-0.158403</td>\n",
       "      <td>-0.423947</td>\n",
       "    </tr>\n",
       "    <tr>\n",
       "      <th>Cooking oil</th>\n",
       "      <td>-0.091010</td>\n",
       "      <td>0.017945</td>\n",
       "      <td>0.018754</td>\n",
       "      <td>0.053295</td>\n",
       "      <td>-0.086268</td>\n",
       "      <td>0.079796</td>\n",
       "      <td>0.063100</td>\n",
       "      <td>-0.123169</td>\n",
       "      <td>-0.062188</td>\n",
       "      <td>0.020323</td>\n",
       "      <td>-0.163680</td>\n",
       "      <td>0.042059</td>\n",
       "      <td>0.066458</td>\n",
       "      <td>-0.023037</td>\n",
       "      <td>0.133549</td>\n",
       "      <td>0.180430</td>\n",
       "      <td>0.189452</td>\n",
       "      <td>-0.177885</td>\n",
       "      <td>-0.126177</td>\n",
       "    </tr>\n",
       "    <tr>\n",
       "      <th>Eggs</th>\n",
       "      <td>0.019769</td>\n",
       "      <td>0.066225</td>\n",
       "      <td>0.367595</td>\n",
       "      <td>0.102196</td>\n",
       "      <td>0.029464</td>\n",
       "      <td>0.096920</td>\n",
       "      <td>0.083571</td>\n",
       "      <td>0.147147</td>\n",
       "      <td>0.030699</td>\n",
       "      <td>0.084261</td>\n",
       "      <td>0.029775</td>\n",
       "      <td>0.206686</td>\n",
       "      <td>0.051302</td>\n",
       "      <td>0.113746</td>\n",
       "      <td>0.132489</td>\n",
       "      <td>0.117657</td>\n",
       "      <td>0.228364</td>\n",
       "      <td>0.084131</td>\n",
       "      <td>-0.489300</td>\n",
       "    </tr>\n",
       "    <tr>\n",
       "      <th>Food made from flour</th>\n",
       "      <td>0.434690</td>\n",
       "      <td>0.293566</td>\n",
       "      <td>0.090052</td>\n",
       "      <td>0.042008</td>\n",
       "      <td>-0.003291</td>\n",
       "      <td>0.088140</td>\n",
       "      <td>0.075945</td>\n",
       "      <td>0.246012</td>\n",
       "      <td>0.376925</td>\n",
       "      <td>0.025170</td>\n",
       "      <td>0.110681</td>\n",
       "      <td>0.285798</td>\n",
       "      <td>0.100342</td>\n",
       "      <td>0.158163</td>\n",
       "      <td>0.002600</td>\n",
       "      <td>0.162844</td>\n",
       "      <td>0.167746</td>\n",
       "      <td>-0.051424</td>\n",
       "      <td>-0.394853</td>\n",
       "    </tr>\n",
       "    <tr>\n",
       "      <th>Fresh fish</th>\n",
       "      <td>0.130574</td>\n",
       "      <td>0.010539</td>\n",
       "      <td>0.053574</td>\n",
       "      <td>-0.005981</td>\n",
       "      <td>-0.029088</td>\n",
       "      <td>0.096910</td>\n",
       "      <td>0.168922</td>\n",
       "      <td>0.080256</td>\n",
       "      <td>0.036342</td>\n",
       "      <td>0.058406</td>\n",
       "      <td>0.052256</td>\n",
       "      <td>0.087354</td>\n",
       "      <td>0.011968</td>\n",
       "      <td>-0.006919</td>\n",
       "      <td>0.054065</td>\n",
       "      <td>0.164297</td>\n",
       "      <td>0.264246</td>\n",
       "      <td>-0.196284</td>\n",
       "      <td>-0.104932</td>\n",
       "    </tr>\n",
       "    <tr>\n",
       "      <th>Mangoes</th>\n",
       "      <td>-0.397406</td>\n",
       "      <td>-0.084732</td>\n",
       "      <td>0.241306</td>\n",
       "      <td>0.127841</td>\n",
       "      <td>-0.164210</td>\n",
       "      <td>0.231745</td>\n",
       "      <td>-0.132155</td>\n",
       "      <td>-0.496802</td>\n",
       "      <td>-0.224149</td>\n",
       "      <td>0.085184</td>\n",
       "      <td>0.182304</td>\n",
       "      <td>0.421254</td>\n",
       "      <td>0.100090</td>\n",
       "      <td>0.029866</td>\n",
       "      <td>0.314548</td>\n",
       "      <td>-0.041441</td>\n",
       "      <td>0.226639</td>\n",
       "      <td>0.600651</td>\n",
       "      <td>-0.422722</td>\n",
       "    </tr>\n",
       "    <tr>\n",
       "      <th>Milk</th>\n",
       "      <td>0.820564</td>\n",
       "      <td>0.361618</td>\n",
       "      <td>0.103016</td>\n",
       "      <td>0.066093</td>\n",
       "      <td>0.020440</td>\n",
       "      <td>0.076477</td>\n",
       "      <td>0.107197</td>\n",
       "      <td>-0.142064</td>\n",
       "      <td>0.233966</td>\n",
       "      <td>0.454836</td>\n",
       "      <td>0.413555</td>\n",
       "      <td>0.033264</td>\n",
       "      <td>0.100576</td>\n",
       "      <td>-0.039398</td>\n",
       "      <td>-0.010409</td>\n",
       "      <td>0.166154</td>\n",
       "      <td>0.179868</td>\n",
       "      <td>0.047118</td>\n",
       "      <td>-0.398009</td>\n",
       "    </tr>\n",
       "    <tr>\n",
       "      <th>Milo</th>\n",
       "      <td>0.460210</td>\n",
       "      <td>0.247974</td>\n",
       "      <td>0.299534</td>\n",
       "      <td>-0.003649</td>\n",
       "      <td>-0.119407</td>\n",
       "      <td>0.084963</td>\n",
       "      <td>0.053232</td>\n",
       "      <td>-0.069152</td>\n",
       "      <td>0.049873</td>\n",
       "      <td>-0.081839</td>\n",
       "      <td>0.041502</td>\n",
       "      <td>0.190186</td>\n",
       "      <td>-0.134986</td>\n",
       "      <td>0.085282</td>\n",
       "      <td>0.046031</td>\n",
       "      <td>0.141580</td>\n",
       "      <td>0.374875</td>\n",
       "      <td>0.050498</td>\n",
       "      <td>-0.377068</td>\n",
       "    </tr>\n",
       "    <tr>\n",
       "      <th>Mongo and other products</th>\n",
       "      <td>0.009415</td>\n",
       "      <td>0.107997</td>\n",
       "      <td>0.117028</td>\n",
       "      <td>0.155551</td>\n",
       "      <td>0.070669</td>\n",
       "      <td>0.038451</td>\n",
       "      <td>0.080071</td>\n",
       "      <td>-0.232250</td>\n",
       "      <td>0.032940</td>\n",
       "      <td>0.006841</td>\n",
       "      <td>-0.009342</td>\n",
       "      <td>-0.040290</td>\n",
       "      <td>0.033654</td>\n",
       "      <td>0.010762</td>\n",
       "      <td>-0.008522</td>\n",
       "      <td>0.003473</td>\n",
       "      <td>0.338646</td>\n",
       "      <td>-0.233136</td>\n",
       "      <td>-0.015198</td>\n",
       "    </tr>\n",
       "    <tr>\n",
       "      <th>Onions</th>\n",
       "      <td>-0.045512</td>\n",
       "      <td>0.097334</td>\n",
       "      <td>0.150064</td>\n",
       "      <td>0.027315</td>\n",
       "      <td>-0.002401</td>\n",
       "      <td>0.112359</td>\n",
       "      <td>0.163205</td>\n",
       "      <td>0.107409</td>\n",
       "      <td>-0.075382</td>\n",
       "      <td>-0.001738</td>\n",
       "      <td>0.012705</td>\n",
       "      <td>0.121290</td>\n",
       "      <td>0.008116</td>\n",
       "      <td>0.089442</td>\n",
       "      <td>0.122124</td>\n",
       "      <td>0.154014</td>\n",
       "      <td>0.109873</td>\n",
       "      <td>0.039759</td>\n",
       "      <td>-0.347735</td>\n",
       "    </tr>\n",
       "    <tr>\n",
       "      <th>Peanut</th>\n",
       "      <td>0.488951</td>\n",
       "      <td>0.043896</td>\n",
       "      <td>-0.020618</td>\n",
       "      <td>0.263970</td>\n",
       "      <td>0.000398</td>\n",
       "      <td>-0.111416</td>\n",
       "      <td>0.266655</td>\n",
       "      <td>0.656198</td>\n",
       "      <td>0.504409</td>\n",
       "      <td>-0.705896</td>\n",
       "      <td>0.103310</td>\n",
       "      <td>-0.333439</td>\n",
       "      <td>-0.085429</td>\n",
       "      <td>-0.371741</td>\n",
       "      <td>-0.179587</td>\n",
       "      <td>-0.025812</td>\n",
       "      <td>-0.232938</td>\n",
       "      <td>-0.430170</td>\n",
       "      <td>0.673892</td>\n",
       "    </tr>\n",
       "    <tr>\n",
       "      <th>Pork</th>\n",
       "      <td>-0.017141</td>\n",
       "      <td>0.105049</td>\n",
       "      <td>0.102637</td>\n",
       "      <td>-0.061391</td>\n",
       "      <td>0.058725</td>\n",
       "      <td>0.151612</td>\n",
       "      <td>0.139431</td>\n",
       "      <td>-0.028384</td>\n",
       "      <td>0.247558</td>\n",
       "      <td>-0.192850</td>\n",
       "      <td>0.100719</td>\n",
       "      <td>-0.027145</td>\n",
       "      <td>0.004325</td>\n",
       "      <td>0.055232</td>\n",
       "      <td>0.064341</td>\n",
       "      <td>0.023159</td>\n",
       "      <td>-0.199322</td>\n",
       "      <td>-0.139107</td>\n",
       "      <td>0.067326</td>\n",
       "    </tr>\n",
       "    <tr>\n",
       "      <th>Potato</th>\n",
       "      <td>0.006234</td>\n",
       "      <td>0.180211</td>\n",
       "      <td>0.085991</td>\n",
       "      <td>0.040708</td>\n",
       "      <td>0.298404</td>\n",
       "      <td>0.046992</td>\n",
       "      <td>0.135469</td>\n",
       "      <td>-0.196653</td>\n",
       "      <td>0.124944</td>\n",
       "      <td>-0.294192</td>\n",
       "      <td>-0.157375</td>\n",
       "      <td>0.401256</td>\n",
       "      <td>-0.076116</td>\n",
       "      <td>0.198967</td>\n",
       "      <td>0.130239</td>\n",
       "      <td>0.045855</td>\n",
       "      <td>0.289265</td>\n",
       "      <td>0.242072</td>\n",
       "      <td>-0.489266</td>\n",
       "    </tr>\n",
       "    <tr>\n",
       "      <th>Processed meat like longanisa</th>\n",
       "      <td>0.431187</td>\n",
       "      <td>0.165657</td>\n",
       "      <td>0.041557</td>\n",
       "      <td>0.063137</td>\n",
       "      <td>0.141905</td>\n",
       "      <td>0.105056</td>\n",
       "      <td>0.234222</td>\n",
       "      <td>0.007881</td>\n",
       "      <td>0.021275</td>\n",
       "      <td>-0.033387</td>\n",
       "      <td>0.159841</td>\n",
       "      <td>0.146651</td>\n",
       "      <td>0.290579</td>\n",
       "      <td>-0.005356</td>\n",
       "      <td>0.070477</td>\n",
       "      <td>0.090899</td>\n",
       "      <td>0.268029</td>\n",
       "      <td>0.049508</td>\n",
       "      <td>-0.539346</td>\n",
       "    </tr>\n",
       "    <tr>\n",
       "      <th>Rice</th>\n",
       "      <td>-0.065102</td>\n",
       "      <td>0.026028</td>\n",
       "      <td>0.080856</td>\n",
       "      <td>-0.073210</td>\n",
       "      <td>0.034848</td>\n",
       "      <td>-0.058768</td>\n",
       "      <td>-0.024102</td>\n",
       "      <td>0.252079</td>\n",
       "      <td>0.224175</td>\n",
       "      <td>0.203616</td>\n",
       "      <td>0.069670</td>\n",
       "      <td>0.143117</td>\n",
       "      <td>-0.101642</td>\n",
       "      <td>0.018337</td>\n",
       "      <td>-0.027868</td>\n",
       "      <td>0.031629</td>\n",
       "      <td>-0.099296</td>\n",
       "      <td>0.096652</td>\n",
       "      <td>0.175256</td>\n",
       "    </tr>\n",
       "    <tr>\n",
       "      <th>Salt</th>\n",
       "      <td>0.064970</td>\n",
       "      <td>-0.003386</td>\n",
       "      <td>0.071360</td>\n",
       "      <td>0.032116</td>\n",
       "      <td>0.018659</td>\n",
       "      <td>0.007026</td>\n",
       "      <td>0.023866</td>\n",
       "      <td>-0.023493</td>\n",
       "      <td>0.147694</td>\n",
       "      <td>0.223669</td>\n",
       "      <td>-0.000405</td>\n",
       "      <td>0.160696</td>\n",
       "      <td>-0.032557</td>\n",
       "      <td>-0.021586</td>\n",
       "      <td>-0.021363</td>\n",
       "      <td>0.009297</td>\n",
       "      <td>0.066931</td>\n",
       "      <td>-0.160535</td>\n",
       "      <td>0.144733</td>\n",
       "    </tr>\n",
       "    <tr>\n",
       "      <th>Sardines</th>\n",
       "      <td>0.017602</td>\n",
       "      <td>-0.084372</td>\n",
       "      <td>0.046664</td>\n",
       "      <td>0.126609</td>\n",
       "      <td>0.055462</td>\n",
       "      <td>0.066516</td>\n",
       "      <td>0.088175</td>\n",
       "      <td>0.151457</td>\n",
       "      <td>0.047654</td>\n",
       "      <td>0.018857</td>\n",
       "      <td>0.070770</td>\n",
       "      <td>0.113360</td>\n",
       "      <td>0.148142</td>\n",
       "      <td>-0.029605</td>\n",
       "      <td>-0.037364</td>\n",
       "      <td>-0.029076</td>\n",
       "      <td>-0.024806</td>\n",
       "      <td>-0.221160</td>\n",
       "      <td>0.152226</td>\n",
       "    </tr>\n",
       "    <tr>\n",
       "      <th>Sea weed</th>\n",
       "      <td>0.413241</td>\n",
       "      <td>0.064980</td>\n",
       "      <td>0.019803</td>\n",
       "      <td>-0.153630</td>\n",
       "      <td>0.104949</td>\n",
       "      <td>0.112576</td>\n",
       "      <td>-0.061884</td>\n",
       "      <td>0.000190</td>\n",
       "      <td>-0.065251</td>\n",
       "      <td>-0.937852</td>\n",
       "      <td>0.049253</td>\n",
       "      <td>0.027932</td>\n",
       "      <td>-0.191589</td>\n",
       "      <td>-0.222523</td>\n",
       "      <td>0.049303</td>\n",
       "      <td>0.157836</td>\n",
       "      <td>0.075260</td>\n",
       "      <td>-0.025967</td>\n",
       "      <td>-0.019648</td>\n",
       "    </tr>\n",
       "    <tr>\n",
       "      <th>Soybean and other products</th>\n",
       "      <td>-0.047680</td>\n",
       "      <td>0.076096</td>\n",
       "      <td>0.212107</td>\n",
       "      <td>0.159771</td>\n",
       "      <td>0.044666</td>\n",
       "      <td>0.098712</td>\n",
       "      <td>0.087658</td>\n",
       "      <td>0.164728</td>\n",
       "      <td>0.124471</td>\n",
       "      <td>0.029895</td>\n",
       "      <td>0.064985</td>\n",
       "      <td>0.123860</td>\n",
       "      <td>0.071439</td>\n",
       "      <td>0.095700</td>\n",
       "      <td>0.189656</td>\n",
       "      <td>0.227529</td>\n",
       "      <td>0.042553</td>\n",
       "      <td>-0.032118</td>\n",
       "      <td>-0.615324</td>\n",
       "    </tr>\n",
       "    <tr>\n",
       "      <th>Squash</th>\n",
       "      <td>0.294856</td>\n",
       "      <td>-0.068069</td>\n",
       "      <td>0.176868</td>\n",
       "      <td>0.139939</td>\n",
       "      <td>0.139355</td>\n",
       "      <td>0.198455</td>\n",
       "      <td>0.061511</td>\n",
       "      <td>0.052592</td>\n",
       "      <td>0.222905</td>\n",
       "      <td>-0.220856</td>\n",
       "      <td>0.171372</td>\n",
       "      <td>0.210821</td>\n",
       "      <td>0.159589</td>\n",
       "      <td>0.156439</td>\n",
       "      <td>0.165964</td>\n",
       "      <td>0.199056</td>\n",
       "      <td>0.204360</td>\n",
       "      <td>0.079451</td>\n",
       "      <td>-0.845075</td>\n",
       "    </tr>\n",
       "    <tr>\n",
       "      <th>Sugar</th>\n",
       "      <td>0.136165</td>\n",
       "      <td>0.085078</td>\n",
       "      <td>0.151161</td>\n",
       "      <td>0.045844</td>\n",
       "      <td>0.050457</td>\n",
       "      <td>0.060597</td>\n",
       "      <td>0.053771</td>\n",
       "      <td>0.113422</td>\n",
       "      <td>0.157390</td>\n",
       "      <td>-0.111628</td>\n",
       "      <td>0.130969</td>\n",
       "      <td>0.174467</td>\n",
       "      <td>0.095933</td>\n",
       "      <td>0.008514</td>\n",
       "      <td>0.088608</td>\n",
       "      <td>0.119750</td>\n",
       "      <td>0.066680</td>\n",
       "      <td>-0.126630</td>\n",
       "      <td>-0.103085</td>\n",
       "    </tr>\n",
       "    <tr>\n",
       "      <th>Sweet potato</th>\n",
       "      <td>0.024748</td>\n",
       "      <td>0.020639</td>\n",
       "      <td>0.262147</td>\n",
       "      <td>0.126730</td>\n",
       "      <td>0.095068</td>\n",
       "      <td>0.064354</td>\n",
       "      <td>0.075943</td>\n",
       "      <td>0.506645</td>\n",
       "      <td>0.411076</td>\n",
       "      <td>-0.496486</td>\n",
       "      <td>0.116297</td>\n",
       "      <td>0.202759</td>\n",
       "      <td>-0.236200</td>\n",
       "      <td>0.250606</td>\n",
       "      <td>0.021946</td>\n",
       "      <td>0.155504</td>\n",
       "      <td>-0.076459</td>\n",
       "      <td>0.379115</td>\n",
       "      <td>-0.523023</td>\n",
       "    </tr>\n",
       "    <tr>\n",
       "      <th>Talong</th>\n",
       "      <td>-0.413523</td>\n",
       "      <td>0.140420</td>\n",
       "      <td>0.241164</td>\n",
       "      <td>0.087196</td>\n",
       "      <td>0.185339</td>\n",
       "      <td>0.222147</td>\n",
       "      <td>0.194598</td>\n",
       "      <td>-0.046913</td>\n",
       "      <td>-0.033257</td>\n",
       "      <td>-0.129571</td>\n",
       "      <td>0.241133</td>\n",
       "      <td>0.107079</td>\n",
       "      <td>0.112177</td>\n",
       "      <td>0.004387</td>\n",
       "      <td>0.154340</td>\n",
       "      <td>0.057803</td>\n",
       "      <td>0.015835</td>\n",
       "      <td>0.099231</td>\n",
       "      <td>-0.427068</td>\n",
       "    </tr>\n",
       "    <tr>\n",
       "      <th>Tomatoes</th>\n",
       "      <td>-0.041397</td>\n",
       "      <td>0.027062</td>\n",
       "      <td>0.067845</td>\n",
       "      <td>0.060910</td>\n",
       "      <td>0.181260</td>\n",
       "      <td>0.160089</td>\n",
       "      <td>0.053981</td>\n",
       "      <td>-0.086603</td>\n",
       "      <td>0.081630</td>\n",
       "      <td>0.054085</td>\n",
       "      <td>0.016633</td>\n",
       "      <td>0.097083</td>\n",
       "      <td>0.155549</td>\n",
       "      <td>0.080458</td>\n",
       "      <td>0.092882</td>\n",
       "      <td>0.107513</td>\n",
       "      <td>0.233818</td>\n",
       "      <td>0.107759</td>\n",
       "      <td>-0.455062</td>\n",
       "    </tr>\n",
       "  </tbody>\n",
       "</table>\n",
       "</div>"
      ],
      "text/plain": [
       "                                  delta                                   \\\n",
       "k                             Males 0-1 Males 1-5 Males 5-10 Males 10-15   \n",
       "i                                                                          \n",
       "Bagoong                       -0.052586  0.089283   0.065798    0.011462   \n",
       "Banana                         0.278559  0.272695   0.196990    0.316267   \n",
       "Beef                           0.244980  0.050033  -0.042359    0.088629   \n",
       "Carrots                        0.183419  0.165941  -0.061971   -0.163690   \n",
       "Chicken                        0.018365  0.035918   0.147542   -0.143412   \n",
       "Coffee                        -0.058852  0.038269   0.231706    0.160834   \n",
       "Cooking oil                   -0.091010  0.017945   0.018754    0.053295   \n",
       "Eggs                           0.019769  0.066225   0.367595    0.102196   \n",
       "Food made from flour           0.434690  0.293566   0.090052    0.042008   \n",
       "Fresh fish                     0.130574  0.010539   0.053574   -0.005981   \n",
       "Mangoes                       -0.397406 -0.084732   0.241306    0.127841   \n",
       "Milk                           0.820564  0.361618   0.103016    0.066093   \n",
       "Milo                           0.460210  0.247974   0.299534   -0.003649   \n",
       "Mongo and other products       0.009415  0.107997   0.117028    0.155551   \n",
       "Onions                        -0.045512  0.097334   0.150064    0.027315   \n",
       "Peanut                         0.488951  0.043896  -0.020618    0.263970   \n",
       "Pork                          -0.017141  0.105049   0.102637   -0.061391   \n",
       "Potato                         0.006234  0.180211   0.085991    0.040708   \n",
       "Processed meat like longanisa  0.431187  0.165657   0.041557    0.063137   \n",
       "Rice                          -0.065102  0.026028   0.080856   -0.073210   \n",
       "Salt                           0.064970 -0.003386   0.071360    0.032116   \n",
       "Sardines                       0.017602 -0.084372   0.046664    0.126609   \n",
       "Sea weed                       0.413241  0.064980   0.019803   -0.153630   \n",
       "Soybean and other products    -0.047680  0.076096   0.212107    0.159771   \n",
       "Squash                         0.294856 -0.068069   0.176868    0.139939   \n",
       "Sugar                          0.136165  0.085078   0.151161    0.045844   \n",
       "Sweet potato                   0.024748  0.020639   0.262147    0.126730   \n",
       "Talong                        -0.413523  0.140420   0.241164    0.087196   \n",
       "Tomatoes                      -0.041397  0.027062   0.067845    0.060910   \n",
       "\n",
       "                                                                               \\\n",
       "k                             Males 15-20 Males 20-30 Males 30-50 Males 50-60   \n",
       "i                                                                               \n",
       "Bagoong                          0.056962    0.055763    0.052315    0.150561   \n",
       "Banana                          -0.076913    0.146409   -0.026650    0.064513   \n",
       "Beef                            -0.030781    0.093310    0.192749    0.410474   \n",
       "Carrots                         -0.001757   -0.186753   -0.081557   -0.288267   \n",
       "Chicken                         -0.048649   -0.009357   -0.019813   -0.051411   \n",
       "Coffee                           0.064147    0.123887    0.113672    0.192744   \n",
       "Cooking oil                     -0.086268    0.079796    0.063100   -0.123169   \n",
       "Eggs                             0.029464    0.096920    0.083571    0.147147   \n",
       "Food made from flour            -0.003291    0.088140    0.075945    0.246012   \n",
       "Fresh fish                      -0.029088    0.096910    0.168922    0.080256   \n",
       "Mangoes                         -0.164210    0.231745   -0.132155   -0.496802   \n",
       "Milk                             0.020440    0.076477    0.107197   -0.142064   \n",
       "Milo                            -0.119407    0.084963    0.053232   -0.069152   \n",
       "Mongo and other products         0.070669    0.038451    0.080071   -0.232250   \n",
       "Onions                          -0.002401    0.112359    0.163205    0.107409   \n",
       "Peanut                           0.000398   -0.111416    0.266655    0.656198   \n",
       "Pork                             0.058725    0.151612    0.139431   -0.028384   \n",
       "Potato                           0.298404    0.046992    0.135469   -0.196653   \n",
       "Processed meat like longanisa    0.141905    0.105056    0.234222    0.007881   \n",
       "Rice                             0.034848   -0.058768   -0.024102    0.252079   \n",
       "Salt                             0.018659    0.007026    0.023866   -0.023493   \n",
       "Sardines                         0.055462    0.066516    0.088175    0.151457   \n",
       "Sea weed                         0.104949    0.112576   -0.061884    0.000190   \n",
       "Soybean and other products       0.044666    0.098712    0.087658    0.164728   \n",
       "Squash                           0.139355    0.198455    0.061511    0.052592   \n",
       "Sugar                            0.050457    0.060597    0.053771    0.113422   \n",
       "Sweet potato                     0.095068    0.064354    0.075943    0.506645   \n",
       "Talong                           0.185339    0.222147    0.194598   -0.046913   \n",
       "Tomatoes                         0.181260    0.160089    0.053981   -0.086603   \n",
       "\n",
       "                                                                    \\\n",
       "k                             Males 60-100 Females 0-1 Females 1-5   \n",
       "i                                                                    \n",
       "Bagoong                           0.145713   -0.304610   -0.020627   \n",
       "Banana                            0.339652    0.118409    0.072187   \n",
       "Beef                              0.095913    0.066491   -0.009593   \n",
       "Carrots                           0.172051    0.037546    0.013946   \n",
       "Chicken                          -0.271361   -0.302186   -0.352860   \n",
       "Coffee                            0.145081   -0.018361    0.012409   \n",
       "Cooking oil                      -0.062188    0.020323   -0.163680   \n",
       "Eggs                              0.030699    0.084261    0.029775   \n",
       "Food made from flour              0.376925    0.025170    0.110681   \n",
       "Fresh fish                        0.036342    0.058406    0.052256   \n",
       "Mangoes                          -0.224149    0.085184    0.182304   \n",
       "Milk                              0.233966    0.454836    0.413555   \n",
       "Milo                              0.049873   -0.081839    0.041502   \n",
       "Mongo and other products          0.032940    0.006841   -0.009342   \n",
       "Onions                           -0.075382   -0.001738    0.012705   \n",
       "Peanut                            0.504409   -0.705896    0.103310   \n",
       "Pork                              0.247558   -0.192850    0.100719   \n",
       "Potato                            0.124944   -0.294192   -0.157375   \n",
       "Processed meat like longanisa     0.021275   -0.033387    0.159841   \n",
       "Rice                              0.224175    0.203616    0.069670   \n",
       "Salt                              0.147694    0.223669   -0.000405   \n",
       "Sardines                          0.047654    0.018857    0.070770   \n",
       "Sea weed                         -0.065251   -0.937852    0.049253   \n",
       "Soybean and other products        0.124471    0.029895    0.064985   \n",
       "Squash                            0.222905   -0.220856    0.171372   \n",
       "Sugar                             0.157390   -0.111628    0.130969   \n",
       "Sweet potato                      0.411076   -0.496486    0.116297   \n",
       "Talong                           -0.033257   -0.129571    0.241133   \n",
       "Tomatoes                          0.081630    0.054085    0.016633   \n",
       "\n",
       "                                                                        \\\n",
       "k                             Females 5-10 Females 10-15 Females 15-20   \n",
       "i                                                                        \n",
       "Bagoong                           0.156208      0.046418      0.083532   \n",
       "Banana                            0.272715      0.071651      0.102375   \n",
       "Beef                              0.013613     -0.032711      0.098828   \n",
       "Carrots                          -0.150419     -0.036879      0.154457   \n",
       "Chicken                           0.132334     -0.043431     -0.034519   \n",
       "Coffee                            0.231020     -0.103322      0.240229   \n",
       "Cooking oil                       0.042059      0.066458     -0.023037   \n",
       "Eggs                              0.206686      0.051302      0.113746   \n",
       "Food made from flour              0.285798      0.100342      0.158163   \n",
       "Fresh fish                        0.087354      0.011968     -0.006919   \n",
       "Mangoes                           0.421254      0.100090      0.029866   \n",
       "Milk                              0.033264      0.100576     -0.039398   \n",
       "Milo                              0.190186     -0.134986      0.085282   \n",
       "Mongo and other products         -0.040290      0.033654      0.010762   \n",
       "Onions                            0.121290      0.008116      0.089442   \n",
       "Peanut                           -0.333439     -0.085429     -0.371741   \n",
       "Pork                             -0.027145      0.004325      0.055232   \n",
       "Potato                            0.401256     -0.076116      0.198967   \n",
       "Processed meat like longanisa     0.146651      0.290579     -0.005356   \n",
       "Rice                              0.143117     -0.101642      0.018337   \n",
       "Salt                              0.160696     -0.032557     -0.021586   \n",
       "Sardines                          0.113360      0.148142     -0.029605   \n",
       "Sea weed                          0.027932     -0.191589     -0.222523   \n",
       "Soybean and other products        0.123860      0.071439      0.095700   \n",
       "Squash                            0.210821      0.159589      0.156439   \n",
       "Sugar                             0.174467      0.095933      0.008514   \n",
       "Sweet potato                      0.202759     -0.236200      0.250606   \n",
       "Talong                            0.107079      0.112177      0.004387   \n",
       "Tomatoes                          0.097083      0.155549      0.080458   \n",
       "\n",
       "                                                                         \\\n",
       "k                             Females 20-30 Females 30-50 Females 50-60   \n",
       "i                                                                         \n",
       "Bagoong                           -0.115860      0.023069      0.009395   \n",
       "Banana                             0.102706      0.283883      0.281669   \n",
       "Beef                               0.000930      0.039877     -0.243199   \n",
       "Carrots                            0.065406      0.358634      0.372103   \n",
       "Chicken                            0.102761      0.047744      0.168608   \n",
       "Coffee                             0.091206      0.110488      0.282832   \n",
       "Cooking oil                        0.133549      0.180430      0.189452   \n",
       "Eggs                               0.132489      0.117657      0.228364   \n",
       "Food made from flour               0.002600      0.162844      0.167746   \n",
       "Fresh fish                         0.054065      0.164297      0.264246   \n",
       "Mangoes                            0.314548     -0.041441      0.226639   \n",
       "Milk                              -0.010409      0.166154      0.179868   \n",
       "Milo                               0.046031      0.141580      0.374875   \n",
       "Mongo and other products          -0.008522      0.003473      0.338646   \n",
       "Onions                             0.122124      0.154014      0.109873   \n",
       "Peanut                            -0.179587     -0.025812     -0.232938   \n",
       "Pork                               0.064341      0.023159     -0.199322   \n",
       "Potato                             0.130239      0.045855      0.289265   \n",
       "Processed meat like longanisa      0.070477      0.090899      0.268029   \n",
       "Rice                              -0.027868      0.031629     -0.099296   \n",
       "Salt                              -0.021363      0.009297      0.066931   \n",
       "Sardines                          -0.037364     -0.029076     -0.024806   \n",
       "Sea weed                           0.049303      0.157836      0.075260   \n",
       "Soybean and other products         0.189656      0.227529      0.042553   \n",
       "Squash                             0.165964      0.199056      0.204360   \n",
       "Sugar                              0.088608      0.119750      0.066680   \n",
       "Sweet potato                       0.021946      0.155504     -0.076459   \n",
       "Talong                             0.154340      0.057803      0.015835   \n",
       "Tomatoes                           0.092882      0.107513      0.233818   \n",
       "\n",
       "                                                        \n",
       "k                             Females 60-100 log HSize  \n",
       "i                                                       \n",
       "Bagoong                            -0.186994  0.258258  \n",
       "Banana                              0.253598 -0.825994  \n",
       "Beef                               -0.138555 -0.144313  \n",
       "Carrots                             0.032209  0.031074  \n",
       "Chicken                             0.347631  0.617060  \n",
       "Coffee                             -0.158403 -0.423947  \n",
       "Cooking oil                        -0.177885 -0.126177  \n",
       "Eggs                                0.084131 -0.489300  \n",
       "Food made from flour               -0.051424 -0.394853  \n",
       "Fresh fish                         -0.196284 -0.104932  \n",
       "Mangoes                             0.600651 -0.422722  \n",
       "Milk                                0.047118 -0.398009  \n",
       "Milo                                0.050498 -0.377068  \n",
       "Mongo and other products           -0.233136 -0.015198  \n",
       "Onions                              0.039759 -0.347735  \n",
       "Peanut                             -0.430170  0.673892  \n",
       "Pork                               -0.139107  0.067326  \n",
       "Potato                              0.242072 -0.489266  \n",
       "Processed meat like longanisa       0.049508 -0.539346  \n",
       "Rice                                0.096652  0.175256  \n",
       "Salt                               -0.160535  0.144733  \n",
       "Sardines                           -0.221160  0.152226  \n",
       "Sea weed                           -0.025967 -0.019648  \n",
       "Soybean and other products         -0.032118 -0.615324  \n",
       "Squash                              0.079451 -0.845075  \n",
       "Sugar                              -0.126630 -0.103085  \n",
       "Sweet potato                        0.379115 -0.523023  \n",
       "Talong                              0.099231 -0.427068  \n",
       "Tomatoes                            0.107759 -0.455062  "
      ]
     },
     "execution_count": 26,
     "metadata": {},
     "output_type": "execute_result"
    }
   ],
   "source": [
    "result = cfe.Result(y=np.log(x),z=z)\n",
    "\n",
    "# Get reduced form linear regression\n",
    "result.get_reduced_form()\n",
    "\n",
    "# Get delta coefficients \n",
    "result.delta.to_dataframe().unstack('k')"
   ]
  },
  {
   "cell_type": "code",
   "execution_count": 27,
   "metadata": {},
   "outputs": [
    {
     "data": {
      "text/plain": [
       "i\n",
       "Rice                             4.720102\n",
       "Fresh fish                       3.445259\n",
       "Beef                             3.403645\n",
       "Milk                             3.245843\n",
       "Pork                             3.209545\n",
       "Food made from flour             3.068056\n",
       "Processed meat like longanisa    2.860870\n",
       "Mangoes                          2.730812\n",
       "Eggs                             2.704676\n",
       "Milo                             2.639543\n",
       "Banana                           2.579405\n",
       "Chicken                          2.407365\n",
       "Sugar                            2.346172\n",
       "Cooking oil                      2.311288\n",
       "Coffee                           2.206140\n",
       "Potato                           2.201080\n",
       "Sweet potato                     2.134163\n",
       "Soybean and other products       2.064843\n",
       "Squash                           2.006581\n",
       "Sardines                         1.969825\n",
       "Mongo and other products         1.907637\n",
       "Onions                           1.864569\n",
       "Talong                           1.778438\n",
       "Sea weed                         1.757412\n",
       "Tomatoes                         1.720865\n",
       "Carrots                          1.484986\n",
       "Bagoong                          1.045591\n",
       "Salt                             0.581963\n",
       "Peanut                           0.328653\n",
       "Name: (2003.0, Bukidnon), dtype: float64"
      ]
     },
     "execution_count": 27,
     "metadata": {},
     "output_type": "execute_result"
    }
   ],
   "source": [
    "# Get good-time a constants (capture effect of prices)\n",
    "acs = result.a.to_dataframe().unstack('i').loc[2003,'Bukidnon'].loc['a'].sort_values(ascending=False)\n",
    "acs"
   ]
  },
  {
   "cell_type": "code",
   "execution_count": 28,
   "metadata": {},
   "outputs": [
    {
     "data": {
      "application/vnd.plotly.v1+json": {
       "config": {
        "plotlyServerURL": "https://plot.ly"
       },
       "data": [
        {
         "alignmentgroup": "True",
         "hovertemplate": "variable=beta<br>i=%{x}<br>value=%{y}<extra></extra>",
         "legendgroup": "beta",
         "marker": {
          "color": "#636efa",
          "pattern": {
           "shape": ""
          }
         },
         "name": "beta",
         "offsetgroup": "beta",
         "orientation": "v",
         "showlegend": true,
         "textposition": "auto",
         "type": "bar",
         "x": [
          "Banana",
          "Milk",
          "Fresh fish",
          "Eggs",
          "Sea weed",
          "Talong",
          "Onions",
          "Processed meat like longanisa",
          "Chicken",
          "Tomatoes",
          "Milo",
          "Cooking oil",
          "Beef",
          "Pork",
          "Food made from flour",
          "Sardines",
          "Mongo and other products",
          "Squash",
          "Carrots",
          "Soybean and other products",
          "Coffee",
          "Peanut",
          "Mangoes",
          "Sugar",
          "Sweet potato",
          "Salt",
          "Bagoong",
          "Potato",
          "Rice"
         ],
         "xaxis": "x",
         "y": [
          0.5821237229627731,
          0.5553876081380981,
          0.5545445216979967,
          0.5144753279007281,
          0.5066927658422136,
          0.5005964681821923,
          0.4992679285386017,
          0.4911400062055107,
          0.4881650433357928,
          0.47705783885751335,
          0.4722878362383377,
          0.46875960859991883,
          0.4596941114088192,
          0.4519259506495944,
          0.45156731458341576,
          0.44768080410511574,
          0.4294879185901295,
          0.4260760302863931,
          0.41448691154413153,
          0.41099618128533605,
          0.38074471160346635,
          0.3563386700626977,
          0.3354667409797717,
          0.27466888663878186,
          0.27126557869848517,
          0.2672441639370147,
          0.25344576253511303,
          0.2249606766324668,
          0.19124834602158522
         ],
         "yaxis": "y"
        }
       ],
       "layout": {
        "barmode": "relative",
        "legend": {
         "title": {
          "text": "variable"
         },
         "tracegroupgap": 0
        },
        "margin": {
         "t": 60
        },
        "template": {
         "data": {
          "bar": [
           {
            "error_x": {
             "color": "#2a3f5f"
            },
            "error_y": {
             "color": "#2a3f5f"
            },
            "marker": {
             "line": {
              "color": "#E5ECF6",
              "width": 0.5
             },
             "pattern": {
              "fillmode": "overlay",
              "size": 10,
              "solidity": 0.2
             }
            },
            "type": "bar"
           }
          ],
          "barpolar": [
           {
            "marker": {
             "line": {
              "color": "#E5ECF6",
              "width": 0.5
             },
             "pattern": {
              "fillmode": "overlay",
              "size": 10,
              "solidity": 0.2
             }
            },
            "type": "barpolar"
           }
          ],
          "carpet": [
           {
            "aaxis": {
             "endlinecolor": "#2a3f5f",
             "gridcolor": "white",
             "linecolor": "white",
             "minorgridcolor": "white",
             "startlinecolor": "#2a3f5f"
            },
            "baxis": {
             "endlinecolor": "#2a3f5f",
             "gridcolor": "white",
             "linecolor": "white",
             "minorgridcolor": "white",
             "startlinecolor": "#2a3f5f"
            },
            "type": "carpet"
           }
          ],
          "choropleth": [
           {
            "colorbar": {
             "outlinewidth": 0,
             "ticks": ""
            },
            "type": "choropleth"
           }
          ],
          "contour": [
           {
            "colorbar": {
             "outlinewidth": 0,
             "ticks": ""
            },
            "colorscale": [
             [
              0,
              "#0d0887"
             ],
             [
              0.1111111111111111,
              "#46039f"
             ],
             [
              0.2222222222222222,
              "#7201a8"
             ],
             [
              0.3333333333333333,
              "#9c179e"
             ],
             [
              0.4444444444444444,
              "#bd3786"
             ],
             [
              0.5555555555555556,
              "#d8576b"
             ],
             [
              0.6666666666666666,
              "#ed7953"
             ],
             [
              0.7777777777777778,
              "#fb9f3a"
             ],
             [
              0.8888888888888888,
              "#fdca26"
             ],
             [
              1,
              "#f0f921"
             ]
            ],
            "type": "contour"
           }
          ],
          "contourcarpet": [
           {
            "colorbar": {
             "outlinewidth": 0,
             "ticks": ""
            },
            "type": "contourcarpet"
           }
          ],
          "heatmap": [
           {
            "colorbar": {
             "outlinewidth": 0,
             "ticks": ""
            },
            "colorscale": [
             [
              0,
              "#0d0887"
             ],
             [
              0.1111111111111111,
              "#46039f"
             ],
             [
              0.2222222222222222,
              "#7201a8"
             ],
             [
              0.3333333333333333,
              "#9c179e"
             ],
             [
              0.4444444444444444,
              "#bd3786"
             ],
             [
              0.5555555555555556,
              "#d8576b"
             ],
             [
              0.6666666666666666,
              "#ed7953"
             ],
             [
              0.7777777777777778,
              "#fb9f3a"
             ],
             [
              0.8888888888888888,
              "#fdca26"
             ],
             [
              1,
              "#f0f921"
             ]
            ],
            "type": "heatmap"
           }
          ],
          "heatmapgl": [
           {
            "colorbar": {
             "outlinewidth": 0,
             "ticks": ""
            },
            "colorscale": [
             [
              0,
              "#0d0887"
             ],
             [
              0.1111111111111111,
              "#46039f"
             ],
             [
              0.2222222222222222,
              "#7201a8"
             ],
             [
              0.3333333333333333,
              "#9c179e"
             ],
             [
              0.4444444444444444,
              "#bd3786"
             ],
             [
              0.5555555555555556,
              "#d8576b"
             ],
             [
              0.6666666666666666,
              "#ed7953"
             ],
             [
              0.7777777777777778,
              "#fb9f3a"
             ],
             [
              0.8888888888888888,
              "#fdca26"
             ],
             [
              1,
              "#f0f921"
             ]
            ],
            "type": "heatmapgl"
           }
          ],
          "histogram": [
           {
            "marker": {
             "pattern": {
              "fillmode": "overlay",
              "size": 10,
              "solidity": 0.2
             }
            },
            "type": "histogram"
           }
          ],
          "histogram2d": [
           {
            "colorbar": {
             "outlinewidth": 0,
             "ticks": ""
            },
            "colorscale": [
             [
              0,
              "#0d0887"
             ],
             [
              0.1111111111111111,
              "#46039f"
             ],
             [
              0.2222222222222222,
              "#7201a8"
             ],
             [
              0.3333333333333333,
              "#9c179e"
             ],
             [
              0.4444444444444444,
              "#bd3786"
             ],
             [
              0.5555555555555556,
              "#d8576b"
             ],
             [
              0.6666666666666666,
              "#ed7953"
             ],
             [
              0.7777777777777778,
              "#fb9f3a"
             ],
             [
              0.8888888888888888,
              "#fdca26"
             ],
             [
              1,
              "#f0f921"
             ]
            ],
            "type": "histogram2d"
           }
          ],
          "histogram2dcontour": [
           {
            "colorbar": {
             "outlinewidth": 0,
             "ticks": ""
            },
            "colorscale": [
             [
              0,
              "#0d0887"
             ],
             [
              0.1111111111111111,
              "#46039f"
             ],
             [
              0.2222222222222222,
              "#7201a8"
             ],
             [
              0.3333333333333333,
              "#9c179e"
             ],
             [
              0.4444444444444444,
              "#bd3786"
             ],
             [
              0.5555555555555556,
              "#d8576b"
             ],
             [
              0.6666666666666666,
              "#ed7953"
             ],
             [
              0.7777777777777778,
              "#fb9f3a"
             ],
             [
              0.8888888888888888,
              "#fdca26"
             ],
             [
              1,
              "#f0f921"
             ]
            ],
            "type": "histogram2dcontour"
           }
          ],
          "mesh3d": [
           {
            "colorbar": {
             "outlinewidth": 0,
             "ticks": ""
            },
            "type": "mesh3d"
           }
          ],
          "parcoords": [
           {
            "line": {
             "colorbar": {
              "outlinewidth": 0,
              "ticks": ""
             }
            },
            "type": "parcoords"
           }
          ],
          "pie": [
           {
            "automargin": true,
            "type": "pie"
           }
          ],
          "scatter": [
           {
            "fillpattern": {
             "fillmode": "overlay",
             "size": 10,
             "solidity": 0.2
            },
            "type": "scatter"
           }
          ],
          "scatter3d": [
           {
            "line": {
             "colorbar": {
              "outlinewidth": 0,
              "ticks": ""
             }
            },
            "marker": {
             "colorbar": {
              "outlinewidth": 0,
              "ticks": ""
             }
            },
            "type": "scatter3d"
           }
          ],
          "scattercarpet": [
           {
            "marker": {
             "colorbar": {
              "outlinewidth": 0,
              "ticks": ""
             }
            },
            "type": "scattercarpet"
           }
          ],
          "scattergeo": [
           {
            "marker": {
             "colorbar": {
              "outlinewidth": 0,
              "ticks": ""
             }
            },
            "type": "scattergeo"
           }
          ],
          "scattergl": [
           {
            "marker": {
             "colorbar": {
              "outlinewidth": 0,
              "ticks": ""
             }
            },
            "type": "scattergl"
           }
          ],
          "scattermapbox": [
           {
            "marker": {
             "colorbar": {
              "outlinewidth": 0,
              "ticks": ""
             }
            },
            "type": "scattermapbox"
           }
          ],
          "scatterpolar": [
           {
            "marker": {
             "colorbar": {
              "outlinewidth": 0,
              "ticks": ""
             }
            },
            "type": "scatterpolar"
           }
          ],
          "scatterpolargl": [
           {
            "marker": {
             "colorbar": {
              "outlinewidth": 0,
              "ticks": ""
             }
            },
            "type": "scatterpolargl"
           }
          ],
          "scatterternary": [
           {
            "marker": {
             "colorbar": {
              "outlinewidth": 0,
              "ticks": ""
             }
            },
            "type": "scatterternary"
           }
          ],
          "surface": [
           {
            "colorbar": {
             "outlinewidth": 0,
             "ticks": ""
            },
            "colorscale": [
             [
              0,
              "#0d0887"
             ],
             [
              0.1111111111111111,
              "#46039f"
             ],
             [
              0.2222222222222222,
              "#7201a8"
             ],
             [
              0.3333333333333333,
              "#9c179e"
             ],
             [
              0.4444444444444444,
              "#bd3786"
             ],
             [
              0.5555555555555556,
              "#d8576b"
             ],
             [
              0.6666666666666666,
              "#ed7953"
             ],
             [
              0.7777777777777778,
              "#fb9f3a"
             ],
             [
              0.8888888888888888,
              "#fdca26"
             ],
             [
              1,
              "#f0f921"
             ]
            ],
            "type": "surface"
           }
          ],
          "table": [
           {
            "cells": {
             "fill": {
              "color": "#EBF0F8"
             },
             "line": {
              "color": "white"
             }
            },
            "header": {
             "fill": {
              "color": "#C8D4E3"
             },
             "line": {
              "color": "white"
             }
            },
            "type": "table"
           }
          ]
         },
         "layout": {
          "annotationdefaults": {
           "arrowcolor": "#2a3f5f",
           "arrowhead": 0,
           "arrowwidth": 1
          },
          "autotypenumbers": "strict",
          "coloraxis": {
           "colorbar": {
            "outlinewidth": 0,
            "ticks": ""
           }
          },
          "colorscale": {
           "diverging": [
            [
             0,
             "#8e0152"
            ],
            [
             0.1,
             "#c51b7d"
            ],
            [
             0.2,
             "#de77ae"
            ],
            [
             0.3,
             "#f1b6da"
            ],
            [
             0.4,
             "#fde0ef"
            ],
            [
             0.5,
             "#f7f7f7"
            ],
            [
             0.6,
             "#e6f5d0"
            ],
            [
             0.7,
             "#b8e186"
            ],
            [
             0.8,
             "#7fbc41"
            ],
            [
             0.9,
             "#4d9221"
            ],
            [
             1,
             "#276419"
            ]
           ],
           "sequential": [
            [
             0,
             "#0d0887"
            ],
            [
             0.1111111111111111,
             "#46039f"
            ],
            [
             0.2222222222222222,
             "#7201a8"
            ],
            [
             0.3333333333333333,
             "#9c179e"
            ],
            [
             0.4444444444444444,
             "#bd3786"
            ],
            [
             0.5555555555555556,
             "#d8576b"
            ],
            [
             0.6666666666666666,
             "#ed7953"
            ],
            [
             0.7777777777777778,
             "#fb9f3a"
            ],
            [
             0.8888888888888888,
             "#fdca26"
            ],
            [
             1,
             "#f0f921"
            ]
           ],
           "sequentialminus": [
            [
             0,
             "#0d0887"
            ],
            [
             0.1111111111111111,
             "#46039f"
            ],
            [
             0.2222222222222222,
             "#7201a8"
            ],
            [
             0.3333333333333333,
             "#9c179e"
            ],
            [
             0.4444444444444444,
             "#bd3786"
            ],
            [
             0.5555555555555556,
             "#d8576b"
            ],
            [
             0.6666666666666666,
             "#ed7953"
            ],
            [
             0.7777777777777778,
             "#fb9f3a"
            ],
            [
             0.8888888888888888,
             "#fdca26"
            ],
            [
             1,
             "#f0f921"
            ]
           ]
          },
          "colorway": [
           "#636efa",
           "#EF553B",
           "#00cc96",
           "#ab63fa",
           "#FFA15A",
           "#19d3f3",
           "#FF6692",
           "#B6E880",
           "#FF97FF",
           "#FECB52"
          ],
          "font": {
           "color": "#2a3f5f"
          },
          "geo": {
           "bgcolor": "white",
           "lakecolor": "white",
           "landcolor": "#E5ECF6",
           "showlakes": true,
           "showland": true,
           "subunitcolor": "white"
          },
          "hoverlabel": {
           "align": "left"
          },
          "hovermode": "closest",
          "mapbox": {
           "style": "light"
          },
          "paper_bgcolor": "white",
          "plot_bgcolor": "#E5ECF6",
          "polar": {
           "angularaxis": {
            "gridcolor": "white",
            "linecolor": "white",
            "ticks": ""
           },
           "bgcolor": "#E5ECF6",
           "radialaxis": {
            "gridcolor": "white",
            "linecolor": "white",
            "ticks": ""
           }
          },
          "scene": {
           "xaxis": {
            "backgroundcolor": "#E5ECF6",
            "gridcolor": "white",
            "gridwidth": 2,
            "linecolor": "white",
            "showbackground": true,
            "ticks": "",
            "zerolinecolor": "white"
           },
           "yaxis": {
            "backgroundcolor": "#E5ECF6",
            "gridcolor": "white",
            "gridwidth": 2,
            "linecolor": "white",
            "showbackground": true,
            "ticks": "",
            "zerolinecolor": "white"
           },
           "zaxis": {
            "backgroundcolor": "#E5ECF6",
            "gridcolor": "white",
            "gridwidth": 2,
            "linecolor": "white",
            "showbackground": true,
            "ticks": "",
            "zerolinecolor": "white"
           }
          },
          "shapedefaults": {
           "line": {
            "color": "#2a3f5f"
           }
          },
          "ternary": {
           "aaxis": {
            "gridcolor": "white",
            "linecolor": "white",
            "ticks": ""
           },
           "baxis": {
            "gridcolor": "white",
            "linecolor": "white",
            "ticks": ""
           },
           "bgcolor": "#E5ECF6",
           "caxis": {
            "gridcolor": "white",
            "linecolor": "white",
            "ticks": ""
           }
          },
          "title": {
           "x": 0.05
          },
          "xaxis": {
           "automargin": true,
           "gridcolor": "white",
           "linecolor": "white",
           "ticks": "",
           "title": {
            "standoff": 15
           },
           "zerolinecolor": "white",
           "zerolinewidth": 2
          },
          "yaxis": {
           "automargin": true,
           "gridcolor": "white",
           "linecolor": "white",
           "ticks": "",
           "title": {
            "standoff": 15
           },
           "zerolinecolor": "white",
           "zerolinewidth": 2
          }
         }
        },
        "xaxis": {
         "anchor": "y",
         "domain": [
          0,
          1
         ],
         "title": {
          "text": "i"
         }
        },
        "yaxis": {
         "anchor": "x",
         "domain": [
          0,
          1
         ],
         "title": {
          "text": "value"
         }
        }
       }
      },
      "text/html": [
       "<div>                            <div id=\"48845b35-8f1b-44d4-b136-c819d08e1721\" class=\"plotly-graph-div\" style=\"height:525px; width:100%;\"></div>            <script type=\"text/javascript\">                require([\"plotly\"], function(Plotly) {                    window.PLOTLYENV=window.PLOTLYENV || {};                                    if (document.getElementById(\"48845b35-8f1b-44d4-b136-c819d08e1721\")) {                    Plotly.newPlot(                        \"48845b35-8f1b-44d4-b136-c819d08e1721\",                        [{\"alignmentgroup\":\"True\",\"hovertemplate\":\"variable=beta<br>i=%{x}<br>value=%{y}<extra></extra>\",\"legendgroup\":\"beta\",\"marker\":{\"color\":\"#636efa\",\"pattern\":{\"shape\":\"\"}},\"name\":\"beta\",\"offsetgroup\":\"beta\",\"orientation\":\"v\",\"showlegend\":true,\"textposition\":\"auto\",\"x\":[\"Banana\",\"Milk\",\"Fresh fish\",\"Eggs\",\"Sea weed\",\"Talong\",\"Onions\",\"Processed meat like longanisa\",\"Chicken\",\"Tomatoes\",\"Milo\",\"Cooking oil\",\"Beef\",\"Pork\",\"Food made from flour\",\"Sardines\",\"Mongo and other products\",\"Squash\",\"Carrots\",\"Soybean and other products\",\"Coffee\",\"Peanut\",\"Mangoes\",\"Sugar\",\"Sweet potato\",\"Salt\",\"Bagoong\",\"Potato\",\"Rice\"],\"xaxis\":\"x\",\"y\":[0.5821237229627731,0.5553876081380981,0.5545445216979967,0.5144753279007281,0.5066927658422136,0.5005964681821923,0.4992679285386017,0.4911400062055107,0.4881650433357928,0.47705783885751335,0.4722878362383377,0.46875960859991883,0.4596941114088192,0.4519259506495944,0.45156731458341576,0.44768080410511574,0.4294879185901295,0.4260760302863931,0.41448691154413153,0.41099618128533605,0.38074471160346635,0.3563386700626977,0.3354667409797717,0.27466888663878186,0.27126557869848517,0.2672441639370147,0.25344576253511303,0.2249606766324668,0.19124834602158522],\"yaxis\":\"y\",\"type\":\"bar\"}],                        {\"template\":{\"data\":{\"histogram2dcontour\":[{\"type\":\"histogram2dcontour\",\"colorbar\":{\"outlinewidth\":0,\"ticks\":\"\"},\"colorscale\":[[0.0,\"#0d0887\"],[0.1111111111111111,\"#46039f\"],[0.2222222222222222,\"#7201a8\"],[0.3333333333333333,\"#9c179e\"],[0.4444444444444444,\"#bd3786\"],[0.5555555555555556,\"#d8576b\"],[0.6666666666666666,\"#ed7953\"],[0.7777777777777778,\"#fb9f3a\"],[0.8888888888888888,\"#fdca26\"],[1.0,\"#f0f921\"]]}],\"choropleth\":[{\"type\":\"choropleth\",\"colorbar\":{\"outlinewidth\":0,\"ticks\":\"\"}}],\"histogram2d\":[{\"type\":\"histogram2d\",\"colorbar\":{\"outlinewidth\":0,\"ticks\":\"\"},\"colorscale\":[[0.0,\"#0d0887\"],[0.1111111111111111,\"#46039f\"],[0.2222222222222222,\"#7201a8\"],[0.3333333333333333,\"#9c179e\"],[0.4444444444444444,\"#bd3786\"],[0.5555555555555556,\"#d8576b\"],[0.6666666666666666,\"#ed7953\"],[0.7777777777777778,\"#fb9f3a\"],[0.8888888888888888,\"#fdca26\"],[1.0,\"#f0f921\"]]}],\"heatmap\":[{\"type\":\"heatmap\",\"colorbar\":{\"outlinewidth\":0,\"ticks\":\"\"},\"colorscale\":[[0.0,\"#0d0887\"],[0.1111111111111111,\"#46039f\"],[0.2222222222222222,\"#7201a8\"],[0.3333333333333333,\"#9c179e\"],[0.4444444444444444,\"#bd3786\"],[0.5555555555555556,\"#d8576b\"],[0.6666666666666666,\"#ed7953\"],[0.7777777777777778,\"#fb9f3a\"],[0.8888888888888888,\"#fdca26\"],[1.0,\"#f0f921\"]]}],\"heatmapgl\":[{\"type\":\"heatmapgl\",\"colorbar\":{\"outlinewidth\":0,\"ticks\":\"\"},\"colorscale\":[[0.0,\"#0d0887\"],[0.1111111111111111,\"#46039f\"],[0.2222222222222222,\"#7201a8\"],[0.3333333333333333,\"#9c179e\"],[0.4444444444444444,\"#bd3786\"],[0.5555555555555556,\"#d8576b\"],[0.6666666666666666,\"#ed7953\"],[0.7777777777777778,\"#fb9f3a\"],[0.8888888888888888,\"#fdca26\"],[1.0,\"#f0f921\"]]}],\"contourcarpet\":[{\"type\":\"contourcarpet\",\"colorbar\":{\"outlinewidth\":0,\"ticks\":\"\"}}],\"contour\":[{\"type\":\"contour\",\"colorbar\":{\"outlinewidth\":0,\"ticks\":\"\"},\"colorscale\":[[0.0,\"#0d0887\"],[0.1111111111111111,\"#46039f\"],[0.2222222222222222,\"#7201a8\"],[0.3333333333333333,\"#9c179e\"],[0.4444444444444444,\"#bd3786\"],[0.5555555555555556,\"#d8576b\"],[0.6666666666666666,\"#ed7953\"],[0.7777777777777778,\"#fb9f3a\"],[0.8888888888888888,\"#fdca26\"],[1.0,\"#f0f921\"]]}],\"surface\":[{\"type\":\"surface\",\"colorbar\":{\"outlinewidth\":0,\"ticks\":\"\"},\"colorscale\":[[0.0,\"#0d0887\"],[0.1111111111111111,\"#46039f\"],[0.2222222222222222,\"#7201a8\"],[0.3333333333333333,\"#9c179e\"],[0.4444444444444444,\"#bd3786\"],[0.5555555555555556,\"#d8576b\"],[0.6666666666666666,\"#ed7953\"],[0.7777777777777778,\"#fb9f3a\"],[0.8888888888888888,\"#fdca26\"],[1.0,\"#f0f921\"]]}],\"mesh3d\":[{\"type\":\"mesh3d\",\"colorbar\":{\"outlinewidth\":0,\"ticks\":\"\"}}],\"scatter\":[{\"fillpattern\":{\"fillmode\":\"overlay\",\"size\":10,\"solidity\":0.2},\"type\":\"scatter\"}],\"parcoords\":[{\"type\":\"parcoords\",\"line\":{\"colorbar\":{\"outlinewidth\":0,\"ticks\":\"\"}}}],\"scatterpolargl\":[{\"type\":\"scatterpolargl\",\"marker\":{\"colorbar\":{\"outlinewidth\":0,\"ticks\":\"\"}}}],\"bar\":[{\"error_x\":{\"color\":\"#2a3f5f\"},\"error_y\":{\"color\":\"#2a3f5f\"},\"marker\":{\"line\":{\"color\":\"#E5ECF6\",\"width\":0.5},\"pattern\":{\"fillmode\":\"overlay\",\"size\":10,\"solidity\":0.2}},\"type\":\"bar\"}],\"scattergeo\":[{\"type\":\"scattergeo\",\"marker\":{\"colorbar\":{\"outlinewidth\":0,\"ticks\":\"\"}}}],\"scatterpolar\":[{\"type\":\"scatterpolar\",\"marker\":{\"colorbar\":{\"outlinewidth\":0,\"ticks\":\"\"}}}],\"histogram\":[{\"marker\":{\"pattern\":{\"fillmode\":\"overlay\",\"size\":10,\"solidity\":0.2}},\"type\":\"histogram\"}],\"scattergl\":[{\"type\":\"scattergl\",\"marker\":{\"colorbar\":{\"outlinewidth\":0,\"ticks\":\"\"}}}],\"scatter3d\":[{\"type\":\"scatter3d\",\"line\":{\"colorbar\":{\"outlinewidth\":0,\"ticks\":\"\"}},\"marker\":{\"colorbar\":{\"outlinewidth\":0,\"ticks\":\"\"}}}],\"scattermapbox\":[{\"type\":\"scattermapbox\",\"marker\":{\"colorbar\":{\"outlinewidth\":0,\"ticks\":\"\"}}}],\"scatterternary\":[{\"type\":\"scatterternary\",\"marker\":{\"colorbar\":{\"outlinewidth\":0,\"ticks\":\"\"}}}],\"scattercarpet\":[{\"type\":\"scattercarpet\",\"marker\":{\"colorbar\":{\"outlinewidth\":0,\"ticks\":\"\"}}}],\"carpet\":[{\"aaxis\":{\"endlinecolor\":\"#2a3f5f\",\"gridcolor\":\"white\",\"linecolor\":\"white\",\"minorgridcolor\":\"white\",\"startlinecolor\":\"#2a3f5f\"},\"baxis\":{\"endlinecolor\":\"#2a3f5f\",\"gridcolor\":\"white\",\"linecolor\":\"white\",\"minorgridcolor\":\"white\",\"startlinecolor\":\"#2a3f5f\"},\"type\":\"carpet\"}],\"table\":[{\"cells\":{\"fill\":{\"color\":\"#EBF0F8\"},\"line\":{\"color\":\"white\"}},\"header\":{\"fill\":{\"color\":\"#C8D4E3\"},\"line\":{\"color\":\"white\"}},\"type\":\"table\"}],\"barpolar\":[{\"marker\":{\"line\":{\"color\":\"#E5ECF6\",\"width\":0.5},\"pattern\":{\"fillmode\":\"overlay\",\"size\":10,\"solidity\":0.2}},\"type\":\"barpolar\"}],\"pie\":[{\"automargin\":true,\"type\":\"pie\"}]},\"layout\":{\"autotypenumbers\":\"strict\",\"colorway\":[\"#636efa\",\"#EF553B\",\"#00cc96\",\"#ab63fa\",\"#FFA15A\",\"#19d3f3\",\"#FF6692\",\"#B6E880\",\"#FF97FF\",\"#FECB52\"],\"font\":{\"color\":\"#2a3f5f\"},\"hovermode\":\"closest\",\"hoverlabel\":{\"align\":\"left\"},\"paper_bgcolor\":\"white\",\"plot_bgcolor\":\"#E5ECF6\",\"polar\":{\"bgcolor\":\"#E5ECF6\",\"angularaxis\":{\"gridcolor\":\"white\",\"linecolor\":\"white\",\"ticks\":\"\"},\"radialaxis\":{\"gridcolor\":\"white\",\"linecolor\":\"white\",\"ticks\":\"\"}},\"ternary\":{\"bgcolor\":\"#E5ECF6\",\"aaxis\":{\"gridcolor\":\"white\",\"linecolor\":\"white\",\"ticks\":\"\"},\"baxis\":{\"gridcolor\":\"white\",\"linecolor\":\"white\",\"ticks\":\"\"},\"caxis\":{\"gridcolor\":\"white\",\"linecolor\":\"white\",\"ticks\":\"\"}},\"coloraxis\":{\"colorbar\":{\"outlinewidth\":0,\"ticks\":\"\"}},\"colorscale\":{\"sequential\":[[0.0,\"#0d0887\"],[0.1111111111111111,\"#46039f\"],[0.2222222222222222,\"#7201a8\"],[0.3333333333333333,\"#9c179e\"],[0.4444444444444444,\"#bd3786\"],[0.5555555555555556,\"#d8576b\"],[0.6666666666666666,\"#ed7953\"],[0.7777777777777778,\"#fb9f3a\"],[0.8888888888888888,\"#fdca26\"],[1.0,\"#f0f921\"]],\"sequentialminus\":[[0.0,\"#0d0887\"],[0.1111111111111111,\"#46039f\"],[0.2222222222222222,\"#7201a8\"],[0.3333333333333333,\"#9c179e\"],[0.4444444444444444,\"#bd3786\"],[0.5555555555555556,\"#d8576b\"],[0.6666666666666666,\"#ed7953\"],[0.7777777777777778,\"#fb9f3a\"],[0.8888888888888888,\"#fdca26\"],[1.0,\"#f0f921\"]],\"diverging\":[[0,\"#8e0152\"],[0.1,\"#c51b7d\"],[0.2,\"#de77ae\"],[0.3,\"#f1b6da\"],[0.4,\"#fde0ef\"],[0.5,\"#f7f7f7\"],[0.6,\"#e6f5d0\"],[0.7,\"#b8e186\"],[0.8,\"#7fbc41\"],[0.9,\"#4d9221\"],[1,\"#276419\"]]},\"xaxis\":{\"gridcolor\":\"white\",\"linecolor\":\"white\",\"ticks\":\"\",\"title\":{\"standoff\":15},\"zerolinecolor\":\"white\",\"automargin\":true,\"zerolinewidth\":2},\"yaxis\":{\"gridcolor\":\"white\",\"linecolor\":\"white\",\"ticks\":\"\",\"title\":{\"standoff\":15},\"zerolinecolor\":\"white\",\"automargin\":true,\"zerolinewidth\":2},\"scene\":{\"xaxis\":{\"backgroundcolor\":\"#E5ECF6\",\"gridcolor\":\"white\",\"linecolor\":\"white\",\"showbackground\":true,\"ticks\":\"\",\"zerolinecolor\":\"white\",\"gridwidth\":2},\"yaxis\":{\"backgroundcolor\":\"#E5ECF6\",\"gridcolor\":\"white\",\"linecolor\":\"white\",\"showbackground\":true,\"ticks\":\"\",\"zerolinecolor\":\"white\",\"gridwidth\":2},\"zaxis\":{\"backgroundcolor\":\"#E5ECF6\",\"gridcolor\":\"white\",\"linecolor\":\"white\",\"showbackground\":true,\"ticks\":\"\",\"zerolinecolor\":\"white\",\"gridwidth\":2}},\"shapedefaults\":{\"line\":{\"color\":\"#2a3f5f\"}},\"annotationdefaults\":{\"arrowcolor\":\"#2a3f5f\",\"arrowhead\":0,\"arrowwidth\":1},\"geo\":{\"bgcolor\":\"white\",\"landcolor\":\"#E5ECF6\",\"subunitcolor\":\"white\",\"showland\":true,\"showlakes\":true,\"lakecolor\":\"white\"},\"title\":{\"x\":0.05},\"mapbox\":{\"style\":\"light\"}}},\"xaxis\":{\"anchor\":\"y\",\"domain\":[0.0,1.0],\"title\":{\"text\":\"i\"}},\"yaxis\":{\"anchor\":\"x\",\"domain\":[0.0,1.0],\"title\":{\"text\":\"value\"}},\"legend\":{\"title\":{\"text\":\"variable\"},\"tracegroupgap\":0},\"margin\":{\"t\":60},\"barmode\":\"relative\"},                        {\"responsive\": true}                    ).then(function(){\n",
       "                            \n",
       "var gd = document.getElementById('48845b35-8f1b-44d4-b136-c819d08e1721');\n",
       "var x = new MutationObserver(function (mutations, observer) {{\n",
       "        var display = window.getComputedStyle(gd).display;\n",
       "        if (!display || display === 'none') {{\n",
       "            console.log([gd, 'removed!']);\n",
       "            Plotly.purge(gd);\n",
       "            observer.disconnect();\n",
       "        }}\n",
       "}});\n",
       "\n",
       "// Listen for the removal of the full notebook cells\n",
       "var notebookContainer = gd.closest('#notebook-container');\n",
       "if (notebookContainer) {{\n",
       "    x.observe(notebookContainer, {childList: true});\n",
       "}}\n",
       "\n",
       "// Listen for the clearing of the current output cell\n",
       "var outputEl = gd.closest('.output');\n",
       "if (outputEl) {{\n",
       "    x.observe(outputEl, {childList: true});\n",
       "}}\n",
       "\n",
       "                        })                };                });            </script>        </div>"
      ]
     },
     "metadata": {},
     "output_type": "display_data"
    }
   ],
   "source": [
    "# Get beta factors (Frisch elasticities - how demand changes as household Marginal Utility of Expenditures falls)\n",
    "beta = result.get_beta(as_df=True).sort_values(ascending=False) \n",
    "px.bar(beta)"
   ]
  },
  {
   "cell_type": "markdown",
   "metadata": {},
   "source": [
    "## Infer prices\n",
    "\n"
   ]
  },
  {
   "cell_type": "code",
   "execution_count": 29,
   "metadata": {},
   "outputs": [
    {
     "data": {
      "text/html": [
       "<div><svg style=\"position: absolute; width: 0; height: 0; overflow: hidden\">\n",
       "<defs>\n",
       "<symbol id=\"icon-database\" viewBox=\"0 0 32 32\">\n",
       "<path d=\"M16 0c-8.837 0-16 2.239-16 5v4c0 2.761 7.163 5 16 5s16-2.239 16-5v-4c0-2.761-7.163-5-16-5z\"></path>\n",
       "<path d=\"M16 17c-8.837 0-16-2.239-16-5v6c0 2.761 7.163 5 16 5s16-2.239 16-5v-6c0 2.761-7.163 5-16 5z\"></path>\n",
       "<path d=\"M16 26c-8.837 0-16-2.239-16-5v6c0 2.761 7.163 5 16 5s16-2.239 16-5v-6c0 2.761-7.163 5-16 5z\"></path>\n",
       "</symbol>\n",
       "<symbol id=\"icon-file-text2\" viewBox=\"0 0 32 32\">\n",
       "<path d=\"M28.681 7.159c-0.694-0.947-1.662-2.053-2.724-3.116s-2.169-2.030-3.116-2.724c-1.612-1.182-2.393-1.319-2.841-1.319h-15.5c-1.378 0-2.5 1.121-2.5 2.5v27c0 1.378 1.122 2.5 2.5 2.5h23c1.378 0 2.5-1.122 2.5-2.5v-19.5c0-0.448-0.137-1.23-1.319-2.841zM24.543 5.457c0.959 0.959 1.712 1.825 2.268 2.543h-4.811v-4.811c0.718 0.556 1.584 1.309 2.543 2.268zM28 29.5c0 0.271-0.229 0.5-0.5 0.5h-23c-0.271 0-0.5-0.229-0.5-0.5v-27c0-0.271 0.229-0.5 0.5-0.5 0 0 15.499-0 15.5 0v7c0 0.552 0.448 1 1 1h7v19.5z\"></path>\n",
       "<path d=\"M23 26h-14c-0.552 0-1-0.448-1-1s0.448-1 1-1h14c0.552 0 1 0.448 1 1s-0.448 1-1 1z\"></path>\n",
       "<path d=\"M23 22h-14c-0.552 0-1-0.448-1-1s0.448-1 1-1h14c0.552 0 1 0.448 1 1s-0.448 1-1 1z\"></path>\n",
       "<path d=\"M23 18h-14c-0.552 0-1-0.448-1-1s0.448-1 1-1h14c0.552 0 1 0.448 1 1s-0.448 1-1 1z\"></path>\n",
       "</symbol>\n",
       "</defs>\n",
       "</svg>\n",
       "<style>/* CSS stylesheet for displaying xarray objects in jupyterlab.\n",
       " *\n",
       " */\n",
       "\n",
       ":root {\n",
       "  --xr-font-color0: var(--jp-content-font-color0, rgba(0, 0, 0, 1));\n",
       "  --xr-font-color2: var(--jp-content-font-color2, rgba(0, 0, 0, 0.54));\n",
       "  --xr-font-color3: var(--jp-content-font-color3, rgba(0, 0, 0, 0.38));\n",
       "  --xr-border-color: var(--jp-border-color2, #e0e0e0);\n",
       "  --xr-disabled-color: var(--jp-layout-color3, #bdbdbd);\n",
       "  --xr-background-color: var(--jp-layout-color0, white);\n",
       "  --xr-background-color-row-even: var(--jp-layout-color1, white);\n",
       "  --xr-background-color-row-odd: var(--jp-layout-color2, #eeeeee);\n",
       "}\n",
       "\n",
       "html[theme=dark],\n",
       "body.vscode-dark {\n",
       "  --xr-font-color0: rgba(255, 255, 255, 1);\n",
       "  --xr-font-color2: rgba(255, 255, 255, 0.54);\n",
       "  --xr-font-color3: rgba(255, 255, 255, 0.38);\n",
       "  --xr-border-color: #1F1F1F;\n",
       "  --xr-disabled-color: #515151;\n",
       "  --xr-background-color: #111111;\n",
       "  --xr-background-color-row-even: #111111;\n",
       "  --xr-background-color-row-odd: #313131;\n",
       "}\n",
       "\n",
       ".xr-wrap {\n",
       "  display: block;\n",
       "  min-width: 300px;\n",
       "  max-width: 700px;\n",
       "}\n",
       "\n",
       ".xr-text-repr-fallback {\n",
       "  /* fallback to plain text repr when CSS is not injected (untrusted notebook) */\n",
       "  display: none;\n",
       "}\n",
       "\n",
       ".xr-header {\n",
       "  padding-top: 6px;\n",
       "  padding-bottom: 6px;\n",
       "  margin-bottom: 4px;\n",
       "  border-bottom: solid 1px var(--xr-border-color);\n",
       "}\n",
       "\n",
       ".xr-header > div,\n",
       ".xr-header > ul {\n",
       "  display: inline;\n",
       "  margin-top: 0;\n",
       "  margin-bottom: 0;\n",
       "}\n",
       "\n",
       ".xr-obj-type,\n",
       ".xr-array-name {\n",
       "  margin-left: 2px;\n",
       "  margin-right: 10px;\n",
       "}\n",
       "\n",
       ".xr-obj-type {\n",
       "  color: var(--xr-font-color2);\n",
       "}\n",
       "\n",
       ".xr-sections {\n",
       "  padding-left: 0 !important;\n",
       "  display: grid;\n",
       "  grid-template-columns: 150px auto auto 1fr 20px 20px;\n",
       "}\n",
       "\n",
       ".xr-section-item {\n",
       "  display: contents;\n",
       "}\n",
       "\n",
       ".xr-section-item input {\n",
       "  display: none;\n",
       "}\n",
       "\n",
       ".xr-section-item input + label {\n",
       "  color: var(--xr-disabled-color);\n",
       "}\n",
       "\n",
       ".xr-section-item input:enabled + label {\n",
       "  cursor: pointer;\n",
       "  color: var(--xr-font-color2);\n",
       "}\n",
       "\n",
       ".xr-section-item input:enabled + label:hover {\n",
       "  color: var(--xr-font-color0);\n",
       "}\n",
       "\n",
       ".xr-section-summary {\n",
       "  grid-column: 1;\n",
       "  color: var(--xr-font-color2);\n",
       "  font-weight: 500;\n",
       "}\n",
       "\n",
       ".xr-section-summary > span {\n",
       "  display: inline-block;\n",
       "  padding-left: 0.5em;\n",
       "}\n",
       "\n",
       ".xr-section-summary-in:disabled + label {\n",
       "  color: var(--xr-font-color2);\n",
       "}\n",
       "\n",
       ".xr-section-summary-in + label:before {\n",
       "  display: inline-block;\n",
       "  content: '►';\n",
       "  font-size: 11px;\n",
       "  width: 15px;\n",
       "  text-align: center;\n",
       "}\n",
       "\n",
       ".xr-section-summary-in:disabled + label:before {\n",
       "  color: var(--xr-disabled-color);\n",
       "}\n",
       "\n",
       ".xr-section-summary-in:checked + label:before {\n",
       "  content: '▼';\n",
       "}\n",
       "\n",
       ".xr-section-summary-in:checked + label > span {\n",
       "  display: none;\n",
       "}\n",
       "\n",
       ".xr-section-summary,\n",
       ".xr-section-inline-details {\n",
       "  padding-top: 4px;\n",
       "  padding-bottom: 4px;\n",
       "}\n",
       "\n",
       ".xr-section-inline-details {\n",
       "  grid-column: 2 / -1;\n",
       "}\n",
       "\n",
       ".xr-section-details {\n",
       "  display: none;\n",
       "  grid-column: 1 / -1;\n",
       "  margin-bottom: 5px;\n",
       "}\n",
       "\n",
       ".xr-section-summary-in:checked ~ .xr-section-details {\n",
       "  display: contents;\n",
       "}\n",
       "\n",
       ".xr-array-wrap {\n",
       "  grid-column: 1 / -1;\n",
       "  display: grid;\n",
       "  grid-template-columns: 20px auto;\n",
       "}\n",
       "\n",
       ".xr-array-wrap > label {\n",
       "  grid-column: 1;\n",
       "  vertical-align: top;\n",
       "}\n",
       "\n",
       ".xr-preview {\n",
       "  color: var(--xr-font-color3);\n",
       "}\n",
       "\n",
       ".xr-array-preview,\n",
       ".xr-array-data {\n",
       "  padding: 0 5px !important;\n",
       "  grid-column: 2;\n",
       "}\n",
       "\n",
       ".xr-array-data,\n",
       ".xr-array-in:checked ~ .xr-array-preview {\n",
       "  display: none;\n",
       "}\n",
       "\n",
       ".xr-array-in:checked ~ .xr-array-data,\n",
       ".xr-array-preview {\n",
       "  display: inline-block;\n",
       "}\n",
       "\n",
       ".xr-dim-list {\n",
       "  display: inline-block !important;\n",
       "  list-style: none;\n",
       "  padding: 0 !important;\n",
       "  margin: 0;\n",
       "}\n",
       "\n",
       ".xr-dim-list li {\n",
       "  display: inline-block;\n",
       "  padding: 0;\n",
       "  margin: 0;\n",
       "}\n",
       "\n",
       ".xr-dim-list:before {\n",
       "  content: '(';\n",
       "}\n",
       "\n",
       ".xr-dim-list:after {\n",
       "  content: ')';\n",
       "}\n",
       "\n",
       ".xr-dim-list li:not(:last-child):after {\n",
       "  content: ',';\n",
       "  padding-right: 5px;\n",
       "}\n",
       "\n",
       ".xr-has-index {\n",
       "  font-weight: bold;\n",
       "}\n",
       "\n",
       ".xr-var-list,\n",
       ".xr-var-item {\n",
       "  display: contents;\n",
       "}\n",
       "\n",
       ".xr-var-item > div,\n",
       ".xr-var-item label,\n",
       ".xr-var-item > .xr-var-name span {\n",
       "  background-color: var(--xr-background-color-row-even);\n",
       "  margin-bottom: 0;\n",
       "}\n",
       "\n",
       ".xr-var-item > .xr-var-name:hover span {\n",
       "  padding-right: 5px;\n",
       "}\n",
       "\n",
       ".xr-var-list > li:nth-child(odd) > div,\n",
       ".xr-var-list > li:nth-child(odd) > label,\n",
       ".xr-var-list > li:nth-child(odd) > .xr-var-name span {\n",
       "  background-color: var(--xr-background-color-row-odd);\n",
       "}\n",
       "\n",
       ".xr-var-name {\n",
       "  grid-column: 1;\n",
       "}\n",
       "\n",
       ".xr-var-dims {\n",
       "  grid-column: 2;\n",
       "}\n",
       "\n",
       ".xr-var-dtype {\n",
       "  grid-column: 3;\n",
       "  text-align: right;\n",
       "  color: var(--xr-font-color2);\n",
       "}\n",
       "\n",
       ".xr-var-preview {\n",
       "  grid-column: 4;\n",
       "}\n",
       "\n",
       ".xr-var-name,\n",
       ".xr-var-dims,\n",
       ".xr-var-dtype,\n",
       ".xr-preview,\n",
       ".xr-attrs dt {\n",
       "  white-space: nowrap;\n",
       "  overflow: hidden;\n",
       "  text-overflow: ellipsis;\n",
       "  padding-right: 10px;\n",
       "}\n",
       "\n",
       ".xr-var-name:hover,\n",
       ".xr-var-dims:hover,\n",
       ".xr-var-dtype:hover,\n",
       ".xr-attrs dt:hover {\n",
       "  overflow: visible;\n",
       "  width: auto;\n",
       "  z-index: 1;\n",
       "}\n",
       "\n",
       ".xr-var-attrs,\n",
       ".xr-var-data {\n",
       "  display: none;\n",
       "  background-color: var(--xr-background-color) !important;\n",
       "  padding-bottom: 5px !important;\n",
       "}\n",
       "\n",
       ".xr-var-attrs-in:checked ~ .xr-var-attrs,\n",
       ".xr-var-data-in:checked ~ .xr-var-data {\n",
       "  display: block;\n",
       "}\n",
       "\n",
       ".xr-var-data > table {\n",
       "  float: right;\n",
       "}\n",
       "\n",
       ".xr-var-name span,\n",
       ".xr-var-data,\n",
       ".xr-attrs {\n",
       "  padding-left: 25px !important;\n",
       "}\n",
       "\n",
       ".xr-attrs,\n",
       ".xr-var-attrs,\n",
       ".xr-var-data {\n",
       "  grid-column: 1 / -1;\n",
       "}\n",
       "\n",
       "dl.xr-attrs {\n",
       "  padding: 0;\n",
       "  margin: 0;\n",
       "  display: grid;\n",
       "  grid-template-columns: 125px auto;\n",
       "}\n",
       "\n",
       ".xr-attrs dt,\n",
       ".xr-attrs dd {\n",
       "  padding: 0;\n",
       "  margin: 0;\n",
       "  float: left;\n",
       "  padding-right: 10px;\n",
       "  width: auto;\n",
       "}\n",
       "\n",
       ".xr-attrs dt {\n",
       "  font-weight: normal;\n",
       "  grid-column: 1;\n",
       "}\n",
       "\n",
       ".xr-attrs dt:hover span {\n",
       "  display: inline-block;\n",
       "  background: var(--xr-background-color);\n",
       "  padding-right: 10px;\n",
       "}\n",
       "\n",
       ".xr-attrs dd {\n",
       "  grid-column: 2;\n",
       "  white-space: pre-wrap;\n",
       "  word-break: break-all;\n",
       "}\n",
       "\n",
       ".xr-icon-database,\n",
       ".xr-icon-file-text2 {\n",
       "  display: inline-block;\n",
       "  vertical-align: middle;\n",
       "  width: 1em;\n",
       "  height: 1.5em !important;\n",
       "  stroke-width: 0;\n",
       "  stroke: currentColor;\n",
       "  fill: currentColor;\n",
       "}\n",
       "</style><pre class='xr-text-repr-fallback'>&lt;xarray.Dataset&gt;\n",
       "Dimensions:           (j: 572, i: 29, k: 19, variable: 1, m: 1, t: 1, kp: 19)\n",
       "Coordinates:\n",
       "  * j                 (j) float64 2.0 4.0 5.0 6.0 ... 938.0 939.0 940.0 941.0\n",
       "  * t                 (t) float64 2.003e+03\n",
       "  * m                 (m) object &#x27;Bukidnon&#x27;\n",
       "  * i                 (i) object &#x27;Bagoong&#x27; &#x27;Banana&#x27; ... &#x27;Talong&#x27; &#x27;Tomatoes&#x27;\n",
       "  * k                 (k) &lt;U14 &#x27;Males 0-1&#x27; &#x27;Males 1-5&#x27; ... &#x27;log HSize&#x27;\n",
       "  * kp                (kp) &lt;U14 &#x27;Males 0-1&#x27; &#x27;Males 1-5&#x27; ... &#x27;log HSize&#x27;\n",
       "  * variable          (variable) float64 2.003e+03\n",
       "Data variables: (12/20)\n",
       "    alpha             object None\n",
       "    beta              (i) float64 0.2534 0.5821 0.4597 ... 0.2713 0.5006 0.4771\n",
       "    delta             (k, i) float64 -0.05259 0.2786 0.245 ... -0.4271 -0.4551\n",
       "    prices            (variable, i, m) float64 0.03719 0.0214 ... 0.02372\n",
       "    characteristics   (k, j, t, m) float64 0.0 0.0 0.0 0.0 ... 1.792 1.386 1.099\n",
       "    loglambdas        (j, t, m) float64 -0.6325 -1.442 1.418 ... -1.05 -1.058\n",
       "    ...                ...\n",
       "    se_beta           object None\n",
       "    se_alpha          object None\n",
       "    se_a              (i, t, m) float64 0.03899 0.05199 ... 0.05059 0.04981\n",
       "    y                 (i, j, t, m) float64 nan 2.89 -0.2877 ... 1.792 nan\n",
       "    logp              object None\n",
       "    z                 (k, j, t, m) float64 0.0 0.0 0.0 0.0 ... 1.792 1.386 1.099</pre><div class='xr-wrap' hidden><div class='xr-header'><div class='xr-obj-type'>xarray.Dataset</div></div><ul class='xr-sections'><li class='xr-section-item'><input id='section-2f7a0585-bc91-4a70-8c75-85294886d6bd' class='xr-section-summary-in' type='checkbox' disabled ><label for='section-2f7a0585-bc91-4a70-8c75-85294886d6bd' class='xr-section-summary'  title='Expand/collapse section'>Dimensions:</label><div class='xr-section-inline-details'><ul class='xr-dim-list'><li><span class='xr-has-index'>j</span>: 572</li><li><span class='xr-has-index'>i</span>: 29</li><li><span class='xr-has-index'>k</span>: 19</li><li><span class='xr-has-index'>variable</span>: 1</li><li><span class='xr-has-index'>m</span>: 1</li><li><span class='xr-has-index'>t</span>: 1</li><li><span class='xr-has-index'>kp</span>: 19</li></ul></div><div class='xr-section-details'></div></li><li class='xr-section-item'><input id='section-e3b776d5-b8b0-4cb3-bca1-befd83c2f26a' class='xr-section-summary-in' type='checkbox'  checked><label for='section-e3b776d5-b8b0-4cb3-bca1-befd83c2f26a' class='xr-section-summary' >Coordinates: <span>(7)</span></label><div class='xr-section-inline-details'></div><div class='xr-section-details'><ul class='xr-var-list'><li class='xr-var-item'><div class='xr-var-name'><span class='xr-has-index'>j</span></div><div class='xr-var-dims'>(j)</div><div class='xr-var-dtype'>float64</div><div class='xr-var-preview xr-preview'>2.0 4.0 5.0 ... 939.0 940.0 941.0</div><input id='attrs-83b588b7-5f25-4ce5-914b-b6795bf39fcb' class='xr-var-attrs-in' type='checkbox' disabled><label for='attrs-83b588b7-5f25-4ce5-914b-b6795bf39fcb' title='Show/Hide attributes'><svg class='icon xr-icon-file-text2'><use xlink:href='#icon-file-text2'></use></svg></label><input id='data-a9e3e908-d257-42da-8308-c0336880c9a3' class='xr-var-data-in' type='checkbox'><label for='data-a9e3e908-d257-42da-8308-c0336880c9a3' title='Show/Hide data repr'><svg class='icon xr-icon-database'><use xlink:href='#icon-database'></use></svg></label><div class='xr-var-attrs'><dl class='xr-attrs'></dl></div><div class='xr-var-data'><pre>array([  2.,   4.,   5., ..., 939., 940., 941.])</pre></div></li><li class='xr-var-item'><div class='xr-var-name'><span class='xr-has-index'>t</span></div><div class='xr-var-dims'>(t)</div><div class='xr-var-dtype'>float64</div><div class='xr-var-preview xr-preview'>2.003e+03</div><input id='attrs-2aa6a521-74f0-4ecc-8153-5541d4dae1ca' class='xr-var-attrs-in' type='checkbox' disabled><label for='attrs-2aa6a521-74f0-4ecc-8153-5541d4dae1ca' title='Show/Hide attributes'><svg class='icon xr-icon-file-text2'><use xlink:href='#icon-file-text2'></use></svg></label><input id='data-8f5b0967-b07f-4bd5-85ef-849b76f62d11' class='xr-var-data-in' type='checkbox'><label for='data-8f5b0967-b07f-4bd5-85ef-849b76f62d11' title='Show/Hide data repr'><svg class='icon xr-icon-database'><use xlink:href='#icon-database'></use></svg></label><div class='xr-var-attrs'><dl class='xr-attrs'></dl></div><div class='xr-var-data'><pre>array([2003.])</pre></div></li><li class='xr-var-item'><div class='xr-var-name'><span class='xr-has-index'>m</span></div><div class='xr-var-dims'>(m)</div><div class='xr-var-dtype'>object</div><div class='xr-var-preview xr-preview'>&#x27;Bukidnon&#x27;</div><input id='attrs-ce976140-2a69-4f5c-91e5-29227feac781' class='xr-var-attrs-in' type='checkbox' disabled><label for='attrs-ce976140-2a69-4f5c-91e5-29227feac781' title='Show/Hide attributes'><svg class='icon xr-icon-file-text2'><use xlink:href='#icon-file-text2'></use></svg></label><input id='data-4937f2a6-3904-4129-a75d-521b71ae5496' class='xr-var-data-in' type='checkbox'><label for='data-4937f2a6-3904-4129-a75d-521b71ae5496' title='Show/Hide data repr'><svg class='icon xr-icon-database'><use xlink:href='#icon-database'></use></svg></label><div class='xr-var-attrs'><dl class='xr-attrs'></dl></div><div class='xr-var-data'><pre>array([&#x27;Bukidnon&#x27;], dtype=object)</pre></div></li><li class='xr-var-item'><div class='xr-var-name'><span class='xr-has-index'>i</span></div><div class='xr-var-dims'>(i)</div><div class='xr-var-dtype'>object</div><div class='xr-var-preview xr-preview'>&#x27;Bagoong&#x27; &#x27;Banana&#x27; ... &#x27;Tomatoes&#x27;</div><input id='attrs-d4430631-8c73-4449-a46d-2b0585c1029c' class='xr-var-attrs-in' type='checkbox' disabled><label for='attrs-d4430631-8c73-4449-a46d-2b0585c1029c' title='Show/Hide attributes'><svg class='icon xr-icon-file-text2'><use xlink:href='#icon-file-text2'></use></svg></label><input id='data-2011b6e2-b9d6-4b61-8f77-ffd6b56a94a9' class='xr-var-data-in' type='checkbox'><label for='data-2011b6e2-b9d6-4b61-8f77-ffd6b56a94a9' title='Show/Hide data repr'><svg class='icon xr-icon-database'><use xlink:href='#icon-database'></use></svg></label><div class='xr-var-attrs'><dl class='xr-attrs'></dl></div><div class='xr-var-data'><pre>array([&#x27;Bagoong&#x27;, &#x27;Banana&#x27;, &#x27;Beef&#x27;, &#x27;Carrots&#x27;, &#x27;Chicken&#x27;, &#x27;Coffee&#x27;,\n",
       "       &#x27;Cooking oil&#x27;, &#x27;Eggs&#x27;, &#x27;Food made from flour&#x27;, &#x27;Fresh fish&#x27;, &#x27;Mangoes&#x27;,\n",
       "       &#x27;Milk&#x27;, &#x27;Milo&#x27;, &#x27;Mongo and other products&#x27;, &#x27;Onions&#x27;, &#x27;Peanut&#x27;, &#x27;Pork&#x27;,\n",
       "       &#x27;Potato&#x27;, &#x27;Processed meat like longanisa&#x27;, &#x27;Rice&#x27;, &#x27;Salt&#x27;, &#x27;Sardines&#x27;,\n",
       "       &#x27;Sea weed&#x27;, &#x27;Soybean and other products&#x27;, &#x27;Squash&#x27;, &#x27;Sugar&#x27;,\n",
       "       &#x27;Sweet potato&#x27;, &#x27;Talong&#x27;, &#x27;Tomatoes&#x27;], dtype=object)</pre></div></li><li class='xr-var-item'><div class='xr-var-name'><span class='xr-has-index'>k</span></div><div class='xr-var-dims'>(k)</div><div class='xr-var-dtype'>&lt;U14</div><div class='xr-var-preview xr-preview'>&#x27;Males 0-1&#x27; ... &#x27;log HSize&#x27;</div><input id='attrs-3114258e-df50-448e-88ae-f3e7a8c51ee7' class='xr-var-attrs-in' type='checkbox' disabled><label for='attrs-3114258e-df50-448e-88ae-f3e7a8c51ee7' title='Show/Hide attributes'><svg class='icon xr-icon-file-text2'><use xlink:href='#icon-file-text2'></use></svg></label><input id='data-3d0cce16-90e9-4b68-9332-cf451c52fbb9' class='xr-var-data-in' type='checkbox'><label for='data-3d0cce16-90e9-4b68-9332-cf451c52fbb9' title='Show/Hide data repr'><svg class='icon xr-icon-database'><use xlink:href='#icon-database'></use></svg></label><div class='xr-var-attrs'><dl class='xr-attrs'></dl></div><div class='xr-var-data'><pre>array([&#x27;Males 0-1&#x27;, &#x27;Males 1-5&#x27;, &#x27;Males 5-10&#x27;, &#x27;Males 10-15&#x27;, &#x27;Males 15-20&#x27;,\n",
       "       &#x27;Males 20-30&#x27;, &#x27;Males 30-50&#x27;, &#x27;Males 50-60&#x27;, &#x27;Males 60-100&#x27;,\n",
       "       &#x27;Females 0-1&#x27;, &#x27;Females 1-5&#x27;, &#x27;Females 5-10&#x27;, &#x27;Females 10-15&#x27;,\n",
       "       &#x27;Females 15-20&#x27;, &#x27;Females 20-30&#x27;, &#x27;Females 30-50&#x27;, &#x27;Females 50-60&#x27;,\n",
       "       &#x27;Females 60-100&#x27;, &#x27;log HSize&#x27;], dtype=&#x27;&lt;U14&#x27;)</pre></div></li><li class='xr-var-item'><div class='xr-var-name'><span class='xr-has-index'>kp</span></div><div class='xr-var-dims'>(kp)</div><div class='xr-var-dtype'>&lt;U14</div><div class='xr-var-preview xr-preview'>&#x27;Males 0-1&#x27; ... &#x27;log HSize&#x27;</div><input id='attrs-37e9e001-449a-4ee3-9256-80b68096b15d' class='xr-var-attrs-in' type='checkbox' disabled><label for='attrs-37e9e001-449a-4ee3-9256-80b68096b15d' title='Show/Hide attributes'><svg class='icon xr-icon-file-text2'><use xlink:href='#icon-file-text2'></use></svg></label><input id='data-fb39149d-072d-4b3a-967d-0b6d1361cc6f' class='xr-var-data-in' type='checkbox'><label for='data-fb39149d-072d-4b3a-967d-0b6d1361cc6f' title='Show/Hide data repr'><svg class='icon xr-icon-database'><use xlink:href='#icon-database'></use></svg></label><div class='xr-var-attrs'><dl class='xr-attrs'></dl></div><div class='xr-var-data'><pre>array([&#x27;Males 0-1&#x27;, &#x27;Males 1-5&#x27;, &#x27;Males 5-10&#x27;, &#x27;Males 10-15&#x27;, &#x27;Males 15-20&#x27;,\n",
       "       &#x27;Males 20-30&#x27;, &#x27;Males 30-50&#x27;, &#x27;Males 50-60&#x27;, &#x27;Males 60-100&#x27;,\n",
       "       &#x27;Females 0-1&#x27;, &#x27;Females 1-5&#x27;, &#x27;Females 5-10&#x27;, &#x27;Females 10-15&#x27;,\n",
       "       &#x27;Females 15-20&#x27;, &#x27;Females 20-30&#x27;, &#x27;Females 30-50&#x27;, &#x27;Females 50-60&#x27;,\n",
       "       &#x27;Females 60-100&#x27;, &#x27;log HSize&#x27;], dtype=&#x27;&lt;U14&#x27;)</pre></div></li><li class='xr-var-item'><div class='xr-var-name'><span class='xr-has-index'>variable</span></div><div class='xr-var-dims'>(variable)</div><div class='xr-var-dtype'>float64</div><div class='xr-var-preview xr-preview'>2.003e+03</div><input id='attrs-6de8af81-71e4-493c-b732-1185d8094dfb' class='xr-var-attrs-in' type='checkbox' disabled><label for='attrs-6de8af81-71e4-493c-b732-1185d8094dfb' title='Show/Hide attributes'><svg class='icon xr-icon-file-text2'><use xlink:href='#icon-file-text2'></use></svg></label><input id='data-53c7e4ab-4945-4bae-b714-b4b781ee328f' class='xr-var-data-in' type='checkbox'><label for='data-53c7e4ab-4945-4bae-b714-b4b781ee328f' title='Show/Hide data repr'><svg class='icon xr-icon-database'><use xlink:href='#icon-database'></use></svg></label><div class='xr-var-attrs'><dl class='xr-attrs'></dl></div><div class='xr-var-data'><pre>array([2003.])</pre></div></li></ul></div></li><li class='xr-section-item'><input id='section-7581d3e7-048e-4fa2-ac9d-269652d0a564' class='xr-section-summary-in' type='checkbox'  ><label for='section-7581d3e7-048e-4fa2-ac9d-269652d0a564' class='xr-section-summary' >Data variables: <span>(20)</span></label><div class='xr-section-inline-details'></div><div class='xr-section-details'><ul class='xr-var-list'><li class='xr-var-item'><div class='xr-var-name'><span>alpha</span></div><div class='xr-var-dims'>()</div><div class='xr-var-dtype'>object</div><div class='xr-var-preview xr-preview'>None</div><input id='attrs-3bde9662-c17b-48cb-9d2d-f46f549a51fe' class='xr-var-attrs-in' type='checkbox' disabled><label for='attrs-3bde9662-c17b-48cb-9d2d-f46f549a51fe' title='Show/Hide attributes'><svg class='icon xr-icon-file-text2'><use xlink:href='#icon-file-text2'></use></svg></label><input id='data-f8f7b410-173c-40bd-9dae-ae8ca3583f9f' class='xr-var-data-in' type='checkbox'><label for='data-f8f7b410-173c-40bd-9dae-ae8ca3583f9f' title='Show/Hide data repr'><svg class='icon xr-icon-database'><use xlink:href='#icon-database'></use></svg></label><div class='xr-var-attrs'><dl class='xr-attrs'></dl></div><div class='xr-var-data'><pre>array(None, dtype=object)</pre></div></li><li class='xr-var-item'><div class='xr-var-name'><span>beta</span></div><div class='xr-var-dims'>(i)</div><div class='xr-var-dtype'>float64</div><div class='xr-var-preview xr-preview'>0.2534 0.5821 ... 0.5006 0.4771</div><input id='attrs-0adad020-7f48-49fb-ac44-654bffcf7226' class='xr-var-attrs-in' type='checkbox' disabled><label for='attrs-0adad020-7f48-49fb-ac44-654bffcf7226' title='Show/Hide attributes'><svg class='icon xr-icon-file-text2'><use xlink:href='#icon-file-text2'></use></svg></label><input id='data-86c4b7d8-29a0-41f4-b560-4672896b4d88' class='xr-var-data-in' type='checkbox'><label for='data-86c4b7d8-29a0-41f4-b560-4672896b4d88' title='Show/Hide data repr'><svg class='icon xr-icon-database'><use xlink:href='#icon-database'></use></svg></label><div class='xr-var-attrs'><dl class='xr-attrs'></dl></div><div class='xr-var-data'><pre>array([0.25344576, 0.58212372, 0.45969411, 0.41448691, 0.48816504,\n",
       "       0.38074471, 0.46875961, 0.51447533, 0.45156731, 0.55454452,\n",
       "       0.33546674, 0.55538761, 0.47228784, 0.42948792, 0.49926793,\n",
       "       0.35633867, 0.45192595, 0.22496068, 0.49114001, 0.19124835,\n",
       "       0.26724416, 0.4476808 , 0.50669277, 0.41099618, 0.42607603,\n",
       "       0.27466889, 0.27126558, 0.50059647, 0.47705784])</pre></div></li><li class='xr-var-item'><div class='xr-var-name'><span>delta</span></div><div class='xr-var-dims'>(k, i)</div><div class='xr-var-dtype'>float64</div><div class='xr-var-preview xr-preview'>-0.05259 0.2786 ... -0.4271 -0.4551</div><input id='attrs-71dc2268-ed52-4e7f-9a87-23867de795cb' class='xr-var-attrs-in' type='checkbox' disabled><label for='attrs-71dc2268-ed52-4e7f-9a87-23867de795cb' title='Show/Hide attributes'><svg class='icon xr-icon-file-text2'><use xlink:href='#icon-file-text2'></use></svg></label><input id='data-da2c8038-8473-4a89-8472-5362475905fe' class='xr-var-data-in' type='checkbox'><label for='data-da2c8038-8473-4a89-8472-5362475905fe' title='Show/Hide data repr'><svg class='icon xr-icon-database'><use xlink:href='#icon-database'></use></svg></label><div class='xr-var-attrs'><dl class='xr-attrs'></dl></div><div class='xr-var-data'><pre>array([[-5.25856222e-02,  2.78559142e-01,  2.44979679e-01,\n",
       "         1.83418782e-01,  1.83645360e-02, -5.88518524e-02,\n",
       "        -9.10095192e-02,  1.97686475e-02,  4.34689777e-01,\n",
       "         1.30574411e-01, -3.97405509e-01,  8.20563908e-01,\n",
       "         4.60209893e-01,  9.41546039e-03, -4.55117787e-02,\n",
       "         4.88951019e-01, -1.71405431e-02,  6.23384919e-03,\n",
       "         4.31187275e-01, -6.51024043e-02,  6.49699002e-02,\n",
       "         1.76022470e-02,  4.13240833e-01, -4.76801825e-02,\n",
       "         2.94855548e-01,  1.36164893e-01,  2.47480810e-02,\n",
       "        -4.13522583e-01, -4.13965384e-02],\n",
       "       [ 8.92831827e-02,  2.72694926e-01,  5.00332077e-02,\n",
       "         1.65941351e-01,  3.59177817e-02,  3.82686356e-02,\n",
       "         1.79449993e-02,  6.62251638e-02,  2.93566440e-01,\n",
       "         1.05394154e-02, -8.47322391e-02,  3.61618234e-01,\n",
       "         2.47973772e-01,  1.07997245e-01,  9.73341266e-02,\n",
       "         4.38964341e-02,  1.05048529e-01,  1.80211123e-01,\n",
       "         1.65656607e-01,  2.60276256e-02, -3.38635215e-03,\n",
       "        -8.43717205e-02,  6.49799947e-02,  7.60960623e-02,\n",
       "        -6.80685083e-02,  8.50780839e-02,  2.06385753e-02,\n",
       "         1.40419735e-01,  2.70619610e-02],\n",
       "...\n",
       "       [-1.86993811e-01,  2.53598356e-01, -1.38554542e-01,\n",
       "         3.22090531e-02,  3.47631236e-01, -1.58402570e-01,\n",
       "        -1.77885029e-01,  8.41307314e-02, -5.14244346e-02,\n",
       "        -1.96283511e-01,  6.00650542e-01,  4.71180866e-02,\n",
       "         5.04981458e-02, -2.33136371e-01,  3.97592503e-02,\n",
       "        -4.30170066e-01, -1.39107134e-01,  2.42071751e-01,\n",
       "         4.95076567e-02,  9.66519187e-02, -1.60534856e-01,\n",
       "        -2.21159963e-01, -2.59669815e-02, -3.21177982e-02,\n",
       "         7.94508338e-02, -1.26629637e-01,  3.79115368e-01,\n",
       "         9.92313589e-02,  1.07758871e-01],\n",
       "       [ 2.58258009e-01, -8.25993893e-01, -1.44312722e-01,\n",
       "         3.10743007e-02,  6.17060299e-01, -4.23946814e-01,\n",
       "        -1.26177210e-01, -4.89299859e-01, -3.94852866e-01,\n",
       "        -1.04931873e-01, -4.22722017e-01, -3.98009205e-01,\n",
       "        -3.77068295e-01, -1.51977317e-02, -3.47734794e-01,\n",
       "         6.73892005e-01,  6.73262055e-02, -4.89265918e-01,\n",
       "        -5.39346113e-01,  1.75256266e-01,  1.44732735e-01,\n",
       "         1.52226373e-01, -1.96475445e-02, -6.15324153e-01,\n",
       "        -8.45074842e-01, -1.03085279e-01, -5.23022961e-01,\n",
       "        -4.27068016e-01, -4.55062053e-01]])</pre></div></li><li class='xr-var-item'><div class='xr-var-name'><span>prices</span></div><div class='xr-var-dims'>(variable, i, m)</div><div class='xr-var-dtype'>float64</div><div class='xr-var-preview xr-preview'>0.03719 0.0214 ... 0.01548 0.02372</div><input id='attrs-6dd4e333-23f6-4b63-843a-8d2c3f2bb5ce' class='xr-var-attrs-in' type='checkbox' disabled><label for='attrs-6dd4e333-23f6-4b63-843a-8d2c3f2bb5ce' title='Show/Hide attributes'><svg class='icon xr-icon-file-text2'><use xlink:href='#icon-file-text2'></use></svg></label><input id='data-571eb534-796d-4cb4-a32a-76bebec77fc5' class='xr-var-data-in' type='checkbox'><label for='data-571eb534-796d-4cb4-a32a-76bebec77fc5' title='Show/Hide data repr'><svg class='icon xr-icon-database'><use xlink:href='#icon-database'></use></svg></label><div class='xr-var-attrs'><dl class='xr-attrs'></dl></div><div class='xr-var-data'><pre>array([[[0.03718952],\n",
       "        [0.02140129],\n",
       "        [0.13503078],\n",
       "        [0.02782204],\n",
       "        [0.09776387],\n",
       "        [0.73203374],\n",
       "        [0.03857816],\n",
       "        [0.09264132],\n",
       "        [0.01647178],\n",
       "        [0.04650201],\n",
       "        [0.04549736],\n",
       "        [0.27752266],\n",
       "        [0.21788709],\n",
       "        [0.03870047],\n",
       "        [0.04397053],\n",
       "        [0.17055849],\n",
       "        [0.10293445],\n",
       "        [0.02859946],\n",
       "        [0.14414307],\n",
       "        [0.02120151],\n",
       "        [0.01554948],\n",
       "        [0.07812669],\n",
       "        [0.03535877],\n",
       "        [0.02493181],\n",
       "        [0.01068833],\n",
       "        [0.02372797],\n",
       "        [0.00973524],\n",
       "        [0.01547549],\n",
       "        [0.02372067]]])</pre></div></li><li class='xr-var-item'><div class='xr-var-name'><span>characteristics</span></div><div class='xr-var-dims'>(k, j, t, m)</div><div class='xr-var-dtype'>float64</div><div class='xr-var-preview xr-preview'>0.0 0.0 0.0 ... 1.792 1.386 1.099</div><input id='attrs-f19f3f2e-fc4b-442c-b274-54d7421b926b' class='xr-var-attrs-in' type='checkbox' disabled><label for='attrs-f19f3f2e-fc4b-442c-b274-54d7421b926b' title='Show/Hide attributes'><svg class='icon xr-icon-file-text2'><use xlink:href='#icon-file-text2'></use></svg></label><input id='data-0aecbdfe-3025-4719-bea7-10acc7703dc1' class='xr-var-data-in' type='checkbox'><label for='data-0aecbdfe-3025-4719-bea7-10acc7703dc1' title='Show/Hide data repr'><svg class='icon xr-icon-database'><use xlink:href='#icon-database'></use></svg></label><div class='xr-var-attrs'><dl class='xr-attrs'></dl></div><div class='xr-var-data'><pre>array([[[[0.        ]],\n",
       "\n",
       "        [[0.        ]],\n",
       "\n",
       "        [[0.        ]],\n",
       "\n",
       "        ...,\n",
       "\n",
       "        [[0.        ]],\n",
       "\n",
       "        [[0.        ]],\n",
       "\n",
       "        [[0.        ]]],\n",
       "\n",
       "\n",
       "       [[[0.        ]],\n",
       "\n",
       "        [[0.        ]],\n",
       "\n",
       "        [[0.        ]],\n",
       "...\n",
       "        [[0.        ]],\n",
       "\n",
       "        [[0.        ]],\n",
       "\n",
       "        [[0.        ]]],\n",
       "\n",
       "\n",
       "       [[[2.39789527]],\n",
       "\n",
       "        [[1.79175947]],\n",
       "\n",
       "        [[1.09861229]],\n",
       "\n",
       "        ...,\n",
       "\n",
       "        [[1.79175947]],\n",
       "\n",
       "        [[1.38629436]],\n",
       "\n",
       "        [[1.09861229]]]])</pre></div></li><li class='xr-var-item'><div class='xr-var-name'><span>loglambdas</span></div><div class='xr-var-dims'>(j, t, m)</div><div class='xr-var-dtype'>float64</div><div class='xr-var-preview xr-preview'>-0.6325 -1.442 ... -1.05 -1.058</div><input id='attrs-d831398d-1241-438f-9a31-d02b70cc1398' class='xr-var-attrs-in' type='checkbox' disabled><label for='attrs-d831398d-1241-438f-9a31-d02b70cc1398' title='Show/Hide attributes'><svg class='icon xr-icon-file-text2'><use xlink:href='#icon-file-text2'></use></svg></label><input id='data-5a0e1732-8d05-4bc8-94f3-3ff8eb5e9d3b' class='xr-var-data-in' type='checkbox'><label for='data-5a0e1732-8d05-4bc8-94f3-3ff8eb5e9d3b' title='Show/Hide data repr'><svg class='icon xr-icon-database'><use xlink:href='#icon-database'></use></svg></label><div class='xr-var-attrs'><dl class='xr-attrs'></dl></div><div class='xr-var-data'><pre>array([[[-6.32494757e-01]],\n",
       "\n",
       "       [[-1.44155857e+00]],\n",
       "\n",
       "       [[ 1.41788317e+00]],\n",
       "\n",
       "       [[-2.04765416e+00]],\n",
       "\n",
       "       [[-8.69123891e-01]],\n",
       "\n",
       "       [[ 3.49539399e-01]],\n",
       "\n",
       "       [[ 1.07089123e+00]],\n",
       "\n",
       "       [[ 9.61570800e-01]],\n",
       "\n",
       "       [[-9.10330499e-01]],\n",
       "\n",
       "       [[-3.58258785e-01]],\n",
       "\n",
       "...\n",
       "\n",
       "       [[-1.48948806e+00]],\n",
       "\n",
       "       [[ 7.81342763e-01]],\n",
       "\n",
       "       [[-1.35654786e+00]],\n",
       "\n",
       "       [[-1.57694474e+00]],\n",
       "\n",
       "       [[-1.31788753e+00]],\n",
       "\n",
       "       [[-5.23643646e-01]],\n",
       "\n",
       "       [[-4.26066489e-01]],\n",
       "\n",
       "       [[ 2.00857953e+00]],\n",
       "\n",
       "       [[-1.05043844e+00]],\n",
       "\n",
       "       [[-1.05814639e+00]]])</pre></div></li><li class='xr-var-item'><div class='xr-var-name'><span>a</span></div><div class='xr-var-dims'>(i, t, m)</div><div class='xr-var-dtype'>float64</div><div class='xr-var-preview xr-preview'>1.046 2.579 3.404 ... 1.778 1.721</div><input id='attrs-66c40ec4-57db-4fd7-8e6c-ed100234a27f' class='xr-var-attrs-in' type='checkbox' disabled><label for='attrs-66c40ec4-57db-4fd7-8e6c-ed100234a27f' title='Show/Hide attributes'><svg class='icon xr-icon-file-text2'><use xlink:href='#icon-file-text2'></use></svg></label><input id='data-0331ce0f-87b7-4553-9b28-2dc2f5f823b0' class='xr-var-data-in' type='checkbox'><label for='data-0331ce0f-87b7-4553-9b28-2dc2f5f823b0' title='Show/Hide data repr'><svg class='icon xr-icon-database'><use xlink:href='#icon-database'></use></svg></label><div class='xr-var-attrs'><dl class='xr-attrs'></dl></div><div class='xr-var-data'><pre>array([[[1.04559086]],\n",
       "\n",
       "       [[2.57940535]],\n",
       "\n",
       "       [[3.40364451]],\n",
       "\n",
       "       [[1.48498585]],\n",
       "\n",
       "       [[2.40736509]],\n",
       "\n",
       "       [[2.20613954]],\n",
       "\n",
       "       [[2.31128818]],\n",
       "\n",
       "       [[2.70467601]],\n",
       "\n",
       "       [[3.06805599]],\n",
       "\n",
       "       [[3.44525942]],\n",
       "\n",
       "...\n",
       "\n",
       "       [[4.72010182]],\n",
       "\n",
       "       [[0.58196268]],\n",
       "\n",
       "       [[1.96982549]],\n",
       "\n",
       "       [[1.75741232]],\n",
       "\n",
       "       [[2.06484293]],\n",
       "\n",
       "       [[2.0065807 ]],\n",
       "\n",
       "       [[2.3461722 ]],\n",
       "\n",
       "       [[2.13416286]],\n",
       "\n",
       "       [[1.77843766]],\n",
       "\n",
       "       [[1.72086511]]])</pre></div></li><li class='xr-var-item'><div class='xr-var-name'><span>yhat</span></div><div class='xr-var-dims'>(i, j, t, m)</div><div class='xr-var-dtype'>float64</div><div class='xr-var-preview xr-preview'>1.473 2.128 1.101 ... 1.976 2.076</div><input id='attrs-c0753239-e0eb-4131-9828-4ac6cc993720' class='xr-var-attrs-in' type='checkbox' disabled><label for='attrs-c0753239-e0eb-4131-9828-4ac6cc993720' title='Show/Hide attributes'><svg class='icon xr-icon-file-text2'><use xlink:href='#icon-file-text2'></use></svg></label><input id='data-e1e59729-7d0a-411a-85de-4bd9df27fe7b' class='xr-var-data-in' type='checkbox'><label for='data-e1e59729-7d0a-411a-85de-4bd9df27fe7b' title='Show/Hide data repr'><svg class='icon xr-icon-database'><use xlink:href='#icon-database'></use></svg></label><div class='xr-var-attrs'><dl class='xr-attrs'></dl></div><div class='xr-var-data'><pre>array([[[[1.47313872]],\n",
       "\n",
       "        [[2.12771104]],\n",
       "\n",
       "        [[1.10110724]],\n",
       "\n",
       "        ...,\n",
       "\n",
       "        [[0.80728912]],\n",
       "\n",
       "        [[1.85744242]],\n",
       "\n",
       "        [[1.69360987]]],\n",
       "\n",
       "\n",
       "       [[[3.18310158]],\n",
       "\n",
       "        [[2.56155996]],\n",
       "\n",
       "        [[1.25021598]],\n",
       "...\n",
       "        [[0.57108108]],\n",
       "\n",
       "        [[2.31798286]],\n",
       "\n",
       "        [[2.32252549]]],\n",
       "\n",
       "\n",
       "       [[[2.02006558]],\n",
       "\n",
       "        [[2.12880858]],\n",
       "\n",
       "        [[0.8660988 ]],\n",
       "\n",
       "        ...,\n",
       "\n",
       "        [[0.39596497]],\n",
       "\n",
       "        [[1.97602257]],\n",
       "\n",
       "        [[2.0757787 ]]]])</pre></div></li><li class='xr-var-item'><div class='xr-var-name'><span>ce</span></div><div class='xr-var-dims'>(i, j, t, m)</div><div class='xr-var-dtype'>float64</div><div class='xr-var-preview xr-preview'>nan 1.128 -1.748 ... 0.3169 nan</div><input id='attrs-9175bdbf-174d-435b-844e-532d7f44f186' class='xr-var-attrs-in' type='checkbox' disabled><label for='attrs-9175bdbf-174d-435b-844e-532d7f44f186' title='Show/Hide attributes'><svg class='icon xr-icon-file-text2'><use xlink:href='#icon-file-text2'></use></svg></label><input id='data-0b870186-dc7c-449c-a601-02fc176c8bb8' class='xr-var-data-in' type='checkbox'><label for='data-0b870186-dc7c-449c-a601-02fc176c8bb8' title='Show/Hide data repr'><svg class='icon xr-icon-database'><use xlink:href='#icon-database'></use></svg></label><div class='xr-var-attrs'><dl class='xr-attrs'></dl></div><div class='xr-var-data'><pre>array([[[[        nan]],\n",
       "\n",
       "        [[ 1.12801763]],\n",
       "\n",
       "        [[-1.74814579]],\n",
       "\n",
       "        ...,\n",
       "\n",
       "        [[-1.09321154]],\n",
       "\n",
       "        [[        nan]],\n",
       "\n",
       "        [[        nan]]],\n",
       "\n",
       "\n",
       "       [[[ 0.87396807]],\n",
       "\n",
       "        [[        nan]],\n",
       "\n",
       "        [[        nan]],\n",
       "...\n",
       "        [[        nan]],\n",
       "\n",
       "        [[        nan]],\n",
       "\n",
       "        [[        nan]]],\n",
       "\n",
       "\n",
       "       [[[-0.10889109]],\n",
       "\n",
       "        [[ 0.86148334]],\n",
       "\n",
       "        [[ 0.24924839]],\n",
       "\n",
       "        ...,\n",
       "\n",
       "        [[-2.04732076]],\n",
       "\n",
       "        [[ 0.31685679]],\n",
       "\n",
       "        [[        nan]]]])</pre></div></li><li class='xr-var-item'><div class='xr-var-name'><span>cehat</span></div><div class='xr-var-dims'>(i, j, t, m)</div><div class='xr-var-dtype'>float64</div><div class='xr-var-preview xr-preview'>0.1603 0.3654 ... 0.5011 0.5048</div><input id='attrs-301eec56-d82d-434e-865d-6b74da3a6568' class='xr-var-attrs-in' type='checkbox' disabled><label for='attrs-301eec56-d82d-434e-865d-6b74da3a6568' title='Show/Hide attributes'><svg class='icon xr-icon-file-text2'><use xlink:href='#icon-file-text2'></use></svg></label><input id='data-328116c3-2789-4ad3-8d0f-fa7863a9c64b' class='xr-var-data-in' type='checkbox'><label for='data-328116c3-2789-4ad3-8d0f-fa7863a9c64b' title='Show/Hide data repr'><svg class='icon xr-icon-database'><use xlink:href='#icon-database'></use></svg></label><div class='xr-var-attrs'><dl class='xr-attrs'></dl></div><div class='xr-var-data'><pre>array([[[[ 0.16030312]],\n",
       "\n",
       "        [[ 0.36535691]],\n",
       "\n",
       "        [[-0.35935648]],\n",
       "\n",
       "        ...,\n",
       "\n",
       "        [[-0.50906597]],\n",
       "\n",
       "        [[ 0.26622917]],\n",
       "\n",
       "        [[ 0.26818272]]],\n",
       "\n",
       "\n",
       "       [[[ 0.3681902 ]],\n",
       "\n",
       "        [[ 0.83916544]],\n",
       "\n",
       "        [[-0.82538343]],\n",
       "...\n",
       "        [[-1.00548782]],\n",
       "\n",
       "        [[ 0.52584577]],\n",
       "\n",
       "        [[ 0.52970435]]],\n",
       "\n",
       "\n",
       "       [[[ 0.30173658]],\n",
       "\n",
       "        [[ 0.68770682]],\n",
       "\n",
       "        [[-0.67641228]],\n",
       "\n",
       "        ...,\n",
       "\n",
       "        [[-0.95820861]],\n",
       "\n",
       "        [[ 0.50111989]],\n",
       "\n",
       "        [[ 0.50479703]]]])</pre></div></li><li class='xr-var-item'><div class='xr-var-name'><span>e</span></div><div class='xr-var-dims'>(i, j, t, m)</div><div class='xr-var-dtype'>float64</div><div class='xr-var-preview xr-preview'>nan 0.7627 -1.389 ... -0.1843 nan</div><input id='attrs-2dfb8ee9-afe5-4a7f-a199-75d4bed322f8' class='xr-var-attrs-in' type='checkbox' disabled><label for='attrs-2dfb8ee9-afe5-4a7f-a199-75d4bed322f8' title='Show/Hide attributes'><svg class='icon xr-icon-file-text2'><use xlink:href='#icon-file-text2'></use></svg></label><input id='data-6e98b2f6-89d2-4a43-82c5-dc54ee933a47' class='xr-var-data-in' type='checkbox'><label for='data-6e98b2f6-89d2-4a43-82c5-dc54ee933a47' title='Show/Hide data repr'><svg class='icon xr-icon-database'><use xlink:href='#icon-database'></use></svg></label><div class='xr-var-attrs'><dl class='xr-attrs'></dl></div><div class='xr-var-data'><pre>array([[[[        nan]],\n",
       "\n",
       "        [[ 0.76266072]],\n",
       "\n",
       "        [[-1.38878931]],\n",
       "\n",
       "        ...,\n",
       "\n",
       "        [[-0.58414557]],\n",
       "\n",
       "        [[        nan]],\n",
       "\n",
       "        [[        nan]]],\n",
       "\n",
       "\n",
       "       [[[ 0.50577787]],\n",
       "\n",
       "        [[        nan]],\n",
       "\n",
       "        [[        nan]],\n",
       "...\n",
       "        [[        nan]],\n",
       "\n",
       "        [[        nan]],\n",
       "\n",
       "        [[        nan]]],\n",
       "\n",
       "\n",
       "       [[[-0.41062767]],\n",
       "\n",
       "        [[ 0.17377652]],\n",
       "\n",
       "        [[ 0.92566067]],\n",
       "\n",
       "        ...,\n",
       "\n",
       "        [[-1.08911215]],\n",
       "\n",
       "        [[-0.1842631 ]],\n",
       "\n",
       "        [[        nan]]]])</pre></div></li><li class='xr-var-item'><div class='xr-var-name'><span>delta_covariance</span></div><div class='xr-var-dims'>(i, k, kp)</div><div class='xr-var-dtype'>float64</div><div class='xr-var-preview xr-preview'>0.02019 0.0005055 ... 0.1123</div><input id='attrs-eb82c478-22bb-4ab8-acb6-d8c4a9b5cde8' class='xr-var-attrs-in' type='checkbox' disabled><label for='attrs-eb82c478-22bb-4ab8-acb6-d8c4a9b5cde8' title='Show/Hide attributes'><svg class='icon xr-icon-file-text2'><use xlink:href='#icon-file-text2'></use></svg></label><input id='data-0c158628-8ebf-427c-9087-a030b1bc795c' class='xr-var-data-in' type='checkbox'><label for='data-0c158628-8ebf-427c-9087-a030b1bc795c' title='Show/Hide data repr'><svg class='icon xr-icon-database'><use xlink:href='#icon-database'></use></svg></label><div class='xr-var-attrs'><dl class='xr-attrs'></dl></div><div class='xr-var-data'><pre>array([[[ 2.01927360e-02,  5.05471383e-04,  2.01355204e-03, ...,\n",
       "          7.47111000e-04, -9.82503539e-04, -4.93453741e-03],\n",
       "        [ 5.05471383e-04,  8.86690100e-03,  9.24952999e-04, ...,\n",
       "          1.60800698e-03,  7.80289055e-04, -1.22316414e-02],\n",
       "        [ 2.01355204e-03,  9.24952999e-04,  7.70097913e-03, ...,\n",
       "          1.82780427e-03,  1.71786450e-03, -1.07549119e-02],\n",
       "        ...,\n",
       "        [ 7.47111000e-04,  1.60800698e-03,  1.82780427e-03, ...,\n",
       "          1.36392224e-02,  3.96718877e-03, -1.00791115e-02],\n",
       "        [-9.82503539e-04,  7.80289055e-04,  1.71786450e-03, ...,\n",
       "          3.96718877e-03,  1.39173830e-02, -9.41179222e-03],\n",
       "        [-4.93453741e-03, -1.22316414e-02, -1.07549119e-02, ...,\n",
       "         -1.00791115e-02, -9.41179222e-03,  8.23372915e-02]],\n",
       "\n",
       "       [[ 4.09419274e-02,  4.02804089e-03, -3.87400470e-04, ...,\n",
       "          9.95431364e-04, -8.10092445e-03, -1.07123219e-02],\n",
       "        [ 4.02804089e-03,  1.37657398e-02, -1.82450955e-04, ...,\n",
       "          4.57100018e-03,  6.01899060e-04, -1.40559679e-02],\n",
       "        [-3.87400470e-04, -1.82450955e-04,  1.92022474e-02, ...,\n",
       "          6.93470787e-03,  2.72365588e-03, -2.18342323e-02],\n",
       "...\n",
       "        [-2.45107885e-03,  3.44939934e-03,  3.29168121e-03, ...,\n",
       "          2.47119025e-02,  6.70102235e-03, -1.60461553e-02],\n",
       "        [-4.77315428e-03,  3.36128049e-03,  4.56539288e-03, ...,\n",
       "          6.70102235e-03,  3.06377347e-02, -1.49401212e-02],\n",
       "        [-8.88125500e-03, -1.51945005e-02, -1.68114249e-02, ...,\n",
       "         -1.60461553e-02, -1.49401212e-02,  1.07511132e-01]],\n",
       "\n",
       "       [[ 4.34345670e-02,  7.04091259e-04,  4.06780275e-03, ...,\n",
       "          4.21959411e-03, -9.17706407e-04, -9.46023653e-03],\n",
       "        [ 7.04091259e-04,  1.23160261e-02,  2.01619467e-03, ...,\n",
       "          2.72034143e-03,  2.83223790e-03, -1.00658549e-02],\n",
       "        [ 4.06780275e-03,  2.01619467e-03,  2.21634106e-02, ...,\n",
       "          3.25000146e-03,  8.04559990e-03, -2.88390160e-02],\n",
       "        ...,\n",
       "        [ 4.21959411e-03,  2.72034143e-03,  3.25000146e-03, ...,\n",
       "          2.34624539e-02,  5.84525488e-03, -1.11073611e-02],\n",
       "        [-9.17706407e-04,  2.83223790e-03,  8.04559990e-03, ...,\n",
       "          5.84525488e-03,  2.37098537e-02, -2.31994204e-02],\n",
       "        [-9.46023653e-03, -1.00658549e-02, -2.88390160e-02, ...,\n",
       "         -1.11073611e-02, -2.31994204e-02,  1.12286568e-01]]])</pre></div></li><li class='xr-var-item'><div class='xr-var-name'><span>beta_covariance</span></div><div class='xr-var-dims'>()</div><div class='xr-var-dtype'>object</div><div class='xr-var-preview xr-preview'>None</div><input id='attrs-2bfcdf1a-ded4-49f1-9468-c0c9a8a8dece' class='xr-var-attrs-in' type='checkbox' disabled><label for='attrs-2bfcdf1a-ded4-49f1-9468-c0c9a8a8dece' title='Show/Hide attributes'><svg class='icon xr-icon-file-text2'><use xlink:href='#icon-file-text2'></use></svg></label><input id='data-7fe16275-69bc-4f96-8490-708fff19cbf8' class='xr-var-data-in' type='checkbox'><label for='data-7fe16275-69bc-4f96-8490-708fff19cbf8' title='Show/Hide data repr'><svg class='icon xr-icon-database'><use xlink:href='#icon-database'></use></svg></label><div class='xr-var-attrs'><dl class='xr-attrs'></dl></div><div class='xr-var-data'><pre>array(None, dtype=object)</pre></div></li><li class='xr-var-item'><div class='xr-var-name'><span>se_delta</span></div><div class='xr-var-dims'>(i, k)</div><div class='xr-var-dtype'>float64</div><div class='xr-var-preview xr-preview'>0.1421 0.09416 ... 0.154 0.3351</div><input id='attrs-7d15d9db-d398-4f10-a8dd-ab98509e6a19' class='xr-var-attrs-in' type='checkbox' disabled><label for='attrs-7d15d9db-d398-4f10-a8dd-ab98509e6a19' title='Show/Hide attributes'><svg class='icon xr-icon-file-text2'><use xlink:href='#icon-file-text2'></use></svg></label><input id='data-bc24a3a9-4714-4fde-ab18-be9ed3ddf9ff' class='xr-var-data-in' type='checkbox'><label for='data-bc24a3a9-4714-4fde-ab18-be9ed3ddf9ff' title='Show/Hide data repr'><svg class='icon xr-icon-database'><use xlink:href='#icon-database'></use></svg></label><div class='xr-var-attrs'><dl class='xr-attrs'></dl></div><div class='xr-var-data'><pre>array([[0.14210115, 0.09416422, 0.08775522, 0.07747149, 0.08492747,\n",
       "        0.05110621, 0.05497965, 0.12175586, 0.15738276, 0.17345282,\n",
       "        0.08365723, 0.08509618, 0.08793486, 0.08436279, 0.05904478,\n",
       "        0.06274192, 0.11678708, 0.11797196, 0.28694475],\n",
       "       [0.20234112, 0.11732749, 0.13857217, 0.112753  , 0.12138295,\n",
       "        0.06864196, 0.07835218, 0.18139678, 0.23725481, 0.21257245,\n",
       "        0.10182345, 0.12093294, 0.1098389 , 0.1019518 , 0.06981547,\n",
       "        0.08054221, 0.16983446, 0.21310507, 0.343461  ],\n",
       "       [0.21557577, 0.14529501, 0.18150437, 0.12204478, 0.11386852,\n",
       "        0.07891024, 0.09149145, 0.17759505, 0.22936809, 0.26226933,\n",
       "        0.12719079, 0.17532155, 0.14495536, 0.14791465, 0.0871519 ,\n",
       "        0.09674079, 0.19232145, 0.19790863, 0.48776411],\n",
       "       [0.2996823 , 0.15552353, 0.16935233, 0.14537063, 0.15064633,\n",
       "        0.10610527, 0.0826638 , 0.23021807, 0.25159312, 0.28931049,\n",
       "        0.13232916, 0.14992299, 0.12615384, 0.14549522, 0.0938485 ,\n",
       "        0.08658186, 0.22039002, 0.20990539, 0.45198245],\n",
       "       [0.2360632 , 0.11592624, 0.15199915, 0.14549254, 0.14130609,\n",
       "        0.08786278, 0.07882968, 0.19837561, 0.25316858, 0.27277404,\n",
       "        0.14715576, 0.13685371, 0.16293456, 0.14899565, 0.09458249,\n",
       "        0.12534967, 0.19270404, 0.29589918, 0.47081014],\n",
       "...\n",
       "       [0.1887832 , 0.11377018, 0.10440698, 0.10560587, 0.11380244,\n",
       "        0.07699014, 0.06059573, 0.16157463, 0.18155976, 0.19115324,\n",
       "        0.10239116, 0.09948227, 0.10641888, 0.09582231, 0.07767068,\n",
       "        0.07706019, 0.14771559, 0.17457373, 0.33551202],\n",
       "       [0.09609544, 0.06667827, 0.06825214, 0.05789326, 0.06785868,\n",
       "        0.04965046, 0.04286236, 0.0779442 , 0.09168961, 0.11867586,\n",
       "        0.06397016, 0.06200493, 0.05385734, 0.06185788, 0.04096006,\n",
       "        0.04379234, 0.08517333, 0.09909631, 0.20965776],\n",
       "       [0.25100615, 0.12334867, 0.14216642, 0.12393562, 0.12422018,\n",
       "        0.0710721 , 0.08912277, 0.18912322, 0.21162709, 0.23548142,\n",
       "        0.13258305, 0.17358539, 0.15596547, 0.11576447, 0.08865482,\n",
       "        0.09153862, 0.20004352, 0.19461328, 0.55400901],\n",
       "       [0.19147983, 0.11144294, 0.11177593, 0.08996102, 0.10411372,\n",
       "        0.05719623, 0.05831373, 0.16068659, 0.20075652, 0.21362957,\n",
       "        0.09840792, 0.11029152, 0.12785418, 0.10920296, 0.07040428,\n",
       "        0.09886441, 0.1572002 , 0.17503638, 0.3278889 ],\n",
       "       [0.20840961, 0.11097759, 0.14887381, 0.10170233, 0.11100403,\n",
       "        0.06578118, 0.07708737, 0.17897486, 0.15938057, 0.24824026,\n",
       "        0.10310418, 0.11880047, 0.09894927, 0.1040365 , 0.07062682,\n",
       "        0.07137093, 0.15317459, 0.15398004, 0.33509188]])</pre></div></li><li class='xr-var-item'><div class='xr-var-name'><span>se_beta</span></div><div class='xr-var-dims'>()</div><div class='xr-var-dtype'>object</div><div class='xr-var-preview xr-preview'>None</div><input id='attrs-6d0a14aa-87fc-41a3-ae8b-b80b58a4abae' class='xr-var-attrs-in' type='checkbox' disabled><label for='attrs-6d0a14aa-87fc-41a3-ae8b-b80b58a4abae' title='Show/Hide attributes'><svg class='icon xr-icon-file-text2'><use xlink:href='#icon-file-text2'></use></svg></label><input id='data-c5913161-5d31-42f4-8519-d682e07f19ab' class='xr-var-data-in' type='checkbox'><label for='data-c5913161-5d31-42f4-8519-d682e07f19ab' title='Show/Hide data repr'><svg class='icon xr-icon-database'><use xlink:href='#icon-database'></use></svg></label><div class='xr-var-attrs'><dl class='xr-attrs'></dl></div><div class='xr-var-data'><pre>array(None, dtype=object)</pre></div></li><li class='xr-var-item'><div class='xr-var-name'><span>se_alpha</span></div><div class='xr-var-dims'>()</div><div class='xr-var-dtype'>object</div><div class='xr-var-preview xr-preview'>None</div><input id='attrs-b6c9b72b-b590-44f2-8c2a-2b780bc43d55' class='xr-var-attrs-in' type='checkbox' disabled><label for='attrs-b6c9b72b-b590-44f2-8c2a-2b780bc43d55' title='Show/Hide attributes'><svg class='icon xr-icon-file-text2'><use xlink:href='#icon-file-text2'></use></svg></label><input id='data-ae5f427e-39c2-4efb-987c-4b757c874a54' class='xr-var-data-in' type='checkbox'><label for='data-ae5f427e-39c2-4efb-987c-4b757c874a54' title='Show/Hide data repr'><svg class='icon xr-icon-database'><use xlink:href='#icon-database'></use></svg></label><div class='xr-var-attrs'><dl class='xr-attrs'></dl></div><div class='xr-var-data'><pre>array(None, dtype=object)</pre></div></li><li class='xr-var-item'><div class='xr-var-name'><span>se_a</span></div><div class='xr-var-dims'>(i, t, m)</div><div class='xr-var-dtype'>float64</div><div class='xr-var-preview xr-preview'>0.03899 0.05199 ... 0.05059 0.04981</div><input id='attrs-fc9dbd79-0d62-4d7d-bcc2-b3116c31ce37' class='xr-var-attrs-in' type='checkbox' disabled><label for='attrs-fc9dbd79-0d62-4d7d-bcc2-b3116c31ce37' title='Show/Hide attributes'><svg class='icon xr-icon-file-text2'><use xlink:href='#icon-file-text2'></use></svg></label><input id='data-21213c1e-92ea-4b0e-a60e-2d6f45d9e2d1' class='xr-var-data-in' type='checkbox'><label for='data-21213c1e-92ea-4b0e-a60e-2d6f45d9e2d1' title='Show/Hide data repr'><svg class='icon xr-icon-database'><use xlink:href='#icon-database'></use></svg></label><div class='xr-var-attrs'><dl class='xr-attrs'></dl></div><div class='xr-var-data'><pre>array([[[0.03898855]],\n",
       "\n",
       "       [[0.05199176]],\n",
       "\n",
       "       [[0.06597276]],\n",
       "\n",
       "       [[0.06980655]],\n",
       "\n",
       "       [[0.06358541]],\n",
       "\n",
       "       [[0.03918507]],\n",
       "\n",
       "       [[0.03264914]],\n",
       "\n",
       "       [[0.04205075]],\n",
       "\n",
       "       [[0.04045444]],\n",
       "\n",
       "       [[0.0347927 ]],\n",
       "\n",
       "...\n",
       "\n",
       "       [[0.0371254 ]],\n",
       "\n",
       "       [[0.0293461 ]],\n",
       "\n",
       "       [[0.0359931 ]],\n",
       "\n",
       "       [[0.06218595]],\n",
       "\n",
       "       [[0.03206477]],\n",
       "\n",
       "       [[0.04749326]],\n",
       "\n",
       "       [[0.0267074 ]],\n",
       "\n",
       "       [[0.05901719]],\n",
       "\n",
       "       [[0.05058699]],\n",
       "\n",
       "       [[0.04980995]]])</pre></div></li><li class='xr-var-item'><div class='xr-var-name'><span>y</span></div><div class='xr-var-dims'>(i, j, t, m)</div><div class='xr-var-dtype'>float64</div><div class='xr-var-preview xr-preview'>nan 2.89 -0.2877 ... 1.792 nan</div><input id='attrs-f7ccc4ab-59e2-450f-a7f3-02135cf7879e' class='xr-var-attrs-in' type='checkbox' disabled><label for='attrs-f7ccc4ab-59e2-450f-a7f3-02135cf7879e' title='Show/Hide attributes'><svg class='icon xr-icon-file-text2'><use xlink:href='#icon-file-text2'></use></svg></label><input id='data-ba585ec7-a0af-4805-8472-b3d93e0cbaa5' class='xr-var-data-in' type='checkbox'><label for='data-ba585ec7-a0af-4805-8472-b3d93e0cbaa5' title='Show/Hide data repr'><svg class='icon xr-icon-database'><use xlink:href='#icon-database'></use></svg></label><div class='xr-var-attrs'><dl class='xr-attrs'></dl></div><div class='xr-var-data'><pre>array([[[[        nan]],\n",
       "\n",
       "        [[ 2.89037176]],\n",
       "\n",
       "        [[-0.28768207]],\n",
       "\n",
       "        ...,\n",
       "\n",
       "        [[ 0.22314355]],\n",
       "\n",
       "        [[        nan]],\n",
       "\n",
       "        [[        nan]]],\n",
       "\n",
       "\n",
       "       [[[ 3.68887945]],\n",
       "\n",
       "        [[        nan]],\n",
       "\n",
       "        [[        nan]],\n",
       "...\n",
       "        [[        nan]],\n",
       "\n",
       "        [[        nan]],\n",
       "\n",
       "        [[        nan]]],\n",
       "\n",
       "\n",
       "       [[[ 1.60943791]],\n",
       "\n",
       "        [[ 2.30258509]],\n",
       "\n",
       "        [[ 1.79175947]],\n",
       "\n",
       "        ...,\n",
       "\n",
       "        [[-0.69314718]],\n",
       "\n",
       "        [[ 1.79175947]],\n",
       "\n",
       "        [[        nan]]]])</pre></div></li><li class='xr-var-item'><div class='xr-var-name'><span>logp</span></div><div class='xr-var-dims'>()</div><div class='xr-var-dtype'>object</div><div class='xr-var-preview xr-preview'>None</div><input id='attrs-aac5f36e-c30e-45ff-a621-47170ad22031' class='xr-var-attrs-in' type='checkbox' disabled><label for='attrs-aac5f36e-c30e-45ff-a621-47170ad22031' title='Show/Hide attributes'><svg class='icon xr-icon-file-text2'><use xlink:href='#icon-file-text2'></use></svg></label><input id='data-75f9b316-b934-4b4a-b21b-e7f9243918bd' class='xr-var-data-in' type='checkbox'><label for='data-75f9b316-b934-4b4a-b21b-e7f9243918bd' title='Show/Hide data repr'><svg class='icon xr-icon-database'><use xlink:href='#icon-database'></use></svg></label><div class='xr-var-attrs'><dl class='xr-attrs'></dl></div><div class='xr-var-data'><pre>array(None, dtype=object)</pre></div></li><li class='xr-var-item'><div class='xr-var-name'><span>z</span></div><div class='xr-var-dims'>(k, j, t, m)</div><div class='xr-var-dtype'>float64</div><div class='xr-var-preview xr-preview'>0.0 0.0 0.0 ... 1.792 1.386 1.099</div><input id='attrs-b1329188-6603-468a-a426-0c85ec8da600' class='xr-var-attrs-in' type='checkbox' disabled><label for='attrs-b1329188-6603-468a-a426-0c85ec8da600' title='Show/Hide attributes'><svg class='icon xr-icon-file-text2'><use xlink:href='#icon-file-text2'></use></svg></label><input id='data-d4b68066-0069-48a8-aaa1-3577fd71d473' class='xr-var-data-in' type='checkbox'><label for='data-d4b68066-0069-48a8-aaa1-3577fd71d473' title='Show/Hide data repr'><svg class='icon xr-icon-database'><use xlink:href='#icon-database'></use></svg></label><div class='xr-var-attrs'><dl class='xr-attrs'></dl></div><div class='xr-var-data'><pre>array([[[[0.        ]],\n",
       "\n",
       "        [[0.        ]],\n",
       "\n",
       "        [[0.        ]],\n",
       "\n",
       "        ...,\n",
       "\n",
       "        [[0.        ]],\n",
       "\n",
       "        [[0.        ]],\n",
       "\n",
       "        [[0.        ]]],\n",
       "\n",
       "\n",
       "       [[[0.        ]],\n",
       "\n",
       "        [[0.        ]],\n",
       "\n",
       "        [[0.        ]],\n",
       "...\n",
       "        [[0.        ]],\n",
       "\n",
       "        [[0.        ]],\n",
       "\n",
       "        [[0.        ]]],\n",
       "\n",
       "\n",
       "       [[[2.39789527]],\n",
       "\n",
       "        [[1.79175947]],\n",
       "\n",
       "        [[1.09861229]],\n",
       "\n",
       "        ...,\n",
       "\n",
       "        [[1.79175947]],\n",
       "\n",
       "        [[1.38629436]],\n",
       "\n",
       "        [[1.09861229]]]])</pre></div></li></ul></div></li><li class='xr-section-item'><input id='section-58ce218f-ad5d-4999-a31e-5da39a7d6b21' class='xr-section-summary-in' type='checkbox' disabled ><label for='section-58ce218f-ad5d-4999-a31e-5da39a7d6b21' class='xr-section-summary'  title='Expand/collapse section'>Attributes: <span>(0)</span></label><div class='xr-section-inline-details'></div><div class='xr-section-details'><dl class='xr-attrs'></dl></div></li></ul></div></div>"
      ],
      "text/plain": [
       "<xarray.Dataset>\n",
       "Dimensions:           (j: 572, i: 29, k: 19, variable: 1, m: 1, t: 1, kp: 19)\n",
       "Coordinates:\n",
       "  * j                 (j) float64 2.0 4.0 5.0 6.0 ... 938.0 939.0 940.0 941.0\n",
       "  * t                 (t) float64 2.003e+03\n",
       "  * m                 (m) object 'Bukidnon'\n",
       "  * i                 (i) object 'Bagoong' 'Banana' ... 'Talong' 'Tomatoes'\n",
       "  * k                 (k) <U14 'Males 0-1' 'Males 1-5' ... 'log HSize'\n",
       "  * kp                (kp) <U14 'Males 0-1' 'Males 1-5' ... 'log HSize'\n",
       "  * variable          (variable) float64 2.003e+03\n",
       "Data variables: (12/20)\n",
       "    alpha             object None\n",
       "    beta              (i) float64 0.2534 0.5821 0.4597 ... 0.2713 0.5006 0.4771\n",
       "    delta             (k, i) float64 -0.05259 0.2786 0.245 ... -0.4271 -0.4551\n",
       "    prices            (variable, i, m) float64 0.03719 0.0214 ... 0.02372\n",
       "    characteristics   (k, j, t, m) float64 0.0 0.0 0.0 0.0 ... 1.792 1.386 1.099\n",
       "    loglambdas        (j, t, m) float64 -0.6325 -1.442 1.418 ... -1.05 -1.058\n",
       "    ...                ...\n",
       "    se_beta           object None\n",
       "    se_alpha          object None\n",
       "    se_a              (i, t, m) float64 0.03899 0.05199 ... 0.05059 0.04981\n",
       "    y                 (i, j, t, m) float64 nan 2.89 -0.2877 ... 1.792 nan\n",
       "    logp              object None\n",
       "    z                 (k, j, t, m) float64 0.0 0.0 0.0 0.0 ... 1.792 1.386 1.099"
      ]
     },
     "execution_count": 29,
     "metadata": {},
     "output_type": "execute_result"
    }
   ],
   "source": [
    "# Estimates most things (not counting std errors for betas).\n",
    "xhat = result.get_predicted_expenditures() \n",
    "\n",
    "# xhat is an xarray; change to df\n",
    "xhatdf = xhat.to_dataset('i').to_dataframe()\n",
    "xhatdf.columns.name ='i'\n",
    "\n",
    "phat = xhatdf/q\n",
    "\n",
    "# Keep gram unit\n",
    "phat = phat.xs('g',level='u').groupby(['t','m']).median().T.dropna(how='all')\n",
    "result['prices'] = phat.stack().to_xarray().to_array()\n",
    "\n",
    "# Make this persistent...\n",
    "result.to_dataset('./BUK.ds')"
   ]
  },
  {
   "cell_type": "markdown",
   "metadata": {},
   "source": [
    "## Compute Demand"
   ]
  },
  {
   "cell_type": "code",
   "execution_count": 30,
   "metadata": {},
   "outputs": [
    {
     "data": {
      "application/vnd.plotly.v1+json": {
       "config": {
        "plotlyServerURL": "https://plot.ly"
       },
       "data": [
        {
         "alignmentgroup": "True",
         "hovertemplate": "variable=quantities<br>i=%{x}<br>value=%{y}<extra></extra>",
         "legendgroup": "quantities",
         "marker": {
          "color": "#636efa",
          "pattern": {
           "shape": ""
          }
         },
         "name": "quantities",
         "offsetgroup": "quantities",
         "orientation": "v",
         "showlegend": true,
         "textposition": "auto",
         "type": "bar",
         "x": [
          "Banana",
          "Fresh fish",
          "Talong",
          "Food made from flour",
          "Milk",
          "Eggs",
          "Sea weed",
          "Onions",
          "Tomatoes",
          "Cooking oil",
          "Processed meat like longanisa",
          "Squash",
          "Chicken",
          "Beef",
          "Pork",
          "Milo",
          "Soybean and other products",
          "Mongo and other products",
          "Sardines",
          "Carrots",
          "Mangoes",
          "Sweet potato",
          "Coffee",
          "Sugar",
          "Peanut",
          "Salt",
          "Rice",
          "Bagoong",
          "Potato"
         ],
         "xaxis": "x",
         "y": [
          2421.3065144522907,
          1759.3547901225788,
          640.4056135425445,
          591.9189908371908,
          590.6134012054089,
          491.34465728917417,
          451.0009945056808,
          390.1721297035566,
          375.0406272487157,
          355.2160346255163,
          322.3548901223106,
          315.77541300902624,
          301.5132081415714,
          294.5324068827277,
          277.065220299426,
          191.38591124119012,
          186.26714610208117,
          182.36295155727805,
          170.69459880583847,
          146.31655044608317,
          72.83511280092192,
          41.42743539570457,
          36.945203098866614,
          36.02428180798519,
          25.23274713099688,
          22.846019262426775,
          19.514699695597656,
          17.5268019716687,
          17.477181576280632
         ],
         "yaxis": "y"
        }
       ],
       "layout": {
        "barmode": "relative",
        "legend": {
         "title": {
          "text": "variable"
         },
         "tracegroupgap": 0
        },
        "margin": {
         "t": 60
        },
        "template": {
         "data": {
          "bar": [
           {
            "error_x": {
             "color": "#2a3f5f"
            },
            "error_y": {
             "color": "#2a3f5f"
            },
            "marker": {
             "line": {
              "color": "#E5ECF6",
              "width": 0.5
             },
             "pattern": {
              "fillmode": "overlay",
              "size": 10,
              "solidity": 0.2
             }
            },
            "type": "bar"
           }
          ],
          "barpolar": [
           {
            "marker": {
             "line": {
              "color": "#E5ECF6",
              "width": 0.5
             },
             "pattern": {
              "fillmode": "overlay",
              "size": 10,
              "solidity": 0.2
             }
            },
            "type": "barpolar"
           }
          ],
          "carpet": [
           {
            "aaxis": {
             "endlinecolor": "#2a3f5f",
             "gridcolor": "white",
             "linecolor": "white",
             "minorgridcolor": "white",
             "startlinecolor": "#2a3f5f"
            },
            "baxis": {
             "endlinecolor": "#2a3f5f",
             "gridcolor": "white",
             "linecolor": "white",
             "minorgridcolor": "white",
             "startlinecolor": "#2a3f5f"
            },
            "type": "carpet"
           }
          ],
          "choropleth": [
           {
            "colorbar": {
             "outlinewidth": 0,
             "ticks": ""
            },
            "type": "choropleth"
           }
          ],
          "contour": [
           {
            "colorbar": {
             "outlinewidth": 0,
             "ticks": ""
            },
            "colorscale": [
             [
              0,
              "#0d0887"
             ],
             [
              0.1111111111111111,
              "#46039f"
             ],
             [
              0.2222222222222222,
              "#7201a8"
             ],
             [
              0.3333333333333333,
              "#9c179e"
             ],
             [
              0.4444444444444444,
              "#bd3786"
             ],
             [
              0.5555555555555556,
              "#d8576b"
             ],
             [
              0.6666666666666666,
              "#ed7953"
             ],
             [
              0.7777777777777778,
              "#fb9f3a"
             ],
             [
              0.8888888888888888,
              "#fdca26"
             ],
             [
              1,
              "#f0f921"
             ]
            ],
            "type": "contour"
           }
          ],
          "contourcarpet": [
           {
            "colorbar": {
             "outlinewidth": 0,
             "ticks": ""
            },
            "type": "contourcarpet"
           }
          ],
          "heatmap": [
           {
            "colorbar": {
             "outlinewidth": 0,
             "ticks": ""
            },
            "colorscale": [
             [
              0,
              "#0d0887"
             ],
             [
              0.1111111111111111,
              "#46039f"
             ],
             [
              0.2222222222222222,
              "#7201a8"
             ],
             [
              0.3333333333333333,
              "#9c179e"
             ],
             [
              0.4444444444444444,
              "#bd3786"
             ],
             [
              0.5555555555555556,
              "#d8576b"
             ],
             [
              0.6666666666666666,
              "#ed7953"
             ],
             [
              0.7777777777777778,
              "#fb9f3a"
             ],
             [
              0.8888888888888888,
              "#fdca26"
             ],
             [
              1,
              "#f0f921"
             ]
            ],
            "type": "heatmap"
           }
          ],
          "heatmapgl": [
           {
            "colorbar": {
             "outlinewidth": 0,
             "ticks": ""
            },
            "colorscale": [
             [
              0,
              "#0d0887"
             ],
             [
              0.1111111111111111,
              "#46039f"
             ],
             [
              0.2222222222222222,
              "#7201a8"
             ],
             [
              0.3333333333333333,
              "#9c179e"
             ],
             [
              0.4444444444444444,
              "#bd3786"
             ],
             [
              0.5555555555555556,
              "#d8576b"
             ],
             [
              0.6666666666666666,
              "#ed7953"
             ],
             [
              0.7777777777777778,
              "#fb9f3a"
             ],
             [
              0.8888888888888888,
              "#fdca26"
             ],
             [
              1,
              "#f0f921"
             ]
            ],
            "type": "heatmapgl"
           }
          ],
          "histogram": [
           {
            "marker": {
             "pattern": {
              "fillmode": "overlay",
              "size": 10,
              "solidity": 0.2
             }
            },
            "type": "histogram"
           }
          ],
          "histogram2d": [
           {
            "colorbar": {
             "outlinewidth": 0,
             "ticks": ""
            },
            "colorscale": [
             [
              0,
              "#0d0887"
             ],
             [
              0.1111111111111111,
              "#46039f"
             ],
             [
              0.2222222222222222,
              "#7201a8"
             ],
             [
              0.3333333333333333,
              "#9c179e"
             ],
             [
              0.4444444444444444,
              "#bd3786"
             ],
             [
              0.5555555555555556,
              "#d8576b"
             ],
             [
              0.6666666666666666,
              "#ed7953"
             ],
             [
              0.7777777777777778,
              "#fb9f3a"
             ],
             [
              0.8888888888888888,
              "#fdca26"
             ],
             [
              1,
              "#f0f921"
             ]
            ],
            "type": "histogram2d"
           }
          ],
          "histogram2dcontour": [
           {
            "colorbar": {
             "outlinewidth": 0,
             "ticks": ""
            },
            "colorscale": [
             [
              0,
              "#0d0887"
             ],
             [
              0.1111111111111111,
              "#46039f"
             ],
             [
              0.2222222222222222,
              "#7201a8"
             ],
             [
              0.3333333333333333,
              "#9c179e"
             ],
             [
              0.4444444444444444,
              "#bd3786"
             ],
             [
              0.5555555555555556,
              "#d8576b"
             ],
             [
              0.6666666666666666,
              "#ed7953"
             ],
             [
              0.7777777777777778,
              "#fb9f3a"
             ],
             [
              0.8888888888888888,
              "#fdca26"
             ],
             [
              1,
              "#f0f921"
             ]
            ],
            "type": "histogram2dcontour"
           }
          ],
          "mesh3d": [
           {
            "colorbar": {
             "outlinewidth": 0,
             "ticks": ""
            },
            "type": "mesh3d"
           }
          ],
          "parcoords": [
           {
            "line": {
             "colorbar": {
              "outlinewidth": 0,
              "ticks": ""
             }
            },
            "type": "parcoords"
           }
          ],
          "pie": [
           {
            "automargin": true,
            "type": "pie"
           }
          ],
          "scatter": [
           {
            "fillpattern": {
             "fillmode": "overlay",
             "size": 10,
             "solidity": 0.2
            },
            "type": "scatter"
           }
          ],
          "scatter3d": [
           {
            "line": {
             "colorbar": {
              "outlinewidth": 0,
              "ticks": ""
             }
            },
            "marker": {
             "colorbar": {
              "outlinewidth": 0,
              "ticks": ""
             }
            },
            "type": "scatter3d"
           }
          ],
          "scattercarpet": [
           {
            "marker": {
             "colorbar": {
              "outlinewidth": 0,
              "ticks": ""
             }
            },
            "type": "scattercarpet"
           }
          ],
          "scattergeo": [
           {
            "marker": {
             "colorbar": {
              "outlinewidth": 0,
              "ticks": ""
             }
            },
            "type": "scattergeo"
           }
          ],
          "scattergl": [
           {
            "marker": {
             "colorbar": {
              "outlinewidth": 0,
              "ticks": ""
             }
            },
            "type": "scattergl"
           }
          ],
          "scattermapbox": [
           {
            "marker": {
             "colorbar": {
              "outlinewidth": 0,
              "ticks": ""
             }
            },
            "type": "scattermapbox"
           }
          ],
          "scatterpolar": [
           {
            "marker": {
             "colorbar": {
              "outlinewidth": 0,
              "ticks": ""
             }
            },
            "type": "scatterpolar"
           }
          ],
          "scatterpolargl": [
           {
            "marker": {
             "colorbar": {
              "outlinewidth": 0,
              "ticks": ""
             }
            },
            "type": "scatterpolargl"
           }
          ],
          "scatterternary": [
           {
            "marker": {
             "colorbar": {
              "outlinewidth": 0,
              "ticks": ""
             }
            },
            "type": "scatterternary"
           }
          ],
          "surface": [
           {
            "colorbar": {
             "outlinewidth": 0,
             "ticks": ""
            },
            "colorscale": [
             [
              0,
              "#0d0887"
             ],
             [
              0.1111111111111111,
              "#46039f"
             ],
             [
              0.2222222222222222,
              "#7201a8"
             ],
             [
              0.3333333333333333,
              "#9c179e"
             ],
             [
              0.4444444444444444,
              "#bd3786"
             ],
             [
              0.5555555555555556,
              "#d8576b"
             ],
             [
              0.6666666666666666,
              "#ed7953"
             ],
             [
              0.7777777777777778,
              "#fb9f3a"
             ],
             [
              0.8888888888888888,
              "#fdca26"
             ],
             [
              1,
              "#f0f921"
             ]
            ],
            "type": "surface"
           }
          ],
          "table": [
           {
            "cells": {
             "fill": {
              "color": "#EBF0F8"
             },
             "line": {
              "color": "white"
             }
            },
            "header": {
             "fill": {
              "color": "#C8D4E3"
             },
             "line": {
              "color": "white"
             }
            },
            "type": "table"
           }
          ]
         },
         "layout": {
          "annotationdefaults": {
           "arrowcolor": "#2a3f5f",
           "arrowhead": 0,
           "arrowwidth": 1
          },
          "autotypenumbers": "strict",
          "coloraxis": {
           "colorbar": {
            "outlinewidth": 0,
            "ticks": ""
           }
          },
          "colorscale": {
           "diverging": [
            [
             0,
             "#8e0152"
            ],
            [
             0.1,
             "#c51b7d"
            ],
            [
             0.2,
             "#de77ae"
            ],
            [
             0.3,
             "#f1b6da"
            ],
            [
             0.4,
             "#fde0ef"
            ],
            [
             0.5,
             "#f7f7f7"
            ],
            [
             0.6,
             "#e6f5d0"
            ],
            [
             0.7,
             "#b8e186"
            ],
            [
             0.8,
             "#7fbc41"
            ],
            [
             0.9,
             "#4d9221"
            ],
            [
             1,
             "#276419"
            ]
           ],
           "sequential": [
            [
             0,
             "#0d0887"
            ],
            [
             0.1111111111111111,
             "#46039f"
            ],
            [
             0.2222222222222222,
             "#7201a8"
            ],
            [
             0.3333333333333333,
             "#9c179e"
            ],
            [
             0.4444444444444444,
             "#bd3786"
            ],
            [
             0.5555555555555556,
             "#d8576b"
            ],
            [
             0.6666666666666666,
             "#ed7953"
            ],
            [
             0.7777777777777778,
             "#fb9f3a"
            ],
            [
             0.8888888888888888,
             "#fdca26"
            ],
            [
             1,
             "#f0f921"
            ]
           ],
           "sequentialminus": [
            [
             0,
             "#0d0887"
            ],
            [
             0.1111111111111111,
             "#46039f"
            ],
            [
             0.2222222222222222,
             "#7201a8"
            ],
            [
             0.3333333333333333,
             "#9c179e"
            ],
            [
             0.4444444444444444,
             "#bd3786"
            ],
            [
             0.5555555555555556,
             "#d8576b"
            ],
            [
             0.6666666666666666,
             "#ed7953"
            ],
            [
             0.7777777777777778,
             "#fb9f3a"
            ],
            [
             0.8888888888888888,
             "#fdca26"
            ],
            [
             1,
             "#f0f921"
            ]
           ]
          },
          "colorway": [
           "#636efa",
           "#EF553B",
           "#00cc96",
           "#ab63fa",
           "#FFA15A",
           "#19d3f3",
           "#FF6692",
           "#B6E880",
           "#FF97FF",
           "#FECB52"
          ],
          "font": {
           "color": "#2a3f5f"
          },
          "geo": {
           "bgcolor": "white",
           "lakecolor": "white",
           "landcolor": "#E5ECF6",
           "showlakes": true,
           "showland": true,
           "subunitcolor": "white"
          },
          "hoverlabel": {
           "align": "left"
          },
          "hovermode": "closest",
          "mapbox": {
           "style": "light"
          },
          "paper_bgcolor": "white",
          "plot_bgcolor": "#E5ECF6",
          "polar": {
           "angularaxis": {
            "gridcolor": "white",
            "linecolor": "white",
            "ticks": ""
           },
           "bgcolor": "#E5ECF6",
           "radialaxis": {
            "gridcolor": "white",
            "linecolor": "white",
            "ticks": ""
           }
          },
          "scene": {
           "xaxis": {
            "backgroundcolor": "#E5ECF6",
            "gridcolor": "white",
            "gridwidth": 2,
            "linecolor": "white",
            "showbackground": true,
            "ticks": "",
            "zerolinecolor": "white"
           },
           "yaxis": {
            "backgroundcolor": "#E5ECF6",
            "gridcolor": "white",
            "gridwidth": 2,
            "linecolor": "white",
            "showbackground": true,
            "ticks": "",
            "zerolinecolor": "white"
           },
           "zaxis": {
            "backgroundcolor": "#E5ECF6",
            "gridcolor": "white",
            "gridwidth": 2,
            "linecolor": "white",
            "showbackground": true,
            "ticks": "",
            "zerolinecolor": "white"
           }
          },
          "shapedefaults": {
           "line": {
            "color": "#2a3f5f"
           }
          },
          "ternary": {
           "aaxis": {
            "gridcolor": "white",
            "linecolor": "white",
            "ticks": ""
           },
           "baxis": {
            "gridcolor": "white",
            "linecolor": "white",
            "ticks": ""
           },
           "bgcolor": "#E5ECF6",
           "caxis": {
            "gridcolor": "white",
            "linecolor": "white",
            "ticks": ""
           }
          },
          "title": {
           "x": 0.05
          },
          "xaxis": {
           "automargin": true,
           "gridcolor": "white",
           "linecolor": "white",
           "ticks": "",
           "title": {
            "standoff": 15
           },
           "zerolinecolor": "white",
           "zerolinewidth": 2
          },
          "yaxis": {
           "automargin": true,
           "gridcolor": "white",
           "linecolor": "white",
           "ticks": "",
           "title": {
            "standoff": 15
           },
           "zerolinecolor": "white",
           "zerolinewidth": 2
          }
         }
        },
        "xaxis": {
         "anchor": "y",
         "domain": [
          0,
          1
         ],
         "title": {
          "text": "i"
         }
        },
        "yaxis": {
         "anchor": "x",
         "domain": [
          0,
          1
         ],
         "title": {
          "text": "value"
         }
        }
       }
      },
      "text/html": [
       "<div>                            <div id=\"1f2f03ec-3324-4750-a008-b7cd52042eec\" class=\"plotly-graph-div\" style=\"height:525px; width:100%;\"></div>            <script type=\"text/javascript\">                require([\"plotly\"], function(Plotly) {                    window.PLOTLYENV=window.PLOTLYENV || {};                                    if (document.getElementById(\"1f2f03ec-3324-4750-a008-b7cd52042eec\")) {                    Plotly.newPlot(                        \"1f2f03ec-3324-4750-a008-b7cd52042eec\",                        [{\"alignmentgroup\":\"True\",\"hovertemplate\":\"variable=quantities<br>i=%{x}<br>value=%{y}<extra></extra>\",\"legendgroup\":\"quantities\",\"marker\":{\"color\":\"#636efa\",\"pattern\":{\"shape\":\"\"}},\"name\":\"quantities\",\"offsetgroup\":\"quantities\",\"orientation\":\"v\",\"showlegend\":true,\"textposition\":\"auto\",\"x\":[\"Banana\",\"Fresh fish\",\"Talong\",\"Food made from flour\",\"Milk\",\"Eggs\",\"Sea weed\",\"Onions\",\"Tomatoes\",\"Cooking oil\",\"Processed meat like longanisa\",\"Squash\",\"Chicken\",\"Beef\",\"Pork\",\"Milo\",\"Soybean and other products\",\"Mongo and other products\",\"Sardines\",\"Carrots\",\"Mangoes\",\"Sweet potato\",\"Coffee\",\"Sugar\",\"Peanut\",\"Salt\",\"Rice\",\"Bagoong\",\"Potato\"],\"xaxis\":\"x\",\"y\":[2421.3065144522907,1759.3547901225788,640.4056135425445,591.9189908371908,590.6134012054089,491.34465728917417,451.0009945056808,390.1721297035566,375.0406272487157,355.2160346255163,322.3548901223106,315.77541300902624,301.5132081415714,294.5324068827277,277.065220299426,191.38591124119012,186.26714610208117,182.36295155727805,170.69459880583847,146.31655044608317,72.83511280092192,41.42743539570457,36.945203098866614,36.02428180798519,25.23274713099688,22.846019262426775,19.514699695597656,17.5268019716687,17.477181576280632],\"yaxis\":\"y\",\"type\":\"bar\"}],                        {\"template\":{\"data\":{\"histogram2dcontour\":[{\"type\":\"histogram2dcontour\",\"colorbar\":{\"outlinewidth\":0,\"ticks\":\"\"},\"colorscale\":[[0.0,\"#0d0887\"],[0.1111111111111111,\"#46039f\"],[0.2222222222222222,\"#7201a8\"],[0.3333333333333333,\"#9c179e\"],[0.4444444444444444,\"#bd3786\"],[0.5555555555555556,\"#d8576b\"],[0.6666666666666666,\"#ed7953\"],[0.7777777777777778,\"#fb9f3a\"],[0.8888888888888888,\"#fdca26\"],[1.0,\"#f0f921\"]]}],\"choropleth\":[{\"type\":\"choropleth\",\"colorbar\":{\"outlinewidth\":0,\"ticks\":\"\"}}],\"histogram2d\":[{\"type\":\"histogram2d\",\"colorbar\":{\"outlinewidth\":0,\"ticks\":\"\"},\"colorscale\":[[0.0,\"#0d0887\"],[0.1111111111111111,\"#46039f\"],[0.2222222222222222,\"#7201a8\"],[0.3333333333333333,\"#9c179e\"],[0.4444444444444444,\"#bd3786\"],[0.5555555555555556,\"#d8576b\"],[0.6666666666666666,\"#ed7953\"],[0.7777777777777778,\"#fb9f3a\"],[0.8888888888888888,\"#fdca26\"],[1.0,\"#f0f921\"]]}],\"heatmap\":[{\"type\":\"heatmap\",\"colorbar\":{\"outlinewidth\":0,\"ticks\":\"\"},\"colorscale\":[[0.0,\"#0d0887\"],[0.1111111111111111,\"#46039f\"],[0.2222222222222222,\"#7201a8\"],[0.3333333333333333,\"#9c179e\"],[0.4444444444444444,\"#bd3786\"],[0.5555555555555556,\"#d8576b\"],[0.6666666666666666,\"#ed7953\"],[0.7777777777777778,\"#fb9f3a\"],[0.8888888888888888,\"#fdca26\"],[1.0,\"#f0f921\"]]}],\"heatmapgl\":[{\"type\":\"heatmapgl\",\"colorbar\":{\"outlinewidth\":0,\"ticks\":\"\"},\"colorscale\":[[0.0,\"#0d0887\"],[0.1111111111111111,\"#46039f\"],[0.2222222222222222,\"#7201a8\"],[0.3333333333333333,\"#9c179e\"],[0.4444444444444444,\"#bd3786\"],[0.5555555555555556,\"#d8576b\"],[0.6666666666666666,\"#ed7953\"],[0.7777777777777778,\"#fb9f3a\"],[0.8888888888888888,\"#fdca26\"],[1.0,\"#f0f921\"]]}],\"contourcarpet\":[{\"type\":\"contourcarpet\",\"colorbar\":{\"outlinewidth\":0,\"ticks\":\"\"}}],\"contour\":[{\"type\":\"contour\",\"colorbar\":{\"outlinewidth\":0,\"ticks\":\"\"},\"colorscale\":[[0.0,\"#0d0887\"],[0.1111111111111111,\"#46039f\"],[0.2222222222222222,\"#7201a8\"],[0.3333333333333333,\"#9c179e\"],[0.4444444444444444,\"#bd3786\"],[0.5555555555555556,\"#d8576b\"],[0.6666666666666666,\"#ed7953\"],[0.7777777777777778,\"#fb9f3a\"],[0.8888888888888888,\"#fdca26\"],[1.0,\"#f0f921\"]]}],\"surface\":[{\"type\":\"surface\",\"colorbar\":{\"outlinewidth\":0,\"ticks\":\"\"},\"colorscale\":[[0.0,\"#0d0887\"],[0.1111111111111111,\"#46039f\"],[0.2222222222222222,\"#7201a8\"],[0.3333333333333333,\"#9c179e\"],[0.4444444444444444,\"#bd3786\"],[0.5555555555555556,\"#d8576b\"],[0.6666666666666666,\"#ed7953\"],[0.7777777777777778,\"#fb9f3a\"],[0.8888888888888888,\"#fdca26\"],[1.0,\"#f0f921\"]]}],\"mesh3d\":[{\"type\":\"mesh3d\",\"colorbar\":{\"outlinewidth\":0,\"ticks\":\"\"}}],\"scatter\":[{\"fillpattern\":{\"fillmode\":\"overlay\",\"size\":10,\"solidity\":0.2},\"type\":\"scatter\"}],\"parcoords\":[{\"type\":\"parcoords\",\"line\":{\"colorbar\":{\"outlinewidth\":0,\"ticks\":\"\"}}}],\"scatterpolargl\":[{\"type\":\"scatterpolargl\",\"marker\":{\"colorbar\":{\"outlinewidth\":0,\"ticks\":\"\"}}}],\"bar\":[{\"error_x\":{\"color\":\"#2a3f5f\"},\"error_y\":{\"color\":\"#2a3f5f\"},\"marker\":{\"line\":{\"color\":\"#E5ECF6\",\"width\":0.5},\"pattern\":{\"fillmode\":\"overlay\",\"size\":10,\"solidity\":0.2}},\"type\":\"bar\"}],\"scattergeo\":[{\"type\":\"scattergeo\",\"marker\":{\"colorbar\":{\"outlinewidth\":0,\"ticks\":\"\"}}}],\"scatterpolar\":[{\"type\":\"scatterpolar\",\"marker\":{\"colorbar\":{\"outlinewidth\":0,\"ticks\":\"\"}}}],\"histogram\":[{\"marker\":{\"pattern\":{\"fillmode\":\"overlay\",\"size\":10,\"solidity\":0.2}},\"type\":\"histogram\"}],\"scattergl\":[{\"type\":\"scattergl\",\"marker\":{\"colorbar\":{\"outlinewidth\":0,\"ticks\":\"\"}}}],\"scatter3d\":[{\"type\":\"scatter3d\",\"line\":{\"colorbar\":{\"outlinewidth\":0,\"ticks\":\"\"}},\"marker\":{\"colorbar\":{\"outlinewidth\":0,\"ticks\":\"\"}}}],\"scattermapbox\":[{\"type\":\"scattermapbox\",\"marker\":{\"colorbar\":{\"outlinewidth\":0,\"ticks\":\"\"}}}],\"scatterternary\":[{\"type\":\"scatterternary\",\"marker\":{\"colorbar\":{\"outlinewidth\":0,\"ticks\":\"\"}}}],\"scattercarpet\":[{\"type\":\"scattercarpet\",\"marker\":{\"colorbar\":{\"outlinewidth\":0,\"ticks\":\"\"}}}],\"carpet\":[{\"aaxis\":{\"endlinecolor\":\"#2a3f5f\",\"gridcolor\":\"white\",\"linecolor\":\"white\",\"minorgridcolor\":\"white\",\"startlinecolor\":\"#2a3f5f\"},\"baxis\":{\"endlinecolor\":\"#2a3f5f\",\"gridcolor\":\"white\",\"linecolor\":\"white\",\"minorgridcolor\":\"white\",\"startlinecolor\":\"#2a3f5f\"},\"type\":\"carpet\"}],\"table\":[{\"cells\":{\"fill\":{\"color\":\"#EBF0F8\"},\"line\":{\"color\":\"white\"}},\"header\":{\"fill\":{\"color\":\"#C8D4E3\"},\"line\":{\"color\":\"white\"}},\"type\":\"table\"}],\"barpolar\":[{\"marker\":{\"line\":{\"color\":\"#E5ECF6\",\"width\":0.5},\"pattern\":{\"fillmode\":\"overlay\",\"size\":10,\"solidity\":0.2}},\"type\":\"barpolar\"}],\"pie\":[{\"automargin\":true,\"type\":\"pie\"}]},\"layout\":{\"autotypenumbers\":\"strict\",\"colorway\":[\"#636efa\",\"#EF553B\",\"#00cc96\",\"#ab63fa\",\"#FFA15A\",\"#19d3f3\",\"#FF6692\",\"#B6E880\",\"#FF97FF\",\"#FECB52\"],\"font\":{\"color\":\"#2a3f5f\"},\"hovermode\":\"closest\",\"hoverlabel\":{\"align\":\"left\"},\"paper_bgcolor\":\"white\",\"plot_bgcolor\":\"#E5ECF6\",\"polar\":{\"bgcolor\":\"#E5ECF6\",\"angularaxis\":{\"gridcolor\":\"white\",\"linecolor\":\"white\",\"ticks\":\"\"},\"radialaxis\":{\"gridcolor\":\"white\",\"linecolor\":\"white\",\"ticks\":\"\"}},\"ternary\":{\"bgcolor\":\"#E5ECF6\",\"aaxis\":{\"gridcolor\":\"white\",\"linecolor\":\"white\",\"ticks\":\"\"},\"baxis\":{\"gridcolor\":\"white\",\"linecolor\":\"white\",\"ticks\":\"\"},\"caxis\":{\"gridcolor\":\"white\",\"linecolor\":\"white\",\"ticks\":\"\"}},\"coloraxis\":{\"colorbar\":{\"outlinewidth\":0,\"ticks\":\"\"}},\"colorscale\":{\"sequential\":[[0.0,\"#0d0887\"],[0.1111111111111111,\"#46039f\"],[0.2222222222222222,\"#7201a8\"],[0.3333333333333333,\"#9c179e\"],[0.4444444444444444,\"#bd3786\"],[0.5555555555555556,\"#d8576b\"],[0.6666666666666666,\"#ed7953\"],[0.7777777777777778,\"#fb9f3a\"],[0.8888888888888888,\"#fdca26\"],[1.0,\"#f0f921\"]],\"sequentialminus\":[[0.0,\"#0d0887\"],[0.1111111111111111,\"#46039f\"],[0.2222222222222222,\"#7201a8\"],[0.3333333333333333,\"#9c179e\"],[0.4444444444444444,\"#bd3786\"],[0.5555555555555556,\"#d8576b\"],[0.6666666666666666,\"#ed7953\"],[0.7777777777777778,\"#fb9f3a\"],[0.8888888888888888,\"#fdca26\"],[1.0,\"#f0f921\"]],\"diverging\":[[0,\"#8e0152\"],[0.1,\"#c51b7d\"],[0.2,\"#de77ae\"],[0.3,\"#f1b6da\"],[0.4,\"#fde0ef\"],[0.5,\"#f7f7f7\"],[0.6,\"#e6f5d0\"],[0.7,\"#b8e186\"],[0.8,\"#7fbc41\"],[0.9,\"#4d9221\"],[1,\"#276419\"]]},\"xaxis\":{\"gridcolor\":\"white\",\"linecolor\":\"white\",\"ticks\":\"\",\"title\":{\"standoff\":15},\"zerolinecolor\":\"white\",\"automargin\":true,\"zerolinewidth\":2},\"yaxis\":{\"gridcolor\":\"white\",\"linecolor\":\"white\",\"ticks\":\"\",\"title\":{\"standoff\":15},\"zerolinecolor\":\"white\",\"automargin\":true,\"zerolinewidth\":2},\"scene\":{\"xaxis\":{\"backgroundcolor\":\"#E5ECF6\",\"gridcolor\":\"white\",\"linecolor\":\"white\",\"showbackground\":true,\"ticks\":\"\",\"zerolinecolor\":\"white\",\"gridwidth\":2},\"yaxis\":{\"backgroundcolor\":\"#E5ECF6\",\"gridcolor\":\"white\",\"linecolor\":\"white\",\"showbackground\":true,\"ticks\":\"\",\"zerolinecolor\":\"white\",\"gridwidth\":2},\"zaxis\":{\"backgroundcolor\":\"#E5ECF6\",\"gridcolor\":\"white\",\"linecolor\":\"white\",\"showbackground\":true,\"ticks\":\"\",\"zerolinecolor\":\"white\",\"gridwidth\":2}},\"shapedefaults\":{\"line\":{\"color\":\"#2a3f5f\"}},\"annotationdefaults\":{\"arrowcolor\":\"#2a3f5f\",\"arrowhead\":0,\"arrowwidth\":1},\"geo\":{\"bgcolor\":\"white\",\"landcolor\":\"#E5ECF6\",\"subunitcolor\":\"white\",\"showland\":true,\"showlakes\":true,\"lakecolor\":\"white\"},\"title\":{\"x\":0.05},\"mapbox\":{\"style\":\"light\"}}},\"xaxis\":{\"anchor\":\"y\",\"domain\":[0.0,1.0],\"title\":{\"text\":\"i\"}},\"yaxis\":{\"anchor\":\"x\",\"domain\":[0.0,1.0],\"title\":{\"text\":\"value\"}},\"legend\":{\"title\":{\"text\":\"variable\"},\"tracegroupgap\":0},\"margin\":{\"t\":60},\"barmode\":\"relative\"},                        {\"responsive\": true}                    ).then(function(){\n",
       "                            \n",
       "var gd = document.getElementById('1f2f03ec-3324-4750-a008-b7cd52042eec');\n",
       "var x = new MutationObserver(function (mutations, observer) {{\n",
       "        var display = window.getComputedStyle(gd).display;\n",
       "        if (!display || display === 'none') {{\n",
       "            console.log([gd, 'removed!']);\n",
       "            Plotly.purge(gd);\n",
       "            observer.disconnect();\n",
       "        }}\n",
       "}});\n",
       "\n",
       "// Listen for the removal of the full notebook cells\n",
       "var notebookContainer = gd.closest('#notebook-container');\n",
       "if (notebookContainer) {{\n",
       "    x.observe(notebookContainer, {childList: true});\n",
       "}}\n",
       "\n",
       "// Listen for the clearing of the current output cell\n",
       "var outputEl = gd.closest('.output');\n",
       "if (outputEl) {{\n",
       "    x.observe(outputEl, {childList: true});\n",
       "}}\n",
       "\n",
       "                        })                };                });            </script>        </div>"
      ]
     },
     "metadata": {},
     "output_type": "display_data"
    }
   ],
   "source": [
    "# Taken from Example_demands notebook\n",
    "t = result.firstround  # First round\n",
    "m = result.coords['m'][0] # First market\n",
    "\n",
    "x = result.get_predicted_expenditures().sum('i')\n",
    "x = x.where(x>0).sel(t=t,m=m).median('j') # Budget (median household)`\n",
    "\n",
    "# Note selection of prices for 1975 for market A\n",
    "p = result.prices.sel(m=m).fillna(1).copy()\n",
    "p = p.to_dataframe().fillna(1).squeeze().loc[2003,:]['prices']\n",
    "\n",
    "# Compute and plot demand\n",
    "c = result.demands(x,p).sort_values(ascending=False)\n",
    "px.bar(c)"
   ]
  },
  {
   "cell_type": "markdown",
   "metadata": {},
   "source": [
    "## Analsis: Demand Curves & Engel Curves"
   ]
  },
  {
   "cell_type": "code",
   "execution_count": 31,
   "metadata": {},
   "outputs": [
    {
     "data": {
      "text/plain": [
       "Text(0, 0.5, 'Price')"
      ]
     },
     "execution_count": 31,
     "metadata": {},
     "output_type": "execute_result"
    },
    {
     "data": {
      "image/png": "[encoded data removed]",
      "text/plain": [
       "<Figure size 432x288 with 1 Axes>"
      ]
     },
     "metadata": {
      "needs_background": "light"
     },
     "output_type": "display_data"
    }
   ],
   "source": [
    "# Trace a demand curve\n",
    "%matplotlib inline\n",
    "\n",
    "USE = 'BUK'\n",
    "USE_GOOD = 'Banana'\n",
    "    \n",
    "# Values for prices\n",
    "ref_price = result.prices.sel(i=USE_GOOD,m=m)\n",
    "P = np.linspace(ref_price/5,ref_price*5,50)\n",
    "\n",
    "def my_prices(p0,p=p,i=USE_GOOD):\n",
    "    p = p.copy()\n",
    "    p.loc[i] = p0\n",
    "    return p\n",
    "\n",
    "for myx in [x*s for s in [.25,.5,1.,2,4]]:\n",
    "    plt.plot([result.demands(myx,my_prices(p0))[USE_GOOD] for p0 in P],P)\n",
    "\n",
    "plt.xlabel(USE_GOOD)\n",
    "plt.ylabel('Price')"
   ]
  },
  {
   "cell_type": "code",
   "execution_count": 32,
   "metadata": {},
   "outputs": [
    {
     "data": {
      "text/plain": [
       "Text(0.5, 0, 'Budget')"
      ]
     },
     "execution_count": 32,
     "metadata": {},
     "output_type": "execute_result"
    },
    {
     "data": {
      "image/png": "[encoded data removed]",
      "text/plain": [
       "<Figure size 432x288 with 1 Axes>"
      ]
     },
     "metadata": {
      "needs_background": "light"
     },
     "output_type": "display_data"
    }
   ],
   "source": [
    "# Trace Engel curves\n",
    "import numpy as np\n",
    "import matplotlib.pyplot as plt\n",
    "%matplotlib inline\n",
    "\n",
    "USE_GOOD = 'Banana'\n",
    "    \n",
    "# Values for prices\n",
    "ref_price = result.prices.sel(i=USE_GOOD,m=m)\n",
    "\n",
    "# Range of budgets to consider\n",
    "X = np.linspace(x/10,x*10,50)\n",
    "\n",
    "plt.plot(X,[result.demands(x,ref_price)[USE_GOOD] for x in X])\n",
    "\n",
    "plt.ylabel(USE_GOOD)\n",
    "plt.xlabel('Budget')"
   ]
  },
  {
   "cell_type": "markdown",
   "metadata": {},
   "source": [
    "## Assessment of Fit"
   ]
  },
  {
   "cell_type": "code",
   "execution_count": 33,
   "metadata": {},
   "outputs": [
    {
     "data": {
      "text/plain": [
       "[<matplotlib.lines.Line2D at 0x7fb1e10580d0>]"
      ]
     },
     "execution_count": 33,
     "metadata": {},
     "output_type": "execute_result"
    },
    {
     "data": {
      "image/png": "[encoded data removed]",
      "text/plain": [
       "<Figure size 432x288 with 1 Axes>"
      ]
     },
     "metadata": {
      "needs_background": "light"
     },
     "output_type": "display_data"
    }
   ],
   "source": [
    "# Compare total expenditures predicted by the model vs. actual total expenditures\n",
    "xbar = np.exp(result.y).sum(['m','i']).to_dataframe('xbar').replace(0,np.nan).squeeze()\n",
    "xhat = result.get_predicted_expenditures().sum(['m','i']).to_dataframe('xhat').replace(0,np.nan).squeeze()\n",
    "\n",
    "# Make dataframe of actual & predicted\n",
    "df = pd.DataFrame({'Actual':np.log(xbar),'Predicted':np.log(xhat)})\n",
    "\n",
    "df.plot.scatter(x='Predicted',y='Actual')\n",
    "\n",
    "# Add 45 degree line\n",
    "v = plt.axis()\n",
    "vmin = np.max([v[0],v[2]])\n",
    "vmax = np.max([v[1],v[3]])\n",
    "plt.plot([vmin,vmax],[vmin,vmax])"
   ]
  },
  {
   "cell_type": "markdown",
   "metadata": {},
   "source": [
    "## Predicting Positive Consumption\n",
    "\n"
   ]
  },
  {
   "cell_type": "code",
   "execution_count": 45,
   "metadata": {},
   "outputs": [
    {
     "name": "stderr",
     "output_type": "stream",
     "text": [
      "/opt/conda/lib/python3.9/site-packages/cfe/estimation.py:425: UserWarning:\n",
      "\n",
      "No variation in: (2003.0, 'Bukidnon')\n",
      "\n",
      "/opt/conda/lib/python3.9/site-packages/cfe/estimation.py:447: FutureWarning:\n",
      "\n",
      "The frame.append method is deprecated and will be removed from pandas in a future version. Use pandas.concat instead.\n",
      "\n",
      "/opt/conda/lib/python3.9/site-packages/cfe/estimation.py:451: FutureWarning:\n",
      "\n",
      "The frame.append method is deprecated and will be removed from pandas in a future version. Use pandas.concat instead.\n",
      "\n",
      "/opt/conda/lib/python3.9/site-packages/cfe/estimation.py:425: UserWarning:\n",
      "\n",
      "No variation in: (2003.0, 'Bukidnon')\n",
      "\n",
      "/opt/conda/lib/python3.9/site-packages/cfe/estimation.py:447: FutureWarning:\n",
      "\n",
      "The frame.append method is deprecated and will be removed from pandas in a future version. Use pandas.concat instead.\n",
      "\n",
      "/opt/conda/lib/python3.9/site-packages/cfe/estimation.py:451: FutureWarning:\n",
      "\n",
      "The frame.append method is deprecated and will be removed from pandas in a future version. Use pandas.concat instead.\n",
      "\n",
      "/opt/conda/lib/python3.9/site-packages/cfe/estimation.py:425: UserWarning:\n",
      "\n",
      "No variation in: (2003.0, 'Bukidnon')\n",
      "\n",
      "/opt/conda/lib/python3.9/site-packages/cfe/estimation.py:447: FutureWarning:\n",
      "\n",
      "The frame.append method is deprecated and will be removed from pandas in a future version. Use pandas.concat instead.\n",
      "\n",
      "/opt/conda/lib/python3.9/site-packages/cfe/estimation.py:451: FutureWarning:\n",
      "\n",
      "The frame.append method is deprecated and will be removed from pandas in a future version. Use pandas.concat instead.\n",
      "\n",
      "/opt/conda/lib/python3.9/site-packages/cfe/estimation.py:425: UserWarning:\n",
      "\n",
      "No variation in: (2003.0, 'Bukidnon')\n",
      "\n",
      "/opt/conda/lib/python3.9/site-packages/cfe/estimation.py:447: FutureWarning:\n",
      "\n",
      "The frame.append method is deprecated and will be removed from pandas in a future version. Use pandas.concat instead.\n",
      "\n",
      "/opt/conda/lib/python3.9/site-packages/cfe/estimation.py:451: FutureWarning:\n",
      "\n",
      "The frame.append method is deprecated and will be removed from pandas in a future version. Use pandas.concat instead.\n",
      "\n",
      "/opt/conda/lib/python3.9/site-packages/cfe/estimation.py:425: UserWarning:\n",
      "\n",
      "No variation in: (2003.0, 'Bukidnon')\n",
      "\n",
      "/opt/conda/lib/python3.9/site-packages/cfe/estimation.py:447: FutureWarning:\n",
      "\n",
      "The frame.append method is deprecated and will be removed from pandas in a future version. Use pandas.concat instead.\n",
      "\n",
      "/opt/conda/lib/python3.9/site-packages/cfe/estimation.py:451: FutureWarning:\n",
      "\n",
      "The frame.append method is deprecated and will be removed from pandas in a future version. Use pandas.concat instead.\n",
      "\n",
      "/opt/conda/lib/python3.9/site-packages/cfe/estimation.py:425: UserWarning:\n",
      "\n",
      "No variation in: (2003.0, 'Bukidnon')\n",
      "\n",
      "/opt/conda/lib/python3.9/site-packages/cfe/estimation.py:447: FutureWarning:\n",
      "\n",
      "The frame.append method is deprecated and will be removed from pandas in a future version. Use pandas.concat instead.\n",
      "\n",
      "/opt/conda/lib/python3.9/site-packages/cfe/estimation.py:451: FutureWarning:\n",
      "\n",
      "The frame.append method is deprecated and will be removed from pandas in a future version. Use pandas.concat instead.\n",
      "\n",
      "/opt/conda/lib/python3.9/site-packages/cfe/estimation.py:425: UserWarning:\n",
      "\n",
      "No variation in: (2003.0, 'Bukidnon')\n",
      "\n",
      "/opt/conda/lib/python3.9/site-packages/cfe/estimation.py:447: FutureWarning:\n",
      "\n",
      "The frame.append method is deprecated and will be removed from pandas in a future version. Use pandas.concat instead.\n",
      "\n",
      "/opt/conda/lib/python3.9/site-packages/cfe/estimation.py:451: FutureWarning:\n",
      "\n",
      "The frame.append method is deprecated and will be removed from pandas in a future version. Use pandas.concat instead.\n",
      "\n",
      "/opt/conda/lib/python3.9/site-packages/cfe/estimation.py:425: UserWarning:\n",
      "\n",
      "No variation in: (2003.0, 'Bukidnon')\n",
      "\n",
      "/opt/conda/lib/python3.9/site-packages/cfe/estimation.py:447: FutureWarning:\n",
      "\n",
      "The frame.append method is deprecated and will be removed from pandas in a future version. Use pandas.concat instead.\n",
      "\n",
      "/opt/conda/lib/python3.9/site-packages/cfe/estimation.py:451: FutureWarning:\n",
      "\n",
      "The frame.append method is deprecated and will be removed from pandas in a future version. Use pandas.concat instead.\n",
      "\n",
      "/opt/conda/lib/python3.9/site-packages/cfe/estimation.py:425: UserWarning:\n",
      "\n",
      "No variation in: (2003.0, 'Bukidnon')\n",
      "\n",
      "/opt/conda/lib/python3.9/site-packages/cfe/estimation.py:447: FutureWarning:\n",
      "\n",
      "The frame.append method is deprecated and will be removed from pandas in a future version. Use pandas.concat instead.\n",
      "\n",
      "/opt/conda/lib/python3.9/site-packages/cfe/estimation.py:451: FutureWarning:\n",
      "\n",
      "The frame.append method is deprecated and will be removed from pandas in a future version. Use pandas.concat instead.\n",
      "\n",
      "/opt/conda/lib/python3.9/site-packages/cfe/estimation.py:425: UserWarning:\n",
      "\n",
      "No variation in: (2003.0, 'Bukidnon')\n",
      "\n",
      "/opt/conda/lib/python3.9/site-packages/cfe/estimation.py:447: FutureWarning:\n",
      "\n",
      "The frame.append method is deprecated and will be removed from pandas in a future version. Use pandas.concat instead.\n",
      "\n",
      "/opt/conda/lib/python3.9/site-packages/cfe/estimation.py:451: FutureWarning:\n",
      "\n",
      "The frame.append method is deprecated and will be removed from pandas in a future version. Use pandas.concat instead.\n",
      "\n",
      "/opt/conda/lib/python3.9/site-packages/cfe/estimation.py:425: UserWarning:\n",
      "\n",
      "No variation in: (2003.0, 'Bukidnon')\n",
      "\n",
      "/opt/conda/lib/python3.9/site-packages/cfe/estimation.py:447: FutureWarning:\n",
      "\n",
      "The frame.append method is deprecated and will be removed from pandas in a future version. Use pandas.concat instead.\n",
      "\n",
      "/opt/conda/lib/python3.9/site-packages/cfe/estimation.py:451: FutureWarning:\n",
      "\n",
      "The frame.append method is deprecated and will be removed from pandas in a future version. Use pandas.concat instead.\n",
      "\n",
      "/opt/conda/lib/python3.9/site-packages/cfe/estimation.py:425: UserWarning:\n",
      "\n",
      "No variation in: (2003.0, 'Bukidnon')\n",
      "\n",
      "/opt/conda/lib/python3.9/site-packages/cfe/estimation.py:447: FutureWarning:\n",
      "\n",
      "The frame.append method is deprecated and will be removed from pandas in a future version. Use pandas.concat instead.\n",
      "\n",
      "/opt/conda/lib/python3.9/site-packages/cfe/estimation.py:451: FutureWarning:\n",
      "\n",
      "The frame.append method is deprecated and will be removed from pandas in a future version. Use pandas.concat instead.\n",
      "\n",
      "/opt/conda/lib/python3.9/site-packages/cfe/estimation.py:425: UserWarning:\n",
      "\n",
      "No variation in: (2003.0, 'Bukidnon')\n",
      "\n",
      "/opt/conda/lib/python3.9/site-packages/cfe/estimation.py:447: FutureWarning:\n",
      "\n",
      "The frame.append method is deprecated and will be removed from pandas in a future version. Use pandas.concat instead.\n",
      "\n",
      "/opt/conda/lib/python3.9/site-packages/cfe/estimation.py:451: FutureWarning:\n",
      "\n",
      "The frame.append method is deprecated and will be removed from pandas in a future version. Use pandas.concat instead.\n",
      "\n",
      "/opt/conda/lib/python3.9/site-packages/cfe/estimation.py:425: UserWarning:\n",
      "\n",
      "No variation in: (2003.0, 'Bukidnon')\n",
      "\n",
      "/opt/conda/lib/python3.9/site-packages/cfe/estimation.py:447: FutureWarning:\n",
      "\n",
      "The frame.append method is deprecated and will be removed from pandas in a future version. Use pandas.concat instead.\n",
      "\n",
      "/opt/conda/lib/python3.9/site-packages/cfe/estimation.py:451: FutureWarning:\n",
      "\n",
      "The frame.append method is deprecated and will be removed from pandas in a future version. Use pandas.concat instead.\n",
      "\n",
      "/opt/conda/lib/python3.9/site-packages/cfe/estimation.py:425: UserWarning:\n",
      "\n",
      "No variation in: (2003.0, 'Bukidnon')\n",
      "\n",
      "/opt/conda/lib/python3.9/site-packages/cfe/estimation.py:447: FutureWarning:\n",
      "\n",
      "The frame.append method is deprecated and will be removed from pandas in a future version. Use pandas.concat instead.\n",
      "\n",
      "/opt/conda/lib/python3.9/site-packages/cfe/estimation.py:451: FutureWarning:\n",
      "\n",
      "The frame.append method is deprecated and will be removed from pandas in a future version. Use pandas.concat instead.\n",
      "\n",
      "/opt/conda/lib/python3.9/site-packages/cfe/estimation.py:425: UserWarning:\n",
      "\n",
      "No variation in: (2003.0, 'Bukidnon')\n",
      "\n",
      "/opt/conda/lib/python3.9/site-packages/cfe/estimation.py:447: FutureWarning:\n",
      "\n",
      "The frame.append method is deprecated and will be removed from pandas in a future version. Use pandas.concat instead.\n",
      "\n",
      "/opt/conda/lib/python3.9/site-packages/cfe/estimation.py:451: FutureWarning:\n",
      "\n",
      "The frame.append method is deprecated and will be removed from pandas in a future version. Use pandas.concat instead.\n",
      "\n",
      "/opt/conda/lib/python3.9/site-packages/cfe/estimation.py:425: UserWarning:\n",
      "\n",
      "No variation in: (2003.0, 'Bukidnon')\n",
      "\n",
      "/opt/conda/lib/python3.9/site-packages/cfe/estimation.py:447: FutureWarning:\n",
      "\n",
      "The frame.append method is deprecated and will be removed from pandas in a future version. Use pandas.concat instead.\n",
      "\n",
      "/opt/conda/lib/python3.9/site-packages/cfe/estimation.py:451: FutureWarning:\n",
      "\n",
      "The frame.append method is deprecated and will be removed from pandas in a future version. Use pandas.concat instead.\n",
      "\n",
      "/opt/conda/lib/python3.9/site-packages/cfe/estimation.py:425: UserWarning:\n",
      "\n",
      "No variation in: (2003.0, 'Bukidnon')\n",
      "\n",
      "/opt/conda/lib/python3.9/site-packages/cfe/estimation.py:447: FutureWarning:\n",
      "\n",
      "The frame.append method is deprecated and will be removed from pandas in a future version. Use pandas.concat instead.\n",
      "\n",
      "/opt/conda/lib/python3.9/site-packages/cfe/estimation.py:451: FutureWarning:\n",
      "\n",
      "The frame.append method is deprecated and will be removed from pandas in a future version. Use pandas.concat instead.\n",
      "\n",
      "/opt/conda/lib/python3.9/site-packages/cfe/estimation.py:425: UserWarning:\n",
      "\n",
      "No variation in: (2003.0, 'Bukidnon')\n",
      "\n",
      "/opt/conda/lib/python3.9/site-packages/cfe/estimation.py:447: FutureWarning:\n",
      "\n",
      "The frame.append method is deprecated and will be removed from pandas in a future version. Use pandas.concat instead.\n",
      "\n",
      "/opt/conda/lib/python3.9/site-packages/cfe/estimation.py:451: FutureWarning:\n",
      "\n",
      "The frame.append method is deprecated and will be removed from pandas in a future version. Use pandas.concat instead.\n",
      "\n",
      "/opt/conda/lib/python3.9/site-packages/cfe/estimation.py:425: UserWarning:\n",
      "\n",
      "No variation in: (2003.0, 'Bukidnon')\n",
      "\n",
      "/opt/conda/lib/python3.9/site-packages/cfe/estimation.py:447: FutureWarning:\n",
      "\n",
      "The frame.append method is deprecated and will be removed from pandas in a future version. Use pandas.concat instead.\n",
      "\n",
      "/opt/conda/lib/python3.9/site-packages/cfe/estimation.py:451: FutureWarning:\n",
      "\n",
      "The frame.append method is deprecated and will be removed from pandas in a future version. Use pandas.concat instead.\n",
      "\n",
      "/opt/conda/lib/python3.9/site-packages/cfe/estimation.py:425: UserWarning:\n",
      "\n",
      "No variation in: (2003.0, 'Bukidnon')\n",
      "\n",
      "/opt/conda/lib/python3.9/site-packages/cfe/estimation.py:447: FutureWarning:\n",
      "\n",
      "The frame.append method is deprecated and will be removed from pandas in a future version. Use pandas.concat instead.\n",
      "\n",
      "/opt/conda/lib/python3.9/site-packages/cfe/estimation.py:451: FutureWarning:\n",
      "\n",
      "The frame.append method is deprecated and will be removed from pandas in a future version. Use pandas.concat instead.\n",
      "\n",
      "/opt/conda/lib/python3.9/site-packages/cfe/estimation.py:425: UserWarning:\n",
      "\n",
      "No variation in: (2003.0, 'Bukidnon')\n",
      "\n",
      "/opt/conda/lib/python3.9/site-packages/cfe/estimation.py:447: FutureWarning:\n",
      "\n",
      "The frame.append method is deprecated and will be removed from pandas in a future version. Use pandas.concat instead.\n",
      "\n",
      "/opt/conda/lib/python3.9/site-packages/cfe/estimation.py:451: FutureWarning:\n",
      "\n",
      "The frame.append method is deprecated and will be removed from pandas in a future version. Use pandas.concat instead.\n",
      "\n",
      "/opt/conda/lib/python3.9/site-packages/cfe/estimation.py:425: UserWarning:\n",
      "\n",
      "No variation in: (2003.0, 'Bukidnon')\n",
      "\n",
      "/opt/conda/lib/python3.9/site-packages/cfe/estimation.py:447: FutureWarning:\n",
      "\n",
      "The frame.append method is deprecated and will be removed from pandas in a future version. Use pandas.concat instead.\n",
      "\n",
      "/opt/conda/lib/python3.9/site-packages/cfe/estimation.py:451: FutureWarning:\n",
      "\n",
      "The frame.append method is deprecated and will be removed from pandas in a future version. Use pandas.concat instead.\n",
      "\n",
      "/opt/conda/lib/python3.9/site-packages/cfe/estimation.py:425: UserWarning:\n",
      "\n",
      "No variation in: (2003.0, 'Bukidnon')\n",
      "\n",
      "/opt/conda/lib/python3.9/site-packages/cfe/estimation.py:447: FutureWarning:\n",
      "\n",
      "The frame.append method is deprecated and will be removed from pandas in a future version. Use pandas.concat instead.\n",
      "\n",
      "/opt/conda/lib/python3.9/site-packages/cfe/estimation.py:451: FutureWarning:\n",
      "\n",
      "The frame.append method is deprecated and will be removed from pandas in a future version. Use pandas.concat instead.\n",
      "\n",
      "/opt/conda/lib/python3.9/site-packages/cfe/estimation.py:425: UserWarning:\n",
      "\n",
      "No variation in: (2003.0, 'Bukidnon')\n",
      "\n",
      "/opt/conda/lib/python3.9/site-packages/cfe/estimation.py:447: FutureWarning:\n",
      "\n",
      "The frame.append method is deprecated and will be removed from pandas in a future version. Use pandas.concat instead.\n",
      "\n",
      "/opt/conda/lib/python3.9/site-packages/cfe/estimation.py:451: FutureWarning:\n",
      "\n",
      "The frame.append method is deprecated and will be removed from pandas in a future version. Use pandas.concat instead.\n",
      "\n",
      "/opt/conda/lib/python3.9/site-packages/cfe/estimation.py:425: UserWarning:\n",
      "\n",
      "No variation in: (2003.0, 'Bukidnon')\n",
      "\n",
      "/opt/conda/lib/python3.9/site-packages/cfe/estimation.py:447: FutureWarning:\n",
      "\n",
      "The frame.append method is deprecated and will be removed from pandas in a future version. Use pandas.concat instead.\n",
      "\n",
      "/opt/conda/lib/python3.9/site-packages/cfe/estimation.py:451: FutureWarning:\n",
      "\n",
      "The frame.append method is deprecated and will be removed from pandas in a future version. Use pandas.concat instead.\n",
      "\n",
      "/opt/conda/lib/python3.9/site-packages/cfe/estimation.py:425: UserWarning:\n",
      "\n",
      "No variation in: (2003.0, 'Bukidnon')\n",
      "\n",
      "/opt/conda/lib/python3.9/site-packages/cfe/estimation.py:447: FutureWarning:\n",
      "\n",
      "The frame.append method is deprecated and will be removed from pandas in a future version. Use pandas.concat instead.\n",
      "\n",
      "/opt/conda/lib/python3.9/site-packages/cfe/estimation.py:451: FutureWarning:\n",
      "\n",
      "The frame.append method is deprecated and will be removed from pandas in a future version. Use pandas.concat instead.\n",
      "\n",
      "/opt/conda/lib/python3.9/site-packages/cfe/estimation.py:425: UserWarning:\n",
      "\n",
      "No variation in: (2003.0, 'Bukidnon')\n",
      "\n",
      "/opt/conda/lib/python3.9/site-packages/cfe/estimation.py:447: FutureWarning:\n",
      "\n",
      "The frame.append method is deprecated and will be removed from pandas in a future version. Use pandas.concat instead.\n",
      "\n",
      "/opt/conda/lib/python3.9/site-packages/cfe/estimation.py:451: FutureWarning:\n",
      "\n",
      "The frame.append method is deprecated and will be removed from pandas in a future version. Use pandas.concat instead.\n",
      "\n",
      "/opt/conda/lib/python3.9/site-packages/cfe/estimation.py:425: UserWarning:\n",
      "\n",
      "No variation in: (2003.0, 'Bukidnon')\n",
      "\n",
      "/opt/conda/lib/python3.9/site-packages/cfe/estimation.py:447: FutureWarning:\n",
      "\n",
      "The frame.append method is deprecated and will be removed from pandas in a future version. Use pandas.concat instead.\n",
      "\n",
      "/opt/conda/lib/python3.9/site-packages/cfe/estimation.py:451: FutureWarning:\n",
      "\n",
      "The frame.append method is deprecated and will be removed from pandas in a future version. Use pandas.concat instead.\n",
      "\n"
     ]
    },
    {
     "data": {
      "text/plain": [
       "[<matplotlib.lines.Line2D at 0x7fb1e0e805e0>]"
      ]
     },
     "execution_count": 45,
     "metadata": {},
     "output_type": "execute_result"
    },
    {
     "data": {
      "image/png": "[encoded data removed]",
      "text/plain": [
       "<Figure size 432x288 with 1 Axes>"
      ]
     },
     "metadata": {
      "needs_background": "light"
     },
     "output_type": "display_data"
    }
   ],
   "source": [
    "%matplotlib inline\n",
    "\n",
    "zeros_r = cfe.Result(y=(0.+(np.exp(result.y)>0)),z=result.z)\n",
    "weights = zeros_r.get_predicted_log_expenditures()\n",
    "\n",
    "# Truncate to make weights live in [0,1]\n",
    "weights = weights.where((weights<1) + np.isnan(weights),1).where((weights>0) + np.isnan(weights),0)\n",
    "\n",
    "xbar = np.exp(result.y).sum(['m','i']).to_dataframe('xbar').replace(0,np.nan).squeeze()\n",
    "\n",
    "# Calculate *expected* predicted expenditures, to make unconditional on being positive\n",
    "xhat = (weights*result.get_predicted_expenditures())\n",
    "xsum = xhat.sum(['m','i']).to_dataframe('xhat').replace(0,np.nan).squeeze()\n",
    "\n",
    "# Make dataframe of actual & predicted\n",
    "df = pd.DataFrame({'Actual':np.log(xbar),'Predicted':np.log(xsum)})\n",
    "\n",
    "df.plot.scatter(x='Predicted',y='Actual')\n",
    "\n",
    "# Add 45 degree line\n",
    "v = plt.axis()\n",
    "vmin = np.max([v[0],v[2]])\n",
    "vmax = np.max([v[1],v[3]])\n",
    "plt.plot([vmin,vmax],[vmin,vmax])"
   ]
  },
  {
   "cell_type": "markdown",
   "metadata": {},
   "source": [
    "## Get predicted quantities\n",
    "\n"
   ]
  },
  {
   "cell_type": "code",
   "execution_count": 35,
   "metadata": {},
   "outputs": [
    {
     "data": {
      "text/html": [
       "<div>\n",
       "<style scoped>\n",
       "    .dataframe tbody tr th:only-of-type {\n",
       "        vertical-align: middle;\n",
       "    }\n",
       "\n",
       "    .dataframe tbody tr th {\n",
       "        vertical-align: top;\n",
       "    }\n",
       "\n",
       "    .dataframe thead th {\n",
       "        text-align: right;\n",
       "    }\n",
       "</style>\n",
       "<table border=\"1\" class=\"dataframe\">\n",
       "  <thead>\n",
       "    <tr style=\"text-align: right;\">\n",
       "      <th></th>\n",
       "      <th></th>\n",
       "      <th>i</th>\n",
       "      <th>Bagoong</th>\n",
       "      <th>Banana</th>\n",
       "      <th>Beef</th>\n",
       "      <th>Carrots</th>\n",
       "      <th>Chicken</th>\n",
       "      <th>Coffee</th>\n",
       "      <th>Cooking oil</th>\n",
       "      <th>Eggs</th>\n",
       "      <th>Food made from flour</th>\n",
       "      <th>Fresh fish</th>\n",
       "      <th>...</th>\n",
       "      <th>Rice</th>\n",
       "      <th>Salt</th>\n",
       "      <th>Sardines</th>\n",
       "      <th>Sea weed</th>\n",
       "      <th>Soybean and other products</th>\n",
       "      <th>Squash</th>\n",
       "      <th>Sugar</th>\n",
       "      <th>Sweet potato</th>\n",
       "      <th>Talong</th>\n",
       "      <th>Tomatoes</th>\n",
       "    </tr>\n",
       "    <tr>\n",
       "      <th>t</th>\n",
       "      <th>m</th>\n",
       "      <th>j</th>\n",
       "      <th></th>\n",
       "      <th></th>\n",
       "      <th></th>\n",
       "      <th></th>\n",
       "      <th></th>\n",
       "      <th></th>\n",
       "      <th></th>\n",
       "      <th></th>\n",
       "      <th></th>\n",
       "      <th></th>\n",
       "      <th></th>\n",
       "      <th></th>\n",
       "      <th></th>\n",
       "      <th></th>\n",
       "      <th></th>\n",
       "      <th></th>\n",
       "      <th></th>\n",
       "      <th></th>\n",
       "      <th></th>\n",
       "      <th></th>\n",
       "      <th></th>\n",
       "    </tr>\n",
       "  </thead>\n",
       "  <tbody>\n",
       "    <tr>\n",
       "      <th rowspan=\"11\" valign=\"top\">2003.0</th>\n",
       "      <th rowspan=\"11\" valign=\"top\">Bukidnon</th>\n",
       "      <th>2.0</th>\n",
       "      <td>123.277688</td>\n",
       "      <td>850.214334</td>\n",
       "      <td>196.981949</td>\n",
       "      <td>191.178690</td>\n",
       "      <td>259.307919</td>\n",
       "      <td>14.324950</td>\n",
       "      <td>603.767951</td>\n",
       "      <td>254.625194</td>\n",
       "      <td>2295.516093</td>\n",
       "      <td>1525.288955</td>\n",
       "      <td>...</td>\n",
       "      <td>9090.625247</td>\n",
       "      <td>313.063715</td>\n",
       "      <td>234.096755</td>\n",
       "      <td>51.833135</td>\n",
       "      <td>377.772101</td>\n",
       "      <td>396.557036</td>\n",
       "      <td>978.711656</td>\n",
       "      <td>202.498562</td>\n",
       "      <td>425.179544</td>\n",
       "      <td>365.603441</td>\n",
       "    </tr>\n",
       "    <tr>\n",
       "      <th>4.0</th>\n",
       "      <td>242.375199</td>\n",
       "      <td>330.051199</td>\n",
       "      <td>146.401044</td>\n",
       "      <td>34.999183</td>\n",
       "      <td>265.202504</td>\n",
       "      <td>19.530460</td>\n",
       "      <td>559.122723</td>\n",
       "      <td>198.424425</td>\n",
       "      <td>2819.263076</td>\n",
       "      <td>2163.911433</td>\n",
       "      <td>...</td>\n",
       "      <td>10701.025609</td>\n",
       "      <td>264.707510</td>\n",
       "      <td>252.230151</td>\n",
       "      <td>84.322818</td>\n",
       "      <td>387.393232</td>\n",
       "      <td>414.591423</td>\n",
       "      <td>976.633096</td>\n",
       "      <td>313.016086</td>\n",
       "      <td>312.814343</td>\n",
       "      <td>200.041662</td>\n",
       "    </tr>\n",
       "    <tr>\n",
       "      <th>5.0</th>\n",
       "      <td>77.905900</td>\n",
       "      <td>45.836093</td>\n",
       "      <td>11.546506</td>\n",
       "      <td>7.761824</td>\n",
       "      <td>5.784572</td>\n",
       "      <td>4.323569</td>\n",
       "      <td>160.073812</td>\n",
       "      <td>38.581272</td>\n",
       "      <td>804.976385</td>\n",
       "      <td>473.548183</td>\n",
       "      <td>...</td>\n",
       "      <td>3445.447589</td>\n",
       "      <td>112.452340</td>\n",
       "      <td>63.951191</td>\n",
       "      <td>11.513133</td>\n",
       "      <td>126.704337</td>\n",
       "      <td>56.618634</td>\n",
       "      <td>366.644104</td>\n",
       "      <td>65.077720</td>\n",
       "      <td>37.642078</td>\n",
       "      <td>30.853625</td>\n",
       "    </tr>\n",
       "    <tr>\n",
       "      <th>6.0</th>\n",
       "      <td>384.409102</td>\n",
       "      <td>448.856141</td>\n",
       "      <td>250.635023</td>\n",
       "      <td>223.428383</td>\n",
       "      <td>629.637437</td>\n",
       "      <td>20.261516</td>\n",
       "      <td>743.796362</td>\n",
       "      <td>333.605303</td>\n",
       "      <td>4442.594016</td>\n",
       "      <td>3541.427351</td>\n",
       "      <td>...</td>\n",
       "      <td>7271.595071</td>\n",
       "      <td>374.024601</td>\n",
       "      <td>528.954264</td>\n",
       "      <td>283.999133</td>\n",
       "      <td>421.584103</td>\n",
       "      <td>541.394516</td>\n",
       "      <td>1336.708395</td>\n",
       "      <td>591.789718</td>\n",
       "      <td>714.738581</td>\n",
       "      <td>738.842838</td>\n",
       "    </tr>\n",
       "    <tr>\n",
       "      <th>12.0</th>\n",
       "      <td>229.149223</td>\n",
       "      <td>532.739486</td>\n",
       "      <td>583.642386</td>\n",
       "      <td>125.559773</td>\n",
       "      <td>369.313039</td>\n",
       "      <td>14.497976</td>\n",
       "      <td>558.913486</td>\n",
       "      <td>216.271294</td>\n",
       "      <td>4003.661435</td>\n",
       "      <td>3516.323478</td>\n",
       "      <td>...</td>\n",
       "      <td>7196.446665</td>\n",
       "      <td>306.918559</td>\n",
       "      <td>350.490553</td>\n",
       "      <td>205.104849</td>\n",
       "      <td>285.255692</td>\n",
       "      <td>662.857757</td>\n",
       "      <td>1168.247769</td>\n",
       "      <td>622.921642</td>\n",
       "      <td>695.638402</td>\n",
       "      <td>344.305470</td>\n",
       "    </tr>\n",
       "    <tr>\n",
       "      <th>...</th>\n",
       "      <td>...</td>\n",
       "      <td>...</td>\n",
       "      <td>...</td>\n",
       "      <td>...</td>\n",
       "      <td>...</td>\n",
       "      <td>...</td>\n",
       "      <td>...</td>\n",
       "      <td>...</td>\n",
       "      <td>...</td>\n",
       "      <td>...</td>\n",
       "      <td>...</td>\n",
       "      <td>...</td>\n",
       "      <td>...</td>\n",
       "      <td>...</td>\n",
       "      <td>...</td>\n",
       "      <td>...</td>\n",
       "      <td>...</td>\n",
       "      <td>...</td>\n",
       "      <td>...</td>\n",
       "      <td>...</td>\n",
       "      <td>...</td>\n",
       "    </tr>\n",
       "    <tr>\n",
       "      <th>937.0</th>\n",
       "      <td>131.246033</td>\n",
       "      <td>355.623544</td>\n",
       "      <td>91.098652</td>\n",
       "      <td>64.152724</td>\n",
       "      <td>121.063915</td>\n",
       "      <td>10.247306</td>\n",
       "      <td>342.184972</td>\n",
       "      <td>157.883320</td>\n",
       "      <td>1933.981781</td>\n",
       "      <td>1140.214860</td>\n",
       "      <td>...</td>\n",
       "      <td>6633.450450</td>\n",
       "      <td>197.067116</td>\n",
       "      <td>171.369174</td>\n",
       "      <td>88.230909</td>\n",
       "      <td>253.271674</td>\n",
       "      <td>261.576525</td>\n",
       "      <td>731.475205</td>\n",
       "      <td>283.294479</td>\n",
       "      <td>351.700741</td>\n",
       "      <td>165.945925</td>\n",
       "    </tr>\n",
       "    <tr>\n",
       "      <th>938.0</th>\n",
       "      <td>167.381405</td>\n",
       "      <td>251.272911</td>\n",
       "      <td>59.627347</td>\n",
       "      <td>56.331792</td>\n",
       "      <td>76.069555</td>\n",
       "      <td>11.344264</td>\n",
       "      <td>338.026575</td>\n",
       "      <td>135.869604</td>\n",
       "      <td>2270.255947</td>\n",
       "      <td>1404.183111</td>\n",
       "      <td>...</td>\n",
       "      <td>6561.498858</td>\n",
       "      <td>243.666390</td>\n",
       "      <td>207.005942</td>\n",
       "      <td>78.947204</td>\n",
       "      <td>249.159836</td>\n",
       "      <td>274.326428</td>\n",
       "      <td>806.956398</td>\n",
       "      <td>339.039640</td>\n",
       "      <td>173.623197</td>\n",
       "      <td>135.526909</td>\n",
       "    </tr>\n",
       "    <tr>\n",
       "      <th>939.0</th>\n",
       "      <td>63.862554</td>\n",
       "      <td>55.497476</td>\n",
       "      <td>18.812802</td>\n",
       "      <td>9.143685</td>\n",
       "      <td>12.496059</td>\n",
       "      <td>3.247711</td>\n",
       "      <td>118.021282</td>\n",
       "      <td>29.561303</td>\n",
       "      <td>601.550511</td>\n",
       "      <td>338.740462</td>\n",
       "      <td>...</td>\n",
       "      <td>4657.115537</td>\n",
       "      <td>132.992167</td>\n",
       "      <td>97.932689</td>\n",
       "      <td>5.829005</td>\n",
       "      <td>78.948978</td>\n",
       "      <td>35.403554</td>\n",
       "      <td>338.750703</td>\n",
       "      <td>50.244810</td>\n",
       "      <td>28.295876</td>\n",
       "      <td>37.657518</td>\n",
       "    </tr>\n",
       "    <tr>\n",
       "      <th>940.0</th>\n",
       "      <td>176.607493</td>\n",
       "      <td>336.553919</td>\n",
       "      <td>123.111660</td>\n",
       "      <td>101.106191</td>\n",
       "      <td>166.073572</td>\n",
       "      <td>11.185103</td>\n",
       "      <td>545.178908</td>\n",
       "      <td>245.531367</td>\n",
       "      <td>2577.896312</td>\n",
       "      <td>1931.688034</td>\n",
       "      <td>...</td>\n",
       "      <td>7241.356750</td>\n",
       "      <td>245.209220</td>\n",
       "      <td>263.973995</td>\n",
       "      <td>105.364588</td>\n",
       "      <td>376.140115</td>\n",
       "      <td>365.470015</td>\n",
       "      <td>913.165647</td>\n",
       "      <td>228.050359</td>\n",
       "      <td>367.906377</td>\n",
       "      <td>248.075519</td>\n",
       "    </tr>\n",
       "    <tr>\n",
       "      <th>941.0</th>\n",
       "      <td>150.310959</td>\n",
       "      <td>283.164538</td>\n",
       "      <td>58.021525</td>\n",
       "      <td>38.057269</td>\n",
       "      <td>109.728127</td>\n",
       "      <td>15.607965</td>\n",
       "      <td>486.817486</td>\n",
       "      <td>199.401681</td>\n",
       "      <td>2655.242479</td>\n",
       "      <td>1582.761567</td>\n",
       "      <td>...</td>\n",
       "      <td>5342.301089</td>\n",
       "      <td>249.884752</td>\n",
       "      <td>201.172964</td>\n",
       "      <td>86.444048</td>\n",
       "      <td>344.986417</td>\n",
       "      <td>247.786605</td>\n",
       "      <td>821.639565</td>\n",
       "      <td>181.925465</td>\n",
       "      <td>227.908969</td>\n",
       "      <td>161.015303</td>\n",
       "    </tr>\n",
       "  </tbody>\n",
       "</table>\n",
       "<p>572 rows × 29 columns</p>\n",
       "</div>"
      ],
      "text/plain": [
       "i                         Bagoong      Banana        Beef     Carrots  \\\n",
       "t      m        j                                                       \n",
       "2003.0 Bukidnon 2.0    123.277688  850.214334  196.981949  191.178690   \n",
       "                4.0    242.375199  330.051199  146.401044   34.999183   \n",
       "                5.0     77.905900   45.836093   11.546506    7.761824   \n",
       "                6.0    384.409102  448.856141  250.635023  223.428383   \n",
       "                12.0   229.149223  532.739486  583.642386  125.559773   \n",
       "...                           ...         ...         ...         ...   \n",
       "                937.0  131.246033  355.623544   91.098652   64.152724   \n",
       "                938.0  167.381405  251.272911   59.627347   56.331792   \n",
       "                939.0   63.862554   55.497476   18.812802    9.143685   \n",
       "                940.0  176.607493  336.553919  123.111660  101.106191   \n",
       "                941.0  150.310959  283.164538   58.021525   38.057269   \n",
       "\n",
       "i                         Chicken     Coffee  Cooking oil        Eggs  \\\n",
       "t      m        j                                                       \n",
       "2003.0 Bukidnon 2.0    259.307919  14.324950   603.767951  254.625194   \n",
       "                4.0    265.202504  19.530460   559.122723  198.424425   \n",
       "                5.0      5.784572   4.323569   160.073812   38.581272   \n",
       "                6.0    629.637437  20.261516   743.796362  333.605303   \n",
       "                12.0   369.313039  14.497976   558.913486  216.271294   \n",
       "...                           ...        ...          ...         ...   \n",
       "                937.0  121.063915  10.247306   342.184972  157.883320   \n",
       "                938.0   76.069555  11.344264   338.026575  135.869604   \n",
       "                939.0   12.496059   3.247711   118.021282   29.561303   \n",
       "                940.0  166.073572  11.185103   545.178908  245.531367   \n",
       "                941.0  109.728127  15.607965   486.817486  199.401681   \n",
       "\n",
       "i                      Food made from flour   Fresh fish  ...          Rice  \\\n",
       "t      m        j                                         ...                 \n",
       "2003.0 Bukidnon 2.0             2295.516093  1525.288955  ...   9090.625247   \n",
       "                4.0             2819.263076  2163.911433  ...  10701.025609   \n",
       "                5.0              804.976385   473.548183  ...   3445.447589   \n",
       "                6.0             4442.594016  3541.427351  ...   7271.595071   \n",
       "                12.0            4003.661435  3516.323478  ...   7196.446665   \n",
       "...                                     ...          ...  ...           ...   \n",
       "                937.0           1933.981781  1140.214860  ...   6633.450450   \n",
       "                938.0           2270.255947  1404.183111  ...   6561.498858   \n",
       "                939.0            601.550511   338.740462  ...   4657.115537   \n",
       "                940.0           2577.896312  1931.688034  ...   7241.356750   \n",
       "                941.0           2655.242479  1582.761567  ...   5342.301089   \n",
       "\n",
       "i                            Salt    Sardines    Sea weed  \\\n",
       "t      m        j                                           \n",
       "2003.0 Bukidnon 2.0    313.063715  234.096755   51.833135   \n",
       "                4.0    264.707510  252.230151   84.322818   \n",
       "                5.0    112.452340   63.951191   11.513133   \n",
       "                6.0    374.024601  528.954264  283.999133   \n",
       "                12.0   306.918559  350.490553  205.104849   \n",
       "...                           ...         ...         ...   \n",
       "                937.0  197.067116  171.369174   88.230909   \n",
       "                938.0  243.666390  207.005942   78.947204   \n",
       "                939.0  132.992167   97.932689    5.829005   \n",
       "                940.0  245.209220  263.973995  105.364588   \n",
       "                941.0  249.884752  201.172964   86.444048   \n",
       "\n",
       "i                      Soybean and other products      Squash        Sugar  \\\n",
       "t      m        j                                                            \n",
       "2003.0 Bukidnon 2.0                    377.772101  396.557036   978.711656   \n",
       "                4.0                    387.393232  414.591423   976.633096   \n",
       "                5.0                    126.704337   56.618634   366.644104   \n",
       "                6.0                    421.584103  541.394516  1336.708395   \n",
       "                12.0                   285.255692  662.857757  1168.247769   \n",
       "...                                           ...         ...          ...   \n",
       "                937.0                  253.271674  261.576525   731.475205   \n",
       "                938.0                  249.159836  274.326428   806.956398   \n",
       "                939.0                   78.948978   35.403554   338.750703   \n",
       "                940.0                  376.140115  365.470015   913.165647   \n",
       "                941.0                  344.986417  247.786605   821.639565   \n",
       "\n",
       "i                      Sweet potato      Talong    Tomatoes  \n",
       "t      m        j                                            \n",
       "2003.0 Bukidnon 2.0      202.498562  425.179544  365.603441  \n",
       "                4.0      313.016086  312.814343  200.041662  \n",
       "                5.0       65.077720   37.642078   30.853625  \n",
       "                6.0      591.789718  714.738581  738.842838  \n",
       "                12.0     622.921642  695.638402  344.305470  \n",
       "...                             ...         ...         ...  \n",
       "                937.0    283.294479  351.700741  165.945925  \n",
       "                938.0    339.039640  173.623197  135.526909  \n",
       "                939.0     50.244810   28.295876   37.657518  \n",
       "                940.0    228.050359  367.906377  248.075519  \n",
       "                941.0    181.925465  227.908969  161.015303  \n",
       "\n",
       "[572 rows x 29 columns]"
      ]
     },
     "execution_count": 35,
     "metadata": {},
     "output_type": "execute_result"
    }
   ],
   "source": [
    "# Put predictions into a dataframe\n",
    "xhatdf = xhat.to_dataset('i').to_dataframe()\n",
    "xhatdf.columns.name ='i'\n",
    "\n",
    "qhat = xhatdf.div(phat.T,axis=1)\n",
    "\n",
    "qhat"
   ]
  },
  {
   "cell_type": "markdown",
   "metadata": {},
   "source": [
    "## Map predicted quantities into nutrients\n",
    "\n"
   ]
  },
  {
   "cell_type": "code",
   "execution_count": 36,
   "metadata": {},
   "outputs": [
    {
     "name": "stdout",
     "output_type": "stream",
     "text": [
      "|    | 0                             |\n",
      "|---:|:------------------------------|\n",
      "|  0 | Bagoong                       |\n",
      "|  1 | Banana                        |\n",
      "|  2 | Beef                          |\n",
      "|  3 | Carrots                       |\n",
      "|  4 | Chicken                       |\n",
      "|  5 | Coffee                        |\n",
      "|  6 | Cooking oil                   |\n",
      "|  7 | Eggs                          |\n",
      "|  8 | Food made from flour          |\n",
      "|  9 | Fresh fish                    |\n",
      "| 10 | Mangoes                       |\n",
      "| 11 | Milk                          |\n",
      "| 12 | Milo                          |\n",
      "| 13 | Mongo and other products      |\n",
      "| 14 | Onions                        |\n",
      "| 15 | Peanut                        |\n",
      "| 16 | Pork                          |\n",
      "| 17 | Potato                        |\n",
      "| 18 | Processed meat like longanisa |\n",
      "| 19 | Rice                          |\n",
      "| 20 | Salt                          |\n",
      "| 21 | Sardines                      |\n",
      "| 22 | Sea weed                      |\n",
      "| 23 | Soybean and other products    |\n",
      "| 24 | Squash                        |\n",
      "| 25 | Sugar                         |\n",
      "| 26 | Sweet potato                  |\n",
      "| 27 | Talong                        |\n",
      "| 28 | Tomatoes                      |\n"
     ]
    }
   ],
   "source": [
    "print(pd.Series(xhat.coords['i']).to_markdown())"
   ]
  },
  {
   "cell_type": "code",
   "execution_count": 37,
   "metadata": {},
   "outputs": [
    {
     "data": {
      "text/html": [
       "<div>\n",
       "<style scoped>\n",
       "    .dataframe tbody tr th:only-of-type {\n",
       "        vertical-align: middle;\n",
       "    }\n",
       "\n",
       "    .dataframe tbody tr th {\n",
       "        vertical-align: top;\n",
       "    }\n",
       "\n",
       "    .dataframe thead th {\n",
       "        text-align: right;\n",
       "    }\n",
       "</style>\n",
       "<table border=\"1\" class=\"dataframe\">\n",
       "  <thead>\n",
       "    <tr style=\"text-align: right;\">\n",
       "      <th></th>\n",
       "      <th></th>\n",
       "      <th></th>\n",
       "      <th>calorie</th>\n",
       "      <th>protein</th>\n",
       "      <th>fat</th>\n",
       "      <th>carbo</th>\n",
       "      <th>fiber</th>\n",
       "      <th>ash</th>\n",
       "      <th>calcium</th>\n",
       "      <th>phos</th>\n",
       "      <th>iron</th>\n",
       "      <th>retinol</th>\n",
       "      <th>carotene</th>\n",
       "      <th>thiamine</th>\n",
       "      <th>riboflav</th>\n",
       "      <th>niacin</th>\n",
       "      <th>ascorbic</th>\n",
       "      <th>edpor</th>\n",
       "    </tr>\n",
       "    <tr>\n",
       "      <th>t</th>\n",
       "      <th>m</th>\n",
       "      <th>j</th>\n",
       "      <th></th>\n",
       "      <th></th>\n",
       "      <th></th>\n",
       "      <th></th>\n",
       "      <th></th>\n",
       "      <th></th>\n",
       "      <th></th>\n",
       "      <th></th>\n",
       "      <th></th>\n",
       "      <th></th>\n",
       "      <th></th>\n",
       "      <th></th>\n",
       "      <th></th>\n",
       "      <th></th>\n",
       "      <th></th>\n",
       "      <th></th>\n",
       "    </tr>\n",
       "  </thead>\n",
       "  <tbody>\n",
       "    <tr>\n",
       "      <th rowspan=\"11\" valign=\"top\">2003.0</th>\n",
       "      <th rowspan=\"11\" valign=\"top\">Bukidnon</th>\n",
       "      <th>2.0</th>\n",
       "      <td>6.097511e+06</td>\n",
       "      <td>159570.045464</td>\n",
       "      <td>122028.575106</td>\n",
       "      <td>1.066378e+06</td>\n",
       "      <td>NaN</td>\n",
       "      <td>39220.408803</td>\n",
       "      <td>1.113515e+06</td>\n",
       "      <td>2.408569e+06</td>\n",
       "      <td>27408.246617</td>\n",
       "      <td>5.429988e+05</td>\n",
       "      <td>2.975916e+06</td>\n",
       "      <td>1832.901153</td>\n",
       "      <td>1602.661614</td>\n",
       "      <td>52676.443996</td>\n",
       "      <td>NaN</td>\n",
       "      <td>1.870952e+06</td>\n",
       "    </tr>\n",
       "    <tr>\n",
       "      <th>4.0</th>\n",
       "      <td>6.883409e+06</td>\n",
       "      <td>189539.183598</td>\n",
       "      <td>124494.945258</td>\n",
       "      <td>1.218324e+06</td>\n",
       "      <td>NaN</td>\n",
       "      <td>40286.281723</td>\n",
       "      <td>1.177817e+06</td>\n",
       "      <td>2.804146e+06</td>\n",
       "      <td>30157.878269</td>\n",
       "      <td>6.686580e+05</td>\n",
       "      <td>1.355791e+06</td>\n",
       "      <td>2030.669558</td>\n",
       "      <td>1731.012483</td>\n",
       "      <td>62062.643441</td>\n",
       "      <td>NaN</td>\n",
       "      <td>1.994954e+06</td>\n",
       "    </tr>\n",
       "    <tr>\n",
       "      <th>5.0</th>\n",
       "      <td>2.072946e+06</td>\n",
       "      <td>50320.746817</td>\n",
       "      <td>32669.326180</td>\n",
       "      <td>3.841614e+05</td>\n",
       "      <td>NaN</td>\n",
       "      <td>13296.603319</td>\n",
       "      <td>3.340026e+05</td>\n",
       "      <td>7.993471e+05</td>\n",
       "      <td>8304.427493</td>\n",
       "      <td>1.496751e+05</td>\n",
       "      <td>2.508135e+05</td>\n",
       "      <td>582.193927</td>\n",
       "      <td>455.659142</td>\n",
       "      <td>17051.945954</td>\n",
       "      <td>NaN</td>\n",
       "      <td>5.843268e+05</td>\n",
       "    </tr>\n",
       "    <tr>\n",
       "      <th>6.0</th>\n",
       "      <td>7.280590e+06</td>\n",
       "      <td>248067.592791</td>\n",
       "      <td>179304.289738</td>\n",
       "      <td>1.143798e+06</td>\n",
       "      <td>NaN</td>\n",
       "      <td>60078.183101</td>\n",
       "      <td>1.749376e+06</td>\n",
       "      <td>3.110481e+06</td>\n",
       "      <td>44686.762072</td>\n",
       "      <td>1.120333e+06</td>\n",
       "      <td>4.323310e+06</td>\n",
       "      <td>2363.582238</td>\n",
       "      <td>2541.524121</td>\n",
       "      <td>76058.479670</td>\n",
       "      <td>NaN</td>\n",
       "      <td>2.299128e+06</td>\n",
       "    </tr>\n",
       "    <tr>\n",
       "      <th>12.0</th>\n",
       "      <td>7.255001e+06</td>\n",
       "      <td>238770.953995</td>\n",
       "      <td>204711.416221</td>\n",
       "      <td>1.087879e+06</td>\n",
       "      <td>NaN</td>\n",
       "      <td>49598.675862</td>\n",
       "      <td>1.555246e+06</td>\n",
       "      <td>3.032386e+06</td>\n",
       "      <td>39885.457556</td>\n",
       "      <td>1.293566e+06</td>\n",
       "      <td>3.069052e+06</td>\n",
       "      <td>2589.132734</td>\n",
       "      <td>2503.230673</td>\n",
       "      <td>74487.065163</td>\n",
       "      <td>NaN</td>\n",
       "      <td>2.222598e+06</td>\n",
       "    </tr>\n",
       "    <tr>\n",
       "      <th>...</th>\n",
       "      <td>...</td>\n",
       "      <td>...</td>\n",
       "      <td>...</td>\n",
       "      <td>...</td>\n",
       "      <td>...</td>\n",
       "      <td>...</td>\n",
       "      <td>...</td>\n",
       "      <td>...</td>\n",
       "      <td>...</td>\n",
       "      <td>...</td>\n",
       "      <td>...</td>\n",
       "      <td>...</td>\n",
       "      <td>...</td>\n",
       "      <td>...</td>\n",
       "      <td>...</td>\n",
       "      <td>...</td>\n",
       "    </tr>\n",
       "    <tr>\n",
       "      <th>937.0</th>\n",
       "      <td>4.548365e+06</td>\n",
       "      <td>119490.232262</td>\n",
       "      <td>88197.893109</td>\n",
       "      <td>7.996244e+05</td>\n",
       "      <td>NaN</td>\n",
       "      <td>28030.262841</td>\n",
       "      <td>8.281020e+05</td>\n",
       "      <td>1.789710e+06</td>\n",
       "      <td>21648.915718</td>\n",
       "      <td>4.325021e+05</td>\n",
       "      <td>1.445010e+06</td>\n",
       "      <td>1423.327013</td>\n",
       "      <td>1252.026829</td>\n",
       "      <td>39556.575019</td>\n",
       "      <td>NaN</td>\n",
       "      <td>1.365328e+06</td>\n",
       "    </tr>\n",
       "    <tr>\n",
       "      <th>938.0</th>\n",
       "      <td>4.592956e+06</td>\n",
       "      <td>123802.877883</td>\n",
       "      <td>81085.986912</td>\n",
       "      <td>8.209627e+05</td>\n",
       "      <td>NaN</td>\n",
       "      <td>32039.306839</td>\n",
       "      <td>8.599312e+05</td>\n",
       "      <td>1.823764e+06</td>\n",
       "      <td>21982.519395</td>\n",
       "      <td>4.410033e+05</td>\n",
       "      <td>1.307080e+06</td>\n",
       "      <td>1379.188224</td>\n",
       "      <td>1231.451026</td>\n",
       "      <td>40748.302547</td>\n",
       "      <td>NaN</td>\n",
       "      <td>1.352628e+06</td>\n",
       "    </tr>\n",
       "    <tr>\n",
       "      <th>939.0</th>\n",
       "      <td>2.359187e+06</td>\n",
       "      <td>55598.431429</td>\n",
       "      <td>25923.218420</td>\n",
       "      <td>4.622306e+05</td>\n",
       "      <td>NaN</td>\n",
       "      <td>15113.004642</td>\n",
       "      <td>3.530215e+05</td>\n",
       "      <td>9.456452e+05</td>\n",
       "      <td>8856.773569</td>\n",
       "      <td>1.271369e+05</td>\n",
       "      <td>2.200770e+05</td>\n",
       "      <td>651.609075</td>\n",
       "      <td>465.543536</td>\n",
       "      <td>19454.480495</td>\n",
       "      <td>NaN</td>\n",
       "      <td>6.709153e+05</td>\n",
       "    </tr>\n",
       "    <tr>\n",
       "      <th>940.0</th>\n",
       "      <td>5.443546e+06</td>\n",
       "      <td>153996.349545</td>\n",
       "      <td>118455.965889</td>\n",
       "      <td>9.195418e+05</td>\n",
       "      <td>NaN</td>\n",
       "      <td>35902.151494</td>\n",
       "      <td>1.055054e+06</td>\n",
       "      <td>2.183890e+06</td>\n",
       "      <td>26628.434873</td>\n",
       "      <td>6.183504e+05</td>\n",
       "      <td>2.071289e+06</td>\n",
       "      <td>1670.848700</td>\n",
       "      <td>1568.902125</td>\n",
       "      <td>49335.494131</td>\n",
       "      <td>NaN</td>\n",
       "      <td>1.626416e+06</td>\n",
       "    </tr>\n",
       "    <tr>\n",
       "      <th>941.0</th>\n",
       "      <td>4.487944e+06</td>\n",
       "      <td>123595.725130</td>\n",
       "      <td>102227.000152</td>\n",
       "      <td>7.531933e+05</td>\n",
       "      <td>NaN</td>\n",
       "      <td>32130.418097</td>\n",
       "      <td>8.790845e+05</td>\n",
       "      <td>1.721606e+06</td>\n",
       "      <td>22720.975465</td>\n",
       "      <td>4.854837e+05</td>\n",
       "      <td>1.172877e+06</td>\n",
       "      <td>1364.444239</td>\n",
       "      <td>1303.207218</td>\n",
       "      <td>39848.041742</td>\n",
       "      <td>NaN</td>\n",
       "      <td>1.316411e+06</td>\n",
       "    </tr>\n",
       "  </tbody>\n",
       "</table>\n",
       "<p>572 rows × 16 columns</p>\n",
       "</div>"
      ],
      "text/plain": [
       "                            calorie        protein            fat  \\\n",
       "t      m        j                                                   \n",
       "2003.0 Bukidnon 2.0    6.097511e+06  159570.045464  122028.575106   \n",
       "                4.0    6.883409e+06  189539.183598  124494.945258   \n",
       "                5.0    2.072946e+06   50320.746817   32669.326180   \n",
       "                6.0    7.280590e+06  248067.592791  179304.289738   \n",
       "                12.0   7.255001e+06  238770.953995  204711.416221   \n",
       "...                             ...            ...            ...   \n",
       "                937.0  4.548365e+06  119490.232262   88197.893109   \n",
       "                938.0  4.592956e+06  123802.877883   81085.986912   \n",
       "                939.0  2.359187e+06   55598.431429   25923.218420   \n",
       "                940.0  5.443546e+06  153996.349545  118455.965889   \n",
       "                941.0  4.487944e+06  123595.725130  102227.000152   \n",
       "\n",
       "                              carbo  fiber           ash       calcium  \\\n",
       "t      m        j                                                        \n",
       "2003.0 Bukidnon 2.0    1.066378e+06    NaN  39220.408803  1.113515e+06   \n",
       "                4.0    1.218324e+06    NaN  40286.281723  1.177817e+06   \n",
       "                5.0    3.841614e+05    NaN  13296.603319  3.340026e+05   \n",
       "                6.0    1.143798e+06    NaN  60078.183101  1.749376e+06   \n",
       "                12.0   1.087879e+06    NaN  49598.675862  1.555246e+06   \n",
       "...                             ...    ...           ...           ...   \n",
       "                937.0  7.996244e+05    NaN  28030.262841  8.281020e+05   \n",
       "                938.0  8.209627e+05    NaN  32039.306839  8.599312e+05   \n",
       "                939.0  4.622306e+05    NaN  15113.004642  3.530215e+05   \n",
       "                940.0  9.195418e+05    NaN  35902.151494  1.055054e+06   \n",
       "                941.0  7.531933e+05    NaN  32130.418097  8.790845e+05   \n",
       "\n",
       "                               phos          iron       retinol      carotene  \\\n",
       "t      m        j                                                               \n",
       "2003.0 Bukidnon 2.0    2.408569e+06  27408.246617  5.429988e+05  2.975916e+06   \n",
       "                4.0    2.804146e+06  30157.878269  6.686580e+05  1.355791e+06   \n",
       "                5.0    7.993471e+05   8304.427493  1.496751e+05  2.508135e+05   \n",
       "                6.0    3.110481e+06  44686.762072  1.120333e+06  4.323310e+06   \n",
       "                12.0   3.032386e+06  39885.457556  1.293566e+06  3.069052e+06   \n",
       "...                             ...           ...           ...           ...   \n",
       "                937.0  1.789710e+06  21648.915718  4.325021e+05  1.445010e+06   \n",
       "                938.0  1.823764e+06  21982.519395  4.410033e+05  1.307080e+06   \n",
       "                939.0  9.456452e+05   8856.773569  1.271369e+05  2.200770e+05   \n",
       "                940.0  2.183890e+06  26628.434873  6.183504e+05  2.071289e+06   \n",
       "                941.0  1.721606e+06  22720.975465  4.854837e+05  1.172877e+06   \n",
       "\n",
       "                          thiamine     riboflav        niacin  ascorbic  \\\n",
       "t      m        j                                                         \n",
       "2003.0 Bukidnon 2.0    1832.901153  1602.661614  52676.443996       NaN   \n",
       "                4.0    2030.669558  1731.012483  62062.643441       NaN   \n",
       "                5.0     582.193927   455.659142  17051.945954       NaN   \n",
       "                6.0    2363.582238  2541.524121  76058.479670       NaN   \n",
       "                12.0   2589.132734  2503.230673  74487.065163       NaN   \n",
       "...                            ...          ...           ...       ...   \n",
       "                937.0  1423.327013  1252.026829  39556.575019       NaN   \n",
       "                938.0  1379.188224  1231.451026  40748.302547       NaN   \n",
       "                939.0   651.609075   465.543536  19454.480495       NaN   \n",
       "                940.0  1670.848700  1568.902125  49335.494131       NaN   \n",
       "                941.0  1364.444239  1303.207218  39848.041742       NaN   \n",
       "\n",
       "                              edpor  \n",
       "t      m        j                    \n",
       "2003.0 Bukidnon 2.0    1.870952e+06  \n",
       "                4.0    1.994954e+06  \n",
       "                5.0    5.843268e+05  \n",
       "                6.0    2.299128e+06  \n",
       "                12.0   2.222598e+06  \n",
       "...                             ...  \n",
       "                937.0  1.365328e+06  \n",
       "                938.0  1.352628e+06  \n",
       "                939.0  6.709153e+05  \n",
       "                940.0  1.626416e+06  \n",
       "                941.0  1.316411e+06  \n",
       "\n",
       "[572 rows x 16 columns]"
      ]
     },
     "execution_count": 37,
     "metadata": {},
     "output_type": "execute_result"
    }
   ],
   "source": [
    "# Reformat nutritional data \n",
    "nut = nut.iloc[:,3:20].set_index('name').sort_values('name')\n",
    "\n",
    "# Restrict FCT data to foods with valid prediction\n",
    "# Multiply predicted quantities by nutrition profile to get predicted nutritional outcome \n",
    "food_lst = list(qhat.loc[2003,'Bukidnon'].columns)\n",
    "nut = nut.loc[food_lst]\n",
    "qhat@nut"
   ]
  },
  {
   "cell_type": "code",
   "execution_count": null,
   "metadata": {},
   "outputs": [],
   "source": []
  }
 ],
 "metadata": {
  "kernelspec": {
   "display_name": "Python 3 (ipykernel)",
   "language": "python",
   "name": "python3"
  },
  "language_info": {
   "codemirror_mode": {
    "name": "ipython",
    "version": 3
   },
   "file_extension": ".py",
   "mimetype": "text/x-python",
   "name": "python",
   "nbconvert_exporter": "python",
   "pygments_lexer": "ipython3",
   "version": "3.9.12"
  },
  "org": null
 },
 "nbformat": 4,
 "nbformat_minor": 1
}
